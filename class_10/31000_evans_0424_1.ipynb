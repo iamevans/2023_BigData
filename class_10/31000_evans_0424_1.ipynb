{
 "cells": [
  {
   "cell_type": "markdown",
   "id": "b0660fe1-dc44-4cad-8a2a-7510a9531d39",
   "metadata": {},
   "source": [
    "31000_evans_0424_1"
   ]
  },
  {
   "cell_type": "markdown",
   "id": "a3fb70c4-bc47-49c3-8a1a-0860d6ef864d",
   "metadata": {},
   "source": [
    "#### 문제 별을 찍어보기\n",
    "출력형식\n",
    "> *을 출력합니다. <br>\n",
    "  몇 개를 출력할까요? <br>\n",
    "  몇 개마다 줄바꿈할까요"
   ]
  },
  {
   "cell_type": "code",
   "execution_count": 3,
   "id": "8f750b29-2c17-455f-974c-52084915b50f",
   "metadata": {},
   "outputs": [
    {
     "name": "stdout",
     "output_type": "stream",
     "text": [
      "*를 출력합니다.\n"
     ]
    },
    {
     "name": "stdin",
     "output_type": "stream",
     "text": [
      "몇 개를 출력할까요?  14\n",
      "몇 개마다 줄바꿈할까요?  5\n"
     ]
    },
    {
     "name": "stdout",
     "output_type": "stream",
     "text": [
      "*****\n",
      "*****\n",
      "****\n"
     ]
    }
   ],
   "source": [
    "# *를 n개 출력하되 w개마다 줄바꿈하기\n",
    "\n",
    "print('*를 출력합니다.')\n",
    "n =  int(input('몇 개를 출력할까요? '))\n",
    "w =  int(input('몇 개마다 줄바꿈할까요? '))\n",
    "\n",
    "for i in range(n): #n번 반복\n",
    "    print('*',end='')\n",
    "    if i % w == w - 1: # n번판단\n",
    "        print() # 줄바꿈\n",
    "\n",
    "if n % w :\n",
    "    print()\n",
    "\n"
   ]
  },
  {
   "cell_type": "code",
   "execution_count": 8,
   "id": "c8fac8f4-8ca8-4ded-8ad9-30b027880f83",
   "metadata": {},
   "outputs": [
    {
     "name": "stdout",
     "output_type": "stream",
     "text": [
      "1부터 n까지 정수의 합을 구합니다.\n"
     ]
    },
    {
     "name": "stdin",
     "output_type": "stream",
     "text": [
      "n값을 입력하세요 : 0\n",
      "n값을 입력하세요 : -5\n",
      "n값을 입력하세요 : 5\n"
     ]
    },
    {
     "name": "stdout",
     "output_type": "stream",
     "text": [
      "1부터 5까지 정수의 합은 15입니다.\n"
     ]
    }
   ],
   "source": [
    "# 문제2 \n",
    "# 조건1 양수만 입력 받기\n",
    "# 조건2 1부터 n까지 정수의 합 구합니다.\n",
    "\n",
    "print('1부터 n까지 정수의 합을 구합니다.')\n",
    "\n",
    "while True:\n",
    "    n = int(input('n값을 입력하세요 :'))\n",
    "    if n > 0:\n",
    "        break\n",
    "\n",
    "sum = 0\n",
    "i = 1\n",
    "\n",
    "for i in range(1, n+1):\n",
    "    sum += i\n",
    "    i += 1\n",
    "\n",
    "print(f'1부터 {n}까지 정수의 합은 {sum}입니다.')"
   ]
  },
  {
   "cell_type": "code",
   "execution_count": null,
   "id": "2e7f5dda-df2f-4ff8-b371-3d07cb07ff18",
   "metadata": {},
   "outputs": [],
   "source": []
  }
 ],
 "metadata": {
  "kernelspec": {
   "display_name": "Python 3 (ipykernel)",
   "language": "python",
   "name": "python3"
  },
  "language_info": {
   "codemirror_mode": {
    "name": "ipython",
    "version": 3
   },
   "file_extension": ".py",
   "mimetype": "text/x-python",
   "name": "python",
   "nbconvert_exporter": "python",
   "pygments_lexer": "ipython3",
   "version": "3.9.7"
  }
 },
 "nbformat": 4,
 "nbformat_minor": 5
}
