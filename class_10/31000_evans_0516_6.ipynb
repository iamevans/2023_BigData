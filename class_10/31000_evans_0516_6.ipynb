{
 "cells": [
  {
   "cell_type": "markdown",
   "id": "827caf38-a852-435a-b9c0-992981caa682",
   "metadata": {},
   "source": [
    "31000_evans_0516_6"
   ]
  },
  {
   "cell_type": "markdown",
   "id": "76a69948-c88c-43ad-a746-ead83abdf32a",
   "metadata": {},
   "source": [
    "* 사용자가 0을 입력할 때까지 숫자을 입력받아 입력받은 숫자들의 합을 구하는 프로그램을 작성하세요"
   ]
  },
  {
   "cell_type": "code",
   "execution_count": 3,
   "id": "42ea8f47-d59b-4a43-8688-5c53a587b082",
   "metadata": {},
   "outputs": [
    {
     "name": "stdin",
     "output_type": "stream",
     "text": [
      "숫자 :  10\n",
      "숫자 :  20\n",
      "숫자 :  30\n",
      "숫자 :  0\n"
     ]
    },
    {
     "name": "stdout",
     "output_type": "stream",
     "text": [
      "숫자의 합계 60\n"
     ]
    }
   ],
   "source": [
    "total  = 0\n",
    "\n",
    "while True:\n",
    "    num = int(input('숫자 : '))\n",
    "    if num == 0:\n",
    "        break\n",
    "    total += num\n",
    "print(f'숫자의 합계 {total}')"
   ]
  },
  {
   "cell_type": "markdown",
   "id": "0b7cefd8-1cfb-43b1-bca7-d78794bd38e8",
   "metadata": {},
   "source": [
    "# up&down 숫자맞추기 게임\n",
    "* 1~100 사이의 정답 숫자를 랜덤으로 하나 정하고, 정답 숫자를 맞출 때까지 숫자를 입력하는 게임이다.     \n",
    "내가 입력한 숫자가 정답보다 작으면 'DOWN', 정답보다 크면 'UP'을 출력하고 숫자를 다시 입력받는다.     \n",
    "정답을 맞추면 '정답!'이라고 출력하고 게임을 끝낸다."
   ]
  },
  {
   "cell_type": "code",
   "execution_count": 2,
   "id": "e3cdd65b-2a88-4eb4-b56a-4c597eb997ba",
   "metadata": {},
   "outputs": [
    {
     "name": "stdout",
     "output_type": "stream",
     "text": [
      "정답숫자 18\n"
     ]
    },
    {
     "name": "stdin",
     "output_type": "stream",
     "text": [
      "예상숫자 :  18\n"
     ]
    },
    {
     "name": "stdout",
     "output_type": "stream",
     "text": [
      "정답 ~~~! 18\n"
     ]
    }
   ],
   "source": [
    "#정답 숫자\n",
    "import random\n",
    "num = random.randrange(1,101)\n",
    "print(f'정답숫자 {num}')\n",
    "\n",
    "# 정답을 맞출 때까지 반복하기\n",
    "while True:\n",
    "    answer = int(input(f'예상숫자 : '))\n",
    "    if answer == num :\n",
    "        print(f'정답 ~~~! {num}')\n",
    "        break\n",
    "    if answer < num :\n",
    "        print(f'Up')\n",
    "    if answer > num :\n",
    "        print(f'Down')\n",
    "    "
   ]
  },
  {
   "cell_type": "markdown",
   "id": "37d238dc-f2aa-480e-a352-fd03341521f2",
   "metadata": {},
   "source": [
    "* 확장     \n",
    "기회는 5번까지만 주어집니다.     \n",
    "5회가 넘으면 '횟수초과' 메시지와 함께 정답을 알려줍니다.    \n",
    "정답을 맞추면 몇번째에 맞추었는지 출력합니다."
   ]
  },
  {
   "cell_type": "code",
   "execution_count": null,
   "id": "feae8acf-0717-4321-bf98-9977f436e8eb",
   "metadata": {},
   "outputs": [],
   "source": [
    "# 횟수\n",
    "cnt = 0\n",
    "\n",
    "#정답 숫자\n",
    "import random\n",
    "num = random.randrange(1,101)\n",
    "#print(f'정답숫자 {num}')\n",
    "\n",
    "# 정답을 맞출 때까지 반복하기\n",
    "while True:\n",
    "    cnt +=1\n",
    "    if cnt>5:\n",
    "        print(f'횟수초과 정답은 {num}')\n",
    "    answer = int(input('예상숫자 : '))\n",
    "    if answer == num :\n",
    "        print(f'정답 ~~~!')\n",
    "        print(f'{cnt}번만에 맞추었습니다.')\n",
    "        break\n",
    "    if answer < num :\n",
    "        print(f'Up')\n",
    "    if answer > num :\n",
    "        print(f'Down')"
   ]
  },
  {
   "cell_type": "code",
   "execution_count": 3,
   "id": "b3a43898-70bb-410c-9483-2f6b0a2a419d",
   "metadata": {},
   "outputs": [
    {
     "name": "stdin",
     "output_type": "stream",
     "text": [
      "Attempt 1. 예상 숫자를 입력하세요(1-100):  50\n"
     ]
    },
    {
     "name": "stdout",
     "output_type": "stream",
     "text": [
      "Down\n"
     ]
    },
    {
     "name": "stdin",
     "output_type": "stream",
     "text": [
      "Attempt 2. 예상 숫자를 입력하세요(1-100):  25\n"
     ]
    },
    {
     "name": "stdout",
     "output_type": "stream",
     "text": [
      "Down\n"
     ]
    },
    {
     "name": "stdin",
     "output_type": "stream",
     "text": [
      "Attempt 3. 예상 숫자를 입력하세요(1-100):  13\n"
     ]
    },
    {
     "name": "stdout",
     "output_type": "stream",
     "text": [
      "Down\n"
     ]
    },
    {
     "name": "stdin",
     "output_type": "stream",
     "text": [
      "Attempt 4. 예상 숫자를 입력하세요(1-100):  8\n"
     ]
    },
    {
     "name": "stdout",
     "output_type": "stream",
     "text": [
      "Down\n"
     ]
    },
    {
     "name": "stdin",
     "output_type": "stream",
     "text": [
      "Attempt 5. 예상 숫자를 입력하세요(1-100):  5\n"
     ]
    },
    {
     "name": "stdout",
     "output_type": "stream",
     "text": [
      "Down\n",
      "횟수 초과입니다. 정답은 3였습니다.\n"
     ]
    }
   ],
   "source": [
    "import random\n",
    "\n",
    "def guess_number_game(max_attempts=5):\n",
    "    cnt = 0\n",
    "    num = random.randint(1, 100)\n",
    "    \n",
    "    while cnt < max_attempts:\n",
    "        cnt += 1\n",
    "        answer = int(input(f'Attempt {cnt}. 예상 숫자를 입력하세요(1-100): '))\n",
    "        \n",
    "        if answer == num:\n",
    "            print(f'정답 입니다!')\n",
    "            print(f'{cnt}번 만에 맞추었습니다.')\n",
    "            return\n",
    "\n",
    "        if answer < num:\n",
    "            print('Up')\n",
    "        else:\n",
    "            print('Down')\n",
    "    \n",
    "    print(f'횟수 초과입니다. 정답은 {num}였습니다.')\n",
    "\n",
    "# 시작\n",
    "guess_number_game()\n"
   ]
  },
  {
   "cell_type": "code",
   "execution_count": null,
   "id": "66be5e24-2a80-4896-b7a2-9aedcd8e8135",
   "metadata": {},
   "outputs": [],
   "source": []
  }
 ],
 "metadata": {
  "kernelspec": {
   "display_name": "Python 3 (ipykernel)",
   "language": "python",
   "name": "python3"
  },
  "language_info": {
   "codemirror_mode": {
    "name": "ipython",
    "version": 3
   },
   "file_extension": ".py",
   "mimetype": "text/x-python",
   "name": "python",
   "nbconvert_exporter": "python",
   "pygments_lexer": "ipython3",
   "version": "3.9.7"
  }
 },
 "nbformat": 4,
 "nbformat_minor": 5
}
