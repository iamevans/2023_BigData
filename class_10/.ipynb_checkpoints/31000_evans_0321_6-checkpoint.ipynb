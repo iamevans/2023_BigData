{
 "cells": [
  {
   "cell_type": "markdown",
   "id": "2ee92065-ef8d-4fa5-8936-c90c1fb9023c",
   "metadata": {},
   "source": [
    "31000_evans_0321_6"
   ]
  },
  {
   "cell_type": "markdown",
   "id": "6a80fc4f-c2ea-41af-a47a-cb88abce877b",
   "metadata": {},
   "source": [
    "#### 복습\n",
    "```\n",
    "물건 금액을 입력받고 물건이 오만원 미만일 경우 \n",
    "배송비 2500원을 더해서 결제금액을 안내하시오. \n",
    "```"
   ]
  },
  {
   "cell_type": "code",
   "execution_count": 1,
   "id": "1d36c716-3619-4f5c-8869-cb464109ca9c",
   "metadata": {},
   "outputs": [
    {
     "name": "stdin",
     "output_type": "stream",
     "text": [
      "물건 가격 입력 :  49990\n"
     ]
    },
    {
     "name": "stdout",
     "output_type": "stream",
     "text": [
      "총 결제금액은 52490\n"
     ]
    }
   ],
   "source": [
    "price = int(input('물건 가격 입력 : '))\n",
    "\n",
    "if price < 50000 :\n",
    "    price = price + 2500\n",
    "    \n",
    "print('총 결제금액은', price)"
   ]
  },
  {
   "cell_type": "markdown",
   "id": "688c9547-99be-47dc-b8a6-652291e37d2f",
   "metadata": {},
   "source": [
    "# 3. if-else 조건문\n",
    "조건을 충족하지 않을 때 실행하는 명령어\n",
    "```\n",
    "만약 조건 A라면, \n",
    "    B해라\n",
    "그렇지 않으면,\n",
    "    C해라\n",
    "```\n",
    "<img src = 'https://github.com/teacher-jiejie/allinone_AI/blob/images/70_else.png?raw=true' width=400>"
   ]
  },
  {
   "cell_type": "code",
   "execution_count": 3,
   "id": "22e00d85-d987-46ef-99f8-73c5b0f7c28d",
   "metadata": {},
   "outputs": [
    {
     "name": "stdin",
     "output_type": "stream",
     "text": [
      "당신의 나이는?  21\n"
     ]
    },
    {
     "name": "stdout",
     "output_type": "stream",
     "text": [
      "감사합니다. 안녕히 가세요.\n"
     ]
    }
   ],
   "source": [
    "age = int(input('당신의 나이는? '))\n",
    "\n",
    "# 20을 기준으로 분기해 봅시다.\n",
    "if age < 20 :\n",
    "    print('술을 구매할 수 없습니다.')\n",
    "else :\n",
    "    print('감사합니다. 안녕히 가세요.')\n",
    "    "
   ]
  },
  {
   "cell_type": "markdown",
   "id": "f15a2b48-9118-4768-990a-877710538208",
   "metadata": {},
   "source": [
    "자동 출석 시스템 \n",
    "```\n",
    "출석 혹은 결석을 입력받아 출석이면 O을 출력, 출석이 아니면 X를 출력하기\n",
    "입력안내문 : 출석 혹은 결석을 입력하세요\n",
    "```"
   ]
  },
  {
   "cell_type": "code",
   "execution_count": 6,
   "id": "463213bc-7785-4228-9737-f4f2bf00a98f",
   "metadata": {},
   "outputs": [
    {
     "name": "stdin",
     "output_type": "stream",
     "text": [
      "출석 혹은 결석을 입력하세요  ㅇㅇㅇ\n"
     ]
    },
    {
     "name": "stdout",
     "output_type": "stream",
     "text": [
      "X\n"
     ]
    }
   ],
   "source": [
    "check = input('출석 혹은 결석을 입력하세요 ')\n",
    "if check == '출석' : \n",
    "    print('0')\n",
    "else : \n",
    "    print('X')"
   ]
  },
  {
   "cell_type": "code",
   "execution_count": null,
   "id": "dca8972b-8837-4a60-96ae-85ad788ea2c8",
   "metadata": {},
   "outputs": [],
   "source": []
  }
 ],
 "metadata": {
  "kernelspec": {
   "display_name": "Python 3 (ipykernel)",
   "language": "python",
   "name": "python3"
  },
  "language_info": {
   "codemirror_mode": {
    "name": "ipython",
    "version": 3
   },
   "file_extension": ".py",
   "mimetype": "text/x-python",
   "name": "python",
   "nbconvert_exporter": "python",
   "pygments_lexer": "ipython3",
   "version": "3.9.7"
  }
 },
 "nbformat": 4,
 "nbformat_minor": 5
}
