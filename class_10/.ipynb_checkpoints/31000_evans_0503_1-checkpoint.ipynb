{
 "cells": [
  {
   "cell_type": "markdown",
   "id": "5e516e5f-f6f9-48b0-b291-2822889680c1",
   "metadata": {},
   "source": [
    "31000_evans_0503_1"
   ]
  },
  {
   "cell_type": "markdown",
   "id": "dc75c592-87a8-4ca9-b773-b6977b7a836b",
   "metadata": {},
   "source": [
    "# 딕셔너리의 키, 값 모두 리스트 형태로 가져오기\n",
    "## 딕셔너리명.keys()\n",
    "* 딕셔너리의 키만 리스트로 가져오기\n",
    "* dict_keys객체로 받아온다. 리스트처럼 사용할 수 있지만 리스트는 아니다."
   ]
  },
  {
   "cell_type": "code",
   "execution_count": 2,
   "id": "57ebf965-1d54-4061-b666-d10352a064f2",
   "metadata": {},
   "outputs": [
    {
     "data": {
      "text/plain": [
       "dict_keys(['kor', 'eng', 'math'])"
      ]
     },
     "execution_count": 2,
     "metadata": {},
     "output_type": "execute_result"
    }
   ],
   "source": [
    "scores = {'kor':100, 'eng':90, 'math':80}\n",
    "scores.keys()"
   ]
  },
  {
   "cell_type": "markdown",
   "id": "5258ec4f-1ae2-4ba4-be60-92eca77107bf",
   "metadata": {},
   "source": [
    "## 딕셔너리명.values()\n",
    "* 딕셔너리의 value만 리스트로 가져오기\n",
    "* dict_values객체로 받아온다."
   ]
  },
  {
   "cell_type": "code",
   "execution_count": 3,
   "id": "be27c833-ead6-4892-8903-966550299f1c",
   "metadata": {},
   "outputs": [
    {
     "data": {
      "text/plain": [
       "dict_values([100, 90, 80])"
      ]
     },
     "execution_count": 3,
     "metadata": {},
     "output_type": "execute_result"
    }
   ],
   "source": [
    "scores = {'kor':100, 'eng':90, 'math':80}\n",
    "scores.values()"
   ]
  },
  {
   "cell_type": "markdown",
   "id": "d4d9947f-c76e-465c-a1ab-26b0b529a45e",
   "metadata": {},
   "source": [
    "## 딕셔너리명.items()\n",
    "* 딕셔너리의 (key,value) 쌍을 리스트로 가져오기\n",
    "* dict_items객체로 받아온다."
   ]
  },
  {
   "cell_type": "code",
   "execution_count": 4,
   "id": "6f29c50d-ec11-497e-8e96-8e1766ae3f9c",
   "metadata": {},
   "outputs": [
    {
     "data": {
      "text/plain": [
       "dict_items([('kor', 100), ('eng', 90), ('math', 80)])"
      ]
     },
     "execution_count": 4,
     "metadata": {},
     "output_type": "execute_result"
    }
   ],
   "source": [
    "scores = {'kor':100, 'eng':90, 'math':80}\n",
    "scores.items()"
   ]
  },
  {
   "cell_type": "markdown",
   "id": "9eb014dd-3a8d-4056-965a-3594a5e154ae",
   "metadata": {},
   "source": [
    "# 딕셔너리 정렬하기\n",
    "## 키 정렬하기 sorted(scores.keys())\n",
    "## 값 정렬하기 sorted(scores.values())\n",
    "## 키,값 정렬하기 sorted(scores.items())"
   ]
  },
  {
   "cell_type": "code",
   "execution_count": 5,
   "id": "dbc5704a-a69f-406f-846c-b3ac5fc5f69e",
   "metadata": {},
   "outputs": [
    {
     "data": {
      "text/plain": [
       "['eng', 'kor', 'math']"
      ]
     },
     "execution_count": 5,
     "metadata": {},
     "output_type": "execute_result"
    }
   ],
   "source": [
    "scores = {'kor':100, 'eng':90, 'math':80}\n",
    "sorted(scores.keys())"
   ]
  },
  {
   "cell_type": "code",
   "execution_count": 6,
   "id": "c97d5c9a-d51b-4804-88f2-845181a87d48",
   "metadata": {},
   "outputs": [
    {
     "data": {
      "text/plain": [
       "[80, 90, 100]"
      ]
     },
     "execution_count": 6,
     "metadata": {},
     "output_type": "execute_result"
    }
   ],
   "source": [
    "scores = {'kor':100, 'eng':90, 'math':80}\n",
    "sorted(scores.values())"
   ]
  },
  {
   "cell_type": "code",
   "execution_count": 7,
   "id": "4d66ccb6-8cd5-4d4b-8ea6-2797a3447981",
   "metadata": {},
   "outputs": [
    {
     "data": {
      "text/plain": [
       "[('eng', 90), ('kor', 100), ('math', 80)]"
      ]
     },
     "execution_count": 7,
     "metadata": {},
     "output_type": "execute_result"
    }
   ],
   "source": [
    "scores = {'kor':100, 'eng':90, 'math':80}\n",
    "sorted(scores.items())"
   ]
  },
  {
   "cell_type": "markdown",
   "id": "40b61921-2ceb-4779-9b72-22d709cb4847",
   "metadata": {},
   "source": [
    "# 영어단어장 만들기\n",
    "\n",
    "엔터를 입력할 때까지 영어단어,뜻을 입력받아 단어장을 만들고, 입력이 끝나면 단어 테스트를 실시하는 프로그램을 만들어봅시다.<br>\n",
    "1) 단어장을 만듭니다.<br>\n",
    "2) 단어테스트를 실시하고 맞은 갯수를 계산합니다.<br>\n",
    "3) 테스트가 끝나면 맞은갯수/전체단어수/점수 형태로 결과를 출력합니다<br>"
   ]
  },
  {
   "cell_type": "markdown",
   "id": "b52e0342-8626-48e2-8863-67f64a0ac2be",
   "metadata": {},
   "source": [
    "## 단어장 만들기\n",
    "엔터('')를 입력할 때까지 영어단어,뜻을 입력받아 딕셔너리에 저장"
   ]
  },
  {
   "cell_type": "code",
   "execution_count": 8,
   "id": "bba89854-aa83-448e-84b8-cdcc21e35a20",
   "metadata": {},
   "outputs": [
    {
     "name": "stdin",
     "output_type": "stream",
     "text": [
      "영어단어, 뜻: apple,사과\n",
      "영어단어, 뜻: banana,바나나\n",
      "영어단어, 뜻: grapes,포도\n",
      "영어단어, 뜻: \n"
     ]
    },
    {
     "data": {
      "text/plain": [
       "{'apple': '사과', 'banana': '바나나', 'grapes': '포도'}"
      ]
     },
     "execution_count": 8,
     "metadata": {},
     "output_type": "execute_result"
    }
   ],
   "source": [
    "dict_word={} # 빈 딕셔너리선언\n",
    "\n",
    "while True:\n",
    "    input_word = input('영어단어, 뜻:')\n",
    "    if input_word == '':\n",
    "        break\n",
    "    eng = input_word.split(',')[0]\n",
    "    kor = input_word.split(',')[1]\n",
    "    dict_word[eng] = kor\n",
    "dict_word"
   ]
  },
  {
   "cell_type": "markdown",
   "id": "6fa1c95b-fc88-4a3a-9d70-c2b8c4e2c35e",
   "metadata": {},
   "source": [
    "## 단어테스트\n",
    "단어장의 단어들을 모두 테스트<br>\n",
    "맞은 갯수는 별도로 카운트"
   ]
  },
  {
   "cell_type": "code",
   "execution_count": 9,
   "id": "939255f9-5964-4413-b0ee-ae05f021bf40",
   "metadata": {},
   "outputs": [
    {
     "name": "stdin",
     "output_type": "stream",
     "text": [
      "apple 사과\n"
     ]
    },
    {
     "name": "stdout",
     "output_type": "stream",
     "text": [
      "맞음\n"
     ]
    },
    {
     "name": "stdin",
     "output_type": "stream",
     "text": [
      "banana 버내너\n"
     ]
    },
    {
     "name": "stdout",
     "output_type": "stream",
     "text": [
      "틀림\n"
     ]
    },
    {
     "name": "stdin",
     "output_type": "stream",
     "text": [
      "grapes 포도\n"
     ]
    },
    {
     "name": "stdout",
     "output_type": "stream",
     "text": [
      "맞음\n"
     ]
    }
   ],
   "source": [
    "cnt = 0\n",
    "for eng,kor in dict_word.items():\n",
    "    answer = input(eng)\n",
    "    if answer == kor :\n",
    "        print(f'맞음')\n",
    "        cnt += 1\n",
    "    else:\n",
    "        print(f'틀림')"
   ]
  },
  {
   "cell_type": "markdown",
   "id": "bdc6b1d8-f681-4c87-abde-e8d30651ee0c",
   "metadata": {},
   "source": [
    "## 테스트 결과 출력\n",
    "맞은갯수/전체문제수/점수 출력"
   ]
  },
  {
   "cell_type": "code",
   "execution_count": 10,
   "id": "9bc86733-9a71-4796-9f2b-d8e044b56e5e",
   "metadata": {},
   "outputs": [
    {
     "name": "stdout",
     "output_type": "stream",
     "text": [
      "맞은갯수 : 2\n",
      "전체문제수 : 3\n",
      "점수 : 66.7\n"
     ]
    }
   ],
   "source": [
    "print('맞은갯수 :', cnt)\n",
    "print('전체문제수 :',len(dict_word))\n",
    "print('점수 :',round(cnt/len(dict_word)*100,1))"
   ]
  },
  {
   "cell_type": "code",
   "execution_count": null,
   "id": "801ec79b-c25f-43d1-87b8-563d79d836fe",
   "metadata": {},
   "outputs": [],
   "source": []
  }
 ],
 "metadata": {
  "kernelspec": {
   "display_name": "Python 3 (ipykernel)",
   "language": "python",
   "name": "python3"
  },
  "language_info": {
   "codemirror_mode": {
    "name": "ipython",
    "version": 3
   },
   "file_extension": ".py",
   "mimetype": "text/x-python",
   "name": "python",
   "nbconvert_exporter": "python",
   "pygments_lexer": "ipython3",
   "version": "3.9.7"
  }
 },
 "nbformat": 4,
 "nbformat_minor": 5
}
