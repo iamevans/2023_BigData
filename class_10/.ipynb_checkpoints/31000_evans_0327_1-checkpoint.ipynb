{
 "cells": [
  {
   "cell_type": "markdown",
   "id": "90555833-f061-4c6e-88a0-5bb8e34e4eda",
   "metadata": {},
   "source": [
    "31000_evans_0327_1"
   ]
  },
  {
   "cell_type": "markdown",
   "id": "1f80e40f-c91a-459a-a46a-6b10f1221a4b",
   "metadata": {},
   "source": [
    "#### 1. 반복문\n",
    "\n",
    "```\n",
    "for a in data :\n",
    "    명령어\n",
    "```    \n",
    "<img src = 'https://github.com/teacher-jiejie/allinone_AI/blob/images/4_%EB%B0%98%EB%B3%B5%EB%AC%B8.png?raw=true' width=500>\n"
   ]
  },
  {
   "cell_type": "code",
   "execution_count": 3,
   "id": "86c38596-257b-4a77-ab5c-58d255f4acc7",
   "metadata": {},
   "outputs": [
    {
     "name": "stdout",
     "output_type": "stream",
     "text": [
      "안녕하세요\n",
      "안녕하세요\n",
      "안녕하세요\n",
      "안녕하세요\n"
     ]
    }
   ],
   "source": [
    "# 안녕하세요를 5번 반복\n",
    "\n",
    "for a in [1,2,3,4,5] :\n",
    "    print('안녕하세요')"
   ]
  },
  {
   "cell_type": "code",
   "execution_count": 5,
   "id": "fb42ea73-f7e9-4544-af3c-4ee91b55a5b4",
   "metadata": {},
   "outputs": [
    {
     "name": "stdout",
     "output_type": "stream",
     "text": [
      "5 안녕하세요\n",
      "4 안녕하세요\n",
      "3 안녕하세요\n",
      "2 안녕하세요\n",
      "1 안녕하세요\n"
     ]
    }
   ],
   "source": [
    "for a in [5,4,3,2,1] :\n",
    "    print(a,'안녕하세요')"
   ]
  },
  {
   "cell_type": "markdown",
   "id": "93941707-b7f6-4e8c-9b97-d270ed4b3e80",
   "metadata": {},
   "source": [
    "<img src ='https://github.com/teacher-jiejie/allinone_AI/blob/images/5_%EB%B0%98%EB%B3%B5%EB%AC%B8%20%EB%8F%99%EC%9E%91%EA%B5%AC%EC%A1%B0.png?raw=true' width=500>"
   ]
  },
  {
   "cell_type": "markdown",
   "id": "fd89a437-d111-4119-9972-5d3dd81ac97c",
   "metadata": {},
   "source": [
    "### 범위 range\n",
    "```\n",
    "range(시작숫자, 종료숫자)\n",
    "```"
   ]
  },
  {
   "cell_type": "code",
   "execution_count": 10,
   "id": "62db1611-7aa8-4dbe-9132-daadc1c95ba2",
   "metadata": {},
   "outputs": [
    {
     "name": "stdout",
     "output_type": "stream",
     "text": [
      "5 성일정보 화이팅!!!\n",
      "6 성일정보 화이팅!!!\n",
      "7 성일정보 화이팅!!!\n",
      "8 성일정보 화이팅!!!\n",
      "9 성일정보 화이팅!!!\n",
      "10 성일정보 화이팅!!!\n"
     ]
    }
   ],
   "source": [
    "for a in range(5,11) :\n",
    "    print(a,'성일정보 화이팅!!!')"
   ]
  },
  {
   "cell_type": "markdown",
   "id": "656334ea-ffa1-4f1c-bc22-2fc6f4d03e4b",
   "metadata": {},
   "source": [
    "> 1.range()는 종료숫자-1까지 포함한다.<br>\n",
    "  2.시작숫자를 지우면 0부터 시작한다.<br>\n",
    "  3.시작숫자를 넣고 싶은면 시작숫자를 지정한다.\n",
    "  "
   ]
  },
  {
   "cell_type": "markdown",
   "id": "9cb0d30c-0d63-4729-824a-12d748cd74d3",
   "metadata": {},
   "source": [
    "#### 3. for i in data :\n",
    "일반적으로 반복문에서는 i라는 변수를 사용합니다"
   ]
  },
  {
   "cell_type": "markdown",
   "id": "12a5d5c0-6518-49de-9b65-edd714dbad0d",
   "metadata": {},
   "source": [
    "```\n",
    "1부터 50까지의 숫자의 합을 구해보자.\n",
    "ex) 1+2+3+...49+50\n",
    "```\n",
    "1275"
   ]
  },
  {
   "cell_type": "code",
   "execution_count": 12,
   "id": "2f0ca26a-0300-468f-b8cb-950f6d009c26",
   "metadata": {},
   "outputs": [
    {
     "name": "stdout",
     "output_type": "stream",
     "text": [
      "5050\n"
     ]
    }
   ],
   "source": [
    "result = 0\n",
    "\n",
    "for i in range(1,101) :\n",
    "    result = result + i\n",
    "print(result)"
   ]
  },
  {
   "cell_type": "markdown",
   "id": "a115a16b-a871-4f3d-bc20-c4f2291db07a",
   "metadata": {},
   "source": [
    "숫자 하나를 입력받고, 1부터 입력받은 숫자까지의 곱을 구해보세요.\n",
    "<br/>\n",
    "ex) 5를 입력받은 경우, 1x2x3x4x5 결과 출력하기"
   ]
  },
  {
   "cell_type": "code",
   "execution_count": 15,
   "id": "c3ed4c5b-0a60-4693-9ee6-39aeb9d6e911",
   "metadata": {},
   "outputs": [
    {
     "name": "stdin",
     "output_type": "stream",
     "text": [
      "숫자 입력 ->  5\n"
     ]
    },
    {
     "name": "stdout",
     "output_type": "stream",
     "text": [
      "120\n"
     ]
    }
   ],
   "source": [
    "num = int(input('숫자 입력 -> '))\n",
    "result = 1\n",
    "\n",
    "for i in range(1,num+1) :\n",
    "    result = result * i\n",
    "print(result)"
   ]
  },
  {
   "cell_type": "code",
   "execution_count": null,
   "id": "c9096a6f-bcca-41d1-a3aa-fe340e41a641",
   "metadata": {},
   "outputs": [],
   "source": []
  }
 ],
 "metadata": {
  "kernelspec": {
   "display_name": "Python 3 (ipykernel)",
   "language": "python",
   "name": "python3"
  },
  "language_info": {
   "codemirror_mode": {
    "name": "ipython",
    "version": 3
   },
   "file_extension": ".py",
   "mimetype": "text/x-python",
   "name": "python",
   "nbconvert_exporter": "python",
   "pygments_lexer": "ipython3",
   "version": "3.9.7"
  }
 },
 "nbformat": 4,
 "nbformat_minor": 5
}
