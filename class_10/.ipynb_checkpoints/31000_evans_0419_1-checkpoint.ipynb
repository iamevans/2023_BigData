{
 "cells": [
  {
   "cell_type": "markdown",
   "id": "43a3a37c-da70-4145-b426-683a2c83915a",
   "metadata": {},
   "source": [
    "31000_evans_0419_1"
   ]
  },
  {
   "cell_type": "code",
   "execution_count": 1,
   "id": "033e99fa-a158-4d8a-8ad1-95a7adb9a3c7",
   "metadata": {},
   "outputs": [
    {
     "name": "stdout",
     "output_type": "stream",
     "text": [
      "1~n까지 정수의 합을 구합니다.\n"
     ]
    },
    {
     "name": "stdin",
     "output_type": "stream",
     "text": [
      "n값을 입력하세요.  5\n"
     ]
    },
    {
     "name": "stdout",
     "output_type": "stream",
     "text": [
      "1~5까지 정수의 합은 15입니다.\n"
     ]
    }
   ],
   "source": [
    "#문제1 1~n까지 정수의 합 for\n",
    "\n",
    "print('1~n까지 정수의 합을 구합니다.')\n",
    "n = int(input('n값을 입력하세요. '))\n",
    "\n",
    "sum = 0\n",
    "for i in range(1, n+1):\n",
    "    sum += i\n",
    "    \n",
    "print(f'1~{n}까지 정수의 합은 {sum}입니다.')"
   ]
  },
  {
   "cell_type": "code",
   "execution_count": 2,
   "id": "4a776ed0-1eae-443d-b0eb-859d3863d5df",
   "metadata": {},
   "outputs": [
    {
     "name": "stdout",
     "output_type": "stream",
     "text": [
      "1~n까지 정수의 합을 구합니다.\n"
     ]
    },
    {
     "name": "stdin",
     "output_type": "stream",
     "text": [
      "n값을 입력하세요.  5\n"
     ]
    },
    {
     "name": "stdout",
     "output_type": "stream",
     "text": [
      "1~5까지 정수의 합은 15입니다.\n"
     ]
    }
   ],
   "source": [
    "#문제1-1 1~n까지 정수의 합 while\n",
    "print('1~n까지 정수의 합을 구합니다.')\n",
    "n = int(input('n값을 입력하세요. '))\n",
    "\n",
    "sum  = 0\n",
    "i = 1\n",
    "\n",
    "while i <= n : #i가 n보다 작거나 같은 동안 반복\n",
    "    sum += i # sum에 i를 누적한다.\n",
    "    i += 1\n",
    "    \n",
    "print(f'1~{n}까지 정수의 합은 {sum}입니다.')"
   ]
  },
  {
   "cell_type": "code",
   "execution_count": 3,
   "id": "ae53b472-4468-4b25-a819-167af3573097",
   "metadata": {},
   "outputs": [
    {
     "name": "stdout",
     "output_type": "stream",
     "text": [
      "a~b까지 정수의 합을 구합니다.\n"
     ]
    },
    {
     "name": "stdin",
     "output_type": "stream",
     "text": [
      "a값을 입력하세요. 5\n",
      "b값을 입력하세요. 2\n"
     ]
    },
    {
     "name": "stdout",
     "output_type": "stream",
     "text": [
      "2 ~ 5까지 정수의 합은 14입니다.\n"
     ]
    }
   ],
   "source": [
    "#문제2 for문 시작 ~ 종료까지 의 정수의 합\n",
    "\n",
    "print('a~b까지 정수의 합을 구합니다.')\n",
    "a = int(input('a값을 입력하세요.'))\n",
    "b = int(input('b값을 입력하세요.'))\n",
    "\n",
    "if a > b :\n",
    "    a, b = b, a # a,b값을 비교해 보고 a값이 크면 b값과 바꿔준다\n",
    "    \n",
    "sum = 0\n",
    "for i in range(a, b+1):\n",
    "    sum += i\n",
    "\n",
    "print(f'{a} ~ {b}까지 정수의 합은 {sum}입니다.')"
   ]
  },
  {
   "cell_type": "code",
   "execution_count": 8,
   "id": "fd2e6c30-2a2b-49cb-8328-ca3198ae033f",
   "metadata": {},
   "outputs": [
    {
     "name": "stdout",
     "output_type": "stream",
     "text": [
      "a~b까지 정수의 합을 구합니다.\n"
     ]
    },
    {
     "name": "stdin",
     "output_type": "stream",
     "text": [
      "a값을 입력하세요. 3\n",
      "b값을 입력하세요. 7\n"
     ]
    },
    {
     "name": "stdout",
     "output_type": "stream",
     "text": [
      "3 + 4 + 5 + 6 + 7 = 25\n"
     ]
    }
   ],
   "source": [
    "#문제 2-1 a부터 b까지 정수의 합을 구하는 과정과 최종값을 출력하는 프로그램\n",
    "\n",
    "print('a~b까지 정수의 합을 구합니다.')\n",
    "a = int(input('a값을 입력하세요.'))\n",
    "b = int(input('b값을 입력하세요.'))\n",
    "\n",
    "if a > b :\n",
    "    a, b = b, a # a,b값을 비교해 보고 a값이 크면 b값과 바꿔준다\n",
    "\n",
    "sum = 0\n",
    "for i in range(a, b+1):\n",
    "    if i < b: # i가 b보다 작으면 합을 구하는 과정을 출력\n",
    "        print(f'{i} + ', end = '')\n",
    "    else :\n",
    "        print(f'{i} = ', end = '')\n",
    "    sum += i\n",
    "\n",
    "print(sum)\n"
   ]
  },
  {
   "cell_type": "code",
   "execution_count": 9,
   "id": "f1c98225-49e0-4445-a3bd-b8ac227f0bcf",
   "metadata": {},
   "outputs": [
    {
     "name": "stdout",
     "output_type": "stream",
     "text": [
      "+와-를 번갈이 출력합니다.\n"
     ]
    },
    {
     "name": "stdin",
     "output_type": "stream",
     "text": [
      "몇 개를 출력할까요. 12\n"
     ]
    },
    {
     "name": "stdout",
     "output_type": "stream",
     "text": [
      "+-+-+-+-+-+-\n"
     ]
    }
   ],
   "source": [
    "#문제3 +와 -번갈아 출력하기\n",
    "print('+와-를 번갈이 출력합니다.')\n",
    "n = int(input('몇 개를 출력할까요.'))\n",
    "\n",
    "for i in range(n) :\n",
    "    if i % 2 :\n",
    "        print('-',end='')\n",
    "    else :\n",
    "        print('+',end='')\n",
    "print()"
   ]
  },
  {
   "cell_type": "code",
   "execution_count": null,
   "id": "5608305e-a1af-4697-a9b9-988d1a440b8b",
   "metadata": {},
   "outputs": [],
   "source": []
  }
 ],
 "metadata": {
  "kernelspec": {
   "display_name": "Python 3 (ipykernel)",
   "language": "python",
   "name": "python3"
  },
  "language_info": {
   "codemirror_mode": {
    "name": "ipython",
    "version": 3
   },
   "file_extension": ".py",
   "mimetype": "text/x-python",
   "name": "python",
   "nbconvert_exporter": "python",
   "pygments_lexer": "ipython3",
   "version": "3.9.7"
  }
 },
 "nbformat": 4,
 "nbformat_minor": 5
}
