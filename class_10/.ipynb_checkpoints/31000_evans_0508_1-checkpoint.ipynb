{
 "cells": [
  {
   "cell_type": "markdown",
   "id": "2d91e441-c231-45ce-9199-ea6da60c85c6",
   "metadata": {},
   "source": [
    "31000_evans_0508_1"
   ]
  },
  {
   "cell_type": "markdown",
   "id": "ad30874f-bf25-4eac-9479-e1a85e9650b8",
   "metadata": {},
   "source": [
    "# if구조\n",
    "* 점수를 입력받아, 점수가 60점 이상이면 '합격'을 출력합니다."
   ]
  },
  {
   "cell_type": "code",
   "execution_count": 2,
   "id": "b26d5bb2-f989-4cc6-8878-a99c4e1b451e",
   "metadata": {},
   "outputs": [
    {
     "name": "stdin",
     "output_type": "stream",
     "text": [
      "점수 : 61\n"
     ]
    },
    {
     "name": "stdout",
     "output_type": "stream",
     "text": [
      "합격\n",
      "축하합니다.\n",
      "수고하셨습니다.\n"
     ]
    }
   ],
   "source": [
    "# 입력설계\n",
    "s = int(input('점수 :'))\n",
    "\n",
    "# 판단 if 조건 60점이상\n",
    "if s >= 60 :\n",
    "    print(f'합격')\n",
    "    print(f'축하합니다.')\n",
    "print(f'수고하셨습니다.')"
   ]
  },
  {
   "cell_type": "markdown",
   "id": "3a37ca38-f844-4133-b84d-a172e01bc7c7",
   "metadata": {},
   "source": [
    "# if..else..구조\n",
    "* 점수를 입력받아, 점수가 60점 이상이면 '합격'을 출력하고, 아니면 '불합격'을 출력합니다."
   ]
  },
  {
   "cell_type": "code",
   "execution_count": 4,
   "id": "fceb8f25-f1c7-4a9c-b08a-e2aac0c7584b",
   "metadata": {},
   "outputs": [
    {
     "name": "stdin",
     "output_type": "stream",
     "text": [
      "점수: 59\n"
     ]
    },
    {
     "name": "stdout",
     "output_type": "stream",
     "text": [
      "불합격\n",
      "수고하셨습니다.\n"
     ]
    }
   ],
   "source": [
    "score = int(input('점수:'))\n",
    "if score>=60:\n",
    "    print(f'합격')\n",
    "else:\n",
    "    print(f'불합격')\n",
    "\n",
    "print(f'수고하셨습니다.')"
   ]
  },
  {
   "cell_type": "markdown",
   "id": "e5bf58ac-b03e-456c-8d81-8f6a61a4bf1c",
   "metadata": {},
   "source": [
    "# if..elif..구조\n",
    "* 점수를 입력받고 점수의 범위에 따라 등급을 출력하는 프로그램을 작성하세요.    \n",
    "\n",
    "|등급|A|B|C|D|F|\n",
    "|----|--|--|--|--|--|\n",
    "|점수|90이상|80~89|70~79|60~69|0~59|"
   ]
  },
  {
   "cell_type": "code",
   "execution_count": 5,
   "id": "bd815a8a-c474-4f22-b46f-ec14230e3ac2",
   "metadata": {},
   "outputs": [
    {
     "name": "stdin",
     "output_type": "stream",
     "text": [
      "점수: 50\n"
     ]
    },
    {
     "name": "stdout",
     "output_type": "stream",
     "text": [
      "등급은 F입니다.\n"
     ]
    }
   ],
   "source": [
    "score = int(input('점수:'))\n",
    "if score>=90:\n",
    "    grade='A'\n",
    "elif score>=80:\n",
    "    grade='B'\n",
    "elif score>=70:\n",
    "    grade='C'\n",
    "elif score>=60:\n",
    "    grade='D'\n",
    "else:\n",
    "    grade='F'\n",
    "    \n",
    "print(f'등급은 {grade}입니다.')"
   ]
  },
  {
   "cell_type": "markdown",
   "id": "be1ad5b5-6f24-4aeb-8424-5d013f9be259",
   "metadata": {},
   "source": [
    "# 연습문제\n",
    "\n",
    "* 정수를 입력받아 짝수/홀수를 판별하세요."
   ]
  },
  {
   "cell_type": "code",
   "execution_count": null,
   "id": "ed05f1dc-4f29-4474-a965-7bc44f536de2",
   "metadata": {},
   "outputs": [],
   "source": [
    "num = int(input('정수:'))\n",
    "\n",
    "if num%2 == 1:\n",
    "    print(f'홀수')\n",
    "elif num==0:\n",
    "    pirnt(f'0')\n",
    "else:\n",
    "    print(f'짝수')"
   ]
  }
 ],
 "metadata": {
  "kernelspec": {
   "display_name": "Python 3 (ipykernel)",
   "language": "python",
   "name": "python3"
  },
  "language_info": {
   "codemirror_mode": {
    "name": "ipython",
    "version": 3
   },
   "file_extension": ".py",
   "mimetype": "text/x-python",
   "name": "python",
   "nbconvert_exporter": "python",
   "pygments_lexer": "ipython3",
   "version": "3.9.7"
  }
 },
 "nbformat": 4,
 "nbformat_minor": 5
}
