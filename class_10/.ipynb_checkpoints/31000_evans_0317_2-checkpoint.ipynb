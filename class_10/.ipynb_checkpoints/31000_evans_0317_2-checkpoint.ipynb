{
 "cells": [
  {
   "cell_type": "markdown",
   "id": "fd61386f-f9da-4bfa-a693-3419856e7d61",
   "metadata": {},
   "source": [
    "31000_evans_0317_2"
   ]
  },
  {
   "cell_type": "markdown",
   "id": "f4233fd5-0791-4385-b8d2-296dc12d525f",
   "metadata": {},
   "source": [
    "2) 1년마다 키가 10cm씩 자라는 농구선수가 있다. \n",
    "\n",
    "\n",
    "*   2017년 - 175.5cm\n",
    "*   2018년 - 185.5cm\n",
    "*   2019년 - 195.5cm\n",
    "*   2020년 - 205.5cm\n",
    "\n",
    "\n",
    "년도별 농구선수의 키를 출력해보자"
   ]
  },
  {
   "cell_type": "code",
   "execution_count": 6,
   "id": "545ed439-d087-4765-8522-266b6f4ca150",
   "metadata": {},
   "outputs": [
    {
     "name": "stdout",
     "output_type": "stream",
     "text": [
      "2017 년 -  175.5 cm\n",
      "2018 년 -  185.5 cm\n",
      "2019 년 -  195.5 cm\n",
      "2020 년 -  205.5 cm\n"
     ]
    }
   ],
   "source": [
    "year = 2017\n",
    "height = 175.5\n",
    "print(year,'년 - ',height,'cm')\n",
    "\n",
    "year = year + 1\n",
    "height = height + 10\n",
    "print(year,'년 - ',height,'cm')\n",
    "\n",
    "year = year + 1\n",
    "height = height + 10\n",
    "print(year,'년 - ',height,'cm')\n",
    "\n",
    "year = year + 1\n",
    "height = height + 10\n",
    "print(year,'년 - ',height,'cm')"
   ]
  },
  {
   "cell_type": "markdown",
   "id": "e590f69d-8774-43a5-a83b-54428bc67180",
   "metadata": {},
   "source": [
    "> 동일한 변수를 증가/감소시킬 때\n",
    "\n",
    "```\n",
    "# a에 3을 더하시오\n",
    "a = a+3\n",
    "```\n",
    "\n",
    "```\n",
    "# 간략하게 표현\n",
    "a += 3\n",
    "```"
   ]
  },
  {
   "cell_type": "code",
   "execution_count": 8,
   "id": "a92c58f5-e459-4629-93b7-76f77921cd6e",
   "metadata": {},
   "outputs": [
    {
     "name": "stdout",
     "output_type": "stream",
     "text": [
      "2017 년 -  175.5 cm\n",
      "2018 년 -  185.5 cm\n",
      "2019 년 -  195.5 cm\n",
      "2020 년 -  205.5 cm\n"
     ]
    }
   ],
   "source": [
    "year = 2017\n",
    "height = 175.5\n",
    "print(year,'년 - ',height,'cm')\n",
    "\n",
    "year += 1 \n",
    "height += 10 \n",
    "print(year,'년 - ',height,'cm')\n",
    "\n",
    "year += 1 \n",
    "height += 10 \n",
    "print(year,'년 - ',height,'cm')\n",
    "\n",
    "year += 1 \n",
    "height += 10 \n",
    "print(year,'년 - ',height,'cm')\n"
   ]
  },
  {
   "cell_type": "markdown",
   "id": "27bff279-87ff-4133-8d68-c3bfb79355d0",
   "metadata": {},
   "source": [
    "# 2. 데이터타입\n",
    "\n",
    "> 정수 int\n",
    "\n",
    "> 실수 float\n",
    "\n",
    "> 문자 str"
   ]
  },
  {
   "cell_type": "code",
   "execution_count": 9,
   "id": "e7529b74-9291-43f2-bb25-54d499a6d4f0",
   "metadata": {},
   "outputs": [
    {
     "name": "stdout",
     "output_type": "stream",
     "text": [
      "<class 'int'>\n",
      "<class 'float'>\n",
      "<class 'str'>\n"
     ]
    }
   ],
   "source": [
    "a = 100\n",
    "b = 100.0\n",
    "c ='성일정보고'\n",
    "print(type(a))\n",
    "print(type(b))\n",
    "print(type(c))"
   ]
  },
  {
   "cell_type": "markdown",
   "id": "14c3bb87-00ed-40b7-89a3-84f847bed2d2",
   "metadata": {},
   "source": [
    "# 3. 데이터타입 변경하기\n",
    "변경하려는 데이터타입으로 감싸주기\n",
    "\n",
    "> 정수로 변경하기\n",
    "<br/> int(변수)\n",
    "\n",
    "> 실수로 변경하기\n",
    "<br/> float(변수)\n",
    "\n",
    "> 문자로 변경하기\n",
    "<br/> str(변수)"
   ]
  },
  {
   "cell_type": "code",
   "execution_count": 10,
   "id": "b5e1a863-8541-4d1f-9db1-5af3771e462e",
   "metadata": {},
   "outputs": [
    {
     "name": "stdout",
     "output_type": "stream",
     "text": [
      "100\n",
      "100.0\n"
     ]
    }
   ],
   "source": [
    "# 정수를 실수로\n",
    "print(a)\n",
    "a = float(a)\n",
    "print(a)"
   ]
  },
  {
   "cell_type": "code",
   "execution_count": 11,
   "id": "7b5216f7-a325-4155-a415-f1cb99229de4",
   "metadata": {},
   "outputs": [
    {
     "name": "stdout",
     "output_type": "stream",
     "text": [
      "100.0\n",
      "100\n"
     ]
    }
   ],
   "source": [
    "print(a)\n",
    "a = int(a)\n",
    "print(a)"
   ]
  },
  {
   "cell_type": "markdown",
   "id": "4f86a741-c7d4-4cc9-89fb-3eb2da7d4146",
   "metadata": {},
   "source": [
    "# 4. 원의 둘레, 넓이, 구의 겉넓이, 부피 구하기\n",
    "\n",
    "<img src='https://github.com/teacher-jiejie/allinone_AI/blob/images/%EC%9B%90%20%EA%B4%80%EB%A0%A8%20%EA%B3%B5%EC%8B%9D.png?raw=true' width = 300>"
   ]
  },
  {
   "cell_type": "code",
   "execution_count": 14,
   "id": "e0c329ad-aa4f-42ff-907c-bc3ccbb6f7dd",
   "metadata": {},
   "outputs": [
    {
     "name": "stdin",
     "output_type": "stream",
     "text": [
      "반지름을 입력하세요  5\n"
     ]
    },
    {
     "name": "stdout",
     "output_type": "stream",
     "text": [
      "원의 둘레는 31.41592\n",
      "원의 넓이는 78.5398\n",
      "구의 겉넓이는 314.1592\n",
      "구의 부피는 523.5986666666666\n"
     ]
    }
   ],
   "source": [
    "r = int(input('반지름을 입력하세요 '))\n",
    "p = 3.141592\n",
    "\n",
    "#원의 둘레\n",
    "c_len = 2*p*r\n",
    "\n",
    "#원의 넓이\n",
    "c_area = p*r**2\n",
    "\n",
    "#구의 겉넓이\n",
    "s_area = 4*p*r**2\n",
    "\n",
    "#구의 부피\n",
    "s_volume = 4/3*p*r**3\n",
    "\n",
    "print('원의 둘레는', c_len)\n",
    "print('원의 넓이는', c_area)\n",
    "print('구의 겉넓이는', s_area)\n",
    "print('구의 부피는', s_volume)"
   ]
  },
  {
   "cell_type": "code",
   "execution_count": null,
   "id": "92430589-ed81-46f1-9d00-b37ff4b45395",
   "metadata": {},
   "outputs": [],
   "source": []
  }
 ],
 "metadata": {
  "kernelspec": {
   "display_name": "Python 3 (ipykernel)",
   "language": "python",
   "name": "python3"
  },
  "language_info": {
   "codemirror_mode": {
    "name": "ipython",
    "version": 3
   },
   "file_extension": ".py",
   "mimetype": "text/x-python",
   "name": "python",
   "nbconvert_exporter": "python",
   "pygments_lexer": "ipython3",
   "version": "3.9.7"
  }
 },
 "nbformat": 4,
 "nbformat_minor": 5
}
