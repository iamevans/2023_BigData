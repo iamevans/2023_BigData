{
 "cells": [
  {
   "cell_type": "markdown",
   "id": "85f11fb0-0a99-4840-b622-758762db391e",
   "metadata": {},
   "source": [
    "31000_evans_0328_6"
   ]
  },
  {
   "cell_type": "markdown",
   "id": "4665ba66-1d74-4a6c-abb1-262684c80862",
   "metadata": {},
   "source": [
    "#### 4. 구구단 출력 프로그램\n",
    "4단 출력하기 <br/>\n",
    "```\n",
    "4 x 1 = 4\n",
    "4 x 2 = 8\n",
    "...\n",
    "4 x 8 = 32\n",
    "4 x 9 = 36\n",
    "```"
   ]
  },
  {
   "cell_type": "code",
   "execution_count": 1,
   "id": "2c2160a3-ec54-4592-949d-0262a05b9730",
   "metadata": {},
   "outputs": [
    {
     "name": "stdout",
     "output_type": "stream",
     "text": [
      "4 x 1 = 4\n",
      "4 x 2 = 8\n",
      "4 x 3 = 12\n",
      "4 x 4 = 16\n",
      "4 x 5 = 20\n",
      "4 x 6 = 24\n",
      "4 x 7 = 28\n",
      "4 x 8 = 32\n",
      "4 x 9 = 36\n"
     ]
    }
   ],
   "source": [
    "# 구구단 프로그램\n",
    "for i in range(1,10) :\n",
    "    print('4 x', i, '=', 4*i)"
   ]
  },
  {
   "cell_type": "markdown",
   "id": "033361f1-a18c-4309-b806-98eaaf189e89",
   "metadata": {},
   "source": [
    "#### 업그레이드 구구단\n",
    ">구구단 외울 단을 입력받아, 해당 숫자의 구구단을 외워봅시다.<br/>\n",
    " ex. 5를 입력받으면 5단 외우기"
   ]
  },
  {
   "cell_type": "code",
   "execution_count": 5,
   "id": "65deca37-1c17-40ba-9b50-5577d03a4c16",
   "metadata": {},
   "outputs": [
    {
     "name": "stdin",
     "output_type": "stream",
     "text": [
      "몇 단을 외워볼까요?  18\n"
     ]
    },
    {
     "name": "stdout",
     "output_type": "stream",
     "text": [
      "18 x 1 = 18\n",
      "18 x 2 = 36\n",
      "18 x 3 = 54\n",
      "18 x 4 = 72\n",
      "18 x 5 = 90\n",
      "18 x 6 = 108\n",
      "18 x 7 = 126\n",
      "18 x 8 = 144\n",
      "18 x 9 = 162\n"
     ]
    }
   ],
   "source": [
    "num = int(input('몇 단을 외워볼까요? '))\n",
    "\n",
    "for i in range(1,10) :\n",
    "    print(num, 'x', i, '=', num*i)"
   ]
  },
  {
   "cell_type": "code",
   "execution_count": 8,
   "id": "f3f08366-37e8-4114-a0eb-3099befa9141",
   "metadata": {},
   "outputs": [
    {
     "name": "stdout",
     "output_type": "stream",
     "text": [
      "망고\n",
      "딸기\n",
      "포도\n"
     ]
    }
   ],
   "source": [
    "과일 = ['망고','딸기','포도']\n",
    "print(과일[0])\n",
    "print(과일[1])\n",
    "print(과일[2])"
   ]
  },
  {
   "cell_type": "code",
   "execution_count": 9,
   "id": "efa3a213-afc3-45f2-8d6a-60b5c47f65ac",
   "metadata": {},
   "outputs": [
    {
     "name": "stdout",
     "output_type": "stream",
     "text": [
      "망고\n",
      "딸기\n",
      "포도\n"
     ]
    }
   ],
   "source": [
    "과일 = ['망고','딸기','포도']\n",
    "for i in 과일 :\n",
    "    print(i)"
   ]
  },
  {
   "cell_type": "code",
   "execution_count": 10,
   "id": "37ea8b28-73d4-46e3-a890-f8b4e760ed84",
   "metadata": {},
   "outputs": [
    {
     "name": "stdout",
     "output_type": "stream",
     "text": [
      "망고 -------\n",
      "딸기 -------\n",
      "포도 -------\n"
     ]
    }
   ],
   "source": [
    "과일 = ['망고','딸기','포도']\n",
    "for i in 과일 :\n",
    "    print(i,'-------')"
   ]
  },
  {
   "cell_type": "markdown",
   "id": "960ec464-cd55-4152-9e68-7fc9b553df21",
   "metadata": {},
   "source": [
    "출력형식 \n",
    "> 오늘의 메뉴: 김밥 <br>\n",
    "  오늘의 메뉴: 라면 <br>\n",
    "  오늘의 메뉴: 튀김"
   ]
  },
  {
   "cell_type": "code",
   "execution_count": 11,
   "id": "da89bfd6-5642-424f-99fb-3cf57be31df8",
   "metadata": {},
   "outputs": [
    {
     "name": "stdout",
     "output_type": "stream",
     "text": [
      "오늘의 메뉴: 김밥\n",
      "오늘의 메뉴: 라면\n",
      "오늘의 메뉴: 튀김\n"
     ]
    }
   ],
   "source": [
    "리스트 = [\"김밥\", \"라면\", \"튀김\"]\n",
    "for 메뉴 in 리스트:\n",
    "  print(\"오늘의 메뉴:\", 메뉴)"
   ]
  },
  {
   "cell_type": "code",
   "execution_count": null,
   "id": "542d82a2-eb27-47fd-bc21-01f2d9ca58f3",
   "metadata": {},
   "outputs": [],
   "source": []
  }
 ],
 "metadata": {
  "kernelspec": {
   "display_name": "Python 3 (ipykernel)",
   "language": "python",
   "name": "python3"
  },
  "language_info": {
   "codemirror_mode": {
    "name": "ipython",
    "version": 3
   },
   "file_extension": ".py",
   "mimetype": "text/x-python",
   "name": "python",
   "nbconvert_exporter": "python",
   "pygments_lexer": "ipython3",
   "version": "3.9.7"
  }
 },
 "nbformat": 4,
 "nbformat_minor": 5
}
