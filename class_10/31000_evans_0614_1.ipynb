{
 "cells": [
  {
   "cell_type": "markdown",
   "id": "e10a255b-2dc6-4403-a47c-b55d7fea56ed",
   "metadata": {},
   "source": [
    "31000_evans_0614_1"
   ]
  },
  {
   "cell_type": "markdown",
   "id": "8e2200c0-5fb8-4fb8-b681-ad41e861ee5b",
   "metadata": {},
   "source": [
    "## 수행평가 예상문제\n",
    "\n",
    "> 문제 7 <br>\n",
    "할인된 금액 계산 프로그램\n",
    "\n",
    "```\n",
    "금액                  할인율\n",
    "1만원이상 5만원미만     5%\n",
    "5만원이상 10만원미만    7%\n",
    "10만원이상             10%\n",
    "```"
   ]
  },
  {
   "cell_type": "code",
   "execution_count": 1,
   "id": "03e4bcf9-2b15-4af7-8f07-860dba01100b",
   "metadata": {},
   "outputs": [
    {
     "name": "stdin",
     "output_type": "stream",
     "text": [
      "물건구매가 :  200000\n"
     ]
    },
    {
     "name": "stdout",
     "output_type": "stream",
     "text": [
      "\n",
      "구매가 : 200000\n",
      "할인율 : 10%\n",
      "할인금액 : 20000.0\n",
      "지불금액 : 180000.0\n",
      "\n"
     ]
    }
   ],
   "source": [
    "price = int(input('물건구매가 : '))\n",
    "\n",
    "#할인율 결정\n",
    "if price >= 100000:\n",
    "    dc = 10\n",
    "elif price >= 50000:\n",
    "    dc = 7\n",
    "elif price >= 10000:\n",
    "    dc = 5\n",
    "else :\n",
    "    dc = 0\n",
    "\n",
    "#출력\n",
    "print(f'''\n",
    "구매가 : {price}\n",
    "할인율 : {dc}%\n",
    "할인금액 : {price*(dc/100)}\n",
    "지불금액 : {price - price*(dc/100)}\n",
    "''')\n"
   ]
  },
  {
   "cell_type": "markdown",
   "id": "af4d4f05-024c-401e-af5d-06f122eab573",
   "metadata": {},
   "source": [
    "## 수행평가 예상문제\n",
    "\n",
    "> 문제 8 <br>\n",
    "사칙연산 프로그램\n",
    "\n",
    "* 두 수와 사칙연산기호(+,-,*,/)을 입력받아 연산 기호에 따라 연산 결과를 출력하는 프로그램을 작성하세요.\n",
    "* 사칙연산기호(+,-,*,/)가 아닌 경우 '잘못입력하셨습니다' 출력\n"
   ]
  },
  {
   "cell_type": "code",
   "execution_count": null,
   "id": "c2555a3c-0b42-47ec-9660-68451aeb1813",
   "metadata": {},
   "outputs": [],
   "source": [
    "num1 = int(input('숫자1 : '))\n",
    "num2 = int(input('숫자2 : '))\n",
    "op = input('연산기호 : ')\n",
    "\n",
    "if op == '+':\n",
    "    print(f'덧셈 : {num1} + {num2} = {num1+num2}')\n",
    "elif op == '-':\n",
    "    print(f'뺄셈 : {num1} - {num2} = {num1-num2}')\n",
    "elif op == '*':\n",
    "    print(f'곱셈 : {num1} * {num2} = {num1*num2}')\n",
    "elif op == '/':\n",
    "    print(f'나눗셈 : {num1} / {num2} = {num1/num2}')\n",
    "else:\n",
    "    print(f'잘못 입력하셨습니다.')\n"
   ]
  }
 ],
 "metadata": {
  "kernelspec": {
   "display_name": "Python 3 (ipykernel)",
   "language": "python",
   "name": "python3"
  },
  "language_info": {
   "codemirror_mode": {
    "name": "ipython",
    "version": 3
   },
   "file_extension": ".py",
   "mimetype": "text/x-python",
   "name": "python",
   "nbconvert_exporter": "python",
   "pygments_lexer": "ipython3",
   "version": "3.9.7"
  }
 },
 "nbformat": 4,
 "nbformat_minor": 5
}
