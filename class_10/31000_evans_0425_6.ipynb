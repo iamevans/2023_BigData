{
 "cells": [
  {
   "cell_type": "markdown",
   "id": "173525e1-622f-4b32-8439-4ab46d043e2c",
   "metadata": {},
   "source": [
    "31000_evans_0425_6"
   ]
  },
  {
   "cell_type": "markdown",
   "id": "0afc1b5c-5ebc-48a8-8c8c-c3ccad3b242f",
   "metadata": {},
   "source": [
    "#  1. 딕셔너리\n",
    "Key (키) - Value (값) 대응    \n",
    "\n",
    "<img src = 'https://github.com/teacher-jiejie/allinone_AI/blob/images/12_%EB%94%95%EC%85%94%EB%84%88%EB%A6%AC.png?raw=true' width =600>\n",
    "<br/>\n",
    "<br/>\n",
    "<img src='https://github.com/teacher-jiejie/allinone_AI/blob/images/72_%EB%94%95%EC%85%94%EB%84%88%EB%A6%AC%20%EB%A6%AC%EC%8A%A4%ED%8A%B8%20%EB%B9%84%EA%B5%90.png?raw=true' width =400>\n",
    "<br/>\n",
    "```\n",
    "딕셔너리이름 = {키1 : 값1, 키2 : 값2, ... 키n : 값n}\n",
    "```"
   ]
  },
  {
   "cell_type": "code",
   "execution_count": 1,
   "id": "05da6493-ed39-4118-9739-f3ffa6797e5f",
   "metadata": {},
   "outputs": [],
   "source": [
    "menu = {'김밥':2500, '참치김밥':3500, '라면':3000, '치즈라면':4000}"
   ]
  },
  {
   "cell_type": "code",
   "execution_count": 2,
   "id": "12085114-bebe-4d7b-8b3f-117e2d55980f",
   "metadata": {},
   "outputs": [
    {
     "data": {
      "text/plain": [
       "{'김밥': 2500, '참치김밥': 3500, '라면': 3000, '치즈라면': 4000}"
      ]
     },
     "execution_count": 2,
     "metadata": {},
     "output_type": "execute_result"
    }
   ],
   "source": [
    "menu"
   ]
  },
  {
   "cell_type": "code",
   "execution_count": 3,
   "id": "758b610b-0e12-4171-99cb-1aaa8a1f9eba",
   "metadata": {},
   "outputs": [
    {
     "data": {
      "text/plain": [
       "dict"
      ]
     },
     "execution_count": 3,
     "metadata": {},
     "output_type": "execute_result"
    }
   ],
   "source": [
    "type(menu)"
   ]
  },
  {
   "cell_type": "code",
   "execution_count": 4,
   "id": "770908dc-ec22-4f29-b843-dbbb7c8e12d4",
   "metadata": {},
   "outputs": [
    {
     "data": {
      "text/plain": [
       "3500"
      ]
     },
     "execution_count": 4,
     "metadata": {},
     "output_type": "execute_result"
    }
   ],
   "source": [
    "menu['참치김밥']"
   ]
  },
  {
   "cell_type": "code",
   "execution_count": 5,
   "id": "15011d6b-a9f0-4636-b735-346c6c048bc8",
   "metadata": {},
   "outputs": [
    {
     "data": {
      "text/plain": [
       "4000"
      ]
     },
     "execution_count": 5,
     "metadata": {},
     "output_type": "execute_result"
    }
   ],
   "source": [
    "menu['치즈라면']"
   ]
  },
  {
   "cell_type": "code",
   "execution_count": 7,
   "id": "c72289eb-e327-48f8-ac28-c5218266785b",
   "metadata": {},
   "outputs": [
    {
     "name": "stdout",
     "output_type": "stream",
     "text": [
      "{'김밥': 2500, '참치김밥': 3500, '라면': 3000, '치즈라면': 4000}\n",
      "{'김밥': 2500, '참치김밥': 3000, '라면': 3000, '치즈라면': 4000}\n"
     ]
    }
   ],
   "source": [
    "print(menu)\n",
    "\n",
    "# 참치김밥 인하 3000원\n",
    "menu['참치김밥'] = 3000\n",
    "\n",
    "print(menu)"
   ]
  },
  {
   "cell_type": "code",
   "execution_count": 8,
   "id": "7d57cd9c-098a-46e8-b417-48315dfa72df",
   "metadata": {},
   "outputs": [
    {
     "name": "stdout",
     "output_type": "stream",
     "text": [
      "{'김밥': 2500, '참치김밥': 3000, '라면': 3000, '치즈라면': 4000}\n",
      "{'김밥': 2500, '참치김밥': 3000, '라면': 3500, '치즈라면': 4000}\n"
     ]
    }
   ],
   "source": [
    "print(menu)\n",
    "\n",
    "# 라면 가격인상 3500원\n",
    "menu['라면'] = 3500\n",
    "\n",
    "print(menu)"
   ]
  },
  {
   "cell_type": "code",
   "execution_count": 9,
   "id": "b12097cf-9959-4731-98b4-e846a2f1bbef",
   "metadata": {},
   "outputs": [
    {
     "name": "stdout",
     "output_type": "stream",
     "text": [
      "{'김밥': 2500, '참치김밥': 3000, '라면': 3500, '치즈라면': 4000, '돈가스': 7000}\n"
     ]
    }
   ],
   "source": [
    "# 딕셔너리 요소를 추가해 봅니다.\n",
    "menu['돈가스'] = 7000\n",
    "\n",
    "print(menu)"
   ]
  },
  {
   "cell_type": "markdown",
   "id": "8a3bfba2-abcf-43a8-97e1-b2ae2832e7c6",
   "metadata": {},
   "source": [
    "# 2. 딕셔너리의 키와 값\n",
    "\n",
    "딕셔너리의 키만 꺼내기 \n",
    "> 딕셔너리이름.keys()\n",
    "<br/>\n",
    "\n",
    "딕셔너리의 값(value)만 꺼내기 \n",
    "> 딕셔너리이름.values()\n",
    "<br/>\n",
    "\n",
    "딕셔너리의 키-값 모두 꺼내기 \n",
    ">딕셔너리이름.items()"
   ]
  },
  {
   "cell_type": "code",
   "execution_count": 10,
   "id": "6b0bf7c2-01fc-4bc5-9b19-c8367eecb7ae",
   "metadata": {},
   "outputs": [
    {
     "name": "stdout",
     "output_type": "stream",
     "text": [
      "{'김밥': 2500, '참치김밥': 3000, '라면': 3500, '치즈라면': 4000, '돈가스': 7000}\n"
     ]
    }
   ],
   "source": [
    "print(menu)"
   ]
  },
  {
   "cell_type": "code",
   "execution_count": 11,
   "id": "c11b803a-1815-476d-b93b-3f42c0ef7728",
   "metadata": {},
   "outputs": [
    {
     "data": {
      "text/plain": [
       "dict_keys(['김밥', '참치김밥', '라면', '치즈라면', '돈가스'])"
      ]
     },
     "execution_count": 11,
     "metadata": {},
     "output_type": "execute_result"
    }
   ],
   "source": [
    "menu.keys()"
   ]
  },
  {
   "cell_type": "code",
   "execution_count": 12,
   "id": "e9fef755-51bc-4a57-a8c7-a3e63c7f9b10",
   "metadata": {},
   "outputs": [
    {
     "data": {
      "text/plain": [
       "dict_values([2500, 3000, 3500, 4000, 7000])"
      ]
     },
     "execution_count": 12,
     "metadata": {},
     "output_type": "execute_result"
    }
   ],
   "source": [
    "menu.values()"
   ]
  },
  {
   "cell_type": "code",
   "execution_count": 13,
   "id": "d5408da6-9e85-4207-ada6-29d48809dd53",
   "metadata": {},
   "outputs": [
    {
     "data": {
      "text/plain": [
       "dict_items([('김밥', 2500), ('참치김밥', 3000), ('라면', 3500), ('치즈라면', 4000), ('돈가스', 7000)])"
      ]
     },
     "execution_count": 13,
     "metadata": {},
     "output_type": "execute_result"
    }
   ],
   "source": [
    "menu.items()"
   ]
  },
  {
   "cell_type": "code",
   "execution_count": 17,
   "id": "6bf4442a-5cd6-4877-af57-9ba474522972",
   "metadata": {},
   "outputs": [
    {
     "name": "stdout",
     "output_type": "stream",
     "text": [
      "{'참치김밥': 3000, '라면': 3500, '치즈라면': 4000, '돈가스': 7000}\n"
     ]
    }
   ],
   "source": [
    "print(menu)"
   ]
  },
  {
   "cell_type": "code",
   "execution_count": 14,
   "id": "ee26e11d-0c9c-4a77-94ec-99c4d5817dc5",
   "metadata": {},
   "outputs": [],
   "source": [
    "mart = {'과자':1500, '아이스크림':1700, '휴지':4800, '고기':10500, '우유':2600}"
   ]
  },
  {
   "cell_type": "code",
   "execution_count": 18,
   "id": "c3eabed3-3521-42c1-806b-afbdfa2424c8",
   "metadata": {},
   "outputs": [
    {
     "data": {
      "text/plain": [
       "['고기', '과자', '아이스크림', '우유', '휴지']"
      ]
     },
     "execution_count": 18,
     "metadata": {},
     "output_type": "execute_result"
    }
   ],
   "source": [
    "# 딕셔너리 키 정렬 sorted() 오름차순 내림차순 reverse\n",
    "\n",
    "sorted(mart.keys())"
   ]
  },
  {
   "cell_type": "markdown",
   "id": "cafa4929-af81-4959-9640-2c02708594f6",
   "metadata": {},
   "source": [
    "오름차순, 내림차순 옵션 reverse\n",
    "\n",
    "> sorted(정렬할 대상, reverse = True/False)"
   ]
  },
  {
   "cell_type": "code",
   "execution_count": 19,
   "id": "e853029b-724d-4ae6-9e22-e809e20acbc0",
   "metadata": {},
   "outputs": [
    {
     "data": {
      "text/plain": [
       "['휴지', '우유', '아이스크림', '과자', '고기']"
      ]
     },
     "execution_count": 19,
     "metadata": {},
     "output_type": "execute_result"
    }
   ],
   "source": [
    "sorted(mart.keys(),reverse=True)"
   ]
  },
  {
   "cell_type": "code",
   "execution_count": 20,
   "id": "25eeb6b1-c9f7-491f-8ef0-d40c72074c81",
   "metadata": {},
   "outputs": [
    {
     "data": {
      "text/plain": [
       "[1500, 1700, 2600, 4800, 10500]"
      ]
     },
     "execution_count": 20,
     "metadata": {},
     "output_type": "execute_result"
    }
   ],
   "source": [
    "# 딕셔너리의 값 정렬  sorted() 내림차순 reverse=True\n",
    "\n",
    "sorted(mart.values())"
   ]
  },
  {
   "cell_type": "code",
   "execution_count": 21,
   "id": "18c8355c-56a0-4e9c-b2e7-61178b9071f9",
   "metadata": {},
   "outputs": [
    {
     "data": {
      "text/plain": [
       "[10500, 4800, 2600, 1700, 1500]"
      ]
     },
     "execution_count": 21,
     "metadata": {},
     "output_type": "execute_result"
    }
   ],
   "source": [
    "sorted(mart.values(), reverse=True)"
   ]
  },
  {
   "cell_type": "code",
   "execution_count": 22,
   "id": "0e784c2e-3b38-4409-b076-4e4e04140f34",
   "metadata": {},
   "outputs": [
    {
     "data": {
      "text/plain": [
       "1500"
      ]
     },
     "execution_count": 22,
     "metadata": {},
     "output_type": "execute_result"
    }
   ],
   "source": [
    "# 딕셔너리의 정렬 결과는 리스트다.\n",
    "# 가장 싼 상품의 가격은 ?\n",
    "sorted(mart.values())[0]"
   ]
  },
  {
   "cell_type": "code",
   "execution_count": 24,
   "id": "400fb532-582e-4a8c-b53c-55273807735a",
   "metadata": {},
   "outputs": [
    {
     "data": {
      "text/plain": [
       "[10500, 4800]"
      ]
     },
     "execution_count": 24,
     "metadata": {},
     "output_type": "execute_result"
    }
   ],
   "source": [
    "# 가장 비싼 상품의 두 개의 가격은?\n",
    "sorted(mart.values(), reverse=True)[:2]"
   ]
  },
  {
   "cell_type": "code",
   "execution_count": null,
   "id": "07e40966-567b-4dbe-8f4c-5163981f8597",
   "metadata": {},
   "outputs": [],
   "source": []
  }
 ],
 "metadata": {
  "kernelspec": {
   "display_name": "Python 3 (ipykernel)",
   "language": "python",
   "name": "python3"
  },
  "language_info": {
   "codemirror_mode": {
    "name": "ipython",
    "version": 3
   },
   "file_extension": ".py",
   "mimetype": "text/x-python",
   "name": "python",
   "nbconvert_exporter": "python",
   "pygments_lexer": "ipython3",
   "version": "3.9.7"
  }
 },
 "nbformat": 4,
 "nbformat_minor": 5
}
