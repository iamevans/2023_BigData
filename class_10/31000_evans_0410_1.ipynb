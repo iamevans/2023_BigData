{
 "cells": [
  {
   "cell_type": "markdown",
   "id": "7de52fe0-6ff7-43ce-b152-5b3bd9d047a0",
   "metadata": {},
   "source": [
    "31000_evans_0410_1"
   ]
  },
  {
   "cell_type": "markdown",
   "id": "fce279f6-0392-42e9-a791-3afd0b546a9c",
   "metadata": {},
   "source": [
    "#  1. 리스트\n",
    "```\n",
    "리스트 여러 데이터를 한 번에 묶어서 표현\n",
    "리스트이름 = [데이터1, 데이터2, ..., 데이터n]\n",
    "```\n",
    "> 실생활의 리스트 \n",
    "   \n",
    "<img src='https://github.com/teacher-jiejie/allinone_AI/blob/images/56_%EC%82%AC%EC%95%BC%ED%95%A0%20%EB%A6%AC%EC%8A%A4%ED%8A%B8.png?raw=true' width=150>\n",
    "\n",
    "</br></br>\n",
    "> 파이썬의 리스트\n",
    "\n",
    "<img src='https://github.com/teacher-jiejie/allinone_AI/blob/images/6_%EB%A6%AC%EC%8A%A4%ED%8A%B8%EA%B0%9C%EB%85%90.png?raw=true' width=600>\n"
   ]
  },
  {
   "cell_type": "code",
   "execution_count": 1,
   "id": "1f330168-bdf2-4659-9af1-11065deab2f3",
   "metadata": {},
   "outputs": [],
   "source": [
    "# 1월 지출부터 6월 지출까지 리스트를 만들어 봅시다.\n",
    "spending = [25,36,8,53,24,56]"
   ]
  },
  {
   "cell_type": "code",
   "execution_count": 2,
   "id": "b0e95123-5321-4ab7-86d3-678e106730da",
   "metadata": {},
   "outputs": [
    {
     "name": "stdout",
     "output_type": "stream",
     "text": [
      "[25, 36, 8, 53, 24, 56]\n"
     ]
    }
   ],
   "source": [
    "print(spending)"
   ]
  },
  {
   "cell_type": "code",
   "execution_count": 3,
   "id": "b0620be7-181a-4c65-a57a-c2bb229f8cca",
   "metadata": {},
   "outputs": [
    {
     "data": {
      "text/plain": [
       "list"
      ]
     },
     "execution_count": 3,
     "metadata": {},
     "output_type": "execute_result"
    }
   ],
   "source": [
    "# data의 형태를 알아보는 명령어 type\n",
    "type(spending)"
   ]
  },
  {
   "cell_type": "markdown",
   "id": "940a0cbb-01aa-40db-9085-374fc5b5a95a",
   "metadata": {},
   "source": [
    "### 리스트와 인덱스\n",
    "<img src ='https://github.com/teacher-jiejie/allinone_AI/blob/images/7_%EB%A6%AC%EC%8A%A4%ED%8A%B8%EC%9D%B8%EB%8D%B1%EC%8A%A4.png?raw=true' width =700>"
   ]
  },
  {
   "cell_type": "code",
   "execution_count": 4,
   "id": "68938656-6919-4ee0-a24a-2901a295a34a",
   "metadata": {},
   "outputs": [
    {
     "name": "stdout",
     "output_type": "stream",
     "text": [
      "[25, 36, 8, 53, 24, 56]\n"
     ]
    }
   ],
   "source": [
    "print(spending)"
   ]
  },
  {
   "cell_type": "code",
   "execution_count": 5,
   "id": "9864a06c-b539-4199-8f77-246d2448389a",
   "metadata": {},
   "outputs": [
    {
     "name": "stdout",
     "output_type": "stream",
     "text": [
      "1월 지출\n",
      "25\n"
     ]
    }
   ],
   "source": [
    "print('1월 지출')\n",
    "print(spending[0])"
   ]
  },
  {
   "cell_type": "code",
   "execution_count": 6,
   "id": "4e9000fe-6a50-4311-aa39-d84392f75417",
   "metadata": {},
   "outputs": [
    {
     "name": "stdout",
     "output_type": "stream",
     "text": [
      "6월 지출\n",
      "56\n"
     ]
    }
   ],
   "source": [
    "print('6월 지출')\n",
    "print(spending[5])"
   ]
  },
  {
   "cell_type": "code",
   "execution_count": 7,
   "id": "8c5673bf-fd87-4454-84d5-2c178d41c192",
   "metadata": {},
   "outputs": [
    {
     "name": "stdout",
     "output_type": "stream",
     "text": [
      "3월 지출\n",
      "8\n"
     ]
    }
   ],
   "source": [
    "print('3월 지출')\n",
    "print(spending[2])"
   ]
  },
  {
   "cell_type": "markdown",
   "id": "c9b91e4a-1b10-4396-b955-c0244d4a03bf",
   "metadata": {},
   "source": [
    "알고보니 4월 지출이 10낮게 기록됐다. 4월 지출에 10을 더하시오"
   ]
  },
  {
   "cell_type": "code",
   "execution_count": 9,
   "id": "fa975662-037f-4cd8-9767-fd9a9c1815b1",
   "metadata": {},
   "outputs": [
    {
     "name": "stdout",
     "output_type": "stream",
     "text": [
      "변경 전 : [25, 36, 8, 53, 24, 56]\n",
      "변경 후 : [25, 36, 8, 63, 24, 56]\n"
     ]
    }
   ],
   "source": [
    "print('변경 전 :',spending)\n",
    "\n",
    "spending[3] += 10\n",
    "\n",
    "print('변경 후 :',spending)"
   ]
  },
  {
   "cell_type": "markdown",
   "id": "05d625a5-a2aa-45fa-a657-0a87b0adf40c",
   "metadata": {},
   "source": [
    "5월 지출을 2로 나누시오"
   ]
  },
  {
   "cell_type": "code",
   "execution_count": 10,
   "id": "2e7462d7-d2c1-46b7-8f82-11258dbcdd16",
   "metadata": {},
   "outputs": [
    {
     "name": "stdout",
     "output_type": "stream",
     "text": [
      "변경 전: [25, 36, 8, 63, 24, 56]\n",
      "변경 후: [25, 36, 8, 63, 12.0, 56]\n"
     ]
    }
   ],
   "source": [
    "print('변경 전:', spending)\n",
    "\n",
    "spending[4] /= 2\n",
    "\n",
    "print('변경 후:', spending)"
   ]
  },
  {
   "cell_type": "markdown",
   "id": "116ff16b-ba6d-4478-8a78-ad4badf3b270",
   "metadata": {},
   "source": [
    "### 마이너스 인덱스\n",
    "\n",
    "<img src = 'https://github.com/teacher-jiejie/allinone_AI/blob/images/8_%EB%A6%AC%EC%8A%A4%ED%8A%B8%20%EB%A7%88%EC%9D%B4%EB%84%88%EC%8A%A4%EC%9D%B8%EB%8D%B1%EC%8A%A4.png?raw=true' width=500>"
   ]
  },
  {
   "cell_type": "code",
   "execution_count": 12,
   "id": "40506baa-7cf7-43a4-80f8-2bf7fa5141e0",
   "metadata": {},
   "outputs": [
    {
     "name": "stdout",
     "output_type": "stream",
     "text": [
      "8\n",
      "8\n"
     ]
    }
   ],
   "source": [
    "print(spending[2])\n",
    "print(spending[-4])"
   ]
  },
  {
   "cell_type": "markdown",
   "id": "f32ca015-36e4-4065-b527-28f6872cdca2",
   "metadata": {},
   "source": [
    "#  2.  리스트의 다양한 기능\n",
    "\n",
    "### 리스트 길이 확인 \n",
    "> len(리스트이름)         "
   ]
  },
  {
   "cell_type": "code",
   "execution_count": 13,
   "id": "75dbdadb-8883-4aec-b5e7-8f456d084575",
   "metadata": {},
   "outputs": [
    {
     "data": {
      "text/plain": [
       "6"
      ]
     },
     "execution_count": 13,
     "metadata": {},
     "output_type": "execute_result"
    }
   ],
   "source": [
    "# spending 리스트의 길이를 구하는 함수 len\n",
    "len(spending)"
   ]
  },
  {
   "cell_type": "code",
   "execution_count": null,
   "id": "651dca84-b0a6-4f2d-9d5a-6979c1cc3db7",
   "metadata": {},
   "outputs": [],
   "source": []
  }
 ],
 "metadata": {
  "kernelspec": {
   "display_name": "Python 3 (ipykernel)",
   "language": "python",
   "name": "python3"
  },
  "language_info": {
   "codemirror_mode": {
    "name": "ipython",
    "version": 3
   },
   "file_extension": ".py",
   "mimetype": "text/x-python",
   "name": "python",
   "nbconvert_exporter": "python",
   "pygments_lexer": "ipython3",
   "version": "3.9.7"
  }
 },
 "nbformat": 4,
 "nbformat_minor": 5
}
