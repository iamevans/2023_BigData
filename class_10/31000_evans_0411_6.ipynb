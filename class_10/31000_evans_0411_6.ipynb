{
 "cells": [
  {
   "cell_type": "markdown",
   "id": "c965c3f8-eae2-4204-bbd5-688c15392fd0",
   "metadata": {},
   "source": [
    "31000_evans_0411_6"
   ]
  },
  {
   "cell_type": "markdown",
   "id": "5896fea6-0caa-4198-a940-646b9c420e62",
   "metadata": {},
   "source": [
    "#  2.  리스트의 다양한 기능\n",
    "\n",
    "### 리스트 길이 확인 \n",
    "> len(리스트이름)     "
   ]
  },
  {
   "cell_type": "code",
   "execution_count": 1,
   "id": "a5d3ad94-1d73-4362-af05-a087012e2677",
   "metadata": {},
   "outputs": [],
   "source": [
    "# 1월 지출부터 6월 지출까지 리스트로 만들기\n",
    "spending = [25, 36, 8, 53, 24, 56]"
   ]
  },
  {
   "cell_type": "code",
   "execution_count": 2,
   "id": "b855d1b6-7ab6-472e-bf45-7feb53bb778a",
   "metadata": {},
   "outputs": [
    {
     "data": {
      "text/plain": [
       "6"
      ]
     },
     "execution_count": 2,
     "metadata": {},
     "output_type": "execute_result"
    }
   ],
   "source": [
    "len(spending)"
   ]
  },
  {
   "cell_type": "markdown",
   "id": "a0ef335f-e43e-4999-8b11-410803e260ae",
   "metadata": {},
   "source": [
    "### 리스트에 데이터 추가하기\n",
    "\n",
    "> 리스트이름.append(데이터)  <br>\n",
    "  리스트 마지막에 추가됨\n",
    "```\n",
    "food = ['피자','치킨','떡볶이','스테이크','파스타']\n",
    "```"
   ]
  },
  {
   "cell_type": "code",
   "execution_count": 3,
   "id": "f7e57fea-0318-4532-9127-1b7798bb469a",
   "metadata": {},
   "outputs": [],
   "source": [
    "food = ['피자','치킨','떡볶이','스테이크','파스타']"
   ]
  },
  {
   "cell_type": "code",
   "execution_count": 4,
   "id": "55f9170f-7c17-492d-a46c-eb6314387a7b",
   "metadata": {},
   "outputs": [
    {
     "data": {
      "text/plain": [
       "5"
      ]
     },
     "execution_count": 4,
     "metadata": {},
     "output_type": "execute_result"
    }
   ],
   "source": [
    "len(food)"
   ]
  },
  {
   "cell_type": "code",
   "execution_count": 5,
   "id": "440f3139-e0c8-45c0-bcdd-5c1eeb9a03b8",
   "metadata": {},
   "outputs": [
    {
     "name": "stdout",
     "output_type": "stream",
     "text": [
      "['피자', '치킨', '떡볶이', '스테이크', '파스타', '햄버거']\n"
     ]
    }
   ],
   "source": [
    "# 햄버거 추가\n",
    "food.append('햄버거')\n",
    "print(food)"
   ]
  },
  {
   "cell_type": "code",
   "execution_count": 6,
   "id": "42d01fc0-7d86-477e-bd20-93409b162b8f",
   "metadata": {},
   "outputs": [
    {
     "name": "stdout",
     "output_type": "stream",
     "text": [
      "['피자', '치킨', '떡볶이', '스테이크', '파스타', '햄버거', '돈가스']\n"
     ]
    }
   ],
   "source": [
    "# 돈가스 추가\n",
    "food.append('돈가스')\n",
    "print(food)"
   ]
  },
  {
   "cell_type": "markdown",
   "id": "a66384f0-50b1-4907-beb1-618292f27259",
   "metadata": {},
   "source": [
    "### 빈 리스트 만들고 데이터 추가하기\n",
    "> 리스트 = []<br> 빈 리스트"
   ]
  },
  {
   "cell_type": "code",
   "execution_count": 9,
   "id": "bf0ea897-0efa-4f66-bc09-b0486589f7dd",
   "metadata": {},
   "outputs": [
    {
     "name": "stdout",
     "output_type": "stream",
     "text": [
      "[]\n",
      "['파이썬 공부']\n"
     ]
    }
   ],
   "source": [
    "# 해야할 일을 저장하는 빈 리스트 to_do 만들어 봅시다\n",
    "to_do = []\n",
    "\n",
    "# 파이썬 공부를 추가해 봅시다.\n",
    "print(to_do)\n",
    "to_do.append('파이썬 공부')\n",
    "print(to_do)"
   ]
  },
  {
   "cell_type": "code",
   "execution_count": 10,
   "id": "8a1976a6-188f-452d-ad70-39c8491b2504",
   "metadata": {},
   "outputs": [
    {
     "name": "stdin",
     "output_type": "stream",
     "text": [
      "해야할 일을 입력하세요?  책 읽기\n"
     ]
    },
    {
     "name": "stdout",
     "output_type": "stream",
     "text": [
      "['파이썬 공부', '책 읽기']\n"
     ]
    }
   ],
   "source": [
    "# 해야할 일을 입력받아 to_do 저장하기\n",
    "task = input('해야할 일을 입력하세요? ')\n",
    "to_do.append(task)\n",
    "print(to_do)"
   ]
  },
  {
   "cell_type": "code",
   "execution_count": 11,
   "id": "ac9eb51e-49f5-4351-8af8-6c767498d083",
   "metadata": {},
   "outputs": [
    {
     "name": "stdin",
     "output_type": "stream",
     "text": [
      "해야할 일을 입력하세요?  빅데이터 수업\n"
     ]
    },
    {
     "name": "stdout",
     "output_type": "stream",
     "text": [
      "['파이썬 공부', '책 읽기', '빅데이터 수업']\n"
     ]
    }
   ],
   "source": [
    "to_do.append(input('해야할 일을 입력하세요? '))\n",
    "print(to_do)"
   ]
  },
  {
   "cell_type": "markdown",
   "id": "d35fbfe4-b834-4ca0-a0c6-096bac1b5d0d",
   "metadata": {},
   "source": [
    "### 리스트 슬라이싱\n",
    "> 리스트[시작숫자 : 종료숫자]\n",
    "\n",
    "<img src = 'https://github.com/teacher-jiejie/allinone_AI/blob/images/9_%EB%A6%AC%EC%8A%A4%ED%8A%B8%EC%8A%AC%EB%9D%BC%EC%9D%B4%EC%8B%B1.png?raw=true' width=500>\n",
    "\n",
    "종료숫자-1 까지 잘라내는 것\n",
    "\n",
    "```\n",
    "abc[2:5]       # abc[2]~abc[4]까지 슬라이싱\n",
    "abc[4:9]       # abc[4]~abc[8]까지 슬라이싱\n",
    "```\n",
    "```\n",
    "food = ['피자','치킨','떡볶이','스테이크','파스타']\n",
    "```"
   ]
  },
  {
   "cell_type": "code",
   "execution_count": 12,
   "id": "4f99802c-5caf-480b-926e-535222d122a3",
   "metadata": {},
   "outputs": [],
   "source": [
    "food = ['피자','치킨','떡볶이','스테이크','파스타']"
   ]
  },
  {
   "cell_type": "code",
   "execution_count": 13,
   "id": "2533c773-4ec7-4bac-b110-788f0dbc7dc9",
   "metadata": {},
   "outputs": [
    {
     "data": {
      "text/plain": [
       "['떡볶이', '스테이크']"
      ]
     },
     "execution_count": 13,
     "metadata": {},
     "output_type": "execute_result"
    }
   ],
   "source": [
    "# 떡볶이, 스테이크만 골라내기\n",
    "food[2:4]"
   ]
  },
  {
   "cell_type": "code",
   "execution_count": 14,
   "id": "1f1e071b-69c2-41a5-ac5e-752a1c6c6610",
   "metadata": {},
   "outputs": [
    {
     "data": {
      "text/plain": [
       "['피자', '치킨', '떡볶이', '스테이크']"
      ]
     },
     "execution_count": 14,
     "metadata": {},
     "output_type": "execute_result"
    }
   ],
   "source": [
    "# 처음부터 스테이크까지 골라내기\n",
    "# 0은 생략가능합니다.\n",
    "food[:4]"
   ]
  },
  {
   "cell_type": "code",
   "execution_count": 15,
   "id": "efda021c-c3de-4077-ba7e-efaef3b5b6b2",
   "metadata": {},
   "outputs": [
    {
     "data": {
      "text/plain": [
       "['스테이크', '파스타']"
      ]
     },
     "execution_count": 15,
     "metadata": {},
     "output_type": "execute_result"
    }
   ],
   "source": [
    "# 뒷에서 슬라이싱 2개\n",
    "food[-2:]"
   ]
  }
 ],
 "metadata": {
  "kernelspec": {
   "display_name": "Python 3 (ipykernel)",
   "language": "python",
   "name": "python3"
  },
  "language_info": {
   "codemirror_mode": {
    "name": "ipython",
    "version": 3
   },
   "file_extension": ".py",
   "mimetype": "text/x-python",
   "name": "python",
   "nbconvert_exporter": "python",
   "pygments_lexer": "ipython3",
   "version": "3.9.7"
  }
 },
 "nbformat": 4,
 "nbformat_minor": 5
}
