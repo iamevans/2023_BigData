{
 "cells": [
  {
   "cell_type": "markdown",
   "id": "8d61c956-5144-4041-93ef-a762a03361a6",
   "metadata": {},
   "source": [
    "31000_evans_0331_2"
   ]
  },
  {
   "cell_type": "code",
   "execution_count": 1,
   "id": "19c39457-e58e-4c66-8682-41afb22463a4",
   "metadata": {},
   "outputs": [
    {
     "name": "stdout",
     "output_type": "stream",
     "text": [
      "구구단을 외자 구구단을 외자\n"
     ]
    },
    {
     "name": "stdin",
     "output_type": "stream",
     "text": [
      "5 x 9 = 45\n",
      "7 x 8 = 45\n"
     ]
    },
    {
     "name": "stdout",
     "output_type": "stream",
     "text": [
      "땡!!! 정답은  56\n"
     ]
    },
    {
     "name": "stdin",
     "output_type": "stream",
     "text": [
      "5 x 7 = 45\n"
     ]
    },
    {
     "name": "stdout",
     "output_type": "stream",
     "text": [
      "땡!!! 정답은  35\n"
     ]
    },
    {
     "name": "stdin",
     "output_type": "stream",
     "text": [
      "3 x 9 = 45\n"
     ]
    },
    {
     "name": "stdout",
     "output_type": "stream",
     "text": [
      "땡!!! 정답은  27\n"
     ]
    },
    {
     "name": "stdin",
     "output_type": "stream",
     "text": [
      "5 x 8 = 45\n"
     ]
    },
    {
     "name": "stdout",
     "output_type": "stream",
     "text": [
      "땡!!! 정답은  40\n"
     ]
    }
   ],
   "source": [
    "# 구구단 게임에 입력칸을 만들어 봅시다. input\n",
    "import random\n",
    "print('구구단을 외자 구구단을 외자')\n",
    "for i in range(5) :\n",
    "    num1 = random.randint(2,9)\n",
    "    num2 = random.randint(1,9)\n",
    "    question = str(num1)+' x '+str(num2)+' ='\n",
    "    # 입력된 답을 저장하는 변수 만들어 봅시다\n",
    "    answer = int(input(question))\n",
    "    \n",
    "    #정답확인을 만들어 봅시다.\n",
    "    if answer != num1*num2 :\n",
    "        print('땡!!! 정답은 ', num1*num2)"
   ]
  },
  {
   "cell_type": "markdown",
   "id": "103611b9-44bf-4cfb-879d-3eee5fb16f13",
   "metadata": {},
   "source": [
    "1부터 30까지 숫자의 홀수 짝수 판별하기"
   ]
  },
  {
   "cell_type": "code",
   "execution_count": 2,
   "id": "2f6f263e-c912-466c-aeb6-76e408d72ccd",
   "metadata": {},
   "outputs": [
    {
     "name": "stdout",
     "output_type": "stream",
     "text": [
      "1부터 30까지 숫자의 홀수 짝수 판별하기\n",
      "1 홀수\n",
      "2 짝수\n",
      "3 홀수\n",
      "4 짝수\n",
      "5 홀수\n",
      "6 짝수\n",
      "7 홀수\n",
      "8 짝수\n",
      "9 홀수\n",
      "10 짝수\n",
      "11 홀수\n",
      "12 짝수\n",
      "13 홀수\n",
      "14 짝수\n",
      "15 홀수\n",
      "16 짝수\n",
      "17 홀수\n",
      "18 짝수\n",
      "19 홀수\n",
      "20 짝수\n",
      "21 홀수\n",
      "22 짝수\n",
      "23 홀수\n",
      "24 짝수\n",
      "25 홀수\n",
      "26 짝수\n",
      "27 홀수\n",
      "28 짝수\n",
      "29 홀수\n",
      "30 짝수\n"
     ]
    }
   ],
   "source": [
    "print('1부터 30까지 숫자의 홀수 짝수 판별하기')\n",
    "for i in range(1,31) : # 30번 반복하기\n",
    "    if i % 2 == 0 # 만약 i를 나눈 나머지가 1이면\n",
    "        print(i, '홀수')\n",
    "    else : # 그렇지 않으면\n",
    "        print(i, '짝수')"
   ]
  },
  {
   "cell_type": "code",
   "execution_count": null,
   "id": "0d95ec9d-02d2-44ad-a88c-1e60d2e7a99d",
   "metadata": {},
   "outputs": [],
   "source": []
  }
 ],
 "metadata": {
  "kernelspec": {
   "display_name": "Python 3 (ipykernel)",
   "language": "python",
   "name": "python3"
  },
  "language_info": {
   "codemirror_mode": {
    "name": "ipython",
    "version": 3
   },
   "file_extension": ".py",
   "mimetype": "text/x-python",
   "name": "python",
   "nbconvert_exporter": "python",
   "pygments_lexer": "ipython3",
   "version": "3.9.7"
  }
 },
 "nbformat": 4,
 "nbformat_minor": 5
}
