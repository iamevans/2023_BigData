{
 "cells": [
  {
   "cell_type": "markdown",
   "id": "6e86801c-d1d4-4561-9173-cdd4b88105f5",
   "metadata": {},
   "source": [
    "31000_evans_0417_1"
   ]
  },
  {
   "cell_type": "code",
   "execution_count": 4,
   "id": "f2f87aa6-67d1-4191-a500-0ebddee5f79e",
   "metadata": {},
   "outputs": [
    {
     "name": "stdin",
     "output_type": "stream",
     "text": [
      "정수를 입력하세요:  -1\n"
     ]
    },
    {
     "name": "stdout",
     "output_type": "stream",
     "text": [
      "-1 은 음수 입니다.\n"
     ]
    }
   ],
   "source": [
    "#문제1 음수 양수 0이 기준\n",
    "#조건 입력함수, 출력함수, 분기문 if elif else\n",
    "\n",
    "n = int(input('정수를 입력하세요: '))\n",
    "\n",
    "if n > 0 :\n",
    "    print(n,'은 양수 입니다.')\n",
    "elif n < 0 :\n",
    "    print(n,'은 음수 입니다.')\n",
    "else :\n",
    "    print(n,'입니다.')\n"
   ]
  },
  {
   "cell_type": "code",
   "execution_count": 7,
   "id": "cf3d234b-7ae9-4380-a180-942f8b48769a",
   "metadata": {},
   "outputs": [
    {
     "name": "stdin",
     "output_type": "stream",
     "text": [
      "정수를 입력하세요:  3\n"
     ]
    },
    {
     "name": "stdout",
     "output_type": "stream",
     "text": [
      "C\n"
     ]
    }
   ],
   "source": [
    "# 3개로 분기하는 조건문\n",
    "# 1 -> A , 2-> B, 3-> C를 출력하는 프로그램 작성\n",
    "\n",
    "n = int(input('정수를 입력하세요: '))\n",
    "\n",
    "if n == 1 :\n",
    "    print('A')\n",
    "elif n == 2 :\n",
    "    print('B')\n",
    "else :\n",
    "    print('C')"
   ]
  },
  {
   "cell_type": "code",
   "execution_count": 8,
   "id": "977be241-684a-4543-b0d9-eae34e40ec20",
   "metadata": {},
   "outputs": [
    {
     "name": "stdout",
     "output_type": "stream",
     "text": [
      "1부터 n까지 정수의 합을 구합니다.\n"
     ]
    },
    {
     "name": "stdin",
     "output_type": "stream",
     "text": [
      "n값을 입력하세요.:  100\n"
     ]
    },
    {
     "name": "stdout",
     "output_type": "stream",
     "text": [
      "1부터 100까지 정수의 합은 5050입니다.\n"
     ]
    }
   ],
   "source": [
    "#문제3 1부터 n까지 정수의 합을 구하기 (for)\n",
    "\n",
    "print('1부터 n까지 정수의 합을 구합니다.')\n",
    "n = int(input('n값을 입력하세요.: '))\n",
    "\n",
    "sum = 0 #누적값을 저장하기 위해\n",
    "for i in range(1, n+1):\n",
    "    sum += i\n",
    "    \n",
    "#출력 표현의 f''\n",
    "print(f'1부터 {n}까지 정수의 합은 {sum}입니다.')\n"
   ]
  },
  {
   "cell_type": "code",
   "execution_count": null,
   "id": "672db922-3ec3-44a7-819a-97927f7fe60d",
   "metadata": {},
   "outputs": [],
   "source": []
  }
 ],
 "metadata": {
  "kernelspec": {
   "display_name": "Python 3 (ipykernel)",
   "language": "python",
   "name": "python3"
  },
  "language_info": {
   "codemirror_mode": {
    "name": "ipython",
    "version": 3
   },
   "file_extension": ".py",
   "mimetype": "text/x-python",
   "name": "python",
   "nbconvert_exporter": "python",
   "pygments_lexer": "ipython3",
   "version": "3.9.7"
  }
 },
 "nbformat": 4,
 "nbformat_minor": 5
}
