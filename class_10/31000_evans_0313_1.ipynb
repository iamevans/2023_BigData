{
 "cells": [
  {
   "cell_type": "markdown",
   "id": "9c24d4bf-0bb7-42e1-bb51-d189956dd34a",
   "metadata": {
    "tags": []
   },
   "source": [
    "31000_evans_0313_1"
   ]
  },
  {
   "cell_type": "markdown",
   "id": "de348813-782c-40f5-a177-c3caa2f9fcc5",
   "metadata": {},
   "source": [
    "# header1\n",
    "## h2\n",
    "### h3\n",
    "#### h4"
   ]
  },
  {
   "cell_type": "markdown",
   "id": "2f0b7c0c-c192-496f-a92d-94fe0cd8c382",
   "metadata": {},
   "source": [
    "1. 날짜\n",
    "- 학번\n",
    "> 이름"
   ]
  },
  {
   "cell_type": "code",
   "execution_count": 4,
   "id": "508a965d-d8d3-4f01-b383-33d4eb955631",
   "metadata": {},
   "outputs": [
    {
     "name": "stdout",
     "output_type": "stream",
     "text": [
      "313\n"
     ]
    }
   ],
   "source": [
    "# 숫자 출력\n",
    "# 출력 명령어 print\n",
    "print(313)"
   ]
  },
  {
   "cell_type": "code",
   "execution_count": 5,
   "id": "f4cfbdcb-da13-421e-a1e2-82e510ead329",
   "metadata": {},
   "outputs": [
    {
     "name": "stdout",
     "output_type": "stream",
     "text": [
      "3월 13일\n"
     ]
    }
   ],
   "source": [
    "#문자 출력\n",
    "# print(' '), print(\" \")\n",
    "print('3월 13일')"
   ]
  },
  {
   "cell_type": "code",
   "execution_count": 6,
   "id": "524ecd6a-1c8c-46da-aa6b-c8b78dcaffe7",
   "metadata": {},
   "outputs": [
    {
     "name": "stdout",
     "output_type": "stream",
     "text": [
      "23\n",
      "-3\n",
      "130\n",
      "0.7692307692307693\n"
     ]
    }
   ],
   "source": [
    "# 연산 사칙 연산\n",
    "# +, - , *, /\n",
    "a = 10\n",
    "b = 13\n",
    "print(a + b)\n",
    "print(a - b)\n",
    "print(a * b)\n",
    "print(a / b)"
   ]
  },
  {
   "cell_type": "code",
   "execution_count": 7,
   "id": "321e47df-7483-46e7-b108-fb1f1213e0bc",
   "metadata": {},
   "outputs": [
    {
     "name": "stdout",
     "output_type": "stream",
     "text": [
      "25\n",
      "2\n",
      "1\n"
     ]
    }
   ],
   "source": [
    "# 제곱 **\n",
    "# 몫 //\n",
    "# 나머지 %\n",
    "\n",
    "c = 5\n",
    "d = 2\n",
    "\n",
    "print(c**d)\n",
    "print(c//d)\n",
    "print(c%d)"
   ]
  },
  {
   "cell_type": "code",
   "execution_count": 11,
   "id": "6c2b5e2d-8419-440e-8f26-219d033deeb7",
   "metadata": {},
   "outputs": [
    {
     "name": "stdout",
     "output_type": "stream",
     "text": [
      "파이썬 Hello!!!!\n",
      "파이썬 Hello!!!!\n"
     ]
    }
   ],
   "source": [
    "# 연결하기 , + 콤마는 자동으로 띄어쓰기가 된다.\n",
    "e = '파이썬'\n",
    "f = 'Hello!!!!'\n",
    "print(e,f)\n",
    "print(e+' '+f)"
   ]
  },
  {
   "cell_type": "markdown",
   "id": "6816468b-f1af-432f-8001-d7fa49436ff1",
   "metadata": {},
   "source": [
    "### 입력명령어\n",
    "#### - 입력명령어 형식\n",
    "> input('입력안내문')"
   ]
  },
  {
   "cell_type": "code",
   "execution_count": 12,
   "id": "2dfe30c7-aa34-4bc4-a595-426ffa599e72",
   "metadata": {},
   "outputs": [
    {
     "name": "stdin",
     "output_type": "stream",
     "text": [
      " aaaaa\n"
     ]
    },
    {
     "data": {
      "text/plain": [
       "'aaaaa'"
      ]
     },
     "execution_count": 12,
     "metadata": {},
     "output_type": "execute_result"
    }
   ],
   "source": [
    "# 입력명령어 input\n",
    "input()"
   ]
  },
  {
   "cell_type": "code",
   "execution_count": 16,
   "id": "ee5206dc-1a48-4e6d-a8d2-3141e71f15ab",
   "metadata": {},
   "outputs": [
    {
     "name": "stdin",
     "output_type": "stream",
     "text": [
      "너 생일이 언제니? 12월25일\n"
     ]
    },
    {
     "name": "stdout",
     "output_type": "stream",
     "text": [
      "어 내 생일은 12월25일야\n"
     ]
    }
   ],
   "source": [
    "g = input('너 생일이 언제니?')\n",
    "print('어 내 생일은 '+ g +'야')"
   ]
  },
  {
   "cell_type": "code",
   "execution_count": 14,
   "id": "28850bd7-12b7-4687-9e12-b9561c81ed87",
   "metadata": {},
   "outputs": [
    {
     "name": "stdout",
     "output_type": "stream",
     "text": [
      "12월25일\n"
     ]
    }
   ],
   "source": [
    "print(g)"
   ]
  },
  {
   "cell_type": "code",
   "execution_count": null,
   "id": "b1b526b2-d562-4992-880c-90f0d666262a",
   "metadata": {},
   "outputs": [],
   "source": []
  }
 ],
 "metadata": {
  "kernelspec": {
   "display_name": "Python 3 (ipykernel)",
   "language": "python",
   "name": "python3"
  },
  "language_info": {
   "codemirror_mode": {
    "name": "ipython",
    "version": 3
   },
   "file_extension": ".py",
   "mimetype": "text/x-python",
   "name": "python",
   "nbconvert_exporter": "python",
   "pygments_lexer": "ipython3",
   "version": "3.9.7"
  }
 },
 "nbformat": 4,
 "nbformat_minor": 5
}
