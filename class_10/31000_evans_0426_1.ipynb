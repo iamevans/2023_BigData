{
 "cells": [
  {
   "cell_type": "markdown",
   "id": "d6eb99f9-5d22-49c5-8169-9de1233fc970",
   "metadata": {},
   "source": [
    "31000_evans_0426_1"
   ]
  },
  {
   "cell_type": "code",
   "execution_count": 1,
   "id": "d2a541c7-bc1b-45e6-a1c5-b539178af127",
   "metadata": {},
   "outputs": [],
   "source": [
    "# 딕셔너리의 키 정렬하기\n",
    "\n",
    "mart = {'과자':1500, '아이스크림':1700, '휴지':4800, '고기':10500, '우유':2600}"
   ]
  },
  {
   "cell_type": "code",
   "execution_count": 2,
   "id": "279d7ab6-3ec6-4764-a49d-f5b5d5572402",
   "metadata": {},
   "outputs": [
    {
     "data": {
      "text/plain": [
       "['고기', '과자', '아이스크림', '우유', '휴지']"
      ]
     },
     "execution_count": 2,
     "metadata": {},
     "output_type": "execute_result"
    }
   ],
   "source": [
    "# 정렬 sorted\n",
    "# keys()\n",
    "sorted(mart.keys())"
   ]
  },
  {
   "cell_type": "code",
   "execution_count": 3,
   "id": "67e01fb8-eb0d-43c0-b1c1-65e4cbc8763d",
   "metadata": {},
   "outputs": [
    {
     "data": {
      "text/plain": [
       "['휴지', '우유', '아이스크림', '과자', '고기']"
      ]
     },
     "execution_count": 3,
     "metadata": {},
     "output_type": "execute_result"
    }
   ],
   "source": [
    "# 오름차순 작->큰 \n",
    "# 내림차순 reverse=True 큰->작\n",
    "sorted(mart.keys(), reverse=True)"
   ]
  },
  {
   "cell_type": "code",
   "execution_count": 6,
   "id": "23f86ab2-643b-4f5d-a78d-cd32b651e16d",
   "metadata": {},
   "outputs": [
    {
     "data": {
      "text/plain": [
       "[1500, 1700, 2600, 4800, 10500]"
      ]
     },
     "execution_count": 6,
     "metadata": {},
     "output_type": "execute_result"
    }
   ],
   "source": [
    "sorted(mart.values())"
   ]
  },
  {
   "cell_type": "code",
   "execution_count": 7,
   "id": "67c7aca6-b1d4-44db-8acf-a5c0d3e433b6",
   "metadata": {},
   "outputs": [
    {
     "data": {
      "text/plain": [
       "[10500, 4800, 2600, 1700, 1500]"
      ]
     },
     "execution_count": 7,
     "metadata": {},
     "output_type": "execute_result"
    }
   ],
   "source": [
    "sorted(mart.values(), reverse=True)"
   ]
  },
  {
   "cell_type": "code",
   "execution_count": 8,
   "id": "60260d4d-e076-40fe-9fa2-b20507ad2231",
   "metadata": {},
   "outputs": [
    {
     "data": {
      "text/plain": [
       "[('고기', 10500), ('과자', 1500), ('아이스크림', 1700), ('우유', 2600), ('휴지', 4800)]"
      ]
     },
     "execution_count": 8,
     "metadata": {},
     "output_type": "execute_result"
    }
   ],
   "source": [
    "sorted(mart.items())"
   ]
  },
  {
   "cell_type": "code",
   "execution_count": 9,
   "id": "0b11bf5e-431a-43cf-8ea0-1087f72fe3dd",
   "metadata": {},
   "outputs": [
    {
     "data": {
      "text/plain": [
       "[('휴지', 4800), ('우유', 2600), ('아이스크림', 1700), ('과자', 1500), ('고기', 10500)]"
      ]
     },
     "execution_count": 9,
     "metadata": {},
     "output_type": "execute_result"
    }
   ],
   "source": [
    "sorted(mart.items(), reverse = True)"
   ]
  },
  {
   "cell_type": "code",
   "execution_count": 10,
   "id": "adb282bd-ce06-4c69-8a46-25f5ecf45d65",
   "metadata": {},
   "outputs": [
    {
     "data": {
      "text/plain": [
       "[('과자', 1500), ('아이스크림', 1700), ('우유', 2600), ('휴지', 4800), ('고기', 10500)]"
      ]
     },
     "execution_count": 10,
     "metadata": {},
     "output_type": "execute_result"
    }
   ],
   "source": [
    "# 딕셔너리 키-값 정렬시 값을 기준으로 정렬하기\n",
    "\n",
    "import operator\n",
    "\n",
    "sorted(mart.items(), key = operator.itemgetter(1))"
   ]
  },
  {
   "cell_type": "code",
   "execution_count": 11,
   "id": "155be4c4-ec97-459a-9353-5bad41775f0d",
   "metadata": {},
   "outputs": [
    {
     "data": {
      "text/plain": [
       "[('고기', 10500), ('휴지', 4800), ('우유', 2600), ('아이스크림', 1700), ('과자', 1500)]"
      ]
     },
     "execution_count": 11,
     "metadata": {},
     "output_type": "execute_result"
    }
   ],
   "source": [
    "import operator\n",
    "\n",
    "sorted(mart.items(), key = operator.itemgetter(1), reverse=True)"
   ]
  },
  {
   "cell_type": "code",
   "execution_count": 12,
   "id": "2267bb76-5dc4-4a04-aaa7-83acfcb0218d",
   "metadata": {},
   "outputs": [
    {
     "data": {
      "text/plain": [
       "('고기', 10500)"
      ]
     },
     "execution_count": 12,
     "metadata": {},
     "output_type": "execute_result"
    }
   ],
   "source": [
    "# 가장 비싼 상품과 가격을 출력하시오 \n",
    "import operator\n",
    "\n",
    "sorted(mart.items(), key = operator.itemgetter(1), reverse=True)[0]"
   ]
  },
  {
   "cell_type": "markdown",
   "id": "6ae8ff8d-d5d7-41d8-9773-245d03f5abb3",
   "metadata": {},
   "source": [
    "# 4. 딕셔너리와 제어구조\n",
    "\n",
    "```\n",
    "# 다섯 명의 중간고사 점수를 저장한 딕셔너리\n",
    "midterm = {'도윤': 43, '하윤': 82, '시우': 76, '지유': 61, '주원': 94}\n",
    "```"
   ]
  },
  {
   "cell_type": "code",
   "execution_count": 15,
   "id": "040fcc84-da5f-49f1-8ba0-20fb460c0d71",
   "metadata": {},
   "outputs": [
    {
     "name": "stdin",
     "output_type": "stream",
     "text": [
      "어떤 학생의 점수 궁금 한가요?  도겸\n"
     ]
    },
    {
     "name": "stdout",
     "output_type": "stream",
     "text": [
      "해당 학생이 없습니다.\n"
     ]
    }
   ],
   "source": [
    "# 학생 이름을 입력받나, 딕셔너리에 학생 이름이 있으면 점수를 출력\n",
    "# 없다면 '해당 학생이 없습니다.' 출력하기 \n",
    "\n",
    "midterm = {'도윤': 43, '하윤': 82, '시우': 76, '지유': 61, '주원': 94}\n",
    "\n",
    "s = input('어떤 학생의 점수 궁금 한가요? ')\n",
    "\n",
    "if s in midterm.keys() :\n",
    "    print(midterm[s],'점 입니다.')\n",
    "else :\n",
    "    print(f'해당 학생이 없습니다.')"
   ]
  },
  {
   "cell_type": "code",
   "execution_count": 17,
   "id": "6f8a9184-64f3-419e-b4df-693169200d0e",
   "metadata": {},
   "outputs": [
    {
     "name": "stdout",
     "output_type": "stream",
     "text": [
      "('도윤', 43)\n",
      "('하윤', 82)\n",
      "('시우', 76)\n",
      "('지유', 61)\n",
      "('주원', 94)\n"
     ]
    }
   ],
   "source": [
    "# 딕셔너리에 저장된 모든 학생의 이름 출력해 봅시다.\n",
    "for i in midterm.items() :\n",
    "    print(i)"
   ]
  },
  {
   "cell_type": "code",
   "execution_count": null,
   "id": "84dc0a36-5a99-4c8d-b621-32777a5092bf",
   "metadata": {},
   "outputs": [],
   "source": [
    "# 도윤의 점수는 43 점입니다.\n",
    "for i,j in midterm.items() :\n",
    "    print(f'{i}의 점수는 {j}입니다.')"
   ]
  }
 ],
 "metadata": {
  "kernelspec": {
   "display_name": "Python 3 (ipykernel)",
   "language": "python",
   "name": "python3"
  },
  "language_info": {
   "codemirror_mode": {
    "name": "ipython",
    "version": 3
   },
   "file_extension": ".py",
   "mimetype": "text/x-python",
   "name": "python",
   "nbconvert_exporter": "python",
   "pygments_lexer": "ipython3",
   "version": "3.9.7"
  }
 },
 "nbformat": 4,
 "nbformat_minor": 5
}
