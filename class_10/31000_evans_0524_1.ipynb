{
 "cells": [
  {
   "cell_type": "markdown",
   "id": "ded11f1f-1ec2-4dae-8b97-669e6539d236",
   "metadata": {},
   "source": [
    "31000_evans_0524_1"
   ]
  },
  {
   "cell_type": "markdown",
   "id": "e6a2eb63-bc00-468b-9c72-4a38c899001a",
   "metadata": {},
   "source": [
    "# 위치인수\n",
    "\n",
    "- 기본적인 인수 전달 방법\n",
    "- 함수에 정의된 매개변수와 순서에 맞게 짝을 맞추어 인수를 전달합니다."
   ]
  },
  {
   "cell_type": "code",
   "execution_count": 1,
   "id": "c9c2aacc-4ae1-42b8-b36e-099b121cfb86",
   "metadata": {},
   "outputs": [
    {
     "name": "stdout",
     "output_type": "stream",
     "text": [
      "안녕!!!! 길동아 오랜만이야\n"
     ]
    }
   ],
   "source": [
    "def greet(name,msg):\n",
    "    print(f'안녕!!!! {name} {msg}')\n",
    "    \n",
    "greet('길동아','오랜만이야')"
   ]
  },
  {
   "cell_type": "markdown",
   "id": "66753939-96c3-4cbd-9fe8-d7a2b4df419a",
   "metadata": {},
   "source": [
    "# 디폴트 인수 default value 기본값\n",
    "\n",
    "- 함수를 정의할 때 매개변수에 디폴트값을 지정하면 디폴트값이 지정된 인수를 생략할 수 있다."
   ]
  },
  {
   "cell_type": "code",
   "execution_count": 6,
   "id": "b503d93b-0e46-44fd-9e51-0f4ced630ead",
   "metadata": {},
   "outputs": [
    {
     "name": "stdout",
     "output_type": "stream",
     "text": [
      "안녕!!!! 꺽정아 오랜만이야 \n",
      "안녕!!!! 길동아 반가워!!!! \n"
     ]
    }
   ],
   "source": [
    "def greet(name='꺽정아',msg='오랜만이야' ):\n",
    "    print(f'안녕!!!! {name} {msg} ')\n",
    "    \n",
    "greet()\n",
    "greet('길동아', '반가워!!!!')\n",
    "# 디폴트 인수는 기본 위치 인수를 다 적은다음 다음에 적어야 한다."
   ]
  },
  {
   "cell_type": "code",
   "execution_count": null,
   "id": "d8babf95-c63d-4890-b5df-01f4da596a3a",
   "metadata": {},
   "outputs": [],
   "source": []
  }
 ],
 "metadata": {
  "kernelspec": {
   "display_name": "Python 3 (ipykernel)",
   "language": "python",
   "name": "python3"
  },
  "language_info": {
   "codemirror_mode": {
    "name": "ipython",
    "version": 3
   },
   "file_extension": ".py",
   "mimetype": "text/x-python",
   "name": "python",
   "nbconvert_exporter": "python",
   "pygments_lexer": "ipython3",
   "version": "3.9.7"
  }
 },
 "nbformat": 4,
 "nbformat_minor": 5
}
