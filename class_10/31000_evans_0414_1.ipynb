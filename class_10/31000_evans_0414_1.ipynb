{
 "cells": [
  {
   "cell_type": "markdown",
   "id": "f5ba2974-cd68-480d-be73-ebca4cef8bf5",
   "metadata": {},
   "source": [
    "31000_evans_0414_1"
   ]
  },
  {
   "cell_type": "markdown",
   "id": "a082f4d0-4930-433e-a3cf-2655a4a2f7d6",
   "metadata": {},
   "source": [
    "# 4. 이차원 리스트\n",
    "\n",
    "<img src ='https://github.com/teacher-jiejie/allinone_AI/blob/images/14_%EC%9D%B4%EC%B0%A8%EC%9B%90%20%EB%A6%AC%EC%8A%A4%ED%8A%B8.png?raw=true' width = 700>\n"
   ]
  },
  {
   "cell_type": "code",
   "execution_count": 1,
   "id": "7219bc25-d032-497d-8d25-463b0293a0ff",
   "metadata": {},
   "outputs": [
    {
     "name": "stdout",
     "output_type": "stream",
     "text": [
      "[[1, 2, 3], [4, 5, 6], [7, 8, 9]]\n"
     ]
    }
   ],
   "source": [
    "abc = [[1,2,3], [4,5,6], [7,8,9]]\n",
    "print(abc)"
   ]
  },
  {
   "cell_type": "code",
   "execution_count": 3,
   "id": "303edea7-9367-4b51-aa9f-dcfc661de884",
   "metadata": {},
   "outputs": [
    {
     "name": "stdout",
     "output_type": "stream",
     "text": [
      "[1, 2, 3]\n",
      "[4, 5, 6]\n",
      "[7, 8, 9]\n"
     ]
    }
   ],
   "source": [
    "print(abc[0])\n",
    "print(abc[1])\n",
    "print(abc[2])"
   ]
  },
  {
   "cell_type": "markdown",
   "id": "9cf9db34-f933-4cdd-aa7b-2d1858d2cff8",
   "metadata": {},
   "source": [
    "## 이차원 리스트의 인덱스\n",
    "\n",
    "<img src = 'https://github.com/teacher-jiejie/allinone_AI/blob/images/15_%EC%9D%B4%EC%B0%A8%EC%9B%90%20%EB%A6%AC%EC%8A%A4%ED%8A%B8%20%EC%9D%B8%EB%8D%B1%EC%8A%A4.png?raw=true' width = 700>"
   ]
  },
  {
   "cell_type": "code",
   "execution_count": 4,
   "id": "be15ad64-dbbe-4f51-8e05-f58c4ba34e47",
   "metadata": {},
   "outputs": [],
   "source": [
    "abc = [[1,2,3], [4,5,6], [7,8,9]]"
   ]
  },
  {
   "cell_type": "code",
   "execution_count": 7,
   "id": "32c50c31-20e0-442e-bd4c-602f69cdb3c0",
   "metadata": {},
   "outputs": [
    {
     "name": "stdout",
     "output_type": "stream",
     "text": [
      "1\n"
     ]
    }
   ],
   "source": [
    "# 1을 출력하기\n",
    "print(abc[0][0])"
   ]
  },
  {
   "cell_type": "code",
   "execution_count": 8,
   "id": "8a24b32f-ab03-47e7-a5ad-2f788c699c0b",
   "metadata": {},
   "outputs": [
    {
     "name": "stdout",
     "output_type": "stream",
     "text": [
      "6\n"
     ]
    }
   ],
   "source": [
    "# 6을 출력하기\n",
    "print(abc[1][2])"
   ]
  },
  {
   "cell_type": "code",
   "execution_count": 9,
   "id": "c9299441-c052-4003-b8c1-4814d1a44b87",
   "metadata": {},
   "outputs": [
    {
     "name": "stdout",
     "output_type": "stream",
     "text": [
      "8\n"
     ]
    }
   ],
   "source": [
    "# 8을 출력하기\n",
    "print(abc[2][1])"
   ]
  },
  {
   "cell_type": "code",
   "execution_count": 10,
   "id": "7ad8ec30-4329-48c8-9020-275046d63f46",
   "metadata": {},
   "outputs": [
    {
     "name": "stdout",
     "output_type": "stream",
     "text": [
      "[1, 2, 3]\n",
      "[4, 5, 6]\n",
      "[7, 8, 9]\n"
     ]
    }
   ],
   "source": [
    "# 반복문을 이용해서 출력하기\n",
    "abc = [[1,2,3], [4,5,6], [7,8,9]]\n",
    "\n",
    "for i in abc :\n",
    "    print(i)\n"
   ]
  },
  {
   "cell_type": "markdown",
   "id": "7daa65d7-4595-4801-a695-cf8afd816c18",
   "metadata": {},
   "source": [
    "> 이차원리스트 반복 원리\n",
    "\n",
    "<img src = 'https://github.com/teacher-jiejie/allinone_AI/blob/images/16_%EC%9D%B4%EC%B0%A8%EC%9B%90%20%EB%A6%AC%EC%8A%A4%ED%8A%B8%20%EB%B0%98%EB%B3%B5%EA%B5%AC%EC%A1%B0.png?raw=true' width=800>"
   ]
  },
  {
   "cell_type": "code",
   "execution_count": 11,
   "id": "ce6821b9-0147-4f43-b6f4-56d59307c7e4",
   "metadata": {},
   "outputs": [
    {
     "name": "stdout",
     "output_type": "stream",
     "text": [
      "1\n",
      "4\n",
      "7\n"
     ]
    }
   ],
   "source": [
    "# 모든 줄의 첫번째 데이터만 출력\n",
    "abc = [[1,2,3], [4,5,6], [7,8,9]]\n",
    "\n",
    "for i in abc :\n",
    "    print(i[0])"
   ]
  },
  {
   "cell_type": "markdown",
   "id": "0815c17d-4ff0-46f0-b85a-72c9ad12ac87",
   "metadata": {},
   "source": [
    "<img src= 'https://github.com/teacher-jiejie/allinone_AI/blob/images/17_%EC%98%AC%EB%A6%BC%ED%94%BD.png?raw=true' width=500>"
   ]
  },
  {
   "cell_type": "code",
   "execution_count": 12,
   "id": "68896eec-143b-4586-a308-bf3f3e782dfc",
   "metadata": {},
   "outputs": [],
   "source": [
    "data =[\n",
    "       [1,'미국',46,37,38,121],\n",
    "       [2,'영국',27,23,17,67],\n",
    "       [3,'중국',26,18,26,70],\n",
    "       [4,'러시아',19,18,19,56],\n",
    "       [5,'독일',17,10,15,42],\n",
    "       [6,'일본',12,8,21,41],\n",
    "       [7,'프랑스',10,18,14,42],\n",
    "       [8,'대한민국',9,3,9,21] \n",
    "       ]"
   ]
  },
  {
   "cell_type": "code",
   "execution_count": 13,
   "id": "7d8a4ae2-843e-49eb-ace6-220edcfa7de4",
   "metadata": {},
   "outputs": [
    {
     "name": "stdout",
     "output_type": "stream",
     "text": [
      "[[1, '미국', 46, 37, 38, 121], [2, '영국', 27, 23, 17, 67], [3, '중국', 26, 18, 26, 70], [4, '러시아', 19, 18, 19, 56], [5, '독일', 17, 10, 15, 42], [6, '일본', 12, 8, 21, 41], [7, '프랑스', 10, 18, 14, 42], [8, '대한민국', 9, 3, 9, 21]]\n"
     ]
    }
   ],
   "source": [
    "print(data)"
   ]
  },
  {
   "cell_type": "code",
   "execution_count": 14,
   "id": "88d7a4ba-bae1-4a8d-a487-b80b03b60372",
   "metadata": {},
   "outputs": [
    {
     "name": "stdout",
     "output_type": "stream",
     "text": [
      "미국\n",
      "영국\n",
      "중국\n",
      "러시아\n",
      "독일\n",
      "일본\n",
      "프랑스\n",
      "대한민국\n"
     ]
    }
   ],
   "source": [
    "#문제 국가 이름만 출력하세요\n",
    "for i in data :\n",
    "    print(i[1])"
   ]
  },
  {
   "cell_type": "code",
   "execution_count": 15,
   "id": "badca074-adf1-43e9-9cfa-13fe33677b47",
   "metadata": {},
   "outputs": [
    {
     "name": "stdout",
     "output_type": "stream",
     "text": [
      "프랑스 금메달- 10 은메달- 18\n"
     ]
    }
   ],
   "source": [
    "#문제 금메달보다 은메달 개수가 많은 나라를 출력 하시오\n",
    "for i in data :\n",
    "    if i[2] < i[3]:\n",
    "        print(i[1],'금메달-',i[2], '은메달-',i[3])"
   ]
  },
  {
   "cell_type": "code",
   "execution_count": 16,
   "id": "0dd8adb8-4f61-4182-9e79-06759df6bc7b",
   "metadata": {},
   "outputs": [
    {
     "name": "stdout",
     "output_type": "stream",
     "text": [
      "일본 금메달- 12 동메달- 21\n",
      "프랑스 금메달- 10 동메달- 14\n"
     ]
    }
   ],
   "source": [
    "#문제 금메달보다 동메달 개수가 많은 나라를 출력 하세요\n",
    "\n",
    "for i in data :\n",
    "    if i[2] < i[4]:\n",
    "        print(i[1],'금메달-',i[2], '동메달-',i[4])"
   ]
  },
  {
   "cell_type": "code",
   "execution_count": 17,
   "id": "2236978d-4545-40c8-be0c-7296f7ba3f69",
   "metadata": {},
   "outputs": [
    {
     "name": "stdout",
     "output_type": "stream",
     "text": [
      "모든 나라의 금메달 총합계는 166\n"
     ]
    }
   ],
   "source": [
    "# 모든 나라의 금메달 합을 구하시오\n",
    "gold = 0\n",
    "\n",
    "for i in data :\n",
    "    gold += i[2]\n",
    "\n",
    "print('모든 나라의 금메달 총합계는', gold)\n"
   ]
  },
  {
   "cell_type": "code",
   "execution_count": null,
   "id": "68b0ccfc-a32f-43a3-aabb-f7c186073e76",
   "metadata": {},
   "outputs": [],
   "source": []
  }
 ],
 "metadata": {
  "kernelspec": {
   "display_name": "Python 3 (ipykernel)",
   "language": "python",
   "name": "python3"
  },
  "language_info": {
   "codemirror_mode": {
    "name": "ipython",
    "version": 3
   },
   "file_extension": ".py",
   "mimetype": "text/x-python",
   "name": "python",
   "nbconvert_exporter": "python",
   "pygments_lexer": "ipython3",
   "version": "3.9.7"
  }
 },
 "nbformat": 4,
 "nbformat_minor": 5
}
