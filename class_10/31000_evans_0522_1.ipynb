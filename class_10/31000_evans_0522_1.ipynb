{
 "cells": [
  {
   "cell_type": "markdown",
   "id": "8b3ded5f-4af0-4d0d-b763-7a6dd8b5685d",
   "metadata": {},
   "source": [
    "31000_evans_0522_1"
   ]
  },
  {
   "cell_type": "markdown",
   "id": "84970537-8a75-4e36-a896-dd1b07dc3bff",
   "metadata": {},
   "source": [
    "# 함수 정의하고 호출하기\n",
    "\n",
    "* 자기소개 함수 정의하고 호출하기   "
   ]
  },
  {
   "cell_type": "code",
   "execution_count": 1,
   "id": "7c9e8966-7230-4252-9fb5-4e216dd2401e",
   "metadata": {},
   "outputs": [
    {
     "name": "stdout",
     "output_type": "stream",
     "text": [
      "안녕하세요!\n",
      "저의 이름은 evans입니다.\n"
     ]
    }
   ],
   "source": [
    "## 자기소개 ##\n",
    "print('안녕하세요!')\n",
    "print('저의 이름은 evans입니다.')"
   ]
  },
  {
   "cell_type": "code",
   "execution_count": 7,
   "id": "f78581c3-0bd8-47fb-bac1-060792978ce8",
   "metadata": {},
   "outputs": [
    {
     "name": "stdout",
     "output_type": "stream",
     "text": [
      "안녕하세요!\n",
      "저의 이름은 evans입니다.\n"
     ]
    }
   ],
   "source": [
    "# 함수 정의 def name():\n",
    "\n",
    "# 함수정의\n",
    "def introduce2():\n",
    "    print('안녕하세요!')\n",
    "    print('저의 이름은 evans입니다.')\n",
    "\n",
    "#함수 호출 함수이름을 작성\n",
    "introduce2()\n",
    "\n",
    "# 코드는 위에서부터 아래로 순차적으로 실행된다.\n",
    "# 함수를 호출하는 시점에서 함수가 정의되어 있지 않으면 에러 발생"
   ]
  },
  {
   "cell_type": "markdown",
   "id": "dc9f521b-d71a-49ce-af5e-20d3d5547bee",
   "metadata": {},
   "source": [
    "# 매개변수 전달하기"
   ]
  },
  {
   "cell_type": "code",
   "execution_count": 8,
   "id": "8ec38fb9-e904-4e18-8cb5-e9d70d04ea33",
   "metadata": {},
   "outputs": [
    {
     "name": "stdout",
     "output_type": "stream",
     "text": [
      "안녕하세요!\n",
      "저의 이름은 홍길동입니다.\n"
     ]
    }
   ],
   "source": [
    "## 자기소개 ##\n",
    "name = '홍길동'\n",
    "print('안녕하세요!')\n",
    "print(f'저의 이름은 {name}입니다.')"
   ]
  },
  {
   "cell_type": "code",
   "execution_count": 9,
   "id": "9bd746bd-5840-47c2-a3a3-5bf25e229c7a",
   "metadata": {},
   "outputs": [
    {
     "name": "stdout",
     "output_type": "stream",
     "text": [
      "안녕하세요!\n",
      "저의 이름은 홍길동입니다.\n",
      "안녕하세요!\n",
      "저의 이름은 임꺽정입니다.\n"
     ]
    }
   ],
   "source": [
    "# 매개변수 1개 전달\n",
    "def introduce(name):\n",
    "    print('안녕하세요!')\n",
    "    print(f'저의 이름은 {name}입니다.')\n",
    "    \n",
    "introduce('홍길동')\n",
    "introduce('임꺽정')"
   ]
  },
  {
   "cell_type": "code",
   "execution_count": 10,
   "id": "690d0b34-c9ed-49fd-a162-a3e910a4291b",
   "metadata": {},
   "outputs": [
    {
     "name": "stdout",
     "output_type": "stream",
     "text": [
      "안녕하세요!\n",
      "저의 이름은 홍길동입니다.\n",
      "나이는 19살입니다.\n",
      "안녕하세요!\n",
      "저의 이름은 임꺽정입니다.\n",
      "나이는 20살입니다.\n"
     ]
    }
   ],
   "source": [
    "# 문제 이름과 나이를 전달하는 함수를 정의하고 출력해 봅시다.\n",
    "# def 함수이름(매개1,매개2)\n",
    "\n",
    "def introduce(name,age):\n",
    "    print('안녕하세요!')\n",
    "    print(f'저의 이름은 {name}입니다.')\n",
    "    print(f'나이는 {age}살입니다.')\n",
    "    \n",
    "introduce('홍길동', 19)\n",
    "introduce('임꺽정', 20)"
   ]
  },
  {
   "cell_type": "code",
   "execution_count": 11,
   "id": "df44eb42-1d01-44f2-b8c9-862767fb2936",
   "metadata": {},
   "outputs": [
    {
     "name": "stdin",
     "output_type": "stream",
     "text": [
      "이름 :  홍길동\n",
      "나이 :  19\n"
     ]
    },
    {
     "name": "stdout",
     "output_type": "stream",
     "text": [
      "안녕하세요!\n",
      "저의 이름은 홍길동입니다.\n",
      "나이는 19살입니다.\n"
     ]
    }
   ],
   "source": [
    "name = input('이름 : ')\n",
    "age = input('나이 : ')\n",
    "\n",
    "def introduce(name,age):\n",
    "    print('안녕하세요!')\n",
    "    print(f'저의 이름은 {name}입니다.')\n",
    "    print(f'나이는 {age}살입니다.')\n",
    "    \n",
    "introduce(name,age)"
   ]
  },
  {
   "cell_type": "code",
   "execution_count": 18,
   "id": "062a0f52-9e7c-40b1-adc1-4451d9ef3207",
   "metadata": {},
   "outputs": [
    {
     "name": "stdout",
     "output_type": "stream",
     "text": [
      "3\n",
      "plus:3\n"
     ]
    }
   ],
   "source": [
    "#두 수를 더하는 함수를 만들어 봅니다.\n",
    "\n",
    "def get_plus(n1,n2):\n",
    "    return n1+n2\n",
    "\n",
    "print(get_plus(1,2))\n",
    "\n",
    "plus = get_plus(1,2)\n",
    "print(f'plus:{plus}')"
   ]
  },
  {
   "cell_type": "code",
   "execution_count": null,
   "id": "418a42ac-4e1f-4fb6-ad1a-85c8911a686b",
   "metadata": {},
   "outputs": [],
   "source": []
  }
 ],
 "metadata": {
  "kernelspec": {
   "display_name": "Python 3 (ipykernel)",
   "language": "python",
   "name": "python3"
  },
  "language_info": {
   "codemirror_mode": {
    "name": "ipython",
    "version": 3
   },
   "file_extension": ".py",
   "mimetype": "text/x-python",
   "name": "python",
   "nbconvert_exporter": "python",
   "pygments_lexer": "ipython3",
   "version": "3.9.7"
  }
 },
 "nbformat": 4,
 "nbformat_minor": 5
}
