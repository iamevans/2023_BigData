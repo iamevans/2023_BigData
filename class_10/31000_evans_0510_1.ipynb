{
 "cells": [
  {
   "cell_type": "markdown",
   "id": "a65787f2-dd14-489b-915e-0b178d0db966",
   "metadata": {},
   "source": [
    "31000_evans_0510_1"
   ]
  },
  {
   "cell_type": "markdown",
   "id": "09364eae-0869-4707-a4d6-08ca8716abfe",
   "metadata": {},
   "source": [
    "# for문과 while문"
   ]
  },
  {
   "cell_type": "code",
   "execution_count": null,
   "id": "a4fe8de7-81d2-465f-8c63-42ca301ec03d",
   "metadata": {},
   "outputs": [],
   "source": [
    "## 1부터 5까지 출력하기\n",
    "## for문 사용\n",
    "for i in range(1,6) :\n",
    "    print(f'{i}')"
   ]
  },
  {
   "cell_type": "code",
   "execution_count": 3,
   "id": "92db0a78-e89f-450b-ad76-dc800e2d08a1",
   "metadata": {},
   "outputs": [
    {
     "name": "stdout",
     "output_type": "stream",
     "text": [
      "1\n",
      "2\n",
      "3\n",
      "4\n",
      "5\n"
     ]
    }
   ],
   "source": [
    "## 1부터 5까지 출력하기\n",
    "## while문 사용 증가변수, 조건\n",
    "\n",
    "n = 1\n",
    "while n<=5:\n",
    "    print(f'{n}')\n",
    "    n+=1 # 1씩 증가"
   ]
  },
  {
   "cell_type": "markdown",
   "id": "61ee9f9c-5e99-4605-bf7b-7af813aa2e02",
   "metadata": {},
   "source": [
    "## 1부터 10까지 더하기"
   ]
  },
  {
   "cell_type": "code",
   "execution_count": 5,
   "id": "7e945345-a4d1-4608-9ffc-bb2e45afde74",
   "metadata": {},
   "outputs": [
    {
     "name": "stdout",
     "output_type": "stream",
     "text": [
      "1-10까지 합계 : 55\n"
     ]
    }
   ],
   "source": [
    "# for문\n",
    "total = 0\n",
    "for i in range(1,11):\n",
    "    total += i\n",
    "print(f'1-10까지 합계 : {total}')"
   ]
  },
  {
   "cell_type": "code",
   "execution_count": 6,
   "id": "5ba09dd1-6258-48ff-9949-53b0a7b0035e",
   "metadata": {},
   "outputs": [
    {
     "name": "stdout",
     "output_type": "stream",
     "text": [
      "1-10까지 합계 : 55\n"
     ]
    }
   ],
   "source": [
    "# while문\n",
    "n = 1\n",
    "total = 0\n",
    "while n<=10:\n",
    "    total += n\n",
    "    n+=1\n",
    "print(f'1-10까지 합계 : {total}')"
   ]
  },
  {
   "cell_type": "markdown",
   "id": "f2fe9521-131d-4cfb-93aa-6b04fb17b37b",
   "metadata": {},
   "source": [
    "# while문만 가능한 경우"
   ]
  },
  {
   "cell_type": "markdown",
   "id": "5584da72-e44a-4d49-9daa-fc0f5ce26dfb",
   "metadata": {},
   "source": [
    "* 'q'를 입력할 때까지 반복하여 이름 입력받기"
   ]
  },
  {
   "cell_type": "code",
   "execution_count": 7,
   "id": "87955d9b-98b5-44d5-9fd4-8e8e63036a82",
   "metadata": {},
   "outputs": [
    {
     "name": "stdin",
     "output_type": "stream",
     "text": [
      "이름이 뭐에요? : a\n",
      "이름이 뭐에요? : b\n",
      "이름이 뭐에요? : c\n",
      "이름이 뭐에요? : q\n"
     ]
    }
   ],
   "source": [
    "name = input('이름이 뭐에요? :')\n",
    "while name != 'q': # q가 아니면 입력을 다시 보여줌 q이면 나가버림\n",
    "    name = input('이름이 뭐에요? :')"
   ]
  },
  {
   "cell_type": "code",
   "execution_count": 8,
   "id": "24fcc58c-5f0b-4485-b3b2-b30a1e77a7ac",
   "metadata": {},
   "outputs": [
    {
     "name": "stdin",
     "output_type": "stream",
     "text": [
      "이름이 뭐에요? : a\n",
      "이름이 뭐에요? : b\n",
      "이름이 뭐에요? : c\n",
      "이름이 뭐에요? : q\n"
     ]
    }
   ],
   "source": [
    "# break -> if\n",
    "while True:\n",
    "    name = input('이름이 뭐에요? :')\n",
    "    if name == 'q':\n",
    "        break"
   ]
  },
  {
   "cell_type": "markdown",
   "id": "08e837ff-379b-49dc-b726-d1cafa4a0468",
   "metadata": {},
   "source": [
    "# 연습문제\n",
    "* 올바른 아이디/비밀번호를 입력할 때까지 아이디와 비밀번호를 입력하는 프로그램 만들기"
   ]
  },
  {
   "cell_type": "code",
   "execution_count": 9,
   "id": "67310241-f6fc-42ba-b935-020dc2a8f900",
   "metadata": {},
   "outputs": [
    {
     "name": "stdin",
     "output_type": "stream",
     "text": [
      "id :  id123\n",
      "pwd :  pwd1234\n",
      "id :  id123\n",
      "pwd :  pwd123\n"
     ]
    }
   ],
   "source": [
    "# 주어진 아이디와 비밀번호\n",
    "id = 'id123'\n",
    "pwd = 'pwd123'\n",
    "\n",
    "while True:\n",
    "    input_id = input('id : ')\n",
    "    input_pwd = input('pwd : ')\n",
    "    \n",
    "    if id == input_id and pwd == input_pwd:\n",
    "        break"
   ]
  },
  {
   "cell_type": "markdown",
   "id": "8768b7f8-ab42-441f-b352-1b50ac46c72e",
   "metadata": {},
   "source": [
    "* 확장하기     \n",
    "아이디가 잘못되었으면 '아이디를 확인하세요' 출력    \n",
    "비밀번호가 잘못되었으면 '비밀번호를 확인하세요' 출력"
   ]
  },
  {
   "cell_type": "code",
   "execution_count": 10,
   "id": "96d1dbb3-ad65-4613-990e-e7f33450b9af",
   "metadata": {},
   "outputs": [
    {
     "name": "stdin",
     "output_type": "stream",
     "text": [
      "id :  id12\n",
      "pwd :  ps12\n"
     ]
    },
    {
     "name": "stdout",
     "output_type": "stream",
     "text": [
      "아이디를 확인하세요\n",
      "비밀번호를 확인하세요\n"
     ]
    },
    {
     "name": "stdin",
     "output_type": "stream",
     "text": [
      "id :  id123\n",
      "pwd :  ps123\n"
     ]
    },
    {
     "name": "stdout",
     "output_type": "stream",
     "text": [
      "비밀번호를 확인하세요\n"
     ]
    },
    {
     "name": "stdin",
     "output_type": "stream",
     "text": [
      "id :  id123\n",
      "pwd :  pwd123\n"
     ]
    }
   ],
   "source": [
    "# 주어진 아이디와 비밀번호\n",
    "id = 'id123'\n",
    "pwd = 'pwd123'\n",
    "\n",
    "while True:\n",
    "    input_id = input('id : ')\n",
    "    input_pwd = input('pwd : ')\n",
    "    \n",
    "    if id == input_id and pwd == input_pwd:\n",
    "        break\n",
    "    if id != input_id :\n",
    "        print(f'아이디를 확인하세요')\n",
    "    if pwd != input_pwd :\n",
    "        print(f'비밀번호를 확인하세요')"
   ]
  },
  {
   "cell_type": "code",
   "execution_count": null,
   "id": "72d0fd4a-9f80-4e38-9670-412dcdc86197",
   "metadata": {},
   "outputs": [],
   "source": []
  }
 ],
 "metadata": {
  "kernelspec": {
   "display_name": "Python 3 (ipykernel)",
   "language": "python",
   "name": "python3"
  },
  "language_info": {
   "codemirror_mode": {
    "name": "ipython",
    "version": 3
   },
   "file_extension": ".py",
   "mimetype": "text/x-python",
   "name": "python",
   "nbconvert_exporter": "python",
   "pygments_lexer": "ipython3",
   "version": "3.9.7"
  }
 },
 "nbformat": 4,
 "nbformat_minor": 5
}
