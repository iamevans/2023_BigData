{
 "cells": [
  {
   "cell_type": "markdown",
   "id": "4e6cdf6a-3294-4ecc-92d6-66ea2c1e9c39",
   "metadata": {},
   "source": [
    "### 31000_evans_0310_2"
   ]
  },
  {
   "cell_type": "markdown",
   "id": "ed200583-84c4-45de-b4e9-7e08c2c5b5da",
   "metadata": {},
   "source": [
    "## 1. 출력명령어 \n",
    "### 출력 명령어 형식\n",
    "\n",
    "> print( 출력할 내용 )"
   ]
  },
  {
   "cell_type": "code",
   "execution_count": 1,
   "id": "e69b6036-2cb8-4c14-8eac-d810c5a15697",
   "metadata": {},
   "outputs": [
    {
     "name": "stdout",
     "output_type": "stream",
     "text": [
      "7201300\n"
     ]
    }
   ],
   "source": [
    "# 숫자 출력 7201300\n",
    "print(7201300)"
   ]
  },
  {
   "cell_type": "code",
   "execution_count": 2,
   "id": "92f55a8b-966c-4925-9bf1-92d7b9f86623",
   "metadata": {},
   "outputs": [
    {
     "name": "stdout",
     "output_type": "stream",
     "text": [
      "12월 25일\n"
     ]
    }
   ],
   "source": [
    "# 문자 출력 본인 생일 출력해 보기\n",
    "print('12월 25일')"
   ]
  },
  {
   "cell_type": "markdown",
   "id": "ab6e523b-d535-4fc6-86ad-341ec4f40825",
   "metadata": {
    "tags": []
   },
   "source": [
    "###### 문자는 따옴표로 감싸주어야 함\n",
    "> print('문자')"
   ]
  },
  {
   "cell_type": "code",
   "execution_count": 3,
   "id": "f6603cb7-7307-4d29-aad9-05bad6bd825b",
   "metadata": {},
   "outputs": [
    {
     "name": "stdout",
     "output_type": "stream",
     "text": [
      "20\n",
      "-10\n",
      "75\n",
      "0.3333333333333333\n"
     ]
    }
   ],
   "source": [
    "# 사칙연산하기\n",
    "a = 5\n",
    "b = 15\n",
    "print(a+b)\n",
    "print(a-b)\n",
    "print(a*b)\n",
    "print(a/b)"
   ]
  },
  {
   "cell_type": "code",
   "execution_count": 4,
   "id": "ec5c62ea-42ba-4301-acdc-be836d2954ac",
   "metadata": {},
   "outputs": [
    {
     "name": "stdout",
     "output_type": "stream",
     "text": [
      "12+34\n",
      "46\n"
     ]
    }
   ],
   "source": [
    "# 숫자라 하더라도 따옴표로 감사면 문자로 인식\n",
    "\n",
    "print('12+34')\n",
    "print(12+34)"
   ]
  },
  {
   "cell_type": "code",
   "execution_count": 6,
   "id": "92eb2993-14d4-4f45-afb7-257a65d184bb",
   "metadata": {},
   "outputs": [
    {
     "name": "stdout",
     "output_type": "stream",
     "text": [
      "25\n",
      "25\n",
      "125\n",
      "125\n"
     ]
    }
   ],
   "source": [
    "# 제곱 **\n",
    "\n",
    "print(5**2)\n",
    "print(5*5)\n",
    "print(5**3)\n",
    "print(5*5*5)"
   ]
  },
  {
   "cell_type": "code",
   "execution_count": 7,
   "id": "9e30c728-4bc7-4444-8db0-dd0e6b3bbfd9",
   "metadata": {},
   "outputs": [
    {
     "name": "stdout",
     "output_type": "stream",
     "text": [
      "2\n",
      "1\n"
     ]
    }
   ],
   "source": [
    "# 몫 //\n",
    "\n",
    "print(5//2)\n",
    "\n",
    "# 나머지 %\n",
    "print(5%2)"
   ]
  },
  {
   "cell_type": "markdown",
   "id": "a4230962-b17d-4fed-9428-6c61d16e878b",
   "metadata": {},
   "source": [
    "### 연결하여 출력하기 \n",
    "> print(  ,  ) <br>\n",
    "> print(  +  )"
   ]
  },
  {
   "cell_type": "code",
   "execution_count": 8,
   "id": "c95bb196-6837-4e85-93dd-c69c72a610fd",
   "metadata": {},
   "outputs": [
    {
     "name": "stdout",
     "output_type": "stream",
     "text": [
      "파이썬 Hello!!!\n"
     ]
    }
   ],
   "source": [
    "# 콤마, 로 연결하여 출력\n",
    "a = '파이썬'\n",
    "b = 'Hello!!!'\n",
    "\n",
    "print(a,b)"
   ]
  },
  {
   "cell_type": "code",
   "execution_count": 9,
   "id": "f4aeca35-4c71-4707-90a7-e044f141b916",
   "metadata": {},
   "outputs": [
    {
     "name": "stdout",
     "output_type": "stream",
     "text": [
      "파이썬Hello!!!\n"
     ]
    }
   ],
   "source": [
    "# 더하기 + 로 연결하여 출력\n",
    "\n",
    "print(a+b)"
   ]
  },
  {
   "cell_type": "code",
   "execution_count": null,
   "id": "bf9eeeae-9f23-4f53-bd65-c1a13967d567",
   "metadata": {},
   "outputs": [],
   "source": []
  }
 ],
 "metadata": {
  "kernelspec": {
   "display_name": "Python 3 (ipykernel)",
   "language": "python",
   "name": "python3"
  },
  "language_info": {
   "codemirror_mode": {
    "name": "ipython",
    "version": 3
   },
   "file_extension": ".py",
   "mimetype": "text/x-python",
   "name": "python",
   "nbconvert_exporter": "python",
   "pygments_lexer": "ipython3",
   "version": "3.9.7"
  }
 },
 "nbformat": 4,
 "nbformat_minor": 5
}
