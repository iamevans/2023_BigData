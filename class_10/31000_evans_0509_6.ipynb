{
 "cells": [
  {
   "cell_type": "markdown",
   "id": "b5a29722-a623-4872-9b72-6fc4809a755f",
   "metadata": {},
   "source": [
    "31000_evans_0509_6"
   ]
  },
  {
   "cell_type": "markdown",
   "id": "96ea0a9d-817d-4058-95e2-8ebf4404aeda",
   "metadata": {},
   "source": [
    "## for 반복문"
   ]
  },
  {
   "cell_type": "code",
   "execution_count": 2,
   "id": "24b6c1b2-25a4-4e22-8c53-0d3e622ac6cb",
   "metadata": {},
   "outputs": [
    {
     "name": "stdout",
     "output_type": "stream",
     "text": [
      "1\n",
      "2\n",
      "3\n",
      "4\n",
      "5\n"
     ]
    }
   ],
   "source": [
    "for i in [1,2,3,4,5] :\n",
    "    print(f'{i}')"
   ]
  },
  {
   "cell_type": "code",
   "execution_count": 3,
   "id": "c995b88c-e7d9-47f1-9ac6-ce4b775d0b35",
   "metadata": {},
   "outputs": [
    {
     "name": "stdout",
     "output_type": "stream",
     "text": [
      "p\n",
      "y\n",
      "t\n",
      "h\n",
      "o\n",
      "n\n"
     ]
    }
   ],
   "source": [
    "for i in 'python' :\n",
    "    print(f'{i}')"
   ]
  },
  {
   "cell_type": "code",
   "execution_count": 6,
   "id": "caa78f9a-8f20-4212-8847-7151142c3148",
   "metadata": {},
   "outputs": [
    {
     "name": "stdout",
     "output_type": "stream",
     "text": [
      "1\n",
      "2\n",
      "3\n",
      "4\n",
      "5\n"
     ]
    }
   ],
   "source": [
    "for i in range(1,6) : #01,2,3,4 \n",
    "    print(f'{i}')"
   ]
  },
  {
   "cell_type": "markdown",
   "id": "339749ba-83c5-4e3b-9205-bb280589d75d",
   "metadata": {},
   "source": [
    "* 'Hello' 10번 출력하기     \n",
    "특정 횟수만큼 반복하려면 range(횟수)의 형태를 사용한다."
   ]
  },
  {
   "cell_type": "code",
   "execution_count": 9,
   "id": "9bb3bb4a-b5b2-4fe3-bc65-9660a380fda0",
   "metadata": {},
   "outputs": [
    {
     "name": "stdout",
     "output_type": "stream",
     "text": [
      "1 Hello\n",
      "2 Hello\n",
      "3 Hello\n",
      "4 Hello\n",
      "5 Hello\n",
      "6 Hello\n",
      "7 Hello\n",
      "8 Hello\n",
      "9 Hello\n",
      "10 Hello\n"
     ]
    }
   ],
   "source": [
    "for i in range(1,11) :\n",
    "    print(f'{i} Hello')"
   ]
  },
  {
   "cell_type": "markdown",
   "id": "9b9b9fe0-49be-423f-90d9-f2b4614598ff",
   "metadata": {},
   "source": [
    "# 중첩반복구조\n",
    "* 내부 for문을 외부 for문의 시퀀스만큼 반복한다.\n",
    "* 내부루프와 외부루프는 동일한 제어변수를 사용해서는 안된다."
   ]
  },
  {
   "cell_type": "code",
   "execution_count": 10,
   "id": "f1b3f748-a7e0-498f-8bf3-4cb52469dd08",
   "metadata": {},
   "outputs": [
    {
     "name": "stdout",
     "output_type": "stream",
     "text": [
      "0-0\n",
      "0-1\n",
      "0-2\n",
      "0-3\n",
      "1-0\n",
      "1-1\n",
      "1-2\n",
      "1-3\n",
      "2-0\n",
      "2-1\n",
      "2-2\n",
      "2-3\n"
     ]
    }
   ],
   "source": [
    "for i in range(3) :\n",
    "    for j in range(4) :\n",
    "        print(f'{i}-{j}')"
   ]
  },
  {
   "cell_type": "markdown",
   "id": "8e091e62-ac0a-4f5d-9515-06dc10d2589c",
   "metadata": {},
   "source": [
    "* 2단부터 9단까지 전체 구구단 출력하기"
   ]
  },
  {
   "cell_type": "code",
   "execution_count": 12,
   "id": "51a0b746-72b6-4a63-88c9-a8211f6b39b0",
   "metadata": {},
   "outputs": [
    {
     "name": "stdout",
     "output_type": "stream",
     "text": [
      "11*1=11\t11*2=22\t11*3=33\t11*4=44\t11*5=55\t11*6=66\t11*7=77\t11*8=88\t11*9=99\t\n",
      "12*1=12\t12*2=24\t12*3=36\t12*4=48\t12*5=60\t12*6=72\t12*7=84\t12*8=96\t12*9=108\t\n",
      "13*1=13\t13*2=26\t13*3=39\t13*4=52\t13*5=65\t13*6=78\t13*7=91\t13*8=104\t13*9=117\t\n",
      "14*1=14\t14*2=28\t14*3=42\t14*4=56\t14*5=70\t14*6=84\t14*7=98\t14*8=112\t14*9=126\t\n",
      "15*1=15\t15*2=30\t15*3=45\t15*4=60\t15*5=75\t15*6=90\t15*7=105\t15*8=120\t15*9=135\t\n",
      "16*1=16\t16*2=32\t16*3=48\t16*4=64\t16*5=80\t16*6=96\t16*7=112\t16*8=128\t16*9=144\t\n",
      "17*1=17\t17*2=34\t17*3=51\t17*4=68\t17*5=85\t17*6=102\t17*7=119\t17*8=136\t17*9=153\t\n",
      "18*1=18\t18*2=36\t18*3=54\t18*4=72\t18*5=90\t18*6=108\t18*7=126\t18*8=144\t18*9=162\t\n",
      "19*1=19\t19*2=38\t19*3=57\t19*4=76\t19*5=95\t19*6=114\t19*7=133\t19*8=152\t19*9=171\t\n"
     ]
    }
   ],
   "source": [
    "for i in range(11,20) :\n",
    "    for j in range(1,10) :\n",
    "        print(f'{i}*{j}={i*j}',end='\\t')\n",
    "    print()"
   ]
  },
  {
   "cell_type": "code",
   "execution_count": 14,
   "id": "bf67e310-39e3-45af-86ac-5d88ca6825d7",
   "metadata": {},
   "outputs": [
    {
     "name": "stdout",
     "output_type": "stream",
     "text": [
      "2*1=2\t3*1=3\t4*1=4\t5*1=5\t6*1=6\t7*1=7\t8*1=8\t9*1=9\t\n",
      "2*2=4\t3*2=6\t4*2=8\t5*2=10\t6*2=12\t7*2=14\t8*2=16\t9*2=18\t\n",
      "2*3=6\t3*3=9\t4*3=12\t5*3=15\t6*3=18\t7*3=21\t8*3=24\t9*3=27\t\n",
      "2*4=8\t3*4=12\t4*4=16\t5*4=20\t6*4=24\t7*4=28\t8*4=32\t9*4=36\t\n",
      "2*5=10\t3*5=15\t4*5=20\t5*5=25\t6*5=30\t7*5=35\t8*5=40\t9*5=45\t\n",
      "2*6=12\t3*6=18\t4*6=24\t5*6=30\t6*6=36\t7*6=42\t8*6=48\t9*6=54\t\n",
      "2*7=14\t3*7=21\t4*7=28\t5*7=35\t6*7=42\t7*7=49\t8*7=56\t9*7=63\t\n",
      "2*8=16\t3*8=24\t4*8=32\t5*8=40\t6*8=48\t7*8=56\t8*8=64\t9*8=72\t\n",
      "2*9=18\t3*9=27\t4*9=36\t5*9=45\t6*9=54\t7*9=63\t8*9=72\t9*9=81\t\n"
     ]
    }
   ],
   "source": [
    "for i in range(1,10) :\n",
    "    for j in range(2,10) :\n",
    "        print(f'{j}*{i}={i*j}',end='\\t')\n",
    "    print()"
   ]
  },
  {
   "cell_type": "markdown",
   "id": "d10d805c-ea1c-4cb0-a184-376f29e01ada",
   "metadata": {},
   "source": [
    "# 연습문제"
   ]
  },
  {
   "cell_type": "markdown",
   "id": "f32f6dbb-e1a0-4515-9da0-9928c9951db9",
   "metadata": {},
   "source": [
    "* 1부터 10까지 정수의 합 구하여 출력하기"
   ]
  },
  {
   "cell_type": "code",
   "execution_count": 15,
   "id": "2a690211-c425-4fc7-84e2-14f259befef7",
   "metadata": {},
   "outputs": [
    {
     "name": "stdout",
     "output_type": "stream",
     "text": [
      "합계 55\n"
     ]
    }
   ],
   "source": [
    "total = 0\n",
    "for i in range(1,11):\n",
    "    total+= i\n",
    "print(f'합계 {total}')"
   ]
  },
  {
   "cell_type": "markdown",
   "id": "ad23fef2-3be9-440a-902a-dc5f7bd4646b",
   "metadata": {},
   "source": [
    "* 1부터 100까지 홀수의 합 구하여 출력하기"
   ]
  }
 ],
 "metadata": {
  "kernelspec": {
   "display_name": "Python 3 (ipykernel)",
   "language": "python",
   "name": "python3"
  },
  "language_info": {
   "codemirror_mode": {
    "name": "ipython",
    "version": 3
   },
   "file_extension": ".py",
   "mimetype": "text/x-python",
   "name": "python",
   "nbconvert_exporter": "python",
   "pygments_lexer": "ipython3",
   "version": "3.9.7"
  }
 },
 "nbformat": 4,
 "nbformat_minor": 5
}
