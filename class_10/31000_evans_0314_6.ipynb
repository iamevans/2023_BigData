{
 "cells": [
  {
   "cell_type": "markdown",
   "id": "9ac44edb-5214-471c-a83c-de6a870a7a14",
   "metadata": {},
   "source": [
    "31000_evans_0314_6"
   ]
  },
  {
   "cell_type": "markdown",
   "id": "3676d6f7-7336-440c-b7fc-4830e067fa3a",
   "metadata": {},
   "source": [
    "#### 1. 변수\n",
    "> 변수이름 = 저장할 데이터\n",
    "\n",
    "<img src = 'https://github.com/teacher-jiejie/allinone_AI/blob/images/%E1%84%87%E1%85%A7%E1%86%AB%E1%84%89%E1%85%AE%E1%84%8B%E1%85%B5%E1%84%86%E1%85%B5%E1%84%8C%E1%85%B5.png?raw=true' width =500>\n"
   ]
  },
  {
   "cell_type": "code",
   "execution_count": 2,
   "id": "7e0642f2-6001-4e1c-b8ce-25ab3d585d8d",
   "metadata": {},
   "outputs": [
    {
     "name": "stdout",
     "output_type": "stream",
     "text": [
      "<class 'str'>\n"
     ]
    }
   ],
   "source": [
    "# 입력 input() \n",
    "# 출력 print()\n",
    "\n",
    "a = '안녕'\n",
    "print(type(a))"
   ]
  },
  {
   "cell_type": "code",
   "execution_count": 3,
   "id": "41fd1ea4-5072-44cf-ab0d-f9b6e6afa824",
   "metadata": {},
   "outputs": [
    {
     "name": "stdout",
     "output_type": "stream",
     "text": [
      "고등학생\n"
     ]
    }
   ],
   "source": [
    "b = '학생'\n",
    "c = '고등'\n",
    "d = '대'\n",
    "print(c+b)"
   ]
  },
  {
   "cell_type": "markdown",
   "id": "f658964d-cec5-42e1-9fca-00ba6fab47ff",
   "metadata": {},
   "source": [
    "### 변수를 활용하여 연산하기 \n",
    "1) 과일 가격 계산하기"
   ]
  },
  {
   "cell_type": "code",
   "execution_count": 4,
   "id": "5dd8bfb1-a57d-4fdc-b0e1-332be86e7bf5",
   "metadata": {},
   "outputs": [],
   "source": [
    "apple = 1200\n",
    "banana = 800\n",
    "kiwi = 1700"
   ]
  },
  {
   "cell_type": "code",
   "execution_count": 5,
   "id": "c2720664-691b-4f15-8806-a039066ed33e",
   "metadata": {},
   "outputs": [
    {
     "data": {
      "text/plain": [
       "7800"
      ]
     },
     "execution_count": 5,
     "metadata": {},
     "output_type": "execute_result"
    }
   ],
   "source": [
    "# 사과 3개, 바나나1개, 키위2개 구매한 가격은?\n",
    "\n",
    "apple*3 + banana*1 + kiwi*2"
   ]
  },
  {
   "cell_type": "code",
   "execution_count": 12,
   "id": "8f084d8e-2cc4-4ac8-b981-267c483b1650",
   "metadata": {},
   "outputs": [
    {
     "name": "stdout",
     "output_type": "stream",
     "text": [
      "44800\n",
      "vip가 되시면 44800 원을 35840.0 원에 구매 가능합니다.!!!\n"
     ]
    }
   ],
   "source": [
    "price = apple*5 + banana*6 + kiwi*20\n",
    "print(price)\n",
    "vip_price = price * 0.8\n",
    "print('vip가 되시면', price,'원을',vip_price,'원에 구매 가능합니다.!!!')"
   ]
  },
  {
   "cell_type": "markdown",
   "id": "42dd7627-92a5-403a-80c4-87023ad7e422",
   "metadata": {},
   "source": [
    "vip는 20% 할인된다. 동일한 물건을 구매했을 때 vip가 내는 가격을 새로운 변수에 저장하여 출력하기"
   ]
  },
  {
   "cell_type": "code",
   "execution_count": 10,
   "id": "0c552f90-9048-42c6-9983-e5e477148c1a",
   "metadata": {},
   "outputs": [],
   "source": [
    "vip_price = price * 0.8"
   ]
  },
  {
   "cell_type": "code",
   "execution_count": 11,
   "id": "37b5fe7b-bbc4-4727-9fdb-61191e936fcf",
   "metadata": {},
   "outputs": [
    {
     "name": "stdout",
     "output_type": "stream",
     "text": [
      "vip가 되시면 44800 원을 35840.0 원에 구매 가능합니다.!!!\n"
     ]
    }
   ],
   "source": [
    "print('vip가 되시면', price,'원을',vip_price,'원에 구매 가능합니다.!!!')"
   ]
  },
  {
   "cell_type": "code",
   "execution_count": null,
   "id": "bacd1e03-82fb-472b-b98a-dd81d033aa42",
   "metadata": {},
   "outputs": [],
   "source": []
  }
 ],
 "metadata": {
  "kernelspec": {
   "display_name": "Python 3 (ipykernel)",
   "language": "python",
   "name": "python3"
  },
  "language_info": {
   "codemirror_mode": {
    "name": "ipython",
    "version": 3
   },
   "file_extension": ".py",
   "mimetype": "text/x-python",
   "name": "python",
   "nbconvert_exporter": "python",
   "pygments_lexer": "ipython3",
   "version": "3.9.7"
  }
 },
 "nbformat": 4,
 "nbformat_minor": 5
}
