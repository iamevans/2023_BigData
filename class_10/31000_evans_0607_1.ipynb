{
 "cells": [
  {
   "cell_type": "markdown",
   "id": "19eee657-31dc-400d-beaf-d35629280bb7",
   "metadata": {},
   "source": [
    "31000_evans_0607_1"
   ]
  },
  {
   "cell_type": "markdown",
   "id": "697d97b5-d306-42a5-b44e-fcad9d2d2c89",
   "metadata": {},
   "source": [
    "## 문제\n",
    "> 문제3 <br>\n",
    "상반기 가게부 만들기 프로그램 6개월<br>\n",
    "상반기 총 수입액<br>\n",
    "상반기 수입액의 평균<br>"
   ]
  },
  {
   "cell_type": "code",
   "execution_count": 4,
   "id": "33edb621-5905-413e-8b31-fc8ee91e603c",
   "metadata": {},
   "outputs": [
    {
     "name": "stdout",
     "output_type": "stream",
     "text": [
      "문제3 가게부 만들기 프로그램\n",
      "월 별로 수입액을 입력시켜 주세요!\n",
      "1월 수입액을 입력시켜 주세요\n"
     ]
    },
    {
     "name": "stdin",
     "output_type": "stream",
     "text": [
      " 20\n"
     ]
    },
    {
     "name": "stdout",
     "output_type": "stream",
     "text": [
      "2월 수입액을 입력시켜 주세요\n"
     ]
    },
    {
     "name": "stdin",
     "output_type": "stream",
     "text": [
      " 21\n"
     ]
    },
    {
     "name": "stdout",
     "output_type": "stream",
     "text": [
      "3월 수입액을 입력시켜 주세요\n"
     ]
    },
    {
     "name": "stdin",
     "output_type": "stream",
     "text": [
      " 22\n"
     ]
    },
    {
     "name": "stdout",
     "output_type": "stream",
     "text": [
      "4월 수입액을 입력시켜 주세요\n"
     ]
    },
    {
     "name": "stdin",
     "output_type": "stream",
     "text": [
      " 23\n"
     ]
    },
    {
     "name": "stdout",
     "output_type": "stream",
     "text": [
      "5월 수입액을 입력시켜 주세요\n"
     ]
    },
    {
     "name": "stdin",
     "output_type": "stream",
     "text": [
      " 24\n"
     ]
    },
    {
     "name": "stdout",
     "output_type": "stream",
     "text": [
      "6월 수입액을 입력시켜 주세요\n"
     ]
    },
    {
     "name": "stdin",
     "output_type": "stream",
     "text": [
      " 25\n"
     ]
    },
    {
     "name": "stdout",
     "output_type": "stream",
     "text": [
      "상반기 월별 수입액 입니다.\n",
      "상반기 월별 수입액 : [20, 21, 22, 23, 24, 25]\n"
     ]
    }
   ],
   "source": [
    "print('문제3 가게부 만들기 프로그램')\n",
    "\n",
    "# 빈 리스트 만들기\n",
    "money = []\n",
    "print('월 별로 수입액을 입력시켜 주세요!')\n",
    "\n",
    "# 월별 수입 입력 \n",
    "for j in range(0,6):\n",
    "    print(f'{j+1}월 수입액을 입력시켜 주세요')\n",
    "    # 리스트에 추가 append\n",
    "    money.append(int(input('')))\n",
    "   \n",
    "sum = 0\n",
    "i = 0\n",
    "print('상반기 월별 수입액 입니다.')\n",
    "# 수입총합계, 평균\n",
    "while i < 6 :\n",
    "    #누적 합계\n",
    "    sum = sum + money[i]\n",
    "    i +=1\n",
    "#평균    \n",
    "avg = sum/6\n",
    "\n",
    "print(f'상반기 월별 수입액 : {money}')\n",
    "print(f'상반기 월 수입액의 총합계 : {sum}만원 입니다.')\n",
    "print(f'상반기 월 수입액의 평균 : {avg}만원 입니다.')"
   ]
  },
  {
   "cell_type": "markdown",
   "id": "0c376a1e-a739-47c7-8d3a-9a64fdacb069",
   "metadata": {},
   "source": [
    "## 문제4\n",
    "> 문제4 <br>\n",
    "25명의 학생 번호와 무작위로 입력된 점수 리스트에서 <br>\n",
    "70점 이상인 번호와 값 출력하기"
   ]
  },
  {
   "cell_type": "code",
   "execution_count": 14,
   "id": "5e1bc159-76d1-4cae-95ad-a19849776c90",
   "metadata": {},
   "outputs": [
    {
     "name": "stdout",
     "output_type": "stream",
     "text": [
      "점수 리스트 : [33, 5, 78, 36, 28, 32, 97, 54, 8, 5, 36, 66, 22, 39, 6, 50, 74, 94, 42, 1, 5, 33, 14, 95, 2]\n",
      "▶ 점수리스트에서 점수가 70점 이상인 학생의 번호와 점수를 출력\n",
      "3번, 점수 : 78점\n",
      "7번, 점수 : 97점\n",
      "17번, 점수 : 74점\n",
      "18번, 점수 : 94점\n",
      "24번, 점수 : 95점\n"
     ]
    }
   ],
   "source": [
    "# 무작위 점수입력 random\n",
    "import random\n",
    "\n",
    "#빈 리스트\n",
    "score = []\n",
    "# 랜덤점수 입력 \n",
    "for i in range(0,25) :\n",
    "    score.append(random.randint(0,100))\n",
    "print(f'점수 리스트 : {score}')\n",
    "print('▶ 점수리스트에서 점수가 70점 이상인 학생의 번호와 점수를 출력')\n",
    "\n",
    "# 70점이 넘는 학생의 번호와 점수\n",
    "for s in score :\n",
    "    if s>=70:\n",
    "        print(f'{score.index(s)+1}번, 점수 : {s}점')"
   ]
  },
  {
   "cell_type": "code",
   "execution_count": null,
   "id": "1805704c-0aa4-4a8e-aa9c-a07dbf1c5bae",
   "metadata": {},
   "outputs": [],
   "source": []
  }
 ],
 "metadata": {
  "kernelspec": {
   "display_name": "Python 3 (ipykernel)",
   "language": "python",
   "name": "python3"
  },
  "language_info": {
   "codemirror_mode": {
    "name": "ipython",
    "version": 3
   },
   "file_extension": ".py",
   "mimetype": "text/x-python",
   "name": "python",
   "nbconvert_exporter": "python",
   "pygments_lexer": "ipython3",
   "version": "3.9.7"
  }
 },
 "nbformat": 4,
 "nbformat_minor": 5
}
