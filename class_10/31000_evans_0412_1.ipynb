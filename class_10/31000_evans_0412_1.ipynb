{
 "cells": [
  {
   "cell_type": "markdown",
   "id": "4f631a99-ffb3-4b0b-afd8-54917e0fb1ac",
   "metadata": {},
   "source": [
    "31000_evans_0412_1"
   ]
  },
  {
   "cell_type": "markdown",
   "id": "81fd3386-53b3-4b4d-8444-c35c3e81da06",
   "metadata": {},
   "source": [
    "### split()으로 문자열 슬라이싱"
   ]
  },
  {
   "cell_type": "code",
   "execution_count": 1,
   "id": "18adf5cf-b3aa-4337-9d44-797ff7745e6e",
   "metadata": {},
   "outputs": [
    {
     "name": "stdout",
     "output_type": "stream",
     "text": [
      "2023-04-12 수요일\n"
     ]
    }
   ],
   "source": [
    "date = '2023-04-12 수요일'\n",
    "print(date)"
   ]
  },
  {
   "cell_type": "code",
   "execution_count": 2,
   "id": "60d94aab-467c-4240-ad54-f370f4ab5703",
   "metadata": {},
   "outputs": [
    {
     "data": {
      "text/plain": [
       "['2023-04-12', '수요일']"
      ]
     },
     "execution_count": 2,
     "metadata": {},
     "output_type": "execute_result"
    }
   ],
   "source": [
    "# 공백을 기준으로 잘라내기 split\n",
    "date.split()"
   ]
  },
  {
   "cell_type": "code",
   "execution_count": 3,
   "id": "df37de0b-3bae-4590-94ae-986e9c1cd082",
   "metadata": {},
   "outputs": [
    {
     "name": "stdout",
     "output_type": "stream",
     "text": [
      "2023-04-12 수요일\n"
     ]
    }
   ],
   "source": [
    "print(date)"
   ]
  },
  {
   "cell_type": "code",
   "execution_count": 5,
   "id": "3484b7fd-879c-476e-a46d-3c6ede68c384",
   "metadata": {},
   "outputs": [
    {
     "data": {
      "text/plain": [
       "['2', '23-', '4-12 수요일']"
      ]
     },
     "execution_count": 5,
     "metadata": {},
     "output_type": "execute_result"
    }
   ],
   "source": [
    "# 0기준으로 잘라내기\n",
    "date.split('0')"
   ]
  },
  {
   "cell_type": "code",
   "execution_count": 6,
   "id": "5dbed943-b9b7-49f8-99c4-aa78b596b84f",
   "metadata": {},
   "outputs": [
    {
     "data": {
      "text/plain": [
       "['2023', '04', '12 수요일']"
      ]
     },
     "execution_count": 6,
     "metadata": {},
     "output_type": "execute_result"
    }
   ],
   "source": [
    "# -을 기준으로 split\n",
    "date.split('-')"
   ]
  },
  {
   "cell_type": "code",
   "execution_count": 7,
   "id": "0c2a2767-68e4-4053-8ce6-60c43ab644ec",
   "metadata": {},
   "outputs": [
    {
     "data": {
      "text/plain": [
       "'2023'"
      ]
     },
     "execution_count": 7,
     "metadata": {},
     "output_type": "execute_result"
    }
   ],
   "source": [
    "date.split('-')[0]"
   ]
  },
  {
   "cell_type": "code",
   "execution_count": 8,
   "id": "197d056d-bcd9-44c8-a3f8-0e18fbe92cd5",
   "metadata": {},
   "outputs": [
    {
     "data": {
      "text/plain": [
       "2023"
      ]
     },
     "execution_count": 8,
     "metadata": {},
     "output_type": "execute_result"
    }
   ],
   "source": [
    "# split한 결과를 형변환 int\n",
    "int(date.split('-')[0])"
   ]
  },
  {
   "cell_type": "markdown",
   "id": "045a8ade-b698-4c9d-ab53-76f206cb6c3e",
   "metadata": {},
   "source": [
    "실습\n",
    "```\n",
    "date = '2023-04-12'\n",
    "```\n",
    "\n",
    "위 date에서 월(month)만 골라내 숫자형태로 변수 mon에 저장하시오."
   ]
  },
  {
   "cell_type": "code",
   "execution_count": 10,
   "id": "322bd426-d55d-4b09-b394-27c833384f12",
   "metadata": {},
   "outputs": [
    {
     "name": "stdout",
     "output_type": "stream",
     "text": [
      "4\n"
     ]
    }
   ],
   "source": [
    "# date 변수를 만들고 값을 넣어 준다\n",
    "date = '2023-04-12'\n",
    "\n",
    "#월만 골라내기 \n",
    "mon = int(date.split('-')[1])\n",
    "print(mon)"
   ]
  },
  {
   "cell_type": "code",
   "execution_count": 11,
   "id": "fbd92729-ed9d-45ef-b2ad-2d2ef01e9da5",
   "metadata": {},
   "outputs": [
    {
     "name": "stdout",
     "output_type": "stream",
     "text": [
      "12\n"
     ]
    }
   ],
   "source": [
    "# day만 출력해 봅시다.\n",
    "day = int(date.split('-')[-1])\n",
    "print(day)"
   ]
  },
  {
   "cell_type": "markdown",
   "id": "93c2f5d1-9398-4abb-b5d3-303233ef78ef",
   "metadata": {},
   "source": [
    "# 3. 리스트와 제어구조\n",
    "### 1) for a in data 에서 data에 리스트를 넣을 때 \n",
    "다음 spend의 모든 원소를 차례대로 출력하시오 \n",
    "```\n",
    "spend = [25, 36, 8, 53, 24, 56]\n",
    "```"
   ]
  },
  {
   "cell_type": "code",
   "execution_count": 12,
   "id": "f40de7cd-0cd6-46e5-ab82-dbebce9c4b37",
   "metadata": {},
   "outputs": [
    {
     "name": "stdout",
     "output_type": "stream",
     "text": [
      "지출은 25\n",
      "지출은 36\n",
      "지출은 8\n",
      "지출은 53\n",
      "지출은 24\n",
      "지출은 56\n"
     ]
    }
   ],
   "source": [
    "spend = [25, 36, 8, 53, 24, 56]\n",
    "\n",
    "for i in spend :\n",
    "    print('지출은', i)"
   ]
  },
  {
   "cell_type": "code",
   "execution_count": 13,
   "id": "26c1b4c7-1dae-4707-91a9-a1e6321ab9b1",
   "metadata": {},
   "outputs": [
    {
     "name": "stdout",
     "output_type": "stream",
     "text": [
      "지출은 53\n",
      "지출은 56\n"
     ]
    }
   ],
   "source": [
    "#문제 50이상 쓴 금액만 출력하시오.\n",
    "spend = [25, 36, 8, 53, 24, 56]\n",
    "\n",
    "for i in spend :\n",
    "    if i >= 50 :\n",
    "        print('지출은', i)"
   ]
  },
  {
   "cell_type": "markdown",
   "id": "24e7fb6e-e3de-4f78-9a7d-d554f0dfa1f3",
   "metadata": {},
   "source": [
    "### 2) for a in data 에서 data에 range()를 넣을 때"
   ]
  },
  {
   "cell_type": "code",
   "execution_count": 17,
   "id": "fceacfd3-124c-4a65-9f58-71a390bbdcee",
   "metadata": {},
   "outputs": [
    {
     "name": "stdout",
     "output_type": "stream",
     "text": [
      "1 월 지출은 25\n",
      "2 월 지출은 36\n",
      "3 월 지출은 8\n",
      "4 월 지출은 53\n",
      "5 월 지출은 24\n",
      "6 월 지출은 56\n",
      "7 월 지출은 80\n",
      "8 월 지출은 12\n"
     ]
    }
   ],
   "source": [
    "# 인덱스를 활용하고 싶을때 range()\n",
    "spend = [25, 36, 8, 53, 24, 56, 80, 12]\n",
    "\n",
    "for i in range(len(spend)) :\n",
    "    print(i+1,'월 지출은', spend[i])\n"
   ]
  },
  {
   "cell_type": "code",
   "execution_count": null,
   "id": "2b8d3297-55d3-4dd6-90a3-d14ae1ee49ae",
   "metadata": {},
   "outputs": [],
   "source": []
  }
 ],
 "metadata": {
  "kernelspec": {
   "display_name": "Python 3 (ipykernel)",
   "language": "python",
   "name": "python3"
  },
  "language_info": {
   "codemirror_mode": {
    "name": "ipython",
    "version": 3
   },
   "file_extension": ".py",
   "mimetype": "text/x-python",
   "name": "python",
   "nbconvert_exporter": "python",
   "pygments_lexer": "ipython3",
   "version": "3.9.7"
  }
 },
 "nbformat": 4,
 "nbformat_minor": 5
}
