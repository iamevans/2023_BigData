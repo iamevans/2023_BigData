{
 "cells": [
  {
   "cell_type": "markdown",
   "id": "019833e6-374f-41b7-863a-7742e37eb05c",
   "metadata": {},
   "source": [
    "31000_evans_0501_2"
   ]
  },
  {
   "cell_type": "markdown",
   "id": "798c7a11-c092-4d7f-8df4-9949e0d81ce3",
   "metadata": {},
   "source": [
    "## 딕셔너리명 = {키1:값1, 키2:값2,...,}\n",
    "* 중괄호 안에 키:값의 쌍으로 된 항목을 콤마(,)로 구분하여 적어준다."
   ]
  },
  {
   "cell_type": "markdown",
   "id": "447c7ea1-3c63-4e6e-8e5d-3998db14ace2",
   "metadata": {},
   "source": [
    "|메뉴|가격|\n",
    "|----|----|\n",
    "|김밥|2000|\n",
    "|떡볶이|2500|\n",
    "|어묵|2000|\n",
    "|튀김|3000|"
   ]
  },
  {
   "cell_type": "code",
   "execution_count": 1,
   "id": "81348a70-8dd0-415e-a666-4dd74f9e347f",
   "metadata": {},
   "outputs": [
    {
     "data": {
      "text/plain": [
       "{'김밥': 2000, '떡볶이': 2500, '어묵': 2000, '튀김': 3000}"
      ]
     },
     "execution_count": 1,
     "metadata": {},
     "output_type": "execute_result"
    }
   ],
   "source": [
    "menu = {'김밥':2000, '떡볶이':2500, '어묵':2000, '튀김':3000}\n",
    "menu"
   ]
  },
  {
   "cell_type": "code",
   "execution_count": 2,
   "id": "42e42c7b-d41d-446b-9364-b472b5fd81b3",
   "metadata": {},
   "outputs": [],
   "source": [
    "menu2 = {'김밥':2000, \n",
    "         '떡볶이':2500, \n",
    "         '어묵':2000, \n",
    "         '튀김':3000}"
   ]
  },
  {
   "cell_type": "code",
   "execution_count": 3,
   "id": "abc6bf88-f362-4975-8e4b-0048ad82dc10",
   "metadata": {},
   "outputs": [
    {
     "data": {
      "text/plain": [
       "{'김밥': 2000, '떡볶이': 2500, '어묵': 2000, '튀김': 3000}"
      ]
     },
     "execution_count": 3,
     "metadata": {},
     "output_type": "execute_result"
    }
   ],
   "source": [
    "menu2"
   ]
  },
  {
   "cell_type": "markdown",
   "id": "73db2161-9ddf-48e4-96ee-f7f55ed3d530",
   "metadata": {},
   "source": [
    "## dict로 딕셔너리 만들기\n",
    "* 딕셔너리명 = dict(키1=값1, 키2=값2,...,)\n",
    "* 키에 따옴표('')를 쓰지 않는다는 점에 주의한다.\n",
    "* 키에 따옴표('')를 쓰지 않아도 딕셔너리가 생성되면서 자동으로 문자열형으로 지정된다."
   ]
  },
  {
   "cell_type": "code",
   "execution_count": 4,
   "id": "6d16958c-563e-4e9c-b102-dbdc6f22a7b2",
   "metadata": {},
   "outputs": [
    {
     "data": {
      "text/plain": [
       "{'김밥': 2000, '떡볶이': 2500, '어묵': 2000, '튀김': 3000}"
      ]
     },
     "execution_count": 4,
     "metadata": {},
     "output_type": "execute_result"
    }
   ],
   "source": [
    "menu1 = dict(김밥=2000, 떡볶이=2500, 어묵=2000, 튀김=3000)\n",
    "menu1"
   ]
  },
  {
   "cell_type": "markdown",
   "id": "ed54b170-e189-456c-bd24-459dd1960826",
   "metadata": {},
   "source": [
    "* 딕셔너리명 = dict(zip(key리스트, value리스트))"
   ]
  },
  {
   "cell_type": "code",
   "execution_count": 5,
   "id": "d9b839b0-3708-40c7-85dc-791fe20276e5",
   "metadata": {},
   "outputs": [
    {
     "data": {
      "text/plain": [
       "{'김밥': 2000, '떡볶이': 2500, '어묵': 2000, '튀김': 3000}"
      ]
     },
     "execution_count": 5,
     "metadata": {},
     "output_type": "execute_result"
    }
   ],
   "source": [
    "key_list = ['김밥','떡볶이','어묵','튀김']\n",
    "value_list = [2000,2500,2000,3000]\n",
    "\n",
    "menu3 = dict(zip(key_list,value_list))\n",
    "menu3"
   ]
  },
  {
   "cell_type": "markdown",
   "id": "6939e6d4-da82-4fb7-839d-7629e53bd37d",
   "metadata": {},
   "source": [
    "## 딕셔너리에 사용할 수 있는 자료형\n",
    "* 딕셔너리의 value에는 모든 자료형을 혼합하여 사용할 수 있다."
   ]
  },
  {
   "cell_type": "code",
   "execution_count": 6,
   "id": "11c981a5-1ab3-4b65-a9a0-ba101f86fbec",
   "metadata": {},
   "outputs": [],
   "source": [
    "person = {'name':'james', \n",
    "          '나이':25,\n",
    "          '키':175.5,\n",
    "          '시력':(1.0,1.0),\n",
    "          '취미':['운동','독서']}"
   ]
  },
  {
   "cell_type": "code",
   "execution_count": 7,
   "id": "7e9c2922-8582-4ac7-92e1-4cdd73756d79",
   "metadata": {},
   "outputs": [
    {
     "data": {
      "text/plain": [
       "{'name': 'james', '나이': 25, '키': 175.5, '시력': (1.0, 1.0), '취미': ['운동', '독서']}"
      ]
     },
     "execution_count": 7,
     "metadata": {},
     "output_type": "execute_result"
    }
   ],
   "source": [
    "person"
   ]
  },
  {
   "cell_type": "code",
   "execution_count": 8,
   "id": "e9cd627f-e2ed-4d0f-99bf-1af490b8ba79",
   "metadata": {},
   "outputs": [
    {
     "data": {
      "text/plain": [
       "['운동', '독서']"
      ]
     },
     "execution_count": 8,
     "metadata": {},
     "output_type": "execute_result"
    }
   ],
   "source": [
    "#취미 출력하기\n",
    "person['취미']"
   ]
  },
  {
   "cell_type": "markdown",
   "id": "925ce3c1-5377-4a57-9c54-18b39d64326d",
   "metadata": {},
   "source": [
    "## 딕셔너리명.get(key, msg)\n",
    "* 존재하지 않는 key로 추출 시도해도 오류가 발생하지 않는다.\n",
    "* 존재하지 않는 key로 추출 시도할 경우 출력할 메시지를 설정할 수 있다."
   ]
  },
  {
   "cell_type": "code",
   "execution_count": 9,
   "id": "3784d91d-9482-46c1-98fa-8aa243ece0b7",
   "metadata": {},
   "outputs": [
    {
     "data": {
      "text/plain": [
       "25"
      ]
     },
     "execution_count": 9,
     "metadata": {},
     "output_type": "execute_result"
    }
   ],
   "source": [
    "person.get('나이')"
   ]
  },
  {
   "cell_type": "code",
   "execution_count": 11,
   "id": "efa0f2bc-daea-4e74-9fa2-b9c4d292ab8b",
   "metadata": {},
   "outputs": [
    {
     "data": {
      "text/plain": [
       "'존재하지 않음'"
      ]
     },
     "execution_count": 11,
     "metadata": {},
     "output_type": "execute_result"
    }
   ],
   "source": [
    "person.get('몸무게','존재하지 않음')"
   ]
  },
  {
   "cell_type": "code",
   "execution_count": 12,
   "id": "96da2153-ba85-4cf8-8521-f189c5411dec",
   "metadata": {},
   "outputs": [
    {
     "ename": "KeyError",
     "evalue": "'몸무게'",
     "output_type": "error",
     "traceback": [
      "\u001b[1;31m---------------------------------------------------------------------------\u001b[0m",
      "\u001b[1;31mKeyError\u001b[0m                                  Traceback (most recent call last)",
      "Input \u001b[1;32mIn [12]\u001b[0m, in \u001b[0;36m<cell line: 1>\u001b[1;34m()\u001b[0m\n\u001b[1;32m----> 1\u001b[0m \u001b[43mperson\u001b[49m\u001b[43m[\u001b[49m\u001b[38;5;124;43m'\u001b[39;49m\u001b[38;5;124;43m몸무게\u001b[39;49m\u001b[38;5;124;43m'\u001b[39;49m\u001b[43m]\u001b[49m\n",
      "\u001b[1;31mKeyError\u001b[0m: '몸무게'"
     ]
    }
   ],
   "source": [
    "person['몸무게']"
   ]
  },
  {
   "cell_type": "code",
   "execution_count": null,
   "id": "b0a53086-0123-48b8-a387-be4e3279cb5c",
   "metadata": {},
   "outputs": [],
   "source": [
    "# 딕셔너리 항목 추가/수정\n",
    "## 딕셔너리명[키]=값\n",
    "* 키가 존재하지 않으면 추가, 존재하면 수정된다."
   ]
  },
  {
   "cell_type": "code",
   "execution_count": 14,
   "id": "925734f7-390b-40a3-aca6-41e19ad90136",
   "metadata": {},
   "outputs": [
    {
     "data": {
      "text/plain": [
       "{'kor': 100, 'eng': 90, 'math': 85, 'music': 95}"
      ]
     },
     "execution_count": 14,
     "metadata": {},
     "output_type": "execute_result"
    }
   ],
   "source": [
    "scores = {'kor':100, 'eng':90, 'math':80}\n",
    "\n",
    "# math 85점으로 수정 -> 값을 바로 써 주면 됩니다.\n",
    "scores['math'] = 85\n",
    "# music 95점으로 추가\n",
    "scores['music'] = 95\n",
    "scores"
   ]
  },
  {
   "cell_type": "code",
   "execution_count": null,
   "id": "6df3d292-cb8e-4abb-8259-c35faebbad5e",
   "metadata": {},
   "outputs": [],
   "source": []
  }
 ],
 "metadata": {
  "kernelspec": {
   "display_name": "Python 3 (ipykernel)",
   "language": "python",
   "name": "python3"
  },
  "language_info": {
   "codemirror_mode": {
    "name": "ipython",
    "version": 3
   },
   "file_extension": ".py",
   "mimetype": "text/x-python",
   "name": "python",
   "nbconvert_exporter": "python",
   "pygments_lexer": "ipython3",
   "version": "3.9.7"
  }
 },
 "nbformat": 4,
 "nbformat_minor": 5
}
