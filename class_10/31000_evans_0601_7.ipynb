{
 "cells": [
  {
   "cell_type": "markdown",
   "id": "78be4e95-794c-44c5-bc61-eda3bbc9f759",
   "metadata": {},
   "source": [
    "3100_evans_0601_1"
   ]
  },
  {
   "cell_type": "markdown",
   "id": "ba5d703d-5655-4788-8a33-4ab7f403095e",
   "metadata": {},
   "source": [
    "## 수행평가 예상문제\n",
    "> 문제 2 <br>\n",
    "구구단을 외자!!! 게임 프로그램"
   ]
  },
  {
   "cell_type": "code",
   "execution_count": 1,
   "id": "0b38e271-4cbb-4a33-b0ff-0b67423a517f",
   "metadata": {},
   "outputs": [
    {
     "name": "stdout",
     "output_type": "stream",
     "text": [
      "구구단을 외자!!! 게임 프로그램\n",
      "6 x 1 = ?\n"
     ]
    },
    {
     "name": "stdin",
     "output_type": "stream",
     "text": [
      " 7\n"
     ]
    },
    {
     "name": "stdout",
     "output_type": "stream",
     "text": [
      "오답!\n",
      "6 x 1 = ?\n"
     ]
    },
    {
     "name": "stdin",
     "output_type": "stream",
     "text": [
      " 6\n"
     ]
    },
    {
     "name": "stdout",
     "output_type": "stream",
     "text": [
      "정답!\n",
      "4 x 2 = ?\n"
     ]
    },
    {
     "name": "stdin",
     "output_type": "stream",
     "text": [
      " 9\n"
     ]
    },
    {
     "name": "stdout",
     "output_type": "stream",
     "text": [
      "오답!\n",
      "5 x 9 = ?\n"
     ]
    },
    {
     "name": "stdin",
     "output_type": "stream",
     "text": [
      " 46\n"
     ]
    },
    {
     "name": "stdout",
     "output_type": "stream",
     "text": [
      "오답!\n",
      "3 x 5 = ?\n"
     ]
    },
    {
     "name": "stdin",
     "output_type": "stream",
     "text": [
      " 15\n"
     ]
    },
    {
     "name": "stdout",
     "output_type": "stream",
     "text": [
      "정답!\n",
      "정답 갯수 : 2, 오답 갯수 : 3\n"
     ]
    }
   ],
   "source": [
    "# 난수 랜덤 random\n",
    "import random\n",
    "print('구구단을 외자!!! 게임 프로그램')\n",
    "\n",
    "# 정답, 오답 카운트를 위한 변수 선언\n",
    "t_cnt = 0\n",
    "f_cnt = 0\n",
    "\n",
    "for i in range(5) :\n",
    "    a = random.randint(2,9)\n",
    "    b = random.randint(1,9)\n",
    "    print(f'{a} x {b} = ?')\n",
    "    # 정답 입력 받기\n",
    "    answer = int(input(''))\n",
    "    if a * b == answer :\n",
    "        print('정답!')\n",
    "        #t_cnt += 1\n",
    "        t_cnt = t_cnt + 1\n",
    "    else :\n",
    "        print('오답!')\n",
    "        f_cnt = f_cnt + 1\n",
    "\n",
    "print(f'정답 갯수 : {t_cnt}, 오답 갯수 : {f_cnt}')"
   ]
  },
  {
   "cell_type": "code",
   "execution_count": 2,
   "id": "9308e597-d948-4cf5-b533-6e345ac55d55",
   "metadata": {},
   "outputs": [
    {
     "name": "stdout",
     "output_type": "stream",
     "text": [
      "1부터 1000까지 숫자 중에서 2의배수이거나 3의배수면 더하는 프로그램\n",
      "결과 : 334167\n"
     ]
    }
   ],
   "source": [
    "# 변수 결과값, 증가값, while문안에 if\n",
    "# if 2의배수 3의배수\n",
    "# 모범답안\n",
    "print(f'1부터 1000까지 숫자 중에서 2의배수이거나 3의배수면 더하는 프로그램')\n",
    "res = 0\n",
    "num = 1\n",
    "while num <= 1000 :\n",
    "\tif num % 2 == 0 or num % 3 == 0 :\n",
    "    \t      #res += num\n",
    "    \t      res = res + num\n",
    "\tnum += 1\n",
    "print(f'결과 : {res}')\n"
   ]
  },
  {
   "cell_type": "code",
   "execution_count": null,
   "id": "420f3232-755f-4584-a6e6-25b628695e3b",
   "metadata": {},
   "outputs": [],
   "source": []
  }
 ],
 "metadata": {
  "kernelspec": {
   "display_name": "Python 3 (ipykernel)",
   "language": "python",
   "name": "python3"
  },
  "language_info": {
   "codemirror_mode": {
    "name": "ipython",
    "version": 3
   },
   "file_extension": ".py",
   "mimetype": "text/x-python",
   "name": "python",
   "nbconvert_exporter": "python",
   "pygments_lexer": "ipython3",
   "version": "3.9.7"
  }
 },
 "nbformat": 4,
 "nbformat_minor": 5
}
