{
 "cells": [
  {
   "cell_type": "markdown",
   "id": "a5faa1f7-4868-4be1-a95d-2dab337d91d2",
   "metadata": {},
   "source": [
    "31000_evans_0329_1"
   ]
  },
  {
   "cell_type": "markdown",
   "id": "c1774be0-3114-48e7-80f2-cbee5a78acc7",
   "metadata": {},
   "source": [
    "#### 5. 랜덤 구구단 게임 작성하기\n",
    "\n",
    "> 랜덤으로 곱셈문제를 내고, 답을 맞추는 게임 <br>\n",
    "  라이브러리 random-> import random"
   ]
  },
  {
   "cell_type": "code",
   "execution_count": 3,
   "id": "dacd52e3-433b-4345-bf9b-3f93bf9cfeb2",
   "metadata": {},
   "outputs": [
    {
     "data": {
      "text/plain": [
       "0.40553794090384054"
      ]
     },
     "execution_count": 3,
     "metadata": {},
     "output_type": "execute_result"
    }
   ],
   "source": [
    "# 난수 알아보기\n",
    "import random\n",
    "\n",
    "random.random()"
   ]
  },
  {
   "cell_type": "code",
   "execution_count": 4,
   "id": "3507dca8-ddb6-4f8f-999c-1f3195866974",
   "metadata": {},
   "outputs": [
    {
     "name": "stdout",
     "output_type": "stream",
     "text": [
      "Help on built-in function random:\n",
      "\n",
      "random() method of random.Random instance\n",
      "    random() -> x in the interval [0, 1).\n",
      "\n"
     ]
    }
   ],
   "source": [
    "help(random.random)"
   ]
  },
  {
   "cell_type": "code",
   "execution_count": 7,
   "id": "eea7e1e2-8aac-492c-b073-057f57670b0c",
   "metadata": {},
   "outputs": [
    {
     "data": {
      "text/plain": [
       "6"
      ]
     },
     "execution_count": 7,
     "metadata": {},
     "output_type": "execute_result"
    }
   ],
   "source": [
    "# 난수중에 정수를 사용하는 함수 randint\n",
    "random.randint(1,10)"
   ]
  },
  {
   "cell_type": "code",
   "execution_count": 8,
   "id": "8a1f0be8-1c4d-4b4a-b237-e157517e1bf6",
   "metadata": {},
   "outputs": [
    {
     "name": "stdout",
     "output_type": "stream",
     "text": [
      "Help on method randint in module random:\n",
      "\n",
      "randint(a, b) method of random.Random instance\n",
      "    Return random integer in range [a, b], including both end points.\n",
      "\n"
     ]
    }
   ],
   "source": [
    "help(random.randint)"
   ]
  },
  {
   "cell_type": "markdown",
   "id": "36d3af9b-bc20-443c-90e6-6b38d09ffabf",
   "metadata": {},
   "source": [
    "구구단 게임 형식 \n",
    "\n",
    "```\n",
    "구구단을 외자! 구구단을 외자! \n",
    "7 x 9 ? 63\n",
    "3 x 7 ? 21\n",
    "....\n",
    "```"
   ]
  },
  {
   "cell_type": "code",
   "execution_count": 9,
   "id": "02ecf942-aec0-4bb3-a9c4-cac724e3be72",
   "metadata": {},
   "outputs": [
    {
     "name": "stdout",
     "output_type": "stream",
     "text": [
      "9 x 7 =\n",
      "5 x 7 =\n",
      "8 x 4 =\n",
      "9 x 5 =\n",
      "7 x 9 =\n"
     ]
    }
   ],
   "source": [
    "#구구단 게임\n",
    "import random\n",
    "\n",
    "for i in range(5) :\n",
    "    num1 = random.randint(2,9)\n",
    "    num2 = random.randint(1,9)\n",
    "    print(num1,'x',num2,'=')"
   ]
  },
  {
   "cell_type": "code",
   "execution_count": 11,
   "id": "1265b421-fe66-4baf-814a-ceb913dec7e0",
   "metadata": {},
   "outputs": [
    {
     "name": "stdout",
     "output_type": "stream",
     "text": [
      "구구단을 외자 구구단을 외자\n"
     ]
    },
    {
     "name": "stdin",
     "output_type": "stream",
     "text": [
      "2 x 8 = 17\n"
     ]
    },
    {
     "name": "stdout",
     "output_type": "stream",
     "text": [
      "땡!!! 정답은  16\n"
     ]
    },
    {
     "name": "stdin",
     "output_type": "stream",
     "text": [
      "2 x 7 = 14\n",
      "7 x 7 = 48\n"
     ]
    },
    {
     "name": "stdout",
     "output_type": "stream",
     "text": [
      "땡!!! 정답은  49\n"
     ]
    },
    {
     "name": "stdin",
     "output_type": "stream",
     "text": [
      "9 x 2 = 17\n"
     ]
    },
    {
     "name": "stdout",
     "output_type": "stream",
     "text": [
      "땡!!! 정답은  18\n"
     ]
    },
    {
     "name": "stdin",
     "output_type": "stream",
     "text": [
      "9 x 8 = 73\n"
     ]
    },
    {
     "name": "stdout",
     "output_type": "stream",
     "text": [
      "땡!!! 정답은  72\n"
     ]
    }
   ],
   "source": [
    "# 구구단 게임에 입력칸을 만들어 봅시다. input\n",
    "import random\n",
    "print('구구단을 외자 구구단을 외자')\n",
    "for i in range(5) :\n",
    "    num1 = random.randint(2,9)\n",
    "    num2 = random.randint(1,9)\n",
    "    question = str(num1)+' x '+str(num2)+' ='\n",
    "    # 입력된 답을 저장하는 변수 만들어 봅시다\n",
    "    answer = int(input(question))\n",
    "    \n",
    "    #정답확인을 만들어 봅시다.\n",
    "    if answer != num1*num2 :\n",
    "        print('땡!!! 정답은 ', num1*num2)"
   ]
  },
  {
   "cell_type": "code",
   "execution_count": null,
   "id": "bdc22de2-6983-4ad4-b9e7-3e6910ecd020",
   "metadata": {},
   "outputs": [],
   "source": []
  }
 ],
 "metadata": {
  "kernelspec": {
   "display_name": "Python 3 (ipykernel)",
   "language": "python",
   "name": "python3"
  },
  "language_info": {
   "codemirror_mode": {
    "name": "ipython",
    "version": 3
   },
   "file_extension": ".py",
   "mimetype": "text/x-python",
   "name": "python",
   "nbconvert_exporter": "python",
   "pygments_lexer": "ipython3",
   "version": "3.9.7"
  }
 },
 "nbformat": 4,
 "nbformat_minor": 5
}
