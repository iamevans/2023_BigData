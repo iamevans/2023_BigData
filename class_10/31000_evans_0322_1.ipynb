{
 "cells": [
  {
   "cell_type": "markdown",
   "id": "fd1f856e-e621-440f-be62-9be8eccfc371",
   "metadata": {},
   "source": [
    "31000_evans_0322_1"
   ]
  },
  {
   "cell_type": "markdown",
   "id": "1e0fcbf6-a8ad-4312-9e4c-4ec15b6092a0",
   "metadata": {},
   "source": [
    "자동 출석 시스템 \n",
    "```\n",
    "출석 혹은 결석을 입력받아 출석이면 O을 출력, 출석이 아니면 X를 출력하기\n",
    "입력안내문 : 출석 혹은 결석을 입력하세요\n",
    "```"
   ]
  },
  {
   "cell_type": "code",
   "execution_count": 1,
   "id": "60bf8795-08a3-4817-89ed-40498f92fbab",
   "metadata": {},
   "outputs": [
    {
     "name": "stdin",
     "output_type": "stream",
     "text": [
      "출석 혹은 결석을 입력하세요  출석\n"
     ]
    },
    {
     "name": "stdout",
     "output_type": "stream",
     "text": [
      "0\n"
     ]
    }
   ],
   "source": [
    "check = input('출석 혹은 결석을 입력하세요 ')\n",
    "if check == '출석' : \n",
    "    print('0')\n",
    "else : \n",
    "    print('X')"
   ]
  },
  {
   "cell_type": "markdown",
   "id": "c45a806c-6832-420b-b749-0c65dbc28ade",
   "metadata": {},
   "source": [
    "무인계산기 프로그램\n",
    "```\n",
    "목욕탕에서 무인계산기를 설치했다. \n",
    "성인 요금은 15000원, 미성년자 요금은 6000원이다. \n",
    "나이를 입력받아 성인이면 price(요금을 저장하는 변수)에 15000을, 미성년자라면 6000을 저장하기 \n",
    "```\n",
    ">나이가 어떻게 되세요? 35<br>\n",
    " 성인은 15000 원입니다."
   ]
  },
  {
   "cell_type": "code",
   "execution_count": 2,
   "id": "1479fd12-469a-4f87-8d70-23dc193aaa9c",
   "metadata": {},
   "outputs": [
    {
     "name": "stdin",
     "output_type": "stream",
     "text": [
      "나이가 어떻게 되세요?  35\n"
     ]
    },
    {
     "name": "stdout",
     "output_type": "stream",
     "text": [
      "성인은 15000 원 입니다.\n"
     ]
    }
   ],
   "source": [
    "age = int(input('나이가 어떻게 되세요? '))\n",
    "\n",
    "if age >= 20 :\n",
    "    price = 15000\n",
    "    print('성인은',price,'원 입니다.')\n",
    "else :\n",
    "    price = 6000\n",
    "    print('미성년자는',price,'원 입니다.')"
   ]
  },
  {
   "cell_type": "markdown",
   "id": "53793def-65f1-464b-9f95-26616e35ba7c",
   "metadata": {},
   "source": [
    "# 4. elif 조건문\n",
    "\n",
    "```\n",
    "if 조건1 :\n",
    "   실행문1\n",
    "elif 조건2 :\n",
    "   실행문2\n",
    "else :\n",
    "   실행문3\n",
    "```\n",
    "\n",
    "<img src='https://github.com/teacher-jiejie/allinone_AI/blob/images/68_elif.png?raw=true' width=400>\n"
   ]
  },
  {
   "cell_type": "markdown",
   "id": "b81a687b-0fd1-4b67-9d2d-2ad7232abd75",
   "metadata": {},
   "source": [
    "최저 주문금액이 있는 새벽배송 \n",
    "```\n",
    "- 최저 구매금액이 2만 원 \n",
    "- 5만 원 미만은 배송비 2500원 추가\n",
    "- 5만 원 이상 이면 무료배송\n",
    "\n",
    "구매금액을 입력받아 조건 별로 \n",
    "- '새벽배송이 불가합니다.'\n",
    "- '배송비 2500원이 추가됩니다.'\n",
    "- '무료배송됩니다.'\n",
    "중 하나를 출력하기\n",
    "```\n",
    "#### 출력형태\n",
    "> 구매금액은?35000<br>\n",
    "  배송비 2500원이 추가됩니다.\n",
    "\n",
    "<img src='https://github.com/teacher-jiejie/allinone_AI/blob/images/67_elif.png?raw=true' width=600>"
   ]
  },
  {
   "cell_type": "code",
   "execution_count": 3,
   "id": "fe138fd7-b18d-41f2-b8dd-55856df79ee9",
   "metadata": {},
   "outputs": [
    {
     "name": "stdin",
     "output_type": "stream",
     "text": [
      "구매금액은? 35000\n"
     ]
    },
    {
     "name": "stdout",
     "output_type": "stream",
     "text": [
      "배송비 2500원이 추가됩니다.\n"
     ]
    }
   ],
   "source": [
    "price = int(input('구매금액은?'))\n",
    "\n",
    "if price < 20000 : \n",
    "    print('새벽배송이 불가능합니다.')\n",
    "elif price < 50000 : \n",
    "    print('배송비 2500원이 추가됩니다.')\n",
    "else : \n",
    "    print('무료배송 됩니다.')"
   ]
  },
  {
   "cell_type": "code",
   "execution_count": null,
   "id": "2edb83bb-ca7b-4b3a-adb6-e24b6b310419",
   "metadata": {},
   "outputs": [],
   "source": []
  }
 ],
 "metadata": {
  "kernelspec": {
   "display_name": "Python 3 (ipykernel)",
   "language": "python",
   "name": "python3"
  },
  "language_info": {
   "codemirror_mode": {
    "name": "ipython",
    "version": 3
   },
   "file_extension": ".py",
   "mimetype": "text/x-python",
   "name": "python",
   "nbconvert_exporter": "python",
   "pygments_lexer": "ipython3",
   "version": "3.9.7"
  }
 },
 "nbformat": 4,
 "nbformat_minor": 5
}
