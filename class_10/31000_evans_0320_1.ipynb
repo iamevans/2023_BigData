{
 "cells": [
  {
   "cell_type": "markdown",
   "id": "670004c4-3f44-4480-a77a-e7babb1c0baa",
   "metadata": {},
   "source": [
    "31000_evans_0320_1"
   ]
  },
  {
   "cell_type": "markdown",
   "id": "f3ba3176-6259-4d12-a6a2-5f6cdd9f72cf",
   "metadata": {},
   "source": [
    "#  1. 조건문 if\n",
    "\n",
    "**조건문 : 조건을 충족할 때에만 선택적으로 실행되는 명령어**\n",
    "</br>\n",
    "**=선택구조**\n",
    "</br>\n",
    "\n",
    "\n",
    "```\n",
    "조건 A를 충족할 때에만\n",
    "B해라\n",
    "\n",
    "ex. 성인일 때에만 주류를 판매해라 \n",
    "```\n",
    "\n",
    "<img src = 'https://github.com/teacher-jiejie/allinone_AI/blob/images/71_if.png?raw=true' width=500>\n"
   ]
  },
  {
   "cell_type": "code",
   "execution_count": 4,
   "id": "2f3971ed-0aba-46df-a901-536a5f095bfc",
   "metadata": {},
   "outputs": [
    {
     "name": "stdin",
     "output_type": "stream",
     "text": [
      "당신의 나이를 입력하세요? :  19\n"
     ]
    },
    {
     "name": "stdout",
     "output_type": "stream",
     "text": [
      "술을 구매 할 수 없습니다.\n"
     ]
    }
   ],
   "source": [
    "# 만약 미성년자라면 술을 구매할 수 없다고 출력\n",
    "age = int(input('당신의 나이를 입력하세요? : '))\n",
    "\n",
    "if age < 20 :\n",
    "    # 조건을 충족할 때만 실행\n",
    "    print('술을 구매 할 수 없습니다.')"
   ]
  },
  {
   "cell_type": "markdown",
   "id": "09458a15-3515-4374-8a83-f0537e576337",
   "metadata": {},
   "source": [
    "#### 문제1\n",
    "물건 금액을 입력받고 물건이 오만원 미만일 경우 배송비 2500원을 더해서 결제금액을 안내하시오. \n",
    "\n",
    "```\n",
    "물건 가격을 입력하세요? \n",
    "총 결제금액은 \n",
    "```"
   ]
  },
  {
   "cell_type": "code",
   "execution_count": 6,
   "id": "d2149c83-8d4a-48ad-958a-c0f6d6207883",
   "metadata": {},
   "outputs": [
    {
     "name": "stdin",
     "output_type": "stream",
     "text": [
      "물건 가격 입력 :  49999\n"
     ]
    },
    {
     "name": "stdout",
     "output_type": "stream",
     "text": [
      "총 결제금액은  52499\n"
     ]
    }
   ],
   "source": [
    "price = int(input('물건 가격 입력 : '))\n",
    "\n",
    "if price < 50000 :\n",
    "    price += 2500\n",
    "print('총 결제금액은 ', price)"
   ]
  },
  {
   "cell_type": "markdown",
   "id": "bfba36a8-0d27-407f-a0ce-12b676be4485",
   "metadata": {},
   "source": [
    "# 2. 조건을 만드는 비교연산자\n",
    "\n",
    "a와 b가 같다면\n",
    "> if a == b :      \n",
    "\n",
    "</br>\n",
    "\n",
    "a와 b가 같지 않다면\n",
    "\n",
    "> if a != b :   \n",
    "\n",
    "</br>\n",
    "</br>\n",
    "\n",
    "a가 b보다 크다면\n",
    "> if a > b :     \n",
    "\n",
    "a가 b보다 크거나 같다면 \n",
    "> if a >= b :      \n",
    "\n",
    "a가 b보다 작다면\n",
    "> if a < b :        \n",
    "\n",
    "a가 b보다 작거나 같다면\n",
    "> if a <= b :   "
   ]
  },
  {
   "cell_type": "markdown",
   "id": "f18150d6-47e5-4dee-8c06-0a8efb60c568",
   "metadata": {},
   "source": [
    "### 문제2\n",
    "출석 혹은 결석 둘 중 하나를 입력받고, 출석을 입력받았을 경우 O를 출력하기"
   ]
  },
  {
   "cell_type": "code",
   "execution_count": 8,
   "id": "d5162857-6e4c-4c70-9b4c-6376cec8a0ea",
   "metadata": {},
   "outputs": [
    {
     "name": "stdin",
     "output_type": "stream",
     "text": [
      "출력 혹은 결석을 입력하세요 :  출석\n"
     ]
    },
    {
     "name": "stdout",
     "output_type": "stream",
     "text": [
      "0\n"
     ]
    }
   ],
   "source": [
    "# 출석 입력 변수 check\n",
    "check = input('출력 혹은 결석을 입력하세요 : ')\n",
    "if check == '출석' :\n",
    "    print('0')"
   ]
  },
  {
   "cell_type": "code",
   "execution_count": null,
   "id": "8f2ddd04-22e3-4add-be85-9ac1d5cde789",
   "metadata": {},
   "outputs": [],
   "source": []
  }
 ],
 "metadata": {
  "kernelspec": {
   "display_name": "Python 3 (ipykernel)",
   "language": "python",
   "name": "python3"
  },
  "language_info": {
   "codemirror_mode": {
    "name": "ipython",
    "version": 3
   },
   "file_extension": ".py",
   "mimetype": "text/x-python",
   "name": "python",
   "nbconvert_exporter": "python",
   "pygments_lexer": "ipython3",
   "version": "3.9.7"
  }
 },
 "nbformat": 4,
 "nbformat_minor": 5
}
