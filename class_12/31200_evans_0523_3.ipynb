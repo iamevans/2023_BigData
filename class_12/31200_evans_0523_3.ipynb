{
 "cells": [
  {
   "cell_type": "markdown",
   "id": "c27c9206-ef72-4140-a05d-893da0805c91",
   "metadata": {},
   "source": [
    "31200_evans_0523_3"
   ]
  },
  {
   "cell_type": "markdown",
   "id": "95d956c3-e9ba-44d0-8034-dbdf37f071b7",
   "metadata": {},
   "source": [
    "# 값 1개 반환하기"
   ]
  },
  {
   "cell_type": "code",
   "execution_count": 3,
   "id": "7733aa53-fa29-485a-b224-cc0387ebf0c0",
   "metadata": {},
   "outputs": [
    {
     "name": "stdout",
     "output_type": "stream",
     "text": [
      "plus : 7\n"
     ]
    }
   ],
   "source": [
    "# 두 수를 매개변수로 받아 더한 후에 결과를 리턴하는 함수 \n",
    "\n",
    "def get_plus(n1, n2):\n",
    "    return n1+n2\n",
    "\n",
    "plus = get_plus(3,4)\n",
    "print('plus :',plus)"
   ]
  },
  {
   "cell_type": "markdown",
   "id": "0b8501b1-46bd-43a8-afe3-f9bc69a898c7",
   "metadata": {},
   "source": [
    "# 값 여러개 반환하기\n",
    "* 여러개의 값을 하나의 튜플로 묶어서 반환한다."
   ]
  },
  {
   "cell_type": "code",
   "execution_count": 5,
   "id": "25ccd4d9-f5cd-4692-8e59-7e0e129ddf71",
   "metadata": {},
   "outputs": [
    {
     "name": "stdout",
     "output_type": "stream",
     "text": [
      "plus :  7 minus :  -1\n"
     ]
    }
   ],
   "source": [
    "# 두 수를 매개변수로 받아 더한값과 뺀 값을 동시에 리턴하는 함수 만들기\n",
    "def get_plus_minus(n1,n2):\n",
    "    return n1+n2, n1-n2\n",
    "\n",
    "result = get_plus_minus(3,4)\n",
    "#result\n",
    "\n",
    "plus, minus = get_plus_minus(3,4)\n",
    "print('plus : ', plus, 'minus : ', minus)"
   ]
  },
  {
   "cell_type": "markdown",
   "id": "4753faa9-fedc-4b5a-ae11-53de8dbf2d9e",
   "metadata": {},
   "source": [
    "# 함수에서 빠져나오기\n",
    "* return을 만나면 함수를 빠져나온다.\n",
    "* 반환할 값이 있다면 값을 반환하고 빠져나오고, 없다면 그냥 빠져나온다."
   ]
  },
  {
   "cell_type": "code",
   "execution_count": 6,
   "id": "bcba3ad2-c2b4-43ab-b415-a9eceae64e40",
   "metadata": {},
   "outputs": [
    {
     "data": {
      "text/plain": [
       "'홀수'"
      ]
     },
     "execution_count": 6,
     "metadata": {},
     "output_type": "execute_result"
    }
   ],
   "source": [
    "# 정수를 입력 받아 0, 짝수, 홀수 여부를 리턴하는 함수 만들어 봅시다\n",
    "\n",
    "# 0, 짝수, 홀수\n",
    "def is_odd_even(n):\n",
    "    if n == 0:\n",
    "        result = 0\n",
    "    elif n%2 == 0:\n",
    "        result = '짝수'\n",
    "    else :\n",
    "        result = '홀수'\n",
    "\n",
    "    return result\n",
    "\n",
    "is_odd_even(21)"
   ]
  },
  {
   "cell_type": "code",
   "execution_count": 8,
   "id": "a9ff6cd3-1ef5-4dce-9122-a3afb656749b",
   "metadata": {},
   "outputs": [
    {
     "data": {
      "text/plain": [
       "'홀수'"
      ]
     },
     "execution_count": 8,
     "metadata": {},
     "output_type": "execute_result"
    }
   ],
   "source": [
    "# 간단하게 변경\n",
    "def is_odd_even(n):\n",
    "    if n == 0:\n",
    "        return 0\n",
    "    if n%2 == 0:\n",
    "        return '짝수'\n",
    "    return '홀수'\n",
    "\n",
    "is_odd_even(23)"
   ]
  },
  {
   "cell_type": "markdown",
   "id": "7bd73652-01b8-4f50-866a-b474956d92a6",
   "metadata": {},
   "source": [
    "# 연습문제\n",
    "* 소수 여부 판단하기\n",
    "매개변수로 전달받은 수가 소수인지 아닌지 판별하는 함수를 작성하고 호출하세요.\n",
    "\n",
    "* 소수란 : 1과 자기 자신으로만 나누어 떨어지는 1보다 큰 양의 정수"
   ]
  },
  {
   "cell_type": "code",
   "execution_count": 13,
   "id": "f50ce277-3e33-48fe-9492-4bc05f2d225e",
   "metadata": {},
   "outputs": [
    {
     "data": {
      "text/plain": [
       "False"
      ]
     },
     "execution_count": 13,
     "metadata": {},
     "output_type": "execute_result"
    }
   ],
   "source": [
    "def is_prime(n):\n",
    "    if n<=1 :\n",
    "        return False\n",
    "    for i in range(2, n):\n",
    "        if n%i == 0 :\n",
    "            return False\n",
    "        \n",
    "    return True\n",
    "is_prime(8)\n"
   ]
  },
  {
   "cell_type": "markdown",
   "id": "0277d6dc-3130-4db5-bf90-b7a24fe35a61",
   "metadata": {},
   "source": [
    "# 위치인수\n",
    "\n",
    "* 기본적인 인수 전달방법이다.\n",
    "* 함수에 정의된 매개변수와 순서에 맞게 짝을 맞추어 인수를 전달한다."
   ]
  },
  {
   "cell_type": "code",
   "execution_count": 14,
   "id": "f6aa4468-a6ca-492d-982b-d5b29d7257d2",
   "metadata": {},
   "outputs": [
    {
     "name": "stdout",
     "output_type": "stream",
     "text": [
      "안녕!!! 길동아 오랜만이야\n"
     ]
    }
   ],
   "source": [
    "def greet(name, msg) :\n",
    "    print(f'안녕!!! {name} {msg}')\n",
    "    \n",
    "greet('길동아','오랜만이야')"
   ]
  },
  {
   "cell_type": "code",
   "execution_count": 15,
   "id": "813bb747-6ac3-4d46-881c-c07c06d24b20",
   "metadata": {},
   "outputs": [
    {
     "name": "stdout",
     "output_type": "stream",
     "text": [
      "안녕!!! 오랜만이야 길동아\n"
     ]
    }
   ],
   "source": [
    "def greet(name, msg) :\n",
    "    print(f'안녕!!! {msg} {name}')\n",
    "    \n",
    "greet('길동아','오랜만이야')"
   ]
  },
  {
   "cell_type": "markdown",
   "id": "aab918d0-54a3-4970-8d79-5045e73f69ca",
   "metadata": {},
   "source": [
    "# 디폴트인수\n",
    "\n",
    "* 함수를 정의할 때 매개변수에 디폴트값을 지정하면 디폴트값이 지정된 인수를 생략할 수 있다."
   ]
  },
  {
   "cell_type": "code",
   "execution_count": 19,
   "id": "5fec33c3-ad65-4832-900b-c644c9a0361a",
   "metadata": {},
   "outputs": [
    {
     "name": "stdout",
     "output_type": "stream",
     "text": [
      "안녕!!! 길동아 오랜만이야\n",
      "안녕!!! 꺽정아 반가워\n"
     ]
    }
   ],
   "source": [
    "def greet(name, msg=\"오랜만이야\") :\n",
    "    print(f'안녕!!! {name} {msg}')\n",
    "    \n",
    "greet('길동아')\n",
    "greet('꺽정아','반가워')"
   ]
  },
  {
   "cell_type": "markdown",
   "id": "114ebd89-1242-429f-9e7a-d2b70aa86663",
   "metadata": {},
   "source": [
    "* 디폴트 인수는 기본 위치 인수를 다 적은 다음에 적어야 한다."
   ]
  },
  {
   "cell_type": "code",
   "execution_count": 21,
   "id": "a2b4763e-fd66-433a-a18a-bc76b1741f2b",
   "metadata": {},
   "outputs": [],
   "source": [
    "def greet( msg, name ='길동'):\n",
    "    print(f'안녕!!!! {name} {msg}')"
   ]
  },
  {
   "cell_type": "markdown",
   "id": "939b186c-d487-48d8-ad69-44831f1ff9aa",
   "metadata": {},
   "source": [
    "# 키워드인수\n",
    "\n",
    "* 함수를 호출할 때 인수의 이름을 명시하면, 순서를 바꾸어 전달할 수 있다."
   ]
  },
  {
   "cell_type": "code",
   "execution_count": 31,
   "id": "68a813d9-d00c-44b5-a12f-238c702202a1",
   "metadata": {},
   "outputs": [
    {
     "name": "stdout",
     "output_type": "stream",
     "text": [
      "-20\n",
      "-20\n"
     ]
    }
   ],
   "source": [
    "def get_minus(x,y,z):\n",
    "    return x-y-z\n",
    "\n",
    "print(get_minus(5,10,15))\n",
    "print(get_minus(5,z=15,y=10))"
   ]
  },
  {
   "cell_type": "code",
   "execution_count": 34,
   "id": "817a3f4a-817a-428b-9766-412fa1553e70",
   "metadata": {},
   "outputs": [
    {
     "name": "stdout",
     "output_type": "stream",
     "text": [
      "-20\n",
      "-20\n"
     ]
    }
   ],
   "source": [
    "def get_minus(x,y,z):\n",
    "    return x-y-z\n",
    "\n",
    "print(get_minus(5,10,15))\n",
    "print(get_minus(5,10,z=15))"
   ]
  },
  {
   "cell_type": "markdown",
   "id": "b04cca49-b19d-4e80-b224-21c0b8f639c9",
   "metadata": {},
   "source": [
    "# 가변인수\n",
    "\n",
    "* 인수를 하나의 튜플이나 리스트로 전달한다."
   ]
  },
  {
   "cell_type": "code",
   "execution_count": 37,
   "id": "93552983-c385-493f-9953-a49dbba8ea51",
   "metadata": {},
   "outputs": [
    {
     "name": "stdout",
     "output_type": "stream",
     "text": [
      "2.0\n",
      "3.0\n"
     ]
    }
   ],
   "source": [
    "def get_aver(args):\n",
    "    return sum(args) / len(args)\n",
    "\n",
    "print(get_aver([1,2,3]))\n",
    "print(get_aver((1,2,3,4,5)))"
   ]
  },
  {
   "cell_type": "code",
   "execution_count": null,
   "id": "48e6a394-a47d-4d76-a561-5cb8bb1f733a",
   "metadata": {},
   "outputs": [],
   "source": []
  }
 ],
 "metadata": {
  "kernelspec": {
   "display_name": "Python 3 (ipykernel)",
   "language": "python",
   "name": "python3"
  },
  "language_info": {
   "codemirror_mode": {
    "name": "ipython",
    "version": 3
   },
   "file_extension": ".py",
   "mimetype": "text/x-python",
   "name": "python",
   "nbconvert_exporter": "python",
   "pygments_lexer": "ipython3",
   "version": "3.9.7"
  }
 },
 "nbformat": 4,
 "nbformat_minor": 5
}
