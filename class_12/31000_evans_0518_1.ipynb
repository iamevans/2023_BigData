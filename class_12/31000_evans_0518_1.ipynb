{
 "cells": [
  {
   "cell_type": "markdown",
   "id": "dd7e67d1-8b08-462f-bbbb-7b0421858f2b",
   "metadata": {},
   "source": [
    "31000_evans_0518_1"
   ]
  },
  {
   "cell_type": "markdown",
   "id": "ee46210b-4788-4858-aa27-8dc133cc7b50",
   "metadata": {},
   "source": [
    "# 사칙연산 프로그램\n",
    "* 두 수와 사칙연산기호(+,-,*,/)을 입력받아 연산 기호에 따라 연산 결과를 출력하는 프로그램을 작성하세요.\n",
    "* 사칙연산기호(+,-,*,/)가 아닌 경우 '잘못입력하셨습니다' 출력"
   ]
  },
  {
   "cell_type": "code",
   "execution_count": 4,
   "id": "1afccf8d-77f9-4eb3-aa9b-fd32f815c3a3",
   "metadata": {},
   "outputs": [
    {
     "name": "stdin",
     "output_type": "stream",
     "text": [
      "숫자1 :  5\n",
      "숫자2 :  7\n",
      "연산기호 :  1\n"
     ]
    },
    {
     "name": "stdout",
     "output_type": "stream",
     "text": [
      "연산기호를 잘못 입력하셨습니다.\n"
     ]
    }
   ],
   "source": [
    "num1 = int(input('숫자1 : '))\n",
    "num2 = int(input('숫자2 : '))\n",
    "op = input('연산기호 : ')\n",
    "\n",
    "if op == '+':\n",
    "    print(f'덧셈 : {num1} + {num2} = {num1+num2}')\n",
    "elif op == '-':\n",
    "    print(f'뺄셈 : {num1} - {num2} = {num1-num2}') \n",
    "elif op == '*':\n",
    "    print(f'곱셈 : {num1} * {num2} = {num1*num2}')\n",
    "elif op == '/':\n",
    "    print(f'나눗셈 : {num1} / {num2} = {num1/num2}')\n",
    "else:\n",
    "    print(f'연산기호를 잘못 입력하셨습니다.')"
   ]
  },
  {
   "cell_type": "markdown",
   "id": "c700ce8e-e2ec-4964-b4e4-dd4a8e283f0c",
   "metadata": {},
   "source": [
    "# 할인된 금액 계산\n",
    "* 물건 구매가를 입력받고, 금액에 따른 할인율을 계산하여 구매가, 할인율, 할인금액, 지불금액을 출력하세요.\n",
    "\n",
    "|금액|할인율|\n",
    "|----|------|\n",
    "|1만원이상 5만원미만|5%|\n",
    "|5만원이상 10만원미만|7%|\n",
    "|10만원이상|10%|\n",
    "\n",
    "출력\n",
    "```\n",
    "구매가 :\n",
    "할인율 :\n",
    "할인금액 :\n",
    "지불금액 :\n",
    "```"
   ]
  },
  {
   "cell_type": "code",
   "execution_count": 5,
   "id": "ca29ee5d-94fd-4b84-823d-2dadf4190dfb",
   "metadata": {},
   "outputs": [
    {
     "name": "stdin",
     "output_type": "stream",
     "text": [
      "물건 구매가 :  150000\n"
     ]
    },
    {
     "name": "stdout",
     "output_type": "stream",
     "text": [
      "\n",
      "구매가 : 150000원\n",
      "할인율 : 10%\n",
      "할인금액 : 15000.0원\n",
      "지불금액 : 135000.0원\n",
      "\n"
     ]
    }
   ],
   "source": [
    "#입력\n",
    "price = int(input('물건 구매가 : '))\n",
    "\n",
    "#할인율 판단\n",
    "if price >= 100000 :\n",
    "    dc = 10\n",
    "elif price >= 50000 :\n",
    "    dc = 7\n",
    "elif price >= 10000 :\n",
    "    dc = 5\n",
    "else :\n",
    "    dc = 0\n",
    "    \n",
    "print(f'''\n",
    "구매가 : {price}원\n",
    "할인율 : {dc}%\n",
    "할인금액 : {price*(dc/100)}원\n",
    "지불금액 : {price-price*(dc/100)}원\n",
    "''')"
   ]
  },
  {
   "cell_type": "code",
   "execution_count": null,
   "id": "788b802a-3284-423c-969a-fed67261af24",
   "metadata": {},
   "outputs": [],
   "source": []
  }
 ],
 "metadata": {
  "kernelspec": {
   "display_name": "Python 3 (ipykernel)",
   "language": "python",
   "name": "python3"
  },
  "language_info": {
   "codemirror_mode": {
    "name": "ipython",
    "version": 3
   },
   "file_extension": ".py",
   "mimetype": "text/x-python",
   "name": "python",
   "nbconvert_exporter": "python",
   "pygments_lexer": "ipython3",
   "version": "3.9.7"
  }
 },
 "nbformat": 4,
 "nbformat_minor": 5
}
