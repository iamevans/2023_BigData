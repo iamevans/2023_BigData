{
 "cells": [
  {
   "cell_type": "markdown",
   "id": "08a45453-2d2a-4935-a6ea-a3cf91b1c32d",
   "metadata": {},
   "source": [
    "31200_evans_0508_4"
   ]
  },
  {
   "cell_type": "markdown",
   "id": "383f80d3-31d2-4789-9b6a-e8d7c3b22546",
   "metadata": {},
   "source": [
    "# 영어단어장 만들기\n",
    "\n",
    "엔터를 입력할 때까지 영어단어,뜻을 입력받아 단어장을 만들고, 입력이 끝나면 단어 테스트를 실시하는 프로그램을 만들어봅시다.<br>\n",
    "1) 단어장을 만듭니다.<br>\n",
    "2) 단어테스트를 실시하고 맞은 갯수를 계산합니다.<br>\n",
    "3) 테스트가 끝나면 맞은갯수/전체단어수/점수 형태로 결과를 출력합니다<br>"
   ]
  },
  {
   "cell_type": "markdown",
   "id": "446e0898-a02e-40dd-a20a-8651211fee9c",
   "metadata": {},
   "source": [
    "## 단어장 만들기\n",
    "엔터('')를 입력할 때까지 영어단어,뜻을 입력받아 딕셔너리에 저장"
   ]
  },
  {
   "cell_type": "code",
   "execution_count": 3,
   "id": "5e98b0db-b1ea-45f7-9562-59d192343021",
   "metadata": {},
   "outputs": [
    {
     "name": "stdin",
     "output_type": "stream",
     "text": [
      "영어단어,뜻: apple,사과\n",
      "영어단어,뜻: banana,바나나\n",
      "영어단어,뜻: grapes,포도\n",
      "영어단어,뜻: kiwi,키위\n",
      "영어단어,뜻: \n"
     ]
    },
    {
     "data": {
      "text/plain": [
       "{'apple': '사과', 'banana': '바나나', 'grapes': '포도', 'kiwi': '키위'}"
      ]
     },
     "execution_count": 3,
     "metadata": {},
     "output_type": "execute_result"
    }
   ],
   "source": [
    "# 빈 딕셔너리 만든다.\n",
    "dict_word = {}\n",
    "\n",
    "while True:\n",
    "    input_word = input('영어단어,뜻:')\n",
    "    if input_word  == '':\n",
    "        break\n",
    "    eng = input_word.split(',')[0]\n",
    "    kor = input_word.split(',')[1]\n",
    "    dict_word[eng] = kor\n",
    "dict_word"
   ]
  },
  {
   "cell_type": "markdown",
   "id": "4b5ae511-d867-4f9b-8108-12dac9a2ae41",
   "metadata": {},
   "source": [
    "## 단어테스트\n",
    "\n",
    "단어장의 단어들을 모두 테스트<br>\n",
    "맞은 갯수는 별도로 카운트"
   ]
  },
  {
   "cell_type": "code",
   "execution_count": 4,
   "id": "e6d3ac24-5bff-4be5-9b9f-9bf85bcd7793",
   "metadata": {},
   "outputs": [
    {
     "name": "stdin",
     "output_type": "stream",
     "text": [
      "apple 사과\n"
     ]
    },
    {
     "name": "stdout",
     "output_type": "stream",
     "text": [
      "맞음\n"
     ]
    },
    {
     "name": "stdin",
     "output_type": "stream",
     "text": [
      "banana 버내너\n"
     ]
    },
    {
     "name": "stdout",
     "output_type": "stream",
     "text": [
      "틀림\n"
     ]
    },
    {
     "name": "stdin",
     "output_type": "stream",
     "text": [
      "grapes 포도\n"
     ]
    },
    {
     "name": "stdout",
     "output_type": "stream",
     "text": [
      "맞음\n"
     ]
    },
    {
     "name": "stdin",
     "output_type": "stream",
     "text": [
      "kiwi 기위\n"
     ]
    },
    {
     "name": "stdout",
     "output_type": "stream",
     "text": [
      "틀림\n"
     ]
    }
   ],
   "source": [
    "# 카운트 변수 초기화\n",
    "cnt = 0\n",
    "\n",
    "for eng,kor in dict_word.items():\n",
    "    answer = input(eng)\n",
    "    if answer == kor :\n",
    "        print(f'맞음')\n",
    "        cnt += 1\n",
    "    else:\n",
    "        print(f'틀림')"
   ]
  },
  {
   "cell_type": "markdown",
   "id": "2c4e9b90-982b-4f8b-9f16-d2b91cd0a24e",
   "metadata": {},
   "source": [
    "## 테스트 결과 출력\n",
    "맞은갯수/전체문제수/점수 출력"
   ]
  },
  {
   "cell_type": "code",
   "execution_count": 8,
   "id": "8a36f1f8-429d-4f02-a7d2-b0c2c16292af",
   "metadata": {},
   "outputs": [
    {
     "name": "stdout",
     "output_type": "stream",
     "text": [
      "맞은갯수 :  2\n",
      "전체문제수 :  4\n",
      "점수 :  50.0\n"
     ]
    }
   ],
   "source": [
    "print('맞은갯수 : ',cnt)\n",
    "print('전체문제수 : ', len(dict_word))\n",
    "print('점수 : ', round(cnt/len(dict_word)*100,1))"
   ]
  },
  {
   "cell_type": "code",
   "execution_count": null,
   "id": "13a79be3-34ae-40b6-b4c1-c6b4c46bd072",
   "metadata": {},
   "outputs": [],
   "source": []
  }
 ],
 "metadata": {
  "kernelspec": {
   "display_name": "Python 3 (ipykernel)",
   "language": "python",
   "name": "python3"
  },
  "language_info": {
   "codemirror_mode": {
    "name": "ipython",
    "version": 3
   },
   "file_extension": ".py",
   "mimetype": "text/x-python",
   "name": "python",
   "nbconvert_exporter": "python",
   "pygments_lexer": "ipython3",
   "version": "3.9.7"
  }
 },
 "nbformat": 4,
 "nbformat_minor": 5
}
