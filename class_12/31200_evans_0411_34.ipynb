{
 "cells": [
  {
   "cell_type": "markdown",
   "id": "6304c8ba-d524-4191-b379-ce10ee5eee84",
   "metadata": {},
   "source": [
    "31200_evans_0411_34"
   ]
  },
  {
   "cell_type": "markdown",
   "id": "8414f6ce-2666-45d9-812a-78bc24e4bec5",
   "metadata": {},
   "source": [
    "#  2.  리스트의 다양한 기능\n",
    "\n",
    "### 리스트 길이 확인 \n",
    "> len(리스트이름)    "
   ]
  },
  {
   "cell_type": "code",
   "execution_count": 1,
   "id": "9ea00d45-7573-4211-9aca-394958a4b9a6",
   "metadata": {},
   "outputs": [],
   "source": [
    "# 1월 지출부터 6월 지출까지 리스트로 만들기\n",
    "spending = [25, 36, 8, 53, 24, 56]"
   ]
  },
  {
   "cell_type": "code",
   "execution_count": 2,
   "id": "a4ec8c55-83a6-452c-aced-29e808af1a49",
   "metadata": {},
   "outputs": [
    {
     "data": {
      "text/plain": [
       "6"
      ]
     },
     "execution_count": 2,
     "metadata": {},
     "output_type": "execute_result"
    }
   ],
   "source": [
    "len(spending)"
   ]
  },
  {
   "cell_type": "markdown",
   "id": "be6c41bd-f0c4-4cba-ba8a-4b4201c4bcf9",
   "metadata": {},
   "source": [
    "### 리스트에 데이터 추가하기\n",
    "\n",
    "> 리스트이름.append(데이터)  <br>\n",
    "  마지막에 추가됨\n",
    "\n",
    "```\n",
    "food = ['피자','치킨','떡볶이','스테이크','파스타']\n",
    "```"
   ]
  },
  {
   "cell_type": "code",
   "execution_count": 3,
   "id": "8c560f4f-7068-4838-bf52-fbcf6987f5d8",
   "metadata": {},
   "outputs": [
    {
     "name": "stdout",
     "output_type": "stream",
     "text": [
      "['피자', '치킨', '떡볶이', '스테이크', '파스타']\n"
     ]
    }
   ],
   "source": [
    "food = ['피자','치킨','떡볶이','스테이크','파스타']\n",
    "print(food)"
   ]
  },
  {
   "cell_type": "code",
   "execution_count": 4,
   "id": "3d0c5605-2349-4071-811c-082de7533a1f",
   "metadata": {},
   "outputs": [
    {
     "name": "stdout",
     "output_type": "stream",
     "text": [
      "['피자', '치킨', '떡볶이', '스테이크', '파스타', '햄버거']\n"
     ]
    }
   ],
   "source": [
    "# 햄버거 추가\n",
    "food.append('햄버거')\n",
    "print(food)"
   ]
  },
  {
   "cell_type": "code",
   "execution_count": 5,
   "id": "1ba31ae4-4ac9-414f-823a-12ad93421610",
   "metadata": {},
   "outputs": [
    {
     "name": "stdout",
     "output_type": "stream",
     "text": [
      "['피자', '치킨', '떡볶이', '스테이크', '파스타', '햄버거', '카레']\n"
     ]
    }
   ],
   "source": [
    "# 카레 추가해 봅시다.\n",
    "food.append('카레')\n",
    "print(food)"
   ]
  },
  {
   "cell_type": "markdown",
   "id": "9a865ef6-d069-4696-9131-371f98000922",
   "metadata": {},
   "source": [
    "### 빈 리스트 만들고 데이터 추가하기"
   ]
  },
  {
   "cell_type": "code",
   "execution_count": 6,
   "id": "1dde548b-7f9f-41e4-8359-6d51e98cb7f1",
   "metadata": {},
   "outputs": [
    {
     "name": "stdout",
     "output_type": "stream",
     "text": [
      "['파이썬 공부']\n"
     ]
    }
   ],
   "source": [
    "# 해야 할 일을 저장하는 list to_do\n",
    "to_do = []\n",
    "# 파이썬 공부\n",
    "to_do.append('파이썬 공부')\n",
    "\n",
    "print(to_do)"
   ]
  },
  {
   "cell_type": "code",
   "execution_count": 7,
   "id": "16df98f6-2827-403e-82a6-0a55607f2c60",
   "metadata": {},
   "outputs": [
    {
     "name": "stdin",
     "output_type": "stream",
     "text": [
      "해야할 일을 입력하세요?  책 읽기\n"
     ]
    },
    {
     "name": "stdout",
     "output_type": "stream",
     "text": [
      "['파이썬 공부', '책 읽기']\n"
     ]
    }
   ],
   "source": [
    "# 해야할 일을 입력받아 to_do 저장하기\n",
    "\n",
    "task = input('해야할 일을 입력하세요? ')\n",
    "\n",
    "to_do.append(task)\n",
    "print(to_do)"
   ]
  },
  {
   "cell_type": "code",
   "execution_count": 8,
   "id": "ff4dfffa-ab8d-4a8a-8ea7-7fbe0fa1c5b0",
   "metadata": {},
   "outputs": [
    {
     "name": "stdin",
     "output_type": "stream",
     "text": [
      "해야할 일을 입력하세요?  빅데이터 수업\n"
     ]
    },
    {
     "name": "stdout",
     "output_type": "stream",
     "text": [
      "['파이썬 공부', '책 읽기', '빅데이터 수업']\n"
     ]
    }
   ],
   "source": [
    "# 한줄로 바꿔보기\n",
    "to_do.append(input('해야할 일을 입력하세요? '))\n",
    "\n",
    "print(to_do)"
   ]
  },
  {
   "cell_type": "markdown",
   "id": "5b5af6d0-d150-4c3e-bbc1-af60882e7f89",
   "metadata": {},
   "source": [
    "### 리스트 슬라이싱\n",
    "\n",
    "> 리스트[시작숫자 : 종료숫자]\n",
    "\n",
    "<img src = 'https://github.com/teacher-jiejie/allinone_AI/blob/images/9_%EB%A6%AC%EC%8A%A4%ED%8A%B8%EC%8A%AC%EB%9D%BC%EC%9D%B4%EC%8B%B1.png?raw=true' width=500>\n",
    "\n",
    "종료숫자-1 까지 잘라내는 것\n",
    "\n",
    "```\n",
    "abc[2:5]       # abc[2]~abc[4]까지 슬라이싱\n",
    "abc[4:9]       # abc[4]~abc[8]까지 슬라이싱\n",
    "```\n",
    "```\n",
    "food = ['피자','치킨','떡볶이','스테이크','파스타']\n",
    "```"
   ]
  },
  {
   "cell_type": "code",
   "execution_count": 10,
   "id": "fb622934-57ff-4326-a44c-02d4bd333eb6",
   "metadata": {},
   "outputs": [],
   "source": [
    "food = ['피자','치킨','떡볶이','스테이크','파스타']"
   ]
  },
  {
   "cell_type": "code",
   "execution_count": 11,
   "id": "bd548941-ac0d-463a-b639-f795290c7d99",
   "metadata": {},
   "outputs": [
    {
     "data": {
      "text/plain": [
       "['떡볶이', '스테이크']"
      ]
     },
     "execution_count": 11,
     "metadata": {},
     "output_type": "execute_result"
    }
   ],
   "source": [
    "# 떡볶이, 스테이크만 골라내기\n",
    "\n",
    "food[2:4]"
   ]
  },
  {
   "cell_type": "code",
   "execution_count": 13,
   "id": "a13fffc6-43a0-4dbb-8bc6-8c558cf3bbee",
   "metadata": {},
   "outputs": [
    {
     "data": {
      "text/plain": [
       "['피자', '치킨', '떡볶이', '스테이크']"
      ]
     },
     "execution_count": 13,
     "metadata": {},
     "output_type": "execute_result"
    }
   ],
   "source": [
    "# 처음부터 스테이크까지 골라내기\n",
    "# 처음에 0이오면 생략가능\n",
    "food[:4]"
   ]
  },
  {
   "cell_type": "code",
   "execution_count": 14,
   "id": "9c5998e4-0c24-4b97-a71c-e41ffcf76285",
   "metadata": {},
   "outputs": [
    {
     "data": {
      "text/plain": [
       "['스테이크', '파스타']"
      ]
     },
     "execution_count": 14,
     "metadata": {},
     "output_type": "execute_result"
    }
   ],
   "source": [
    "# 스테이크 파스타\n",
    "\n",
    "food[-2:]"
   ]
  },
  {
   "cell_type": "markdown",
   "id": "bac23acf-b1d5-40b9-960f-4cc81bf535c4",
   "metadata": {},
   "source": [
    "#### 문자열 슬라이싱"
   ]
  },
  {
   "cell_type": "code",
   "execution_count": 15,
   "id": "f5537442-b7b8-4d81-add9-6ed0f3821498",
   "metadata": {},
   "outputs": [],
   "source": [
    "date = '2023-04-11'"
   ]
  },
  {
   "cell_type": "code",
   "execution_count": 16,
   "id": "4d686618-c05f-4822-af79-fb0b8beeb13c",
   "metadata": {},
   "outputs": [
    {
     "data": {
      "text/plain": [
       "'2023'"
      ]
     },
     "execution_count": 16,
     "metadata": {},
     "output_type": "execute_result"
    }
   ],
   "source": [
    "# year\n",
    "date[:4]"
   ]
  },
  {
   "cell_type": "code",
   "execution_count": 17,
   "id": "8bef40ac-8337-475d-b4e3-bd10b91a5bfb",
   "metadata": {},
   "outputs": [
    {
     "data": {
      "text/plain": [
       "'11'"
      ]
     },
     "execution_count": 17,
     "metadata": {},
     "output_type": "execute_result"
    }
   ],
   "source": [
    "#day\n",
    "date[-2:]"
   ]
  },
  {
   "cell_type": "code",
   "execution_count": 18,
   "id": "b9f8f55b-8072-4eb4-a6c4-cbf34263dfb8",
   "metadata": {},
   "outputs": [
    {
     "data": {
      "text/plain": [
       "'04'"
      ]
     },
     "execution_count": 18,
     "metadata": {},
     "output_type": "execute_result"
    }
   ],
   "source": [
    "# month\n",
    "date[5:7]"
   ]
  },
  {
   "cell_type": "markdown",
   "id": "f3b92894-fea7-4e4e-8cc7-4d1d86825696",
   "metadata": {},
   "source": [
    "### split()으로 문자열 슬라이싱\n",
    "> ()기준으로 잘라서 구분 분리 시켜줍니다."
   ]
  },
  {
   "cell_type": "code",
   "execution_count": 19,
   "id": "3e94e56e-55cc-489e-8eaf-6c43440dfb56",
   "metadata": {},
   "outputs": [],
   "source": [
    "date = '2023-04-11 화요일'"
   ]
  },
  {
   "cell_type": "code",
   "execution_count": 20,
   "id": "4fca8528-7ee4-40b2-8ae7-0244425b6a51",
   "metadata": {},
   "outputs": [
    {
     "data": {
      "text/plain": [
       "['2023-04-11', '화요일']"
      ]
     },
     "execution_count": 20,
     "metadata": {},
     "output_type": "execute_result"
    }
   ],
   "source": [
    "# 공백을 기준으로 split\n",
    "date.split()"
   ]
  },
  {
   "cell_type": "code",
   "execution_count": 22,
   "id": "16af4a33-a20c-4656-a710-3047d3e36aa7",
   "metadata": {},
   "outputs": [
    {
     "data": {
      "text/plain": [
       "['2', '23-', '4-11 화요일']"
      ]
     },
     "execution_count": 22,
     "metadata": {},
     "output_type": "execute_result"
    }
   ],
   "source": [
    "# 0을 기준으로 split\n",
    "\n",
    "date.split('0')"
   ]
  },
  {
   "cell_type": "code",
   "execution_count": 23,
   "id": "375853ce-ac85-4716-94be-09afee479773",
   "metadata": {},
   "outputs": [
    {
     "data": {
      "text/plain": [
       "['2023', '04', '11 화요일']"
      ]
     },
     "execution_count": 23,
     "metadata": {},
     "output_type": "execute_result"
    }
   ],
   "source": [
    "# -을 기준으로 split\n",
    "date.split('-')"
   ]
  },
  {
   "cell_type": "code",
   "execution_count": 26,
   "id": "2348085b-3cd2-46d5-9446-44e729cf8dee",
   "metadata": {},
   "outputs": [],
   "source": [
    "year = date.split('-')[0]"
   ]
  },
  {
   "cell_type": "code",
   "execution_count": 25,
   "id": "751a0557-e0c4-46d0-a5d6-71c47272c2bf",
   "metadata": {},
   "outputs": [
    {
     "data": {
      "text/plain": [
       "'2023-04-11 화요일'"
      ]
     },
     "execution_count": 25,
     "metadata": {},
     "output_type": "execute_result"
    }
   ],
   "source": [
    "date"
   ]
  },
  {
   "cell_type": "code",
   "execution_count": 27,
   "id": "8d5772b9-4d6e-4905-aba1-15fd534f88ad",
   "metadata": {},
   "outputs": [
    {
     "data": {
      "text/plain": [
       "'2023'"
      ]
     },
     "execution_count": 27,
     "metadata": {},
     "output_type": "execute_result"
    }
   ],
   "source": [
    "year"
   ]
  },
  {
   "cell_type": "markdown",
   "id": "726e07fa-68c6-42a3-b09b-14b49ebc9c42",
   "metadata": {},
   "source": [
    "실습\n",
    "```\n",
    "date = '2023-04-11'\n",
    "```\n",
    "\n",
    "위 date에서 월(month)만 골라내 숫자형태로 변수 mon에 저장하시오."
   ]
  },
  {
   "cell_type": "code",
   "execution_count": 31,
   "id": "de8a356a-b282-48cf-936a-7ec9e9a25c55",
   "metadata": {},
   "outputs": [
    {
     "name": "stdout",
     "output_type": "stream",
     "text": [
      "4\n"
     ]
    }
   ],
   "source": [
    "date = '2023-04-11'\n",
    "\n",
    "#월만 골라내기\n",
    "mon = int(date.split('-')[1])\n",
    "print(mon)"
   ]
  },
  {
   "cell_type": "markdown",
   "id": "e3bc8e89-1c59-46f4-9d01-1bd8856fca4e",
   "metadata": {},
   "source": [
    "위 date에서 일(day)만 숫자 형태로 골라내 변수에 저장하시오."
   ]
  },
  {
   "cell_type": "code",
   "execution_count": null,
   "id": "18d099b1-2b87-423a-83e8-f0e9cc79fdfe",
   "metadata": {},
   "outputs": [],
   "source": [
    "date = '2023-04-11'\n",
    "\n",
    "#일만 골라내기\n",
    "day = int(date.splli\n",
    "print(day)"
   ]
  }
 ],
 "metadata": {
  "kernelspec": {
   "display_name": "Python 3 (ipykernel)",
   "language": "python",
   "name": "python3"
  },
  "language_info": {
   "codemirror_mode": {
    "name": "ipython",
    "version": 3
   },
   "file_extension": ".py",
   "mimetype": "text/x-python",
   "name": "python",
   "nbconvert_exporter": "python",
   "pygments_lexer": "ipython3",
   "version": "3.9.7"
  }
 },
 "nbformat": 4,
 "nbformat_minor": 5
}
