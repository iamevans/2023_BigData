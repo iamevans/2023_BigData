{
 "cells": [
  {
   "cell_type": "markdown",
   "id": "e6a34211-c1e5-4a5a-afe7-b8c2d62941e6",
   "metadata": {},
   "source": [
    "31200_evans_0522_4"
   ]
  },
  {
   "cell_type": "markdown",
   "id": "ad05636a-9859-4d51-876f-ec97cad5c340",
   "metadata": {},
   "source": [
    "# 함수 정의하고 호출하기\n",
    "> 함수 : 반복되는 코딩을 줄이기위해 만든다."
   ]
  },
  {
   "cell_type": "code",
   "execution_count": 2,
   "id": "47cd5fb5-a1b5-4814-a273-de1978e95e16",
   "metadata": {},
   "outputs": [
    {
     "name": "stdout",
     "output_type": "stream",
     "text": [
      "안녕하세요!!!\n",
      "저의 이름은 홍길동입니다.\n"
     ]
    }
   ],
   "source": [
    "## 자기소개 ##\n",
    "\n",
    "print('안녕하세요!!!')\n",
    "print('저의 이름은 홍길동입니다.')"
   ]
  },
  {
   "cell_type": "code",
   "execution_count": 6,
   "id": "9eecf124-425c-4ab9-b313-0fe711d2048f",
   "metadata": {},
   "outputs": [
    {
     "name": "stdout",
     "output_type": "stream",
     "text": [
      "안녕하세요!!!\n",
      "저의 이름은 홍길동입니다.\n"
     ]
    }
   ],
   "source": [
    "# 함수 정의\n",
    "def introduce2():\n",
    "    print('안녕하세요!!!')\n",
    "    print('저의 이름은 홍길동입니다.')\n",
    "\n",
    "# 함수는 이름으로 호출\n",
    "introduce2()"
   ]
  },
  {
   "cell_type": "code",
   "execution_count": 7,
   "id": "b93c6ffe-53fc-4fae-966a-77f7a1fc1546",
   "metadata": {},
   "outputs": [
    {
     "name": "stdout",
     "output_type": "stream",
     "text": [
      "\n",
      "안녕하세요 !!!!\n",
      "저의 이름은 홍길동입니다.\n",
      "\n"
     ]
    }
   ],
   "source": [
    "# 매개변수 전달하기 -> 변수\n",
    "\n",
    "## 자기소개\n",
    "name = '홍길동'\n",
    "print(f'''\n",
    "안녕하세요 !!!!\n",
    "저의 이름은 {name}입니다.\n",
    "''')"
   ]
  },
  {
   "cell_type": "code",
   "execution_count": 11,
   "id": "2f8b90c7-bc0e-46b5-905d-9d1de9adceb0",
   "metadata": {},
   "outputs": [
    {
     "name": "stdout",
     "output_type": "stream",
     "text": [
      "\n",
      "안녕하세요 !!!!\n",
      "저의 이름은 홍길동입니다.\n",
      "\n",
      "\n",
      "안녕하세요 !!!!\n",
      "저의 이름은 임꺽정입니다.\n",
      "\n"
     ]
    }
   ],
   "source": [
    "## 매개변수를 이용한 함수 만들기\n",
    "def introduce(name):\n",
    "    print(\n",
    "f'''\n",
    "안녕하세요 !!!!\n",
    "저의 이름은 {name}입니다.\n",
    "''')    \n",
    "introduce('홍길동')\n",
    "introduce('임꺽정')"
   ]
  },
  {
   "cell_type": "code",
   "execution_count": 12,
   "id": "938ea44b-6747-4336-80e3-0197420ed9f5",
   "metadata": {},
   "outputs": [
    {
     "name": "stdout",
     "output_type": "stream",
     "text": [
      "안녕하세요!\n",
      "저의 이름은 홍길동입니다.\n",
      "나이는 20살입니다.\n"
     ]
    }
   ],
   "source": [
    "## 자기소개 ##\n",
    "name='홍길동'\n",
    "age = 20\n",
    "print('안녕하세요!')\n",
    "print(f'저의 이름은 {name}입니다.')\n",
    "print(f'나이는 {age}살입니다.')"
   ]
  },
  {
   "cell_type": "code",
   "execution_count": 13,
   "id": "ee42f5bb-0a87-45e8-a021-a8202c3def06",
   "metadata": {},
   "outputs": [
    {
     "name": "stdout",
     "output_type": "stream",
     "text": [
      "안녕하세요!\n",
      "저의 이름은 파이썬입니다.\n",
      "나이는 20살입니다.\n",
      "안녕하세요!\n",
      "저의 이름은 홍길동입니다.\n",
      "나이는 21살입니다.\n"
     ]
    }
   ],
   "source": [
    "def introduce(name, age):\n",
    "    print('안녕하세요!')\n",
    "    print(f'저의 이름은 {name}입니다.')\n",
    "    print(f'나이는 {age}살입니다.')\n",
    "    \n",
    "introduce('파이썬',20)\n",
    "introduce('홍길동',21)"
   ]
  },
  {
   "cell_type": "markdown",
   "id": "854f3e49-1e24-47c3-ab56-378c2cb8679f",
   "metadata": {},
   "source": [
    "# 연습문제\n",
    "* 이름과 나이를 입력받아 생일축하 메시지를 출력하는 함수를 만들고 호출하세요.\n",
    "* 생일문구 : ooo님의 oo번째 생일을 축하합니다!!\n",
    "* happybirthday(name, age)\n",
    "\n"
   ]
  },
  {
   "cell_type": "code",
   "execution_count": 15,
   "id": "d89c331a-7953-4f86-8ac8-b863b95dc7aa",
   "metadata": {},
   "outputs": [
    {
     "name": "stdin",
     "output_type": "stream",
     "text": [
      "이름 :  홍길동\n",
      "나이 :  19\n"
     ]
    },
    {
     "name": "stdout",
     "output_type": "stream",
     "text": [
      "홍길동님의 19번째 생일을 축합니다.\n"
     ]
    }
   ],
   "source": [
    "name = input('이름 : ')\n",
    "age = input('나이 : ')\n",
    "\n",
    "def happybirthday(name, age):\n",
    "    print(f'{name}님의 {age}번째 생일을 축합니다.')\n",
    "\n",
    "happybirthday(name, age)"
   ]
  },
  {
   "cell_type": "code",
   "execution_count": null,
   "id": "5f2859ef-8c53-49e6-8c79-be62e9940e8d",
   "metadata": {},
   "outputs": [],
   "source": []
  }
 ],
 "metadata": {
  "kernelspec": {
   "display_name": "Python 3 (ipykernel)",
   "language": "python",
   "name": "python3"
  },
  "language_info": {
   "codemirror_mode": {
    "name": "ipython",
    "version": 3
   },
   "file_extension": ".py",
   "mimetype": "text/x-python",
   "name": "python",
   "nbconvert_exporter": "python",
   "pygments_lexer": "ipython3",
   "version": "3.9.7"
  }
 },
 "nbformat": 4,
 "nbformat_minor": 5
}
