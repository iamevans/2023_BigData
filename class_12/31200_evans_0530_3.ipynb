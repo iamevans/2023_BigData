{
 "cells": [
  {
   "cell_type": "markdown",
   "id": "cb630869-f377-4edb-bd74-f6da7e6b47e8",
   "metadata": {},
   "source": [
    "31200_evans_0530_3"
   ]
  },
  {
   "cell_type": "code",
   "execution_count": 10,
   "id": "960aeb6e-844f-41e6-931f-c8c7df356329",
   "metadata": {},
   "outputs": [
    {
     "name": "stdout",
     "output_type": "stream",
     "text": [
      "문제 : 1부터 1000까지 숫자 중에서 2의배수이거나 3의배수면 더하는 프로그램\n",
      "결과 : 334167\n"
     ]
    }
   ],
   "source": [
    "# 변수 결과값, 증가값, while문안에 if\n",
    "# if 2의배수 3의배수 \n",
    "# 모범답안\n",
    "print(f'문제 : 1부터 1000까지 숫자 중에서 2의배수이거나 3의배수면 더하는 프로그램')\n",
    "res = 0\n",
    "num = 1\n",
    "while num <= 1000 :\n",
    "    if num % 2 == 0 or num % 3 == 0 :\n",
    "        #res += num\n",
    "        res = res + num\n",
    "    num += 1\n",
    "print(f'결과 : {res}')"
   ]
  },
  {
   "cell_type": "code",
   "execution_count": 11,
   "id": "3f889cfa-ec71-49b5-9c6c-7fc0a391a49c",
   "metadata": {},
   "outputs": [
    {
     "name": "stdout",
     "output_type": "stream",
     "text": [
      "문제 : 구구단을 외자 게임\n",
      "8 x 1 = ?\n"
     ]
    },
    {
     "name": "stdin",
     "output_type": "stream",
     "text": [
      " 8\n"
     ]
    },
    {
     "name": "stdout",
     "output_type": "stream",
     "text": [
      "정답!\n",
      "5 x 5 = ?\n"
     ]
    },
    {
     "name": "stdin",
     "output_type": "stream",
     "text": [
      " 25\n"
     ]
    },
    {
     "name": "stdout",
     "output_type": "stream",
     "text": [
      "정답!\n",
      "2 x 1 = ?\n"
     ]
    },
    {
     "name": "stdin",
     "output_type": "stream",
     "text": [
      " 2\n"
     ]
    },
    {
     "name": "stdout",
     "output_type": "stream",
     "text": [
      "정답!\n",
      "4 x 7 = ?\n"
     ]
    },
    {
     "name": "stdin",
     "output_type": "stream",
     "text": [
      " 28\n"
     ]
    },
    {
     "name": "stdout",
     "output_type": "stream",
     "text": [
      "정답!\n",
      "9 x 9 = ?\n"
     ]
    },
    {
     "name": "stdin",
     "output_type": "stream",
     "text": [
      " 91\n"
     ]
    },
    {
     "name": "stdout",
     "output_type": "stream",
     "text": [
      "틀렸어요\n",
      "9 x 9 = ?\n"
     ]
    },
    {
     "name": "stdin",
     "output_type": "stream",
     "text": [
      " 81\n"
     ]
    },
    {
     "name": "stdout",
     "output_type": "stream",
     "text": [
      "정답!\n",
      "2 x 1 = ?\n"
     ]
    },
    {
     "name": "stdin",
     "output_type": "stream",
     "text": [
      " 2\n"
     ]
    },
    {
     "name": "stdout",
     "output_type": "stream",
     "text": [
      "정답!\n",
      "7 x 9 = ?\n"
     ]
    },
    {
     "name": "stdin",
     "output_type": "stream",
     "text": [
      " 63\n"
     ]
    },
    {
     "name": "stdout",
     "output_type": "stream",
     "text": [
      "정답!\n",
      "6 x 6 = ?\n"
     ]
    },
    {
     "name": "stdin",
     "output_type": "stream",
     "text": [
      " 36\n"
     ]
    },
    {
     "name": "stdout",
     "output_type": "stream",
     "text": [
      "정답!\n",
      "9 x 8 = ?\n"
     ]
    },
    {
     "name": "stdin",
     "output_type": "stream",
     "text": [
      " 72\n"
     ]
    },
    {
     "name": "stdout",
     "output_type": "stream",
     "text": [
      "정답!\n",
      "맞춘 횟수 : 9 , 틀린 횟수 : 1\n"
     ]
    }
   ],
   "source": [
    "# 난수 random\n",
    "import random\n",
    "print('문제 : 구구단을 외자 게임')\n",
    "# 카운트 \n",
    "t_cnt = 0\n",
    "f_cnt = 0\n",
    "\n",
    "for i in range(10) :\n",
    "    a = random.randint(2,9)\n",
    "    b = random.randint(1,9)\n",
    "    print(f'{a} x {b} = ?')\n",
    "    answer = int(input(''))\n",
    "    if a*b == answer :\n",
    "        print('정답!')\n",
    "        t_cnt = t_cnt + 1\n",
    "    else :\n",
    "        print('틀렸어요')\n",
    "        f_cnt = f_cnt + 1\n",
    "\n",
    "print(f'맞춘 횟수 : {t_cnt} , 틀린 횟수 : {f_cnt}')\n"
   ]
  },
  {
   "cell_type": "code",
   "execution_count": null,
   "id": "d7ebb9df-e07c-4534-8028-5585545beb5c",
   "metadata": {},
   "outputs": [],
   "source": []
  }
 ],
 "metadata": {
  "kernelspec": {
   "display_name": "Python 3 (ipykernel)",
   "language": "python",
   "name": "python3"
  },
  "language_info": {
   "codemirror_mode": {
    "name": "ipython",
    "version": 3
   },
   "file_extension": ".py",
   "mimetype": "text/x-python",
   "name": "python",
   "nbconvert_exporter": "python",
   "pygments_lexer": "ipython3",
   "version": "3.9.7"
  }
 },
 "nbformat": 4,
 "nbformat_minor": 5
}
