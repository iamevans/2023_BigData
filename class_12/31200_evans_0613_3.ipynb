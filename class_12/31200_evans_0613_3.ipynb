{
 "cells": [
  {
   "cell_type": "markdown",
   "id": "457258e1-e15e-4264-8f2c-0b07a0341e75",
   "metadata": {},
   "source": [
    "31200_evans_0613_3"
   ]
  },
  {
   "cell_type": "markdown",
   "id": "290e0f25-6f4d-4454-99b2-c4a163e6cac9",
   "metadata": {},
   "source": [
    "## 수행평가 예상문제\n",
    "\n",
    "> 문제 5 <br>\n",
    "지하철 노선 게임 만들기<br>\n",
    "\n",
    "```\n",
    "팔호선 = ['모란','수진','신흥','단대오거리','남한산성입구','산성','남위례','복정','장지','문정','가락시장','송파','석촌','잠실','몽촌토성','강동구청','천호','암사']\n",
    "\n",
    "신분당선 = ['광교','광교중앙','상현','성복','수지구청','동천','미금','정자','판교','청계산입구','양재시민의숲','양재','강남','신논현','논현','신사']\n",
    "```\n"
   ]
  },
  {
   "cell_type": "code",
   "execution_count": 10,
   "id": "59129761-e304-4707-a5f2-6bac2ade50a3",
   "metadata": {},
   "outputs": [
    {
     "name": "stdout",
     "output_type": "stream",
     "text": [
      "지하철~ (❁´◡`❁)지하철~ (❁´◡`❁)지하철~ (❁´◡`❁)\n"
     ]
    },
    {
     "name": "stdin",
     "output_type": "stream",
     "text": [
      "몇호선 ? 팔호선\n"
     ]
    },
    {
     "name": "stdout",
     "output_type": "stream",
     "text": [
      "팔호선\n"
     ]
    },
    {
     "name": "stdin",
     "output_type": "stream",
     "text": [
      "노선을 입력하세요 ? 모란\n",
      "노선을 입력하세요 ? 수진\n",
      "노선을 입력하세요 ? 신흥\n",
      "노선을 입력하세요 ? 산성\n",
      "노선을 입력하세요 ? 남위례\n"
     ]
    }
   ],
   "source": [
    "# 지하철 리스트\n",
    "팔호선 = ['모란','수진','신흥','단대오거리','남한산성입구','산성','남위례','복정','장지','문정',\n",
    "       '가락시장','송파','석촌','잠실','몽촌토성','강동구청','천호','암사']\n",
    "신분당선 = ['광교','광교중앙','상현','성복','수지구청','동천','미금','정자','판교','청계산입구',\n",
    "        '양재시민의숲','양재','강남','신논현','논현','신사']\n",
    "\n",
    "print('지하철~ (❁´◡`❁)'*3)\n",
    "호선 = input('몇호선 ?')\n",
    "print(호선)\n",
    "\n",
    "# 게임 횟수 5번\n",
    "for i in range(5) :\n",
    "    if 호선 == '팔호선' :\n",
    "        입력 = input('노선을 입력하세요 ?')\n",
    "        if 입력 not in 팔호선 :\n",
    "            print(f'땡!! 해당 역은 {호선}이 아닙니다.!!!')\n",
    "            print('벌칙 당첨!!!')\n",
    "            break\n",
    "    elif 호선 == '신분당선' :\n",
    "        입력 = input('노선을 입력하세요 ?')\n",
    "        if 입력 not in 신분당선 :\n",
    "            print(f'땡!! 해당 역은 {호선}이 아닙니다.!!!')\n",
    "            print('벌칙 당첨!!!')\n",
    "            break\n",
    "            "
   ]
  },
  {
   "cell_type": "markdown",
   "id": "39386ae9-9536-4213-9755-8521047219a9",
   "metadata": {},
   "source": [
    "## 수행평가 예상문제\n",
    "\n",
    "> 문제 6 <br>\n",
    "단어장 만들기 프로그램<br>"
   ]
  },
  {
   "cell_type": "code",
   "execution_count": 11,
   "id": "5d3f07c6-ed2e-483a-a848-24c895e73def",
   "metadata": {},
   "outputs": [
    {
     "name": "stdin",
     "output_type": "stream",
     "text": [
      "영어단어, 뜻 : banana, 바나나\n",
      "영어단어, 뜻 : apple, 사과\n",
      "영어단어, 뜻 : kiwi, 키위\n",
      "영어단어, 뜻 : \n"
     ]
    },
    {
     "data": {
      "text/plain": [
       "{'banana': ' 바나나', 'apple': ' 사과', 'kiwi': ' 키위'}"
      ]
     },
     "execution_count": 11,
     "metadata": {},
     "output_type": "execute_result"
    }
   ],
   "source": [
    "# 빈리스트\n",
    "dict_word = {}\n",
    "\n",
    "#입력을 공백을 입력할때까지 입력값 받기\n",
    "while True :\n",
    "    input_word = input('영어단어, 뜻 :')\n",
    "    if input_word == '':\n",
    "        break\n",
    "    #key, value 분리 split\n",
    "    eng = input_word.split(',')[0]\n",
    "    kor = input_word.split(',')[1]\n",
    "    \n",
    "    # key,value 저장\n",
    "    dict_word[eng] = kor\n",
    "    \n",
    "#출력\n",
    "dict_word"
   ]
  },
  {
   "cell_type": "markdown",
   "id": "625d6ff0-5cb7-498d-ba48-1e42f27a4267",
   "metadata": {},
   "source": [
    "## 수행평가 예상문제\n",
    "\n",
    "> 문제 7 <br>\n",
    "할인 금액 계산하기 프로그램<br>\n",
    "\n",
    "```\n",
    "금액                  할인율\n",
    "1만원이상 5만원미만     5%\n",
    "5만원이상 10만원미만    7%\n",
    "10만원이상             10%\n",
    "```"
   ]
  },
  {
   "cell_type": "code",
   "execution_count": null,
   "id": "3f7bc93c-17da-4ead-9625-cc6b22d01662",
   "metadata": {},
   "outputs": [],
   "source": [
    "price = int(input('물건구매가 : '))\n",
    "\n",
    "#할인율 결정\n",
    "if price >= 100000:\n",
    "    dc = 10\n",
    "elif price >= 50000:\n",
    "    dc = 7\n",
    "elif price >= 10000:\n",
    "    dc = 5\n",
    "else :\n",
    "    dc = 0\n",
    "\n",
    "#출력\n",
    "print(f'''\n",
    "구매가 : {price}\n",
    "할인율 : {dc}%\n",
    "할인금액 : {price*(dc/100)}\n",
    "지불금액 : {price - price*(dc/100)}\n",
    "''')"
   ]
  },
  {
   "cell_type": "markdown",
   "id": "290bfd48-cc4d-4c5f-ab36-26e9c2d423c3",
   "metadata": {},
   "source": [
    "## 수행평가 예상문제\n",
    "\n",
    "> 문제 8 <br>\n",
    "사칙연산 프로그램 프로그램<br>\n",
    "* 두 수와 사칙연산기호(+,-,*,/)을 입력받아 연산 기호에 따라 연산 결과를 출력하는 프로그램을 작성하세요.\n",
    "* 사칙연산기호(+,-,*,/)가 아닌 경우 '잘못입력하셨습니다' 출력\n"
   ]
  },
  {
   "cell_type": "code",
   "execution_count": null,
   "id": "ef2cf478-a12c-474f-ac01-f1065519f5f8",
   "metadata": {},
   "outputs": [],
   "source": [
    "num1 = int(input('숫자1 : '))\n",
    "num2 = int(input('숫자2 : '))\n",
    "op = input('연산기호 : ')\n",
    "\n",
    "if op == '+':\n",
    "    print(f'덧셈 : {num1} + {num2} = {num1+num2}')\n",
    "elif op == '-':\n",
    "    print(f'뺄셈 : {num1} - {num2} = {num1-num2}')\n",
    "elif op == '*':\n",
    "    print(f'곱셈 : {num1} * {num2} = {num1*num2}')\n",
    "elif op == '/':\n",
    "    print(f'나눗셈 : {num1} / {num2} = {num1/num2}')\n",
    "else:\n",
    "    print(f'잘못 입력하셨습니다.')\n"
   ]
  }
 ],
 "metadata": {
  "kernelspec": {
   "display_name": "Python 3 (ipykernel)",
   "language": "python",
   "name": "python3"
  },
  "language_info": {
   "codemirror_mode": {
    "name": "ipython",
    "version": 3
   },
   "file_extension": ".py",
   "mimetype": "text/x-python",
   "name": "python",
   "nbconvert_exporter": "python",
   "pygments_lexer": "ipython3",
   "version": "3.9.7"
  }
 },
 "nbformat": 4,
 "nbformat_minor": 5
}
