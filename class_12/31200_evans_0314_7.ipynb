{
 "cells": [
  {
   "cell_type": "markdown",
   "id": "b2d853a6-2dec-4ae3-a6cf-e6b90cd146ed",
   "metadata": {},
   "source": [
    "31200_evans_0314_7"
   ]
  },
  {
   "cell_type": "markdown",
   "id": "c0f738dd-e5c6-4a78-80ec-570a353d8983",
   "metadata": {},
   "source": [
    "2) 1년마다 키가 10cm씩 자라는 농구선수가 있다. \n",
    "\n",
    "\n",
    "*   2017년 - 175.5cm\n",
    "*   2018년 - 185.5cm\n",
    "*   2019년 - 195.5cm\n",
    "*   2020년 - 205.5cm\n",
    "\n",
    "\n",
    "년도별 농구선수의 키를 출력해보자"
   ]
  },
  {
   "cell_type": "code",
   "execution_count": 1,
   "id": "4f39ed97-3d99-48b4-89a1-8f16f7533046",
   "metadata": {},
   "outputs": [
    {
     "name": "stdout",
     "output_type": "stream",
     "text": [
      "2017 년 - 175.5 cm\n",
      "2018 년 - 185.5 cm\n",
      "2019 년 - 195.5 cm\n",
      "2020 년 - 205.5 cm\n"
     ]
    }
   ],
   "source": [
    "year = 2017\n",
    "height = 175.5\n",
    "print(year,'년 -', height,'cm')\n",
    "\n",
    "year = year + 1\n",
    "height = height + 10\n",
    "print(year,'년 -', height,'cm')\n",
    "\n",
    "year = year + 1\n",
    "height = height + 10\n",
    "print(year,'년 -', height,'cm')\n",
    "\n",
    "year = year + 1\n",
    "height = height + 10\n",
    "print(year,'년 -', height,'cm')"
   ]
  },
  {
   "cell_type": "code",
   "execution_count": 2,
   "id": "b82dc8e0-30d1-46ec-8679-a4e08e6b8ffc",
   "metadata": {},
   "outputs": [
    {
     "name": "stdout",
     "output_type": "stream",
     "text": [
      "2017 년 - 175.5 cm\n",
      "2018 년 - 185.5 cm\n",
      "2019 년 - 195.5 cm\n",
      "2020 년 - 205.5 cm\n"
     ]
    }
   ],
   "source": [
    "year = 2017\n",
    "height = 175.5\n",
    "print(year,'년 -', height,'cm')\n",
    "\n",
    "year += 1\n",
    "height += 10\n",
    "print(year,'년 -', height,'cm')\n",
    "\n",
    "year += 1\n",
    "height += 10\n",
    "print(year,'년 -', height,'cm')\n",
    "\n",
    "year += 1\n",
    "height += 10\n",
    "print(year,'년 -', height,'cm')"
   ]
  },
  {
   "cell_type": "markdown",
   "id": "40eb3313-7f14-4f1f-9f75-d3fc0e57ca2b",
   "metadata": {},
   "source": [
    "> 동일한 변수를 증가/감소시킬 때\n",
    "\n",
    "```\n",
    "# a에 3을 더하시오\n",
    "a = a+3\n",
    "```\n",
    "\n",
    "```\n",
    "# 간략하게 표현\n",
    "a += 3\n",
    "```"
   ]
  },
  {
   "cell_type": "markdown",
   "id": "bbc029b5-1664-4b41-baf6-a9cd229ad3da",
   "metadata": {},
   "source": [
    "# 2. 데이터타입 type()\n",
    "\n",
    "> 정수 int\n",
    "\n",
    "> 실수 float\n",
    "\n",
    "> 문자 str"
   ]
  },
  {
   "cell_type": "code",
   "execution_count": 3,
   "id": "7392341e-f198-4550-99c8-a89e2f646b7c",
   "metadata": {},
   "outputs": [],
   "source": [
    "apple = 1200\n",
    "banana = 800\n",
    "price = apple*3 + banana*2\n",
    "vip_price = price * 0.8\n",
    "a = '과일'"
   ]
  },
  {
   "cell_type": "code",
   "execution_count": 4,
   "id": "08159606-786b-4b73-97e8-0ff0d3eb3aa6",
   "metadata": {},
   "outputs": [
    {
     "data": {
      "text/plain": [
       "int"
      ]
     },
     "execution_count": 4,
     "metadata": {},
     "output_type": "execute_result"
    }
   ],
   "source": [
    "type(apple)"
   ]
  },
  {
   "cell_type": "code",
   "execution_count": 5,
   "id": "bfbe9740-ac23-4f35-a8db-ba398ffe5d2b",
   "metadata": {},
   "outputs": [
    {
     "data": {
      "text/plain": [
       "int"
      ]
     },
     "execution_count": 5,
     "metadata": {},
     "output_type": "execute_result"
    }
   ],
   "source": [
    "type(banana)"
   ]
  },
  {
   "cell_type": "code",
   "execution_count": 6,
   "id": "d8d1b349-3f37-4ac9-a88e-77765a59e1ee",
   "metadata": {},
   "outputs": [
    {
     "data": {
      "text/plain": [
       "int"
      ]
     },
     "execution_count": 6,
     "metadata": {},
     "output_type": "execute_result"
    }
   ],
   "source": [
    "type(price)"
   ]
  },
  {
   "cell_type": "code",
   "execution_count": 7,
   "id": "23866a42-edfc-457f-93b3-dded2dc3c6c9",
   "metadata": {},
   "outputs": [
    {
     "data": {
      "text/plain": [
       "float"
      ]
     },
     "execution_count": 7,
     "metadata": {},
     "output_type": "execute_result"
    }
   ],
   "source": [
    "type(vip_price)"
   ]
  },
  {
   "cell_type": "code",
   "execution_count": 8,
   "id": "02d35d83-7df1-4bb9-95db-a62d1be959f9",
   "metadata": {},
   "outputs": [
    {
     "data": {
      "text/plain": [
       "str"
      ]
     },
     "execution_count": 8,
     "metadata": {},
     "output_type": "execute_result"
    }
   ],
   "source": [
    "type(a)"
   ]
  },
  {
   "cell_type": "markdown",
   "id": "8771797c-71cb-4b78-a7d2-bec95cc3a1a1",
   "metadata": {},
   "source": [
    "# 3. 데이터타입 변경하기\n",
    "변경하려는 데이터타입으로 감싸주기\n",
    "\n",
    "> 정수로 변경하기\n",
    "<br/> int(변수)\n",
    "\n",
    "> 실수로 변경하기\n",
    "<br/> float(변수)\n",
    "\n",
    "> 문자로 변경하기\n",
    "<br/> str(변수)"
   ]
  },
  {
   "cell_type": "code",
   "execution_count": 15,
   "id": "12798671-8b2f-4e61-a44e-305ebf38ae5a",
   "metadata": {},
   "outputs": [
    {
     "name": "stdout",
     "output_type": "stream",
     "text": [
      "1200\n",
      "1200.0\n"
     ]
    }
   ],
   "source": [
    "# 정수를 실수로 변경\n",
    "print(apple)\n",
    "apple = float(apple)\n",
    "print(apple)"
   ]
  },
  {
   "cell_type": "code",
   "execution_count": 16,
   "id": "20fb8914-2cdb-4abc-94e6-5baac7da3f8e",
   "metadata": {},
   "outputs": [
    {
     "name": "stdout",
     "output_type": "stream",
     "text": [
      "1200.0\n",
      "1200\n"
     ]
    }
   ],
   "source": [
    "# 정수를 실수로 변경\n",
    "print(apple)\n",
    "apple = int(apple)\n",
    "print(apple)"
   ]
  },
  {
   "cell_type": "markdown",
   "id": "65b0609f-5985-48d9-99b1-bec820e1621f",
   "metadata": {},
   "source": [
    "4. 원의 둘레, 넓이, 구의 겉넓이, 부피 구하기\n",
    "\n",
    "<img src='https://github.com/teacher-jiejie/allinone_AI/blob/images/%EC%9B%90%20%EA%B4%80%EB%A0%A8%20%EA%B3%B5%EC%8B%9D.png?raw=true' width = 300>"
   ]
  },
  {
   "cell_type": "code",
   "execution_count": 25,
   "id": "2ca5c935-6634-40c2-8fd9-e2f5f702ed2a",
   "metadata": {},
   "outputs": [
    {
     "name": "stdin",
     "output_type": "stream",
     "text": [
      "반지름은 ?  15\n"
     ]
    },
    {
     "name": "stdout",
     "output_type": "stream",
     "text": [
      "원의 둘레는  94.24776\n",
      "원의 넓이는  706.8582\n",
      "구의 겉넓이는  2827.4328\n",
      "구의 부피는  14137.163999999999\n"
     ]
    }
   ],
   "source": [
    "r = int(input('반지름은 ? '))\n",
    "p = 3.141592\n",
    "\n",
    "#원의 둘레\n",
    "c_len =2*p*r\n",
    "\n",
    "#원의 넓이\n",
    "c_area = p*r**2\n",
    "\n",
    "#구의 겉넓이\n",
    "s_area = 4*p*r**2\n",
    "\n",
    "#구의 부피\n",
    "s_volume = 4/3*p*r**3\n",
    "\n",
    "print('원의 둘레는 ', c_len)\n",
    "print('원의 넓이는 ', c_area)\n",
    "print('구의 겉넓이는 ', s_area)\n",
    "print('구의 부피는 ', s_volume)"
   ]
  },
  {
   "cell_type": "code",
   "execution_count": null,
   "id": "004552bc-e6bb-434e-a8d6-e7ff85f0002e",
   "metadata": {},
   "outputs": [],
   "source": []
  }
 ],
 "metadata": {
  "kernelspec": {
   "display_name": "Python 3 (ipykernel)",
   "language": "python",
   "name": "python3"
  },
  "language_info": {
   "codemirror_mode": {
    "name": "ipython",
    "version": 3
   },
   "file_extension": ".py",
   "mimetype": "text/x-python",
   "name": "python",
   "nbconvert_exporter": "python",
   "pygments_lexer": "ipython3",
   "version": "3.9.7"
  }
 },
 "nbformat": 4,
 "nbformat_minor": 5
}
