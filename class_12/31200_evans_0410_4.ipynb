{
 "cells": [
  {
   "cell_type": "markdown",
   "id": "abdc9e05-5c6e-439e-b4da-70d52d5e445d",
   "metadata": {},
   "source": [
    "31200_evans_0410_4"
   ]
  },
  {
   "cell_type": "markdown",
   "id": "a9a90f57-44e0-42fe-a189-32f545c3cd0e",
   "metadata": {},
   "source": [
    "#  1. 리스트\n",
    "\n",
    "```\n",
    "리스트 여러 데이터를 한 번에 묶어서 표현\n",
    "리스트이름 = [데이터1, 데이터2, ..., 데이터n]\n",
    "```\n",
    "> 실생활의 리스트 \n",
    "    \n",
    "<img src='https://github.com/teacher-jiejie/allinone_AI/blob/images/56_%EC%82%AC%EC%95%BC%ED%95%A0%20%EB%A6%AC%EC%8A%A4%ED%8A%B8.png?raw=true' width=150>\n",
    "\n",
    "</br></br>\n",
    "> 파이썬의 리스트\n",
    "<img src='https://github.com/teacher-jiejie/allinone_AI/blob/images/6_%EB%A6%AC%EC%8A%A4%ED%8A%B8%EA%B0%9C%EB%85%90.png?raw=true' width=600>"
   ]
  },
  {
   "cell_type": "code",
   "execution_count": 17,
   "id": "df6708b0-dd7a-4e87-a44f-84d0cbe3b370",
   "metadata": {},
   "outputs": [],
   "source": [
    "# 1월 지출부터 6월 지출까지 리스트로 만들기\n",
    "spending = [25, 36, 8, 53, 24, 56]"
   ]
  },
  {
   "cell_type": "code",
   "execution_count": 2,
   "id": "e8760afa-19df-4338-a082-5d3563aa9aee",
   "metadata": {},
   "outputs": [
    {
     "name": "stdout",
     "output_type": "stream",
     "text": [
      "[25, 36, 8, 53, 24, 56]\n"
     ]
    }
   ],
   "source": [
    "print(spending)"
   ]
  },
  {
   "cell_type": "code",
   "execution_count": 3,
   "id": "34dd64dc-f5ed-4337-8c01-8a4185afa4cf",
   "metadata": {},
   "outputs": [
    {
     "data": {
      "text/plain": [
       "list"
      ]
     },
     "execution_count": 3,
     "metadata": {},
     "output_type": "execute_result"
    }
   ],
   "source": [
    "# 자료형이 어떻게 되는지 알아보는 명령어 type\n",
    "type(spending)"
   ]
  },
  {
   "cell_type": "markdown",
   "id": "47479493-0209-4731-91cd-a19e6895a424",
   "metadata": {},
   "source": [
    "### 리스트와 인덱스\n",
    "<img src ='https://github.com/teacher-jiejie/allinone_AI/blob/images/7_%EB%A6%AC%EC%8A%A4%ED%8A%B8%EC%9D%B8%EB%8D%B1%EC%8A%A4.png?raw=true' width =700>"
   ]
  },
  {
   "cell_type": "code",
   "execution_count": 4,
   "id": "78ef50f0-3d60-4cde-8f40-a9839da7587b",
   "metadata": {},
   "outputs": [
    {
     "name": "stdout",
     "output_type": "stream",
     "text": [
      "25\n"
     ]
    }
   ],
   "source": [
    "# 1월 지출은?\n",
    "print(spending[0])"
   ]
  },
  {
   "cell_type": "code",
   "execution_count": 5,
   "id": "45caed4f-e512-43fc-af46-40bb0c17d473",
   "metadata": {},
   "outputs": [
    {
     "name": "stdout",
     "output_type": "stream",
     "text": [
      "56\n"
     ]
    }
   ],
   "source": [
    "# 6월 지출은?\n",
    "print(spending[5])"
   ]
  },
  {
   "cell_type": "code",
   "execution_count": 6,
   "id": "944d9ad6-9946-4935-821d-ca133f542f0c",
   "metadata": {},
   "outputs": [
    {
     "name": "stdout",
     "output_type": "stream",
     "text": [
      "8\n"
     ]
    }
   ],
   "source": [
    "# 3월 지출은?\n",
    "print(spending[2])"
   ]
  },
  {
   "cell_type": "code",
   "execution_count": 7,
   "id": "3599e30d-f87c-4194-936e-0a5342bbdcc1",
   "metadata": {},
   "outputs": [
    {
     "name": "stdout",
     "output_type": "stream",
     "text": [
      "64\n"
     ]
    }
   ],
   "source": [
    "#문제 3월과 6월 지출 합은?\n",
    "print(spending[2]+spending[5])"
   ]
  },
  {
   "cell_type": "markdown",
   "id": "cc83bc07-62e2-428a-80aa-76bb890e423a",
   "metadata": {},
   "source": [
    "알고보니 4월 지출이 10낮게 기록됐다. <br>\n",
    "4월 지출에 10을 더하시오"
   ]
  },
  {
   "cell_type": "code",
   "execution_count": 8,
   "id": "0b645061-000d-4139-9e77-ba4173e4cd4f",
   "metadata": {},
   "outputs": [
    {
     "name": "stdout",
     "output_type": "stream",
     "text": [
      "변경 전 : [25, 36, 8, 53, 24, 56]\n",
      "변경 후 : [25, 36, 8, 63, 24, 56]\n"
     ]
    }
   ],
   "source": [
    "print('변경 전 :', spending)\n",
    "\n",
    "spending[3] += 10\n",
    "\n",
    "print('변경 후 :', spending)"
   ]
  },
  {
   "cell_type": "markdown",
   "id": "9630cc6c-44c1-4cb6-b26c-f2e9a1f00068",
   "metadata": {},
   "source": [
    "5월 지출을 2로 나누시오"
   ]
  },
  {
   "cell_type": "code",
   "execution_count": 14,
   "id": "aaf683d1-b110-42f3-8cc3-1804529c4b0d",
   "metadata": {},
   "outputs": [
    {
     "name": "stdout",
     "output_type": "stream",
     "text": [
      "변경 전 : [25, 36, 8, 63, 0.75, 56]\n",
      "변경 후 : [25, 36, 8, 63, 0.375, 56]\n"
     ]
    }
   ],
   "source": [
    "print('변경 전 :', spending)\n",
    "\n",
    "spending[4] /= 2 \n",
    "\n",
    "print('변경 후 :', spending)"
   ]
  },
  {
   "cell_type": "markdown",
   "id": "336fd179-dc06-463b-b62b-f761953f0bef",
   "metadata": {},
   "source": [
    "### 마이너스 인덱스\n",
    "\n",
    "<img src = 'https://github.com/teacher-jiejie/allinone_AI/blob/images/8_%EB%A6%AC%EC%8A%A4%ED%8A%B8%20%EB%A7%88%EC%9D%B4%EB%84%88%EC%8A%A4%EC%9D%B8%EB%8D%B1%EC%8A%A4.png?raw=true' width=500>"
   ]
  },
  {
   "cell_type": "code",
   "execution_count": 18,
   "id": "723e9df0-c79f-46a7-b03e-5e105869e3d3",
   "metadata": {},
   "outputs": [
    {
     "name": "stdout",
     "output_type": "stream",
     "text": [
      "56\n",
      "56\n"
     ]
    }
   ],
   "source": [
    "print(spending[5])\n",
    "print(spending[-1])"
   ]
  },
  {
   "cell_type": "code",
   "execution_count": 19,
   "id": "bf106609-405d-4f64-9b9b-78b9264db957",
   "metadata": {},
   "outputs": [
    {
     "name": "stdout",
     "output_type": "stream",
     "text": [
      "24\n",
      "24\n"
     ]
    }
   ],
   "source": [
    "print(spending[4])\n",
    "print(spending[-2])"
   ]
  },
  {
   "cell_type": "markdown",
   "id": "96ffa0de-7ea9-48b6-a031-3ca4815ec20e",
   "metadata": {},
   "source": [
    "#  2.  리스트의 다양한 기능\n",
    "\n",
    "### 리스트 길이 확인 \n",
    "> len(리스트이름)           \n"
   ]
  },
  {
   "cell_type": "code",
   "execution_count": 20,
   "id": "3b3460ef-019b-4f78-adcf-1b0256da97c1",
   "metadata": {},
   "outputs": [
    {
     "data": {
      "text/plain": [
       "6"
      ]
     },
     "execution_count": 20,
     "metadata": {},
     "output_type": "execute_result"
    }
   ],
   "source": [
    "# spending의 길이를 구하라\n",
    "len(spending)"
   ]
  },
  {
   "cell_type": "code",
   "execution_count": null,
   "id": "82a0d1ef-bfa1-4e9f-8eeb-3dd0f673f139",
   "metadata": {},
   "outputs": [],
   "source": []
  }
 ],
 "metadata": {
  "kernelspec": {
   "display_name": "Python 3 (ipykernel)",
   "language": "python",
   "name": "python3"
  },
  "language_info": {
   "codemirror_mode": {
    "name": "ipython",
    "version": 3
   },
   "file_extension": ".py",
   "mimetype": "text/x-python",
   "name": "python",
   "nbconvert_exporter": "python",
   "pygments_lexer": "ipython3",
   "version": "3.9.7"
  }
 },
 "nbformat": 4,
 "nbformat_minor": 5
}
