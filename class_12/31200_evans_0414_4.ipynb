{
 "cells": [
  {
   "cell_type": "markdown",
   "id": "03630c9e-7bb1-4ed3-8b76-118d6c4ab281",
   "metadata": {},
   "source": [
    "31200_evans_0414_4"
   ]
  },
  {
   "cell_type": "markdown",
   "id": "86e7e35f-dc1d-437f-8097-2a150ad1ef52",
   "metadata": {},
   "source": [
    "# 5. 올림픽 데이터 \n",
    "<img src= 'https://github.com/teacher-jiejie/allinone_AI/blob/images/17_%EC%98%AC%EB%A6%BC%ED%94%BD.png?raw=true' width=500>"
   ]
  },
  {
   "cell_type": "code",
   "execution_count": 1,
   "id": "bebbb6e0-6996-44fb-8b47-8cea41cb924a",
   "metadata": {},
   "outputs": [],
   "source": [
    "data =[\n",
    "       [1,'미국',46,37,38,121],\n",
    "       [2,'영국',27,23,17,67],\n",
    "       [3,'중국',26,18,26,70],\n",
    "       [4,'러시아',19,18,19,56],\n",
    "       [5,'독일',17,10,15,42],\n",
    "       [6,'일본',12,8,21,41],\n",
    "       [7,'프랑스',10,18,14,42],\n",
    "       [8,'대한민국',9,3,9,21] \n",
    "       ]"
   ]
  },
  {
   "cell_type": "code",
   "execution_count": 2,
   "id": "a2d5a64b-ab5b-4e7c-846d-f4d23522c18d",
   "metadata": {},
   "outputs": [
    {
     "name": "stdout",
     "output_type": "stream",
     "text": [
      "[[1, '미국', 46, 37, 38, 121], [2, '영국', 27, 23, 17, 67], [3, '중국', 26, 18, 26, 70], [4, '러시아', 19, 18, 19, 56], [5, '독일', 17, 10, 15, 42], [6, '일본', 12, 8, 21, 41], [7, '프랑스', 10, 18, 14, 42], [8, '대한민국', 9, 3, 9, 21]]\n"
     ]
    }
   ],
   "source": [
    "print(data)"
   ]
  },
  {
   "cell_type": "code",
   "execution_count": 4,
   "id": "fcfdd90f-5538-4582-80e5-50fb3b2a055f",
   "metadata": {},
   "outputs": [
    {
     "name": "stdout",
     "output_type": "stream",
     "text": [
      "[1, '미국', 46, 37, 38, 121]\n",
      "[2, '영국', 27, 23, 17, 67]\n",
      "[3, '중국', 26, 18, 26, 70]\n",
      "[4, '러시아', 19, 18, 19, 56]\n",
      "[5, '독일', 17, 10, 15, 42]\n",
      "[6, '일본', 12, 8, 21, 41]\n",
      "[7, '프랑스', 10, 18, 14, 42]\n",
      "[8, '대한민국', 9, 3, 9, 21]\n"
     ]
    }
   ],
   "source": [
    "for i in data:\n",
    "    print(i)"
   ]
  },
  {
   "cell_type": "code",
   "execution_count": 5,
   "id": "2e210936-e0d4-4fe8-8b16-bf16e07a14c9",
   "metadata": {},
   "outputs": [
    {
     "name": "stdout",
     "output_type": "stream",
     "text": [
      "미국\n",
      "영국\n",
      "중국\n",
      "러시아\n",
      "독일\n",
      "일본\n",
      "프랑스\n",
      "대한민국\n"
     ]
    }
   ],
   "source": [
    "#문제1 국가명만 출력하세요\n",
    "for i in data:\n",
    "    print(i[1])"
   ]
  },
  {
   "cell_type": "code",
   "execution_count": 7,
   "id": "b43a254d-5228-439b-adaf-89a77f2eb21e",
   "metadata": {},
   "outputs": [
    {
     "name": "stdout",
     "output_type": "stream",
     "text": [
      "프랑스 금메달- 10 은메달- 18\n"
     ]
    }
   ],
   "source": [
    "# 금메달보다 은메달 개수가 많은 나라를 출력하시오\n",
    "# 나라와 금메달 개수 은메달 개수를 출력하세요\n",
    "for i in data:\n",
    "    if i[2] < i[3]:\n",
    "        print(i[1],'금메달-',i[2], '은메달-',i[3])"
   ]
  },
  {
   "cell_type": "code",
   "execution_count": 8,
   "id": "0ca30f45-8d82-4d46-b8ee-4a10b6a82059",
   "metadata": {},
   "outputs": [
    {
     "name": "stdout",
     "output_type": "stream",
     "text": [
      "일본 금메달- 12 동메달- 21\n",
      "프랑스 금메달- 10 동메달- 14\n"
     ]
    }
   ],
   "source": [
    "# 금메달보다 동메달 개수가 많은 나라를 출력하시오\n",
    "# 나라와 금메달 개수 동메달 개수를 출력하세요\n",
    "for i in data:\n",
    "    if i[2] < i[4]:\n",
    "        print(i[1],'금메달-',i[2], '동메달-',i[4])"
   ]
  },
  {
   "cell_type": "code",
   "execution_count": 9,
   "id": "50307b58-a96c-436c-a012-9ae0775d94e8",
   "metadata": {},
   "outputs": [
    {
     "name": "stdout",
     "output_type": "stream",
     "text": [
      "총 금메달 개수는 166\n"
     ]
    }
   ],
   "source": [
    "# 모든 나라의 금메달 합을 구하시오\n",
    "gold = 0\n",
    "\n",
    "for i in data :\n",
    "    gold += i[2]\n",
    "    \n",
    "print('총 금메달 개수는', gold)"
   ]
  },
  {
   "cell_type": "code",
   "execution_count": null,
   "id": "8b6b9ac3-73b4-4c68-a5c1-a84b55226086",
   "metadata": {},
   "outputs": [],
   "source": []
  }
 ],
 "metadata": {
  "kernelspec": {
   "display_name": "Python 3 (ipykernel)",
   "language": "python",
   "name": "python3"
  },
  "language_info": {
   "codemirror_mode": {
    "name": "ipython",
    "version": 3
   },
   "file_extension": ".py",
   "mimetype": "text/x-python",
   "name": "python",
   "nbconvert_exporter": "python",
   "pygments_lexer": "ipython3",
   "version": "3.9.7"
  }
 },
 "nbformat": 4,
 "nbformat_minor": 5
}
