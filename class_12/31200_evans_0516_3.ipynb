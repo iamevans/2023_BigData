{
 "cells": [
  {
   "cell_type": "markdown",
   "id": "25893a24-b770-411f-acf8-eb8d599f094a",
   "metadata": {},
   "source": [
    "31200_evans_0516_3"
   ]
  },
  {
   "cell_type": "markdown",
   "id": "cc16d839-3e03-417c-bae2-b555e8bed2e0",
   "metadata": {},
   "source": [
    "# for문과 while문"
   ]
  },
  {
   "cell_type": "markdown",
   "id": "c58013bf-621b-4504-a662-8b97be64928f",
   "metadata": {},
   "source": [
    "## 1부터 5까지 출력하기"
   ]
  },
  {
   "cell_type": "code",
   "execution_count": 2,
   "id": "ae2b12d4-f4e6-436f-b7c9-1bc506f8d88c",
   "metadata": {},
   "outputs": [
    {
     "name": "stdout",
     "output_type": "stream",
     "text": [
      "1\n",
      "2\n",
      "3\n",
      "4\n",
      "5\n"
     ]
    }
   ],
   "source": [
    "# for문\n",
    "\n",
    "for i in range(1,6):\n",
    "    print(f'{i}')"
   ]
  },
  {
   "cell_type": "code",
   "execution_count": 3,
   "id": "0b365a15-351d-476e-b295-229f4e432ff3",
   "metadata": {},
   "outputs": [
    {
     "name": "stdout",
     "output_type": "stream",
     "text": [
      "1\n",
      "2\n",
      "3\n",
      "4\n",
      "5\n"
     ]
    }
   ],
   "source": [
    "# while\n",
    "\n",
    "n = 1\n",
    "while n <= 5 :\n",
    "    print(f'{n}')\n",
    "    n+=1"
   ]
  },
  {
   "cell_type": "code",
   "execution_count": 5,
   "id": "8856886b-93ff-405e-b7f3-ff99638cd786",
   "metadata": {},
   "outputs": [
    {
     "name": "stdout",
     "output_type": "stream",
     "text": [
      "합계 : 55\n"
     ]
    }
   ],
   "source": [
    "# 1부터 10까지 더하는 프로그램\n",
    "# for \n",
    "total = 0 #누적변수 선언 및 초기화\n",
    "for i in range(1,11):\n",
    "    total += i\n",
    "print(f'합계 : {total}')\n",
    "    "
   ]
  },
  {
   "cell_type": "code",
   "execution_count": 6,
   "id": "c4b14679-a73f-4deb-97cc-dd502d24c37f",
   "metadata": {},
   "outputs": [
    {
     "name": "stdout",
     "output_type": "stream",
     "text": [
      "합계 : 55\n"
     ]
    }
   ],
   "source": [
    "# 1부터 10까지 더하는 프로그램\n",
    "# while\n",
    "\n",
    "n = 1\n",
    "total = 0\n",
    "while n <= 10:\n",
    "    total+=n\n",
    "    n+=1\n",
    "print(f'합계 : {total}')"
   ]
  },
  {
   "cell_type": "markdown",
   "id": "9615c088-849e-4cf2-8839-f25285db4f4b",
   "metadata": {},
   "source": [
    "# while문만 가능한 경우"
   ]
  },
  {
   "cell_type": "code",
   "execution_count": null,
   "id": "ce1cc60c-ed06-4edf-8b23-0deba8e4d50c",
   "metadata": {},
   "outputs": [],
   "source": [
    "# 'q'를 입력할 때까지 반복하여 이름 입력받기\n",
    "\n",
    "name = input('이름 : ')\n",
    "while name != 'q':\n",
    "    name = input('이름 : ')"
   ]
  },
  {
   "cell_type": "code",
   "execution_count": null,
   "id": "84f0b6f4-8bc9-4694-a4fc-3dee4422680d",
   "metadata": {},
   "outputs": [],
   "source": [
    "# break로 반복문 빠져나오기 if == \n",
    "\n",
    "while True:\n",
    "    name = input('이름 : ')\n",
    "    if name =='q':\n",
    "        break"
   ]
  },
  {
   "cell_type": "code",
   "execution_count": 9,
   "id": "28d73fcc-7f62-4a14-9736-4f386297a1d5",
   "metadata": {},
   "outputs": [
    {
     "name": "stdin",
     "output_type": "stream",
     "text": [
      "아이디 :  아이디\n",
      "패쓰워드 :  패쓔\n",
      "아이디 :  id123\n",
      "패쓰워드 :  pwd12\n",
      "아이디 :  id123\n",
      "패쓰워드 :  pwd123\n"
     ]
    }
   ],
   "source": [
    "# 연습문제\n",
    "# 올바른 아이디/비밀번호를 입력할때까지 아이디와 비밀번호를 입력하는 프로그램 만들기\n",
    "id = 'id123'\n",
    "pwd = 'pwd123'\n",
    "\n",
    "while True:\n",
    "    input_id = input('아이디 : ')\n",
    "    input_pwd = input('패쓰워드 : ')\n",
    "    \n",
    "    if id== input_id and pwd == input_pwd:\n",
    "        break"
   ]
  },
  {
   "cell_type": "markdown",
   "id": "d693c2bf-348f-430c-b2df-92b0973ff261",
   "metadata": {},
   "source": [
    "* 확장하기     \n",
    "아이디가 잘못되었으면 '아이디를 확인하세요' 출력    \n",
    "비밀번호가 잘못되었으면 '비밀번호를 확인하세요' 출력"
   ]
  },
  {
   "cell_type": "code",
   "execution_count": 10,
   "id": "f1ea3a94-3f63-4a4c-b86a-5bb0856b76c6",
   "metadata": {},
   "outputs": [
    {
     "name": "stdin",
     "output_type": "stream",
     "text": [
      "아이디 :  id123\n",
      "패쓰워드 :  pw\n"
     ]
    },
    {
     "name": "stdout",
     "output_type": "stream",
     "text": [
      "패쓰워드를 확인하세요\n"
     ]
    },
    {
     "name": "stdin",
     "output_type": "stream",
     "text": [
      "아이디 :  id\n",
      "패쓰워드 :  pwd123\n"
     ]
    },
    {
     "name": "stdout",
     "output_type": "stream",
     "text": [
      "아이디를 확인하세요\n"
     ]
    },
    {
     "name": "stdin",
     "output_type": "stream",
     "text": [
      "아이디 :  id123\n",
      "패쓰워드 :  pwd123\n"
     ]
    }
   ],
   "source": [
    "id = 'id123'\n",
    "pwd = 'pwd123'\n",
    "\n",
    "while True:\n",
    "    input_id = input('아이디 : ')\n",
    "    input_pwd = input('패쓰워드 : ')\n",
    "    \n",
    "    if id== input_id and pwd == input_pwd:\n",
    "        break\n",
    "    if id != input_id :\n",
    "        print(f'아이디를 확인하세요')\n",
    "    if pwd != input_pwd :\n",
    "        print(f'패쓰워드를 확인하세요')"
   ]
  },
  {
   "cell_type": "markdown",
   "id": "78b827de-799e-474f-a4b5-e77dc54a45bc",
   "metadata": {},
   "source": [
    "* 사용자가 0을 입력할 때까지 숫자을 입력받아 입력받은 숫자들의 합을 구하는 프로그램을 작성하세요"
   ]
  },
  {
   "cell_type": "code",
   "execution_count": 11,
   "id": "f2873403-c658-4604-be47-3cf45252b4c1",
   "metadata": {},
   "outputs": [
    {
     "name": "stdin",
     "output_type": "stream",
     "text": [
      "숫자 :  10\n",
      "숫자 :  20\n",
      "숫자 :  30\n",
      "숫자 :  0\n"
     ]
    },
    {
     "name": "stdout",
     "output_type": "stream",
     "text": [
      "입력 받은 숫자들의 합 : 60\n"
     ]
    }
   ],
   "source": [
    "total = 0\n",
    "\n",
    "while True :\n",
    "    num = int(input('숫자 : '))\n",
    "    if num == 0:\n",
    "        break\n",
    "    total+=num\n",
    "print(f'입력 받은 숫자들의 합 : {total}')"
   ]
  },
  {
   "cell_type": "markdown",
   "id": "3e8d9ba6-75fa-4734-93ad-6da57ab6cc16",
   "metadata": {},
   "source": [
    "# up&down 숫자맞추기 게임\n",
    "* 1~100 사이의 정답 숫자를 랜덤으로 하나 정하고, 정답 숫자를 맞출 때까지 숫자를 입력하는 게임이다.     \n",
    "내가 입력한 숫자가 정답보다 작으면 'DOWN', 정답보다 크면 'UP'을 출력하고 숫자를 다시 입력받는다.     \n",
    "정답을 맞추면 '정답!'이라고 출력하고 게임을 끝낸다."
   ]
  },
  {
   "cell_type": "code",
   "execution_count": 18,
   "id": "f343002e-d83a-45c0-83f0-dd421c7a1e84",
   "metadata": {},
   "outputs": [
    {
     "name": "stdin",
     "output_type": "stream",
     "text": [
      "예상숫자 :  50\n"
     ]
    },
    {
     "name": "stdout",
     "output_type": "stream",
     "text": [
      "up\n"
     ]
    },
    {
     "name": "stdin",
     "output_type": "stream",
     "text": [
      "예상숫자 :  70\n"
     ]
    },
    {
     "name": "stdout",
     "output_type": "stream",
     "text": [
      "down\n"
     ]
    },
    {
     "name": "stdin",
     "output_type": "stream",
     "text": [
      "예상숫자 :  60\n"
     ]
    },
    {
     "name": "stdout",
     "output_type": "stream",
     "text": [
      "down\n"
     ]
    },
    {
     "name": "stdin",
     "output_type": "stream",
     "text": [
      "예상숫자 :  55\n"
     ]
    },
    {
     "name": "stdout",
     "output_type": "stream",
     "text": [
      "up\n"
     ]
    },
    {
     "name": "stdin",
     "output_type": "stream",
     "text": [
      "예상숫자 :  56\n"
     ]
    },
    {
     "name": "stdout",
     "output_type": "stream",
     "text": [
      "정답~~~\n"
     ]
    }
   ],
   "source": [
    "# 정답숫자\n",
    "import random\n",
    "num = random.randrange(1,101)\n",
    "#print(f'예상숫자 : {num}')\n",
    "\n",
    "# 정답을 맞출 때까지 반복하기\n",
    "while True:\n",
    "    answer = int(input('예상숫자 : '))\n",
    "    if answer == num :\n",
    "        print(f'정답~~~')\n",
    "        break\n",
    "    if answer < num :\n",
    "        print(f'up')\n",
    "    else:\n",
    "        print(f'down')"
   ]
  },
  {
   "cell_type": "markdown",
   "id": "ebe74d32-3cbf-4ad2-9b37-a312e512e7d4",
   "metadata": {},
   "source": [
    "* 확장     \n",
    "기회는 5번까지만 주어집니다.     \n",
    "5회가 넘으면 '횟수초과' 메시지와 함께 정답을 알려줍니다.    \n",
    "정답을 맞추면 몇번째에 맞추었는지 출력합니다."
   ]
  },
  {
   "cell_type": "code",
   "execution_count": 19,
   "id": "a594822f-691a-4231-b720-16f3398eee6c",
   "metadata": {},
   "outputs": [
    {
     "name": "stdin",
     "output_type": "stream",
     "text": [
      "예상숫자 :  50\n"
     ]
    },
    {
     "name": "stdout",
     "output_type": "stream",
     "text": [
      "up\n"
     ]
    },
    {
     "name": "stdin",
     "output_type": "stream",
     "text": [
      "예상숫자 :  75\n"
     ]
    },
    {
     "name": "stdout",
     "output_type": "stream",
     "text": [
      "up\n"
     ]
    },
    {
     "name": "stdin",
     "output_type": "stream",
     "text": [
      "예상숫자 :  88\n"
     ]
    },
    {
     "name": "stdout",
     "output_type": "stream",
     "text": [
      "down\n"
     ]
    },
    {
     "name": "stdin",
     "output_type": "stream",
     "text": [
      "예상숫자 :  80\n"
     ]
    },
    {
     "name": "stdout",
     "output_type": "stream",
     "text": [
      "up\n"
     ]
    },
    {
     "name": "stdin",
     "output_type": "stream",
     "text": [
      "예상숫자 :  85\n"
     ]
    },
    {
     "name": "stdout",
     "output_type": "stream",
     "text": [
      "down\n",
      "횟수초과 : 정답은 83\n"
     ]
    }
   ],
   "source": [
    "# 횟수\n",
    "cnt = 0\n",
    "\n",
    "# 정답숫자\n",
    "import random\n",
    "num = random.randrange(1,101)\n",
    "#print(f'예상숫자 : {num}')\n",
    "\n",
    "# 정답을 맞출 때까지 반복하기\n",
    "while True:\n",
    "    cnt += 1\n",
    "    # 5회인지 확인\n",
    "    if cnt > 5 :\n",
    "        print(f'횟수초과 : 정답은 {num}')\n",
    "        break\n",
    "        \n",
    "    answer = int(input('예상숫자 : '))\n",
    "    if answer == num :\n",
    "        print(f'정답~~~')\n",
    "        print(f'{cnt}번만에 맞추었습니다.')\n",
    "        break\n",
    "    if answer < num :\n",
    "        print(f'up')\n",
    "    else:\n",
    "        print(f'down')"
   ]
  },
  {
   "cell_type": "code",
   "execution_count": null,
   "id": "deef6aa2-3cfe-4de1-9373-a506d4a098ba",
   "metadata": {},
   "outputs": [],
   "source": []
  }
 ],
 "metadata": {
  "kernelspec": {
   "display_name": "Python 3 (ipykernel)",
   "language": "python",
   "name": "python3"
  },
  "language_info": {
   "codemirror_mode": {
    "name": "ipython",
    "version": 3
   },
   "file_extension": ".py",
   "mimetype": "text/x-python",
   "name": "python",
   "nbconvert_exporter": "python",
   "pygments_lexer": "ipython3",
   "version": "3.9.7"
  }
 },
 "nbformat": 4,
 "nbformat_minor": 5
}
