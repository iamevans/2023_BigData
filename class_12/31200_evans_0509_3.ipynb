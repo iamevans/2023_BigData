{
 "cells": [
  {
   "cell_type": "markdown",
   "id": "57de1b3b-23c2-4f26-a0ad-4bca78561a68",
   "metadata": {},
   "source": [
    "31200_evans_0509_3"
   ]
  },
  {
   "cell_type": "markdown",
   "id": "fc2ab269-0e8b-4e66-b70f-251fab58365f",
   "metadata": {},
   "source": [
    "# if구조\n",
    "- 만약에 ~~~ 하다면 이래라 저래라\n",
    "* 점수를 입력받아, 점수가 60점 이상이면 '합격'을 출력합니다."
   ]
  },
  {
   "cell_type": "code",
   "execution_count": 1,
   "id": "4dc89db8-ea18-452f-a373-a0f601728e80",
   "metadata": {},
   "outputs": [
    {
     "name": "stdin",
     "output_type": "stream",
     "text": [
      "점수 : 50\n"
     ]
    },
    {
     "name": "stdout",
     "output_type": "stream",
     "text": [
      "수고하셨습니다.\n"
     ]
    }
   ],
   "source": [
    "score = int(input('점수 :'))\n",
    "\n",
    "if score >= 60 :\n",
    "    print(f'합격')\n",
    "    print(f'축하합니다.')\n",
    "print(f'수고하셨습니다.')"
   ]
  },
  {
   "cell_type": "markdown",
   "id": "7ea15231-93a0-417f-930f-965578f1c32d",
   "metadata": {},
   "source": [
    "# if..else..구조\n",
    "\n",
    "- 만약에 a조건이면 b 그렇지 않으면 c\n",
    "* 점수를 입력받아, 점수가 60점 이상이면 '합격'을 출력하고, 아니면 '불합격'을 출력합니다."
   ]
  },
  {
   "cell_type": "code",
   "execution_count": 2,
   "id": "a524d41e-e02d-40ab-8fa0-ee820e51da2a",
   "metadata": {},
   "outputs": [
    {
     "name": "stdin",
     "output_type": "stream",
     "text": [
      "점수 :  50\n"
     ]
    },
    {
     "name": "stdout",
     "output_type": "stream",
     "text": [
      "불합격\n"
     ]
    }
   ],
   "source": [
    "score = int(input('점수 : '))\n",
    "if score>=60:\n",
    "    print(f'합격')\n",
    "else:\n",
    "    print(f'불합격')"
   ]
  },
  {
   "cell_type": "markdown",
   "id": "470a0c52-db94-486c-8b0c-301af730c583",
   "metadata": {},
   "source": [
    "# if..elif..else구조\n",
    "\n",
    "* 점수를 입력받고 점수의 범위에 따라 등급을 출력하는 프로그램을 작성하세요.    \n",
    "\n",
    "|등급|A|B|C|D|F|\n",
    "|----|--|--|--|--|--|\n",
    "|점수|90이상|80~89|70~79|60~69|0~59|"
   ]
  },
  {
   "cell_type": "code",
   "execution_count": 6,
   "id": "b82b8ad5-8c1e-43d4-977a-f90b08ff9579",
   "metadata": {},
   "outputs": [
    {
     "name": "stdin",
     "output_type": "stream",
     "text": [
      "점수: 90\n"
     ]
    },
    {
     "name": "stdout",
     "output_type": "stream",
     "text": [
      "grade: A\n"
     ]
    }
   ],
   "source": [
    "score = int(input('점수:'))\n",
    "if score>=90:\n",
    "    grade='A'\n",
    "elif score>=80:\n",
    "    grade='B'\n",
    "elif score>=70:\n",
    "    grade='C'\n",
    "elif score>=60:\n",
    "    grade='D'\n",
    "else:\n",
    "    grade='F'\n",
    "\n",
    "print('grade:',grade)"
   ]
  },
  {
   "cell_type": "markdown",
   "id": "aac9095d-9c1f-4a3e-b304-752bdd226553",
   "metadata": {},
   "source": [
    "# 연습문제\n",
    "\n",
    "* 정수를 입력받아 짝수/홀수를 판별하세요.\n",
    "* 0이면 0을 출력"
   ]
  },
  {
   "cell_type": "code",
   "execution_count": null,
   "id": "e3d083cd-4f7d-4c16-9638-fb968e8ddcd2",
   "metadata": {},
   "outputs": [],
   "source": [
    "num = int(input('정수:'))\n",
    "\n",
    "if num%2 == 1:\n",
    "    print(f'홀수')\n",
    "elif num==0:\n",
    "    pirnt(f'0')\n",
    "else:\n",
    "    print(f'짝수')"
   ]
  }
 ],
 "metadata": {
  "kernelspec": {
   "display_name": "Python 3 (ipykernel)",
   "language": "python",
   "name": "python3"
  },
  "language_info": {
   "codemirror_mode": {
    "name": "ipython",
    "version": 3
   },
   "file_extension": ".py",
   "mimetype": "text/x-python",
   "name": "python",
   "nbconvert_exporter": "python",
   "pygments_lexer": "ipython3",
   "version": "3.9.7"
  }
 },
 "nbformat": 4,
 "nbformat_minor": 5
}
