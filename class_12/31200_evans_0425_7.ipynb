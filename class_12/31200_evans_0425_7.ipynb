{
 "cells": [
  {
   "cell_type": "markdown",
   "id": "ce23db76-aa21-41e6-a621-b4b61b6fe54f",
   "metadata": {},
   "source": [
    "31200_evans_0425_7"
   ]
  },
  {
   "cell_type": "markdown",
   "id": "4b2d9f24-f1c3-4a39-a1bf-f8c8efbfcbde",
   "metadata": {},
   "source": [
    "#  1. 딕셔너리\n",
    "Key (키) - Value (값) 대응    \n",
    "\n",
    "\n",
    "<img src = 'https://github.com/teacher-jiejie/allinone_AI/blob/images/12_%EB%94%95%EC%85%94%EB%84%88%EB%A6%AC.png?raw=true' width =600>\n",
    "\n",
    "<br/>\n",
    "<br/>\n",
    "<img src='https://github.com/teacher-jiejie/allinone_AI/blob/images/72_%EB%94%95%EC%85%94%EB%84%88%EB%A6%AC%20%EB%A6%AC%EC%8A%A4%ED%8A%B8%20%EB%B9%84%EA%B5%90.png?raw=true' width =400>\n",
    "\n",
    "<br/>\n",
    "\n",
    "```\n",
    "딕셔너리이름 = {키1 : 값1, 키2 : 값2, ... 키n : 값n}\n",
    "```"
   ]
  },
  {
   "cell_type": "code",
   "execution_count": 1,
   "id": "926cbae7-c4cc-49b5-99a0-9f5291864619",
   "metadata": {},
   "outputs": [
    {
     "data": {
      "text/plain": [
       "{'김밥': 2500, '참치김밥': 3500, '라면': 3000, '치즈라면': 4000}"
      ]
     },
     "execution_count": 1,
     "metadata": {},
     "output_type": "execute_result"
    }
   ],
   "source": [
    "menu = {'김밥':2500, '참치김밥': 3500, '라면':3000, '치즈라면': 4000}\n",
    "menu"
   ]
  },
  {
   "cell_type": "code",
   "execution_count": 2,
   "id": "7898145e-6721-4549-9df0-b94e8256924f",
   "metadata": {},
   "outputs": [
    {
     "name": "stdout",
     "output_type": "stream",
     "text": [
      "{'김밥': 2500, '참치김밥': 3500, '라면': 3000, '치즈라면': 4000}\n"
     ]
    }
   ],
   "source": [
    "print(menu)"
   ]
  },
  {
   "cell_type": "code",
   "execution_count": 3,
   "id": "ca4f007e-62da-4b02-a047-96f92b78e603",
   "metadata": {},
   "outputs": [
    {
     "data": {
      "text/plain": [
       "2500"
      ]
     },
     "execution_count": 3,
     "metadata": {},
     "output_type": "execute_result"
    }
   ],
   "source": [
    "menu['김밥']"
   ]
  },
  {
   "cell_type": "code",
   "execution_count": 4,
   "id": "47f082b2-a605-4c0b-9223-ce38dfcdbfe8",
   "metadata": {},
   "outputs": [
    {
     "data": {
      "text/plain": [
       "4000"
      ]
     },
     "execution_count": 4,
     "metadata": {},
     "output_type": "execute_result"
    }
   ],
   "source": [
    "menu['치즈라면']"
   ]
  },
  {
   "cell_type": "code",
   "execution_count": 5,
   "id": "4234bba7-bb86-42db-834e-7a0f84c6f387",
   "metadata": {},
   "outputs": [
    {
     "name": "stdout",
     "output_type": "stream",
     "text": [
      "{'김밥': 2500, '참치김밥': 3500, '라면': 3000, '치즈라면': 4000}\n",
      "{'김밥': 2500, '참치김밥': 3000, '라면': 3000, '치즈라면': 4000}\n"
     ]
    }
   ],
   "source": [
    "# 참치김밥 인하 3000원\n",
    "print(menu)\n",
    "\n",
    "menu['참치김밥'] = 3000\n",
    "\n",
    "print(menu)"
   ]
  },
  {
   "cell_type": "code",
   "execution_count": 6,
   "id": "70e077d6-9180-484f-9049-d08e781b66e9",
   "metadata": {},
   "outputs": [
    {
     "name": "stdout",
     "output_type": "stream",
     "text": [
      "{'김밥': 2500, '참치김밥': 3000, '라면': 3000, '치즈라면': 4000}\n",
      "{'김밥': 2500, '참치김밥': 3000, '라면': 3000, '치즈라면': 4500}\n"
     ]
    }
   ],
   "source": [
    "# 치즈 값이 올라서 치즈라면 4500\n",
    "# 업데이트 value값을 변경\n",
    "\n",
    "print(menu)\n",
    "\n",
    "menu['치즈라면'] = 4500\n",
    "\n",
    "print(menu)"
   ]
  },
  {
   "cell_type": "code",
   "execution_count": 7,
   "id": "1474d15e-83db-461e-9781-acdfbe530a3a",
   "metadata": {},
   "outputs": [],
   "source": [
    "# 딕셔너리 요소 삭제 del\n",
    "del menu['치즈라면']"
   ]
  },
  {
   "cell_type": "code",
   "execution_count": 8,
   "id": "8aaafe70-daaa-4ea4-8b5b-370210731c0e",
   "metadata": {},
   "outputs": [
    {
     "data": {
      "text/plain": [
       "{'김밥': 2500, '참치김밥': 3000, '라면': 3000}"
      ]
     },
     "execution_count": 8,
     "metadata": {},
     "output_type": "execute_result"
    }
   ],
   "source": [
    "menu"
   ]
  },
  {
   "cell_type": "code",
   "execution_count": 9,
   "id": "3e6e34c6-c9ac-434c-a5fe-fe4b8f851765",
   "metadata": {},
   "outputs": [
    {
     "data": {
      "text/plain": [
       "{'김밥': 2500, '참치김밥': 3000, '라면': 3000, '돈가스': 7000}"
      ]
     },
     "execution_count": 9,
     "metadata": {},
     "output_type": "execute_result"
    }
   ],
   "source": [
    "menu['돈가스'] = 7000\n",
    "menu"
   ]
  },
  {
   "cell_type": "markdown",
   "id": "94b9baa7-ae80-4aee-95fd-a465f93236fd",
   "metadata": {},
   "source": [
    "# 2. 딕셔너리의 키와 값\n",
    "\n",
    "딕셔너리의 키만 꺼내기 \n",
    "> 딕셔너리이름.keys()\n",
    "<br/>\n",
    "\n",
    "딕셔너리의 값(value)만 꺼내기 \n",
    "> 딕셔너리이름.values()\n",
    "<br/>\n",
    "\n",
    "딕셔너리의 키-값 모두 꺼내기 \n",
    ">딕셔너리이름.items()"
   ]
  },
  {
   "cell_type": "code",
   "execution_count": 13,
   "id": "68ce2408-7133-4a8e-a9c5-5699905ee61c",
   "metadata": {},
   "outputs": [
    {
     "data": {
      "text/plain": [
       "['김밥', '참치김밥', '라면', '돈가스']"
      ]
     },
     "execution_count": 13,
     "metadata": {},
     "output_type": "execute_result"
    }
   ],
   "source": [
    "list(menu.keys())"
   ]
  },
  {
   "cell_type": "code",
   "execution_count": 14,
   "id": "bbfbd783-de48-4bef-89c9-c79055dece63",
   "metadata": {},
   "outputs": [
    {
     "data": {
      "text/plain": [
       "[2500, 3000, 3000, 7000]"
      ]
     },
     "execution_count": 14,
     "metadata": {},
     "output_type": "execute_result"
    }
   ],
   "source": [
    "list(menu.values())"
   ]
  },
  {
   "cell_type": "code",
   "execution_count": 15,
   "id": "b6e89416-205f-4c90-ab2e-5ebd6fb20d34",
   "metadata": {},
   "outputs": [
    {
     "data": {
      "text/plain": [
       "[('김밥', 2500), ('참치김밥', 3000), ('라면', 3000), ('돈가스', 7000)]"
      ]
     },
     "execution_count": 15,
     "metadata": {},
     "output_type": "execute_result"
    }
   ],
   "source": [
    "list(menu.items())"
   ]
  },
  {
   "cell_type": "markdown",
   "id": "e9130913-4443-4de0-8404-10c2afa56808",
   "metadata": {},
   "source": [
    "# 3. 딕셔너리 정렬하기 \n",
    "\n",
    "> sorted( )\n",
    "\n",
    "```\n",
    "# 딕셔너리 키를 정렬\n",
    "sorted(딕셔너리.keys())\n",
    "\n",
    "# 딕셔너리 값을 정렬\n",
    "sorted(딕셔너리.values())\n",
    "\n",
    "# 딕셔너리 키-값을 정렬\n",
    "sorted(딕셔너리.items())\n",
    "```\n",
    "\n",
    "```\n",
    "mart = {'과자':1500, '아이스크림':1700, '휴지':4800, '고기':10500, '우유':2600}\n",
    "```\n"
   ]
  },
  {
   "cell_type": "code",
   "execution_count": 16,
   "id": "a019c580-fc2d-4d59-8920-c904e91e9be8",
   "metadata": {},
   "outputs": [],
   "source": [
    "mart = {'과자':1500, '아이스크림':1700, '휴지':4800, '고기':10500, '우유':2600}"
   ]
  },
  {
   "cell_type": "code",
   "execution_count": 17,
   "id": "08811790-3e3e-4762-a77b-86c5e0b7ee9c",
   "metadata": {},
   "outputs": [
    {
     "data": {
      "text/plain": [
       "['고기', '과자', '아이스크림', '우유', '휴지']"
      ]
     },
     "execution_count": 17,
     "metadata": {},
     "output_type": "execute_result"
    }
   ],
   "source": [
    "# 가나다순은 오름차순 -> reverse=True\n",
    "sorted(mart.keys())"
   ]
  },
  {
   "cell_type": "code",
   "execution_count": 18,
   "id": "39b0fa76-9912-4bf8-85ec-1dbb6375bb30",
   "metadata": {},
   "outputs": [
    {
     "data": {
      "text/plain": [
       "['휴지', '우유', '아이스크림', '과자', '고기']"
      ]
     },
     "execution_count": 18,
     "metadata": {},
     "output_type": "execute_result"
    }
   ],
   "source": [
    "# 내림차순 \n",
    "sorted(mart.keys(), reverse=True)"
   ]
  },
  {
   "cell_type": "code",
   "execution_count": 19,
   "id": "f6ce18b0-e6a3-4c7d-bedd-005e7fdc87f5",
   "metadata": {},
   "outputs": [
    {
     "data": {
      "text/plain": [
       "[1500, 1700, 2600, 4800, 10500]"
      ]
     },
     "execution_count": 19,
     "metadata": {},
     "output_type": "execute_result"
    }
   ],
   "source": [
    "sorted(mart.values())"
   ]
  },
  {
   "cell_type": "code",
   "execution_count": 20,
   "id": "e4694729-d672-4b1a-8e4b-5426ce422452",
   "metadata": {},
   "outputs": [
    {
     "data": {
      "text/plain": [
       "[10500, 4800, 2600, 1700, 1500]"
      ]
     },
     "execution_count": 20,
     "metadata": {},
     "output_type": "execute_result"
    }
   ],
   "source": [
    "sorted(mart.values(), reverse=True)"
   ]
  },
  {
   "cell_type": "code",
   "execution_count": 21,
   "id": "635cdbc2-4f21-446d-83e5-8eede6c19703",
   "metadata": {},
   "outputs": [
    {
     "data": {
      "text/plain": [
       "1500"
      ]
     },
     "execution_count": 21,
     "metadata": {},
     "output_type": "execute_result"
    }
   ],
   "source": [
    "#문제 가장 싼 상품의 가격만 출력하세요\n",
    "sorted(mart.values())[0]"
   ]
  },
  {
   "cell_type": "code",
   "execution_count": 24,
   "id": "8431db7a-b1fb-443e-a0b7-18d83267c2a3",
   "metadata": {},
   "outputs": [
    {
     "data": {
      "text/plain": [
       "[10500, 4800]"
      ]
     },
     "execution_count": 24,
     "metadata": {},
     "output_type": "execute_result"
    }
   ],
   "source": [
    "#문제 가장 비싼 상품의 두개 가격은?\n",
    "sorted(mart.values(), reverse=True)[:2]"
   ]
  },
  {
   "cell_type": "code",
   "execution_count": null,
   "id": "56e59ab6-5d9b-4f5b-8b65-f425d29db44f",
   "metadata": {},
   "outputs": [],
   "source": []
  }
 ],
 "metadata": {
  "kernelspec": {
   "display_name": "Python 3 (ipykernel)",
   "language": "python",
   "name": "python3"
  },
  "language_info": {
   "codemirror_mode": {
    "name": "ipython",
    "version": 3
   },
   "file_extension": ".py",
   "mimetype": "text/x-python",
   "name": "python",
   "nbconvert_exporter": "python",
   "pygments_lexer": "ipython3",
   "version": "3.9.7"
  }
 },
 "nbformat": 4,
 "nbformat_minor": 5
}
