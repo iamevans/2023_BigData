{
 "cells": [
  {
   "cell_type": "markdown",
   "id": "cefde0cf-0a51-4ec9-a5d4-efbd5751682c",
   "metadata": {},
   "source": [
    "31200_evans_0323_1"
   ]
  },
  {
   "cell_type": "markdown",
   "id": "d9aad6b3-2ad5-4733-8cd0-3cb791921be8",
   "metadata": {},
   "source": [
    "최저 주문금액이 있는 새벽배송 \n",
    "```\n",
    "- 최저 구매금액이 2만 원 \n",
    "- 5만 원 미만은 배송비 2500원 추가\n",
    "- 5만 원 이상 이면 무료배송\n",
    "\n",
    "구매금액을 입력받아 조건 별로 \n",
    "- '새벽배송이 불가합니다.'\n",
    "- '배송비 2500원이 추가됩니다.'\n",
    "- '무료배송됩니다.'\n",
    "중 하나를 출력하기\n",
    "```\n",
    "<img src='https://github.com/teacher-jiejie/allinone_AI/blob/images/67_elif.png?raw=true' width=600>"
   ]
  },
  {
   "cell_type": "code",
   "execution_count": 1,
   "id": "8462081f-86b8-43c6-968c-e862ae66f058",
   "metadata": {},
   "outputs": [
    {
     "name": "stdin",
     "output_type": "stream",
     "text": [
      "구매금액은? 50001\n"
     ]
    },
    {
     "name": "stdout",
     "output_type": "stream",
     "text": [
      "무료배송 됩니다.\n"
     ]
    }
   ],
   "source": [
    "price = int(input('구매금액은?'))\n",
    "\n",
    "if price < 20000 : \n",
    "    print('새벽배송이 불가능합니다.')\n",
    "elif price < 50000 : \n",
    "    print('배송비 2500원이 추가됩니다.')\n",
    "else : \n",
    "    print('무료배송 됩니다.')"
   ]
  },
  {
   "cell_type": "markdown",
   "id": "80ade3ad-f8d5-481c-8e9c-c94efb007e15",
   "metadata": {},
   "source": [
    "#### 1.반복문\n",
    "```\n",
    "for a in data :\n",
    "    명령어\n",
    "```\n",
    "> a가 data에 있는동안 명령어를 반복 실행하세요"
   ]
  },
  {
   "cell_type": "code",
   "execution_count": 2,
   "id": "85f5bdd0-28f9-41b0-9f41-e33bb1ac9715",
   "metadata": {},
   "outputs": [
    {
     "name": "stdout",
     "output_type": "stream",
     "text": [
      "안녕하세요\n",
      "안녕하세요\n",
      "안녕하세요\n",
      "안녕하세요\n",
      "안녕하세요\n"
     ]
    }
   ],
   "source": [
    "#예1\n",
    "for a in [1,2,3,4,5] :\n",
    "    print('안녕하세요')"
   ]
  },
  {
   "cell_type": "code",
   "execution_count": 3,
   "id": "456b630b-6958-4c86-93ae-1dc627f224bc",
   "metadata": {},
   "outputs": [
    {
     "name": "stdout",
     "output_type": "stream",
     "text": [
      "1 안녕하세요!!\n",
      "2 안녕하세요!!\n",
      "3 안녕하세요!!\n",
      "4 안녕하세요!!\n",
      "5 안녕하세요!!\n"
     ]
    }
   ],
   "source": [
    "for a in [1,2,3,4,5] :\n",
    "    print(a,'안녕하세요!!')"
   ]
  },
  {
   "cell_type": "markdown",
   "id": "21062bce-8289-4b00-a8ad-5bbcbda2b428",
   "metadata": {},
   "source": [
    "<img src ='https://github.com/teacher-jiejie/allinone_AI/blob/images/5_%EB%B0%98%EB%B3%B5%EB%AC%B8%20%EB%8F%99%EC%9E%91%EA%B5%AC%EC%A1%B0.png?raw=true' width=500>"
   ]
  },
  {
   "cell_type": "markdown",
   "id": "ed0e308e-d785-4931-9014-4d2a15b712ca",
   "metadata": {},
   "source": [
    "#### 2. range(시작숫자, 종료숫자)\n",
    "\n",
    "> 시작숫자 ~ 종료숫자<br>\n",
    "  1~10 range(1,10) 종료숫자-1까지 포함한다."
   ]
  },
  {
   "cell_type": "code",
   "execution_count": 5,
   "id": "1a0df084-34d3-49db-8974-f8d83e341578",
   "metadata": {},
   "outputs": [
    {
     "name": "stdout",
     "output_type": "stream",
     "text": [
      "1 선생님 열심히 공부 하겠습니다.!\n",
      "2 선생님 열심히 공부 하겠습니다.!\n",
      "3 선생님 열심히 공부 하겠습니다.!\n",
      "4 선생님 열심히 공부 하겠습니다.!\n",
      "5 선생님 열심히 공부 하겠습니다.!\n",
      "6 선생님 열심히 공부 하겠습니다.!\n",
      "7 선생님 열심히 공부 하겠습니다.!\n",
      "8 선생님 열심히 공부 하겠습니다.!\n",
      "9 선생님 열심히 공부 하겠습니다.!\n",
      "10 선생님 열심히 공부 하겠습니다.!\n"
     ]
    }
   ],
   "source": [
    "#예2\n",
    "\n",
    "for a in range(1,11) :\n",
    "    print(a, '선생님 열심히 공부 하겠습니다.!')"
   ]
  },
  {
   "cell_type": "code",
   "execution_count": 7,
   "id": "abfa7a71-a39d-497b-8aac-a2037365d85f",
   "metadata": {},
   "outputs": [
    {
     "name": "stdout",
     "output_type": "stream",
     "text": [
      "0 선생님 열심히 공부 하겠습니다.!\n",
      "1 선생님 열심히 공부 하겠습니다.!\n",
      "2 선생님 열심히 공부 하겠습니다.!\n",
      "3 선생님 열심히 공부 하겠습니다.!\n",
      "4 선생님 열심히 공부 하겠습니다.!\n",
      "5 선생님 열심히 공부 하겠습니다.!\n",
      "6 선생님 열심히 공부 하겠습니다.!\n",
      "7 선생님 열심히 공부 하겠습니다.!\n",
      "8 선생님 열심히 공부 하겠습니다.!\n",
      "9 선생님 열심히 공부 하겠습니다.!\n"
     ]
    }
   ],
   "source": [
    "# 10개를 출력하는데 index는 0부터 시작이다.\n",
    "for a in range(10) :\n",
    "    print(a, '선생님 열심히 공부 하겠습니다.!')"
   ]
  },
  {
   "cell_type": "markdown",
   "id": "ba511c48-0e89-4e27-9592-214dd0c14fcf",
   "metadata": {},
   "source": [
    "#### 3. for i in data :\n",
    "> 일반적으로 반복문에서는 i라는 변수를 사용합니다"
   ]
  },
  {
   "cell_type": "markdown",
   "id": "d566d47a-8e55-43a1-9cda-5239d62bef04",
   "metadata": {},
   "source": [
    "#### 문제1\n",
    "> 1부터 50까지의 숫자의 합을 구해보자. ex) 1+2+3+...49+50"
   ]
  },
  {
   "cell_type": "code",
   "execution_count": 9,
   "id": "931dd9f5-d3b2-49c0-a573-8c5e67b42d3e",
   "metadata": {},
   "outputs": [
    {
     "name": "stdout",
     "output_type": "stream",
     "text": [
      "1275\n"
     ]
    }
   ],
   "source": [
    "result = 0\n",
    "\n",
    "for i in range(1,51) :\n",
    "    #result = result + i\n",
    "    result += i\n",
    "print(result)"
   ]
  },
  {
   "cell_type": "markdown",
   "id": "816edc17-6403-49f9-a6f0-f19a81a1cffc",
   "metadata": {},
   "source": [
    "#### 문제2\n",
    "숫자 하나를 입력받고, 1부터 입력받은 숫자까지의 곱을 구해보세요.\n",
    "<br/>\n",
    "> ex) 5를 입력받은 경우, 1x2x3x4x5 결과 출력하기"
   ]
  },
  {
   "cell_type": "code",
   "execution_count": 10,
   "id": "389d9c58-3a38-48ee-9d8e-dc74a4e8782b",
   "metadata": {},
   "outputs": [
    {
     "name": "stdin",
     "output_type": "stream",
     "text": [
      "숫자 입력 ->  5\n"
     ]
    },
    {
     "name": "stdout",
     "output_type": "stream",
     "text": [
      "120\n"
     ]
    }
   ],
   "source": [
    "num = int(input('숫자 입력 -> '))\n",
    "result = 1\n",
    "for i in range(1, num+1) :\n",
    "    result *= i\n",
    "print(result)"
   ]
  },
  {
   "cell_type": "code",
   "execution_count": null,
   "id": "e817226d-475d-4ee9-9fad-bb7f9bba7827",
   "metadata": {},
   "outputs": [],
   "source": []
  }
 ],
 "metadata": {
  "kernelspec": {
   "display_name": "Python 3 (ipykernel)",
   "language": "python",
   "name": "python3"
  },
  "language_info": {
   "codemirror_mode": {
    "name": "ipython",
    "version": 3
   },
   "file_extension": ".py",
   "mimetype": "text/x-python",
   "name": "python",
   "nbconvert_exporter": "python",
   "pygments_lexer": "ipython3",
   "version": "3.9.7"
  }
 },
 "nbformat": 4,
 "nbformat_minor": 5
}
