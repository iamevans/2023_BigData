{
 "cells": [
  {
   "cell_type": "markdown",
   "id": "f7bbf661-c4d1-4eab-9d5a-f2ad0c078e5e",
   "metadata": {},
   "source": [
    "31200_evans_0525_1"
   ]
  },
  {
   "cell_type": "markdown",
   "id": "7ef8daa5-607c-4fde-862a-ac884fcdf279",
   "metadata": {},
   "source": [
    "# 전역변수\n",
    "* 함수 밖에서 생성된 변수\n",
    "* 함수 내에서도 사용할 수 있다."
   ]
  },
  {
   "cell_type": "code",
   "execution_count": 1,
   "id": "d446ec76-de7b-4928-8111-7a5142eabe7f",
   "metadata": {},
   "outputs": [
    {
     "name": "stdout",
     "output_type": "stream",
     "text": [
      "hello\n"
     ]
    }
   ],
   "source": [
    "# 전역변수 : 함수의 안밖에 상관없이 적용할 수 있다.\n",
    "\n",
    "say1 = 'hello'\n",
    "\n",
    "def sayhello() :\n",
    "    print(say1)\n",
    "    \n",
    "sayhello()\n"
   ]
  },
  {
   "cell_type": "markdown",
   "id": "df14bb6f-ad72-464e-8691-93633b2bb821",
   "metadata": {},
   "source": [
    "# 지역변수\n",
    "* 함수 내에서 생성된 변수\n",
    "* 함수 내에서만 사용할 수 있다."
   ]
  },
  {
   "cell_type": "code",
   "execution_count": 2,
   "id": "f3f996ce-46d4-4965-85b5-822193021342",
   "metadata": {},
   "outputs": [
    {
     "name": "stdout",
     "output_type": "stream",
     "text": [
      "goodbye\n"
     ]
    },
    {
     "ename": "NameError",
     "evalue": "name 'say2' is not defined",
     "output_type": "error",
     "traceback": [
      "\u001b[1;31m---------------------------------------------------------------------------\u001b[0m",
      "\u001b[1;31mNameError\u001b[0m                                 Traceback (most recent call last)",
      "Input \u001b[1;32mIn [2]\u001b[0m, in \u001b[0;36m<cell line: 8>\u001b[1;34m()\u001b[0m\n\u001b[0;32m      5\u001b[0m     \u001b[38;5;28mprint\u001b[39m(say2)\n\u001b[0;32m      7\u001b[0m saygoodbye()\n\u001b[1;32m----> 8\u001b[0m \u001b[38;5;28mprint\u001b[39m(\u001b[43msay2\u001b[49m)\n",
      "\u001b[1;31mNameError\u001b[0m: name 'say2' is not defined"
     ]
    }
   ],
   "source": [
    "# 지역변수\n",
    "\n",
    "def saygoodbye():\n",
    "    say2 = 'goodbye' #지역변수 함수 안에서 정의된 변수\n",
    "    print(say2)\n",
    "    \n",
    "saygoodbye()\n",
    "print(say2)"
   ]
  },
  {
   "cell_type": "markdown",
   "id": "869b41ab-8715-4d72-8dc6-b6228f720b73",
   "metadata": {},
   "source": [
    "# 함수 안에서 전역변수 값 변경하기\n",
    "\n",
    "* 함수 내에서 전역변수 값을 변경하려면 'global' 키워드를 함께 사용하여야 한다.\n",
    "* global을 사용하지 않으면 동일한 이름의 지역변수가 생성되어 사용된다."
   ]
  },
  {
   "cell_type": "code",
   "execution_count": 6,
   "id": "e6ffa604-2337-427c-ad16-93f5a1f00ce4",
   "metadata": {},
   "outputs": [
    {
     "data": {
      "text/plain": [
       "2"
      ]
     },
     "execution_count": 6,
     "metadata": {},
     "output_type": "execute_result"
    }
   ],
   "source": [
    "n1 = 1\n",
    "n2 = 10\n",
    "\n",
    "def get_plus_minus():\n",
    "    global n1\n",
    "    n1 = 2\n",
    "    plus = n1 + n2\n",
    "    minus = n1 - n2\n",
    "    return plus, minus\n",
    "\n",
    "get_plus_minus()\n",
    "n1"
   ]
  },
  {
   "cell_type": "markdown",
   "id": "3f9edeaa-5a4d-4ceb-84f2-b8a9b8a930af",
   "metadata": {},
   "source": [
    "# map함수\n",
    "* map은 리스트나 튜플의 각 요소를 지정된 함수로 처리해주는 함수이다.\n",
    "* 원본리스트를 변경하지 않고 새 리스트를 생성한다.\n",
    "* list(map(함수, 리스트))\n",
    "* tuple(map(함수, 튜플))"
   ]
  },
  {
   "cell_type": "code",
   "execution_count": 8,
   "id": "85ffb162-5ddf-4e72-b6db-f661d371f82c",
   "metadata": {},
   "outputs": [
    {
     "name": "stdout",
     "output_type": "stream",
     "text": [
      "['1', '2', '3', '4']\n",
      "[1, 2, 3, 4]\n"
     ]
    }
   ],
   "source": [
    "a = ['1','2','3','4']\n",
    "b = list(map(int, a))\n",
    "print(a)\n",
    "print(b)"
   ]
  },
  {
   "cell_type": "markdown",
   "id": "51134b93-dbf2-4aa7-8226-5f11a2c7226f",
   "metadata": {},
   "source": [
    "# 람다표현식\n",
    "* lambda 매개변수1, 매개변수2, ... : 수식\n",
    "* 식 형태로 되어있어서 람다표현식(lambda experssion)이라고 부른다.\n",
    "* 람다표현식은 이름이 없는 익명함수이다."
   ]
  },
  {
   "cell_type": "code",
   "execution_count": 9,
   "id": "cccd7388-6386-4eb9-b8bc-ac194558e198",
   "metadata": {},
   "outputs": [
    {
     "data": {
      "text/plain": [
       "7"
      ]
     },
     "execution_count": 9,
     "metadata": {},
     "output_type": "execute_result"
    }
   ],
   "source": [
    "# 두 수를 매개변수 받아 더한 결과를 리턴하는 함수\n",
    "\n",
    "def get_plus(n1,n2):\n",
    "    return n1+n2\n",
    "\n",
    "get_plus(3,4)"
   ]
  },
  {
   "cell_type": "code",
   "execution_count": 11,
   "id": "1c5d8974-bf2c-46fc-a35d-d746446e6136",
   "metadata": {},
   "outputs": [
    {
     "data": {
      "text/plain": [
       "7"
      ]
     },
     "execution_count": 11,
     "metadata": {},
     "output_type": "execute_result"
    }
   ],
   "source": [
    "# 람다표현식 만들면\n",
    "lambda n1,n2:n1+n2\n",
    "\n",
    "# 람다표현식 사용\n",
    "(lambda n1,n2:n1+n2)(3,4)"
   ]
  },
  {
   "cell_type": "code",
   "execution_count": 13,
   "id": "e0667ae9-fb75-4b22-a075-c5087c6b1134",
   "metadata": {},
   "outputs": [
    {
     "name": "stdout",
     "output_type": "stream",
     "text": [
      "7\n",
      "11\n"
     ]
    }
   ],
   "source": [
    "lambda_plus = lambda n1,n2:n1+n2\n",
    "\n",
    "print(lambda_plus(3,4))\n",
    "print(lambda_plus(5,6))"
   ]
  },
  {
   "cell_type": "code",
   "execution_count": null,
   "id": "d56d9b8c-b1be-4f1a-9cff-0930837ff3ef",
   "metadata": {},
   "outputs": [],
   "source": []
  }
 ],
 "metadata": {
  "kernelspec": {
   "display_name": "Python 3 (ipykernel)",
   "language": "python",
   "name": "python3"
  },
  "language_info": {
   "codemirror_mode": {
    "name": "ipython",
    "version": 3
   },
   "file_extension": ".py",
   "mimetype": "text/x-python",
   "name": "python",
   "nbconvert_exporter": "python",
   "pygments_lexer": "ipython3",
   "version": "3.9.7"
  }
 },
 "nbformat": 4,
 "nbformat_minor": 5
}
