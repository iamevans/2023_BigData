{
 "cells": [
  {
   "cell_type": "markdown",
   "id": "feaebe97-f079-413f-962d-02ca1c95d7b1",
   "metadata": {},
   "source": [
    "31200_evans_0328_34"
   ]
  },
  {
   "cell_type": "markdown",
   "id": "b9d11bbe-9ea1-4d59-a939-c1f867bd50f3",
   "metadata": {},
   "source": [
    "구구단 외울 단을 입력받아, 해당 숫자의 구구단을 외워봅시다.<br/>\n",
    "ex. 5를 입력받으면 5단 외우기"
   ]
  },
  {
   "cell_type": "code",
   "execution_count": 2,
   "id": "c2465cb6-0819-4cb7-bf2f-49909149facd",
   "metadata": {},
   "outputs": [
    {
     "name": "stdin",
     "output_type": "stream",
     "text": [
      "몇 단을 외워볼까요?  19\n"
     ]
    },
    {
     "name": "stdout",
     "output_type": "stream",
     "text": [
      "19 x 1 = 19\n",
      "19 x 2 = 38\n",
      "19 x 3 = 57\n",
      "19 x 4 = 76\n",
      "19 x 5 = 95\n",
      "19 x 6 = 114\n",
      "19 x 7 = 133\n",
      "19 x 8 = 152\n",
      "19 x 9 = 171\n"
     ]
    }
   ],
   "source": [
    "a = int(input('몇 단을 외워볼까요? '))\n",
    "\n",
    "for i in range(1,10) :\n",
    "    print(a,'x', i, '=', a*i)"
   ]
  },
  {
   "cell_type": "code",
   "execution_count": 8,
   "id": "f21334ae-1931-49aa-a533-1c60487bce3d",
   "metadata": {},
   "outputs": [
    {
     "name": "stdout",
     "output_type": "stream",
     "text": [
      "사과\n",
      "귤\n",
      "수박\n"
     ]
    }
   ],
   "source": [
    "# for문의 실행결과를 예측하라.\n",
    "과일 = ['사과', '귤','수박']\n",
    "#print(과일[0])\n",
    "#print(과일[1])\n",
    "#print(과일[2])\n",
    "for i in 과일:\n",
    "    print(i)"
   ]
  },
  {
   "cell_type": "markdown",
   "id": "e2d4dee2-1043-45f5-a04c-3a05fffd93ff",
   "metadata": {},
   "source": [
    "```\n",
    "변수 = \"A\"\n",
    "print(변수)\n",
    "변수 = \"B\"\n",
    "print(변수)\n",
    "변수 = \"C\"\n",
    "print(변수)\n",
    "```"
   ]
  },
  {
   "cell_type": "code",
   "execution_count": 9,
   "id": "6e6d985f-16d7-47a8-92fb-00e01316fa82",
   "metadata": {},
   "outputs": [
    {
     "name": "stdout",
     "output_type": "stream",
     "text": [
      "A\n",
      "B\n",
      "C\n"
     ]
    }
   ],
   "source": [
    "for i in ['A', 'B','C'] :\n",
    "    print(i)"
   ]
  },
  {
   "cell_type": "markdown",
   "id": "45e41404-c056-432e-94d6-749d7f1bec4e",
   "metadata": {},
   "source": [
    "```\n",
    "우선, for문을 사용하지 않고 모든 값에 10을 더하는 코드를 작성해 봅시다.\n",
    "\n",
    "변수 = 100\n",
    "print(변수 + 10)\n",
    "변수 = 200\n",
    "print(변수 + 10)\n",
    "변수 = 300\n",
    "print(변수 + 10)\n",
    "```\n",
    "for문을 사용하여 변경해 보자\n"
   ]
  },
  {
   "cell_type": "code",
   "execution_count": 10,
   "id": "c9a2199a-42f7-4c07-9007-b056db31c088",
   "metadata": {},
   "outputs": [
    {
     "name": "stdout",
     "output_type": "stream",
     "text": [
      "110\n",
      "210\n",
      "310\n"
     ]
    }
   ],
   "source": [
    "data = [100,200,300]\n",
    "for i in data :\n",
    "    print(i + 10)"
   ]
  },
  {
   "cell_type": "markdown",
   "id": "35a2ef94-9733-47c4-95e1-af4042f7224d",
   "metadata": {},
   "source": [
    "### 문제\n",
    "```\n",
    "오늘의 메뉴: 김밥\n",
    "오늘의 메뉴: 라면\n",
    "오늘의 메뉴: 튀김\n",
    "```"
   ]
  },
  {
   "cell_type": "code",
   "execution_count": 14,
   "id": "62138aa8-5a41-4b37-9b9f-cf177c12eecf",
   "metadata": {},
   "outputs": [
    {
     "name": "stdout",
     "output_type": "stream",
     "text": [
      "오늘의 메뉴: 김밥\n",
      "오늘의 메뉴: 라면\n",
      "오늘의 메뉴: 튀김\n"
     ]
    }
   ],
   "source": [
    "menu = ['김밥','라면','튀김']\n",
    "for i in menu :\n",
    "    print('오늘의 메뉴: '+i)"
   ]
  },
  {
   "cell_type": "code",
   "execution_count": null,
   "id": "3bd58df3-cbad-4356-86a0-ecdaaedc1d81",
   "metadata": {},
   "outputs": [],
   "source": []
  }
 ],
 "metadata": {
  "kernelspec": {
   "display_name": "Python 3 (ipykernel)",
   "language": "python",
   "name": "python3"
  },
  "language_info": {
   "codemirror_mode": {
    "name": "ipython",
    "version": 3
   },
   "file_extension": ".py",
   "mimetype": "text/x-python",
   "name": "python",
   "nbconvert_exporter": "python",
   "pygments_lexer": "ipython3",
   "version": "3.9.7"
  }
 },
 "nbformat": 4,
 "nbformat_minor": 5
}
