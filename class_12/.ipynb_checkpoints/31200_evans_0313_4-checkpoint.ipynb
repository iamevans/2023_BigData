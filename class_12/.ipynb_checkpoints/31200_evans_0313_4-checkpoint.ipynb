{
 "cells": [
  {
   "cell_type": "markdown",
   "id": "049eebd9-7c1d-452f-955c-d39878df6de5",
   "metadata": {},
   "source": [
    "31200_evans_0313_4"
   ]
  },
  {
   "cell_type": "markdown",
   "id": "f6c2d573-ee19-4bd2-b784-bfe7aebb9b27",
   "metadata": {},
   "source": [
    "### 출력명령어 \n",
    "#### 출력 명령어 형식\n",
    "\n",
    "> print( 출력할 내용 )"
   ]
  },
  {
   "cell_type": "code",
   "execution_count": 1,
   "id": "58f6ab05-c8ef-40dc-a4e1-2a40db01a0c4",
   "metadata": {},
   "outputs": [
    {
     "name": "stdout",
     "output_type": "stream",
     "text": [
      "7201350\n"
     ]
    }
   ],
   "source": [
    "# 숫자출력 전화번호\n",
    "print(7201350)"
   ]
  },
  {
   "cell_type": "code",
   "execution_count": 2,
   "id": "2aef2e03-5349-4fec-88df-75d3fd94435f",
   "metadata": {},
   "outputs": [
    {
     "name": "stdout",
     "output_type": "stream",
     "text": [
      "12월 25일\n"
     ]
    }
   ],
   "source": [
    "# 문자출력 생일\n",
    "print('12월 25일')"
   ]
  },
  {
   "cell_type": "markdown",
   "id": "8f1591ee-2088-4d91-9acd-7e4ecf19444f",
   "metadata": {
    "tags": []
   },
   "source": [
    "###### 문자는 따옴표로 감싸주어야 함\n",
    "> print('문자')"
   ]
  },
  {
   "cell_type": "code",
   "execution_count": 10,
   "id": "1c258f7f-225d-4fee-9420-6c59c0928a22",
   "metadata": {},
   "outputs": [
    {
     "name": "stdout",
     "output_type": "stream",
     "text": [
      "23\n",
      "-3\n",
      "130\n",
      "0.7692307692307693\n"
     ]
    }
   ],
   "source": [
    "# 연산하기\n",
    "# 4칙연산 +, -, *, /\n",
    "a = 10\n",
    "b = 13\n",
    "print(a+b)\n",
    "print(a-b)\n",
    "print(a*b)\n",
    "print(a/b)"
   ]
  },
  {
   "cell_type": "code",
   "execution_count": null,
   "id": "3b25fb6a-9ebb-480b-9b66-56eeeba769ca",
   "metadata": {},
   "outputs": [],
   "source": []
  }
 ],
 "metadata": {
  "kernelspec": {
   "display_name": "Python 3 (ipykernel)",
   "language": "python",
   "name": "python3"
  },
  "language_info": {
   "codemirror_mode": {
    "name": "ipython",
    "version": 3
   },
   "file_extension": ".py",
   "mimetype": "text/x-python",
   "name": "python",
   "nbconvert_exporter": "python",
   "pygments_lexer": "ipython3",
   "version": "3.9.7"
  }
 },
 "nbformat": 4,
 "nbformat_minor": 5
}
