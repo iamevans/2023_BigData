{
 "cells": [
  {
   "cell_type": "markdown",
   "id": "6304c8ba-d524-4191-b379-ce10ee5eee84",
   "metadata": {},
   "source": [
    "31200_evans_0411_34"
   ]
  },
  {
   "cell_type": "markdown",
   "id": "8414f6ce-2666-45d9-812a-78bc24e4bec5",
   "metadata": {},
   "source": [
    "#  2.  리스트의 다양한 기능\n",
    "\n",
    "### 리스트 길이 확인 \n",
    "> len(리스트이름)    "
   ]
  },
  {
   "cell_type": "code",
   "execution_count": 1,
   "id": "9ea00d45-7573-4211-9aca-394958a4b9a6",
   "metadata": {},
   "outputs": [],
   "source": [
    "# 1월 지출부터 6월 지출까지 리스트로 만들기\n",
    "spending = [25, 36, 8, 53, 24, 56]"
   ]
  },
  {
   "cell_type": "code",
   "execution_count": 2,
   "id": "a4ec8c55-83a6-452c-aced-29e808af1a49",
   "metadata": {},
   "outputs": [
    {
     "data": {
      "text/plain": [
       "6"
      ]
     },
     "execution_count": 2,
     "metadata": {},
     "output_type": "execute_result"
    }
   ],
   "source": [
    "len(spending)"
   ]
  },
  {
   "cell_type": "markdown",
   "id": "be6c41bd-f0c4-4cba-ba8a-4b4201c4bcf9",
   "metadata": {},
   "source": [
    "### 리스트에 데이터 추가하기\n",
    "\n",
    "> 리스트이름.append(데이터)  <br>\n",
    "  마지막에 추가됨\n",
    "\n",
    "```\n",
    "food = ['피자','치킨','떡볶이','스테이크','파스타']\n",
    "```"
   ]
  },
  {
   "cell_type": "code",
   "execution_count": 3,
   "id": "8c560f4f-7068-4838-bf52-fbcf6987f5d8",
   "metadata": {},
   "outputs": [
    {
     "name": "stdout",
     "output_type": "stream",
     "text": [
      "['피자', '치킨', '떡볶이', '스테이크', '파스타']\n"
     ]
    }
   ],
   "source": [
    "food = ['피자','치킨','떡볶이','스테이크','파스타']\n",
    "print(food)"
   ]
  },
  {
   "cell_type": "code",
   "execution_count": 4,
   "id": "3d0c5605-2349-4071-811c-082de7533a1f",
   "metadata": {},
   "outputs": [
    {
     "name": "stdout",
     "output_type": "stream",
     "text": [
      "['피자', '치킨', '떡볶이', '스테이크', '파스타', '햄버거']\n"
     ]
    }
   ],
   "source": [
    "# 햄버거 추가\n",
    "food.append('햄버거')\n",
    "print(food)"
   ]
  },
  {
   "cell_type": "code",
   "execution_count": 5,
   "id": "1ba31ae4-4ac9-414f-823a-12ad93421610",
   "metadata": {},
   "outputs": [
    {
     "name": "stdout",
     "output_type": "stream",
     "text": [
      "['피자', '치킨', '떡볶이', '스테이크', '파스타', '햄버거', '카레']\n"
     ]
    }
   ],
   "source": [
    "# 카레 추가해 봅시다.\n",
    "food.append('카레')\n",
    "print(food)"
   ]
  },
  {
   "cell_type": "markdown",
   "id": "9a865ef6-d069-4696-9131-371f98000922",
   "metadata": {},
   "source": [
    "### 빈 리스트 만들고 데이터 추가하기"
   ]
  },
  {
   "cell_type": "code",
   "execution_count": 6,
   "id": "1dde548b-7f9f-41e4-8359-6d51e98cb7f1",
   "metadata": {},
   "outputs": [
    {
     "name": "stdout",
     "output_type": "stream",
     "text": [
      "['파이썬 공부']\n"
     ]
    }
   ],
   "source": [
    "# 해야 할 일을 저장하는 list to_do\n",
    "to_do = []\n",
    "# 파이썬 공부\n",
    "to_do.append('파이썬 공부')\n",
    "\n",
    "print(to_do)"
   ]
  },
  {
   "cell_type": "code",
   "execution_count": 7,
   "id": "16df98f6-2827-403e-82a6-0a55607f2c60",
   "metadata": {},
   "outputs": [
    {
     "name": "stdin",
     "output_type": "stream",
     "text": [
      "해야할 일을 입력하세요?  책 읽기\n"
     ]
    },
    {
     "name": "stdout",
     "output_type": "stream",
     "text": [
      "['파이썬 공부', '책 읽기']\n"
     ]
    }
   ],
   "source": [
    "# 해야할 일을 입력받아 to_do 저장하기\n",
    "\n",
    "task = input('해야할 일을 입력하세요? ')\n",
    "\n",
    "to_do.append(task)\n",
    "print(to_do)"
   ]
  },
  {
   "cell_type": "code",
   "execution_count": 8,
   "id": "ff4dfffa-ab8d-4a8a-8ea7-7fbe0fa1c5b0",
   "metadata": {},
   "outputs": [
    {
     "name": "stdin",
     "output_type": "stream",
     "text": [
      "해야할 일을 입력하세요?  빅데이터 수업\n"
     ]
    },
    {
     "name": "stdout",
     "output_type": "stream",
     "text": [
      "['파이썬 공부', '책 읽기', '빅데이터 수업']\n"
     ]
    }
   ],
   "source": [
    "# 한줄로 바꿔보기\n",
    "to_do.append(input('해야할 일을 입력하세요? '))\n",
    "\n",
    "print(to_do)"
   ]
  },
  {
   "cell_type": "code",
   "execution_count": null,
   "id": "317c8620-8f4e-4934-b8d3-415eeaa0257d",
   "metadata": {},
   "outputs": [],
   "source": []
  }
 ],
 "metadata": {
  "kernelspec": {
   "display_name": "Python 3 (ipykernel)",
   "language": "python",
   "name": "python3"
  },
  "language_info": {
   "codemirror_mode": {
    "name": "ipython",
    "version": 3
   },
   "file_extension": ".py",
   "mimetype": "text/x-python",
   "name": "python",
   "nbconvert_exporter": "python",
   "pygments_lexer": "ipython3",
   "version": "3.9.7"
  }
 },
 "nbformat": 4,
 "nbformat_minor": 5
}
