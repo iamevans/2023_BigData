{
 "cells": [
  {
   "cell_type": "markdown",
   "id": "215eaa93-ab73-4480-b072-276fdebd8491",
   "metadata": {},
   "source": [
    "31200_evans_0327_4"
   ]
  },
  {
   "cell_type": "markdown",
   "id": "df670b5f-20cc-4b52-bd27-5be8c54606cc",
   "metadata": {},
   "source": [
    "숫자 하나를 입력받고, 1부터 입력받은 숫자까지의 곱을 구해보세요.\n",
    "<br/>\n",
    "ex) 5를 입력받은 경우, 1x2x3x4x5 결과 출력하기"
   ]
  },
  {
   "cell_type": "code",
   "execution_count": 6,
   "id": "00c4b1ca-214a-4acd-b4fe-90f57edc3cbe",
   "metadata": {},
   "outputs": [
    {
     "name": "stdin",
     "output_type": "stream",
     "text": [
      "숫자 입력 ->  5\n"
     ]
    },
    {
     "name": "stdout",
     "output_type": "stream",
     "text": [
      "총합계 120\n"
     ]
    }
   ],
   "source": [
    "# 입력값을 num 저장 정수로\n",
    "num = int(input('숫자 입력 -> '))\n",
    "#초기값을 1로 함.\n",
    "result = 1\n",
    "\n",
    "#반복문을 for, range\n",
    "for i in range(1, num+1) :\n",
    "    result *= i\n",
    "    #print(result)\n",
    "    \n",
    "print('총합계',result)\n",
    "\n"
   ]
  },
  {
   "cell_type": "markdown",
   "id": "6c70b595-be81-4804-a8b9-8cbf82c06faa",
   "metadata": {},
   "source": [
    "#### 4. 구구단 출력 프로그램\n",
    "4단 출력하기 <br/>\n",
    "\n",
    "```\n",
    "4 x 1 = 4\n",
    "4 x 2 = 8\n",
    "...\n",
    "4 x 8 = 32\n",
    "4 x 9 = 36\n",
    "```"
   ]
  },
  {
   "cell_type": "code",
   "execution_count": 7,
   "id": "dd7940ce-d3ce-47ed-81bc-4357dc385819",
   "metadata": {},
   "outputs": [
    {
     "name": "stdout",
     "output_type": "stream",
     "text": [
      "4 X 1 = 4\n",
      "4 X 2 = 8\n",
      "4 X 3 = 12\n",
      "4 X 4 = 16\n",
      "4 X 5 = 20\n",
      "4 X 6 = 24\n",
      "4 X 7 = 28\n",
      "4 X 8 = 32\n",
      "4 X 9 = 36\n"
     ]
    }
   ],
   "source": [
    "#구구단 4단\n",
    "for i in range(1,10) :\n",
    "    print('4 X', i, '=', 4*i)"
   ]
  },
  {
   "cell_type": "markdown",
   "id": "a7f2ed2c-6d84-4f7c-aee1-7e222daec163",
   "metadata": {},
   "source": [
    "구구단 외울 단을 입력받아, <br/>\n",
    "해당 숫자의 구구단을 외워봅시다.<br/>\n",
    "ex. 5를 입력받으면 5단 외우기"
   ]
  },
  {
   "cell_type": "code",
   "execution_count": 8,
   "id": "56a0fc1b-d803-480a-b837-e317857b6c3b",
   "metadata": {},
   "outputs": [
    {
     "name": "stdin",
     "output_type": "stream",
     "text": [
      "몇 단을 외워 볼까요?  19\n"
     ]
    },
    {
     "name": "stdout",
     "output_type": "stream",
     "text": [
      "19 X 1 = 19\n",
      "19 X 2 = 38\n",
      "19 X 3 = 57\n",
      "19 X 4 = 76\n",
      "19 X 5 = 95\n",
      "19 X 6 = 114\n",
      "19 X 7 = 133\n",
      "19 X 8 = 152\n",
      "19 X 9 = 171\n"
     ]
    }
   ],
   "source": [
    "num = int(input('몇 단을 외워 볼까요? '))\n",
    "for i in range(1,10) :\n",
    "    print(num,'X', i, '=', num*i)"
   ]
  },
  {
   "cell_type": "code",
   "execution_count": null,
   "id": "4dd39939-861b-40f6-b349-6b5395d97254",
   "metadata": {},
   "outputs": [],
   "source": []
  }
 ],
 "metadata": {
  "kernelspec": {
   "display_name": "Python 3 (ipykernel)",
   "language": "python",
   "name": "python3"
  },
  "language_info": {
   "codemirror_mode": {
    "name": "ipython",
    "version": 3
   },
   "file_extension": ".py",
   "mimetype": "text/x-python",
   "name": "python",
   "nbconvert_exporter": "python",
   "pygments_lexer": "ipython3",
   "version": "3.9.7"
  }
 },
 "nbformat": 4,
 "nbformat_minor": 5
}
