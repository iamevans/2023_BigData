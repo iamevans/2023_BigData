{
 "cells": [
  {
   "cell_type": "markdown",
   "id": "8aeb41a9-6ecf-4398-8c3b-8c7b95dda20b",
   "metadata": {},
   "source": [
    "31200_evans_0321_34"
   ]
  },
  {
   "cell_type": "markdown",
   "id": "5158ab0f-151e-4674-be76-05d9a1114749",
   "metadata": {},
   "source": [
    "#### 복습\n",
    "```\n",
    "물건 금액을 입력받고 물건이 오만원 미만일 경우 \n",
    "배송비 2500원을 더해서 결제금액을 안내하시오. \n",
    "변수 : price\n",
    "```"
   ]
  },
  {
   "cell_type": "code",
   "execution_count": 1,
   "id": "d715ebb2-adba-42d5-8df6-2daa022b5cca",
   "metadata": {},
   "outputs": [
    {
     "name": "stdin",
     "output_type": "stream",
     "text": [
      "물건 가격 입력 :  49999\n"
     ]
    },
    {
     "name": "stdout",
     "output_type": "stream",
     "text": [
      "총 결제금액은  52499\n"
     ]
    }
   ],
   "source": [
    "price = int(input('물건 가격 입력 : '))\n",
    "\n",
    "if price < 50000 :\n",
    "    #price = price + 2500\n",
    "    price += 2500\n",
    "print('총 결제금액은 ', price)"
   ]
  },
  {
   "cell_type": "markdown",
   "id": "d8b25056-8c56-4a26-9543-1978499dc3d8",
   "metadata": {},
   "source": [
    "# 3. if-else 조건문\n",
    "조건을 충족하지 않을 때 실행하는 명령어\n",
    "```\n",
    "만약 조건 A라면, \n",
    "    B해라\n",
    "그렇지 않으면,\n",
    "    C해라\n",
    "```\n",
    "<img src = 'https://github.com/teacher-jiejie/allinone_AI/blob/images/70_else.png?raw=true' width=400>\n"
   ]
  },
  {
   "cell_type": "code",
   "execution_count": 3,
   "id": "ad522de8-da8e-4beb-9787-408ec03f9a32",
   "metadata": {},
   "outputs": [
    {
     "name": "stdin",
     "output_type": "stream",
     "text": [
      "당신의 나이는 :  21\n"
     ]
    },
    {
     "name": "stdout",
     "output_type": "stream",
     "text": [
      "감사합니다. 안녕히 가세요.!!!\n"
     ]
    }
   ],
   "source": [
    "age = int(input('당신의 나이는 : '))\n",
    "\n",
    "if age < 20 :\n",
    "    print('술을 구매할 수 없습니다.!!!')\n",
    "else :\n",
    "    print('감사합니다. 안녕히 가세요.!!!')"
   ]
  },
  {
   "cell_type": "markdown",
   "id": "cf149de4-6253-4655-a74d-d83d7654fbb5",
   "metadata": {},
   "source": [
    "자동 출석 시스템 \n",
    "```\n",
    "출석 혹은 결석을 입력받아 출석이면 O을 출력, 출석이 아니면 X를 출력하기\n",
    "입력안내문 : 출석 혹은 결석을 입력하세요\n",
    "```"
   ]
  },
  {
   "cell_type": "code",
   "execution_count": 5,
   "id": "11ef05b7-5425-4805-b80c-2aaf39bbfd9c",
   "metadata": {},
   "outputs": [
    {
     "name": "stdin",
     "output_type": "stream",
     "text": [
      "출석 혹은 결석을 입력하세요  결석\n"
     ]
    },
    {
     "name": "stdout",
     "output_type": "stream",
     "text": [
      "X\n"
     ]
    }
   ],
   "source": [
    "check = input('출석 혹은 결석을 입력하세요 ')\n",
    "if check == '결석' :\n",
    "    print('X')\n",
    "else :\n",
    "    print('0')"
   ]
  },
  {
   "cell_type": "markdown",
   "id": "61df0202-1653-432c-a661-3f8d4e31f189",
   "metadata": {},
   "source": [
    "무인계산기 프로그램\n",
    "```\n",
    "목욕탕에서 무인계산기를 설치했다. \n",
    "성인 요금은 15000원, 미성년자 요금은 6000원이다. \n",
    "나이를 입력받아 성인이면 price(요금을 저장하는 변수)에 15000을, 미성년자라면 6000을 저장하기 \n",
    "\n",
    "나이가 어떻게 되세요? 35\n",
    "성인은 15000 원입니다.\n",
    "```"
   ]
  },
  {
   "cell_type": "code",
   "execution_count": 7,
   "id": "c5fc8667-cc3e-485a-9db3-2c1bb02c6662",
   "metadata": {},
   "outputs": [
    {
     "name": "stdin",
     "output_type": "stream",
     "text": [
      "나이가 어떻게 되세요?  21\n"
     ]
    },
    {
     "name": "stdout",
     "output_type": "stream",
     "text": [
      "성인은 13000 원 입니다.\n"
     ]
    }
   ],
   "source": [
    "age = int(input('나이가 어떻게 되세요? '))\n",
    "\n",
    "if age >= 20 :\n",
    "    price = 13000\n",
    "    print('성인은', price,'원 입니다.')\n",
    "else :\n",
    "    price = 5000\n",
    "    print('미성년자는', price,'원 입니다.')"
   ]
  },
  {
   "cell_type": "markdown",
   "id": "48667882-7640-4438-a7f8-c7d73d8d8db8",
   "metadata": {},
   "source": [
    "# 4. elif 조건문\n",
    "\n",
    "<img src='https://github.com/teacher-jiejie/allinone_AI/blob/images/68_elif.png?raw=true' width=400>"
   ]
  },
  {
   "cell_type": "markdown",
   "id": "22532f52-9183-479a-9b04-fa3eb8362a74",
   "metadata": {},
   "source": [
    "최저 주문금액이 있는 새벽배송 \n",
    "\n",
    "```\n",
    "- 최저 구매금액이 2만 원 \n",
    "- 5만 원 미만은 배송비 2500원 추가\n",
    "- 5만 원 이상 이면 무료배송\n",
    "\n",
    "구매금액을 입력받아 조건 별로 \n",
    "- '새벽배송이 불가합니다.'\n",
    "- '배송비 2500원이 추가됩니다.'\n",
    "- '무료배송됩니다.'\n",
    "중 하나를 출력하기\n",
    "```\n",
    "\n",
    "<img src='https://github.com/teacher-jiejie/allinone_AI/blob/images/67_elif.png?raw=true' width=600>"
   ]
  },
  {
   "cell_type": "code",
   "execution_count": 10,
   "id": "629596d9-0126-44b3-a195-3eb51c66bc6a",
   "metadata": {},
   "outputs": [
    {
     "name": "stdin",
     "output_type": "stream",
     "text": [
      "구매금액은?  50001\n"
     ]
    },
    {
     "name": "stdout",
     "output_type": "stream",
     "text": [
      "무료 배송 됩니다.\n"
     ]
    }
   ],
   "source": [
    "price = int(input('구매금액은? '))\n",
    "\n",
    "if price < 20000 :\n",
    "    print('새벽 배송이 불가능합니다.')\n",
    "elif price < 50000 :\n",
    "    print('배송비 2500원이 추가 됩니다.')\n",
    "else :\n",
    "    print('무료 배송 됩니다.')"
   ]
  },
  {
   "cell_type": "code",
   "execution_count": null,
   "id": "afeeb7f1-54af-4867-8cc8-ae50eb90e80b",
   "metadata": {},
   "outputs": [],
   "source": []
  }
 ],
 "metadata": {
  "kernelspec": {
   "display_name": "Python 3 (ipykernel)",
   "language": "python",
   "name": "python3"
  },
  "language_info": {
   "codemirror_mode": {
    "name": "ipython",
    "version": 3
   },
   "file_extension": ".py",
   "mimetype": "text/x-python",
   "name": "python",
   "nbconvert_exporter": "python",
   "pygments_lexer": "ipython3",
   "version": "3.9.7"
  }
 },
 "nbformat": 4,
 "nbformat_minor": 5
}
