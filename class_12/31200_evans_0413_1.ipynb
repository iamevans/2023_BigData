{
 "cells": [
  {
   "cell_type": "markdown",
   "id": "db4e925d-4429-4038-9b98-3775cbced750",
   "metadata": {},
   "source": [
    "31200_evans_0413_1"
   ]
  },
  {
   "cell_type": "markdown",
   "id": "826d8382-710c-48ce-9e7d-4276414d8370",
   "metadata": {},
   "source": [
    "# 3. 리스트와 제어구조\n",
    "### 1) for a in data 에서 data에 리스트를 넣을 때 \n",
    "\n",
    "다음 spending의 모든 원소를 차례대로 출력하시오 \n",
    "```\n",
    "spending = [25, 36, 8, 53, 24, 56]\n",
    "```"
   ]
  },
  {
   "cell_type": "code",
   "execution_count": 1,
   "id": "e27ab019-881f-49b8-9e7e-d41873c5c2cf",
   "metadata": {},
   "outputs": [],
   "source": [
    "spending = [25, 36, 8, 53, 24, 56]"
   ]
  },
  {
   "cell_type": "code",
   "execution_count": 4,
   "id": "f52faf92-f8a0-4bca-abad-c9f24e6aadb5",
   "metadata": {},
   "outputs": [
    {
     "name": "stdout",
     "output_type": "stream",
     "text": [
      "지출은 25\n",
      "지출은 36\n",
      "지출은 8\n",
      "지출은 53\n",
      "지출은 24\n",
      "지출은 56\n"
     ]
    }
   ],
   "source": [
    "# 반복문 for i in data :\n",
    "\n",
    "for i in spending :\n",
    "    print('지출은', i)\n"
   ]
  },
  {
   "cell_type": "code",
   "execution_count": 8,
   "id": "55c6d01c-bf34-4fdf-9a20-f5f3c70be02b",
   "metadata": {},
   "outputs": [
    {
     "name": "stdout",
     "output_type": "stream",
     "text": [
      "지출은 25\n",
      "지출은 36\n",
      "지출은 8\n",
      "지출은 24\n"
     ]
    }
   ],
   "source": [
    "# 50이상 쓴 금액을 출력하시오\n",
    "for i in spending :\n",
    "    if i >= 50 :\n",
    "        print('지출은', i)"
   ]
  },
  {
   "cell_type": "markdown",
   "id": "dbebb62b-a3b2-4d88-b5bb-dc106fb1b7fc",
   "metadata": {},
   "source": [
    "### 2) for a in data 에서 data에 range()를 넣을 때\n",
    "> 출력형식\n",
    "```\n",
    "1월 지출은 25\n",
    "```"
   ]
  },
  {
   "cell_type": "code",
   "execution_count": 15,
   "id": "51fac9b5-0f06-485c-9dfc-d61075044a1e",
   "metadata": {},
   "outputs": [
    {
     "name": "stdout",
     "output_type": "stream",
     "text": [
      "1 월 지출은 25\n",
      "2 월 지출은 36\n",
      "3 월 지출은 8\n",
      "4 월 지출은 53\n",
      "5 월 지출은 24\n",
      "6 월 지출은 56\n",
      "7 월 지출은 80\n",
      "8 월 지출은 12\n"
     ]
    }
   ],
   "source": [
    "spending = [25, 36, 8, 53, 24, 56, 80, 12]\n",
    "\n",
    "# 인덱스를 활용하고 싶을때 range()\n",
    "for i in range(len(spending)) :\n",
    "    print(i+1,'월 지출은', spending[i])"
   ]
  },
  {
   "cell_type": "markdown",
   "id": "00e940a6-390f-4a01-a58d-79df1d2e84ff",
   "metadata": {},
   "source": [
    "# 4. 이차원 리스트\n",
    "\n",
    "<img src ='https://github.com/teacher-jiejie/allinone_AI/blob/images/14_%EC%9D%B4%EC%B0%A8%EC%9B%90%20%EB%A6%AC%EC%8A%A4%ED%8A%B8.png?raw=true' width = 700>"
   ]
  },
  {
   "cell_type": "code",
   "execution_count": 16,
   "id": "1d8c5000-de67-4274-a4e5-d887820bc5e1",
   "metadata": {},
   "outputs": [
    {
     "name": "stdout",
     "output_type": "stream",
     "text": [
      "[[1, 2, 3], [4, 5, 6], [7, 8, 9]]\n"
     ]
    }
   ],
   "source": [
    "abc = [[1,2,3], [4,5,6], [7,8,9]]\n",
    "print(abc)"
   ]
  },
  {
   "cell_type": "code",
   "execution_count": 19,
   "id": "783fb720-2312-4569-ad30-346de598ca1e",
   "metadata": {},
   "outputs": [
    {
     "name": "stdout",
     "output_type": "stream",
     "text": [
      "[1, 2, 3]\n",
      "[4, 5, 6]\n",
      "[7, 8, 9]\n"
     ]
    }
   ],
   "source": [
    "print(abc[0])\n",
    "print(abc[1])\n",
    "print(abc[2])"
   ]
  },
  {
   "cell_type": "code",
   "execution_count": 20,
   "id": "1e6e7f64-40f1-4951-8aec-632dbd15d25e",
   "metadata": {},
   "outputs": [
    {
     "name": "stdout",
     "output_type": "stream",
     "text": [
      "1\n"
     ]
    }
   ],
   "source": [
    "print(abc[0][0])"
   ]
  },
  {
   "cell_type": "markdown",
   "id": "3d306af8-a1ea-4123-9ff4-cdca1bf64255",
   "metadata": {},
   "source": [
    "## 이차원 리스트의 인덱스\n",
    "\n",
    "<img src = 'https://github.com/teacher-jiejie/allinone_AI/blob/images/15_%EC%9D%B4%EC%B0%A8%EC%9B%90%20%EB%A6%AC%EC%8A%A4%ED%8A%B8%20%EC%9D%B8%EB%8D%B1%EC%8A%A4.png?raw=true' width = 700>"
   ]
  },
  {
   "cell_type": "code",
   "execution_count": 22,
   "id": "76114a5b-ee41-4073-8869-da55fd60524e",
   "metadata": {},
   "outputs": [
    {
     "name": "stdout",
     "output_type": "stream",
     "text": [
      "6\n"
     ]
    }
   ],
   "source": [
    "# 6 출력하기\n",
    "print(abc[1][2])"
   ]
  },
  {
   "cell_type": "code",
   "execution_count": 23,
   "id": "10636e29-c2e0-4a92-94cc-a3371e9a9764",
   "metadata": {},
   "outputs": [
    {
     "name": "stdout",
     "output_type": "stream",
     "text": [
      "6\n"
     ]
    }
   ],
   "source": [
    "# 8 출력하기\n",
    "print(abc[1][2])"
   ]
  },
  {
   "cell_type": "code",
   "execution_count": 24,
   "id": "74ef179f-c220-4a73-b5a7-b82683ad6800",
   "metadata": {},
   "outputs": [
    {
     "name": "stdout",
     "output_type": "stream",
     "text": [
      "[1, 2, 3]\n",
      "[4, 5, 6]\n",
      "[7, 8, 9]\n"
     ]
    }
   ],
   "source": [
    "# for문을 이용해서 전체 출력\n",
    "for row in abc : \n",
    "    print(row)"
   ]
  },
  {
   "cell_type": "markdown",
   "id": "fed08663-c8bd-40bd-b481-00cd05603445",
   "metadata": {},
   "source": [
    "> 이차원리스트 반복 원리\n",
    "\n",
    "<img src = 'https://github.com/teacher-jiejie/allinone_AI/blob/images/16_%EC%9D%B4%EC%B0%A8%EC%9B%90%20%EB%A6%AC%EC%8A%A4%ED%8A%B8%20%EB%B0%98%EB%B3%B5%EA%B5%AC%EC%A1%B0.png?raw=true' width=800>"
   ]
  },
  {
   "cell_type": "code",
   "execution_count": 25,
   "id": "b7d21eca-ccd0-49b7-b768-7a18277ab4ac",
   "metadata": {},
   "outputs": [
    {
     "name": "stdout",
     "output_type": "stream",
     "text": [
      "1\n",
      "4\n",
      "7\n"
     ]
    }
   ],
   "source": [
    "# 모든 줄의 첫번째 데이터만 출력\n",
    "for row in abc : \n",
    "    print(row[0])"
   ]
  },
  {
   "cell_type": "code",
   "execution_count": 26,
   "id": "51a9cbd2-e9ff-4c8d-b79c-6f6100f9341e",
   "metadata": {},
   "outputs": [
    {
     "name": "stdout",
     "output_type": "stream",
     "text": [
      "3\n",
      "6\n",
      "9\n"
     ]
    }
   ],
   "source": [
    "# 모든 줄의 마지막 데이터(세번째 열)만 출력\n",
    "for row in abc : \n",
    "    print(row[-1])"
   ]
  },
  {
   "cell_type": "code",
   "execution_count": null,
   "id": "6252c9ef-e808-4866-b386-a25dd27b9b42",
   "metadata": {},
   "outputs": [],
   "source": []
  }
 ],
 "metadata": {
  "kernelspec": {
   "display_name": "Python 3 (ipykernel)",
   "language": "python",
   "name": "python3"
  },
  "language_info": {
   "codemirror_mode": {
    "name": "ipython",
    "version": 3
   },
   "file_extension": ".py",
   "mimetype": "text/x-python",
   "name": "python",
   "nbconvert_exporter": "python",
   "pygments_lexer": "ipython3",
   "version": "3.9.7"
  }
 },
 "nbformat": 4,
 "nbformat_minor": 5
}
