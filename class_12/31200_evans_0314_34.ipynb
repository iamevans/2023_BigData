{
 "cells": [
  {
   "cell_type": "markdown",
   "id": "b47de357-9039-48f3-999d-b3f77f845b71",
   "metadata": {},
   "source": [
    "31200_evans_0314_34"
   ]
  },
  {
   "cell_type": "markdown",
   "id": "3c00a89e-f0d4-43a8-807f-9c03e28f8f4d",
   "metadata": {},
   "source": [
    "입력명령어\n",
    "### 입력명령어 형식\n",
    "> input('입력안내문')"
   ]
  },
  {
   "cell_type": "code",
   "execution_count": 7,
   "id": "1c3a503d-0a6b-4740-bb6f-12a384baa47e",
   "metadata": {},
   "outputs": [
    {
     "name": "stdin",
     "output_type": "stream",
     "text": [
      " 2023\n"
     ]
    },
    {
     "data": {
      "text/plain": [
       "'2023'"
      ]
     },
     "execution_count": 7,
     "metadata": {},
     "output_type": "execute_result"
    }
   ],
   "source": [
    "# 기본형식\n",
    "input()"
   ]
  },
  {
   "cell_type": "code",
   "execution_count": 6,
   "id": "8c65779f-a2b1-4c42-8dc8-256f317c0c1b",
   "metadata": {},
   "outputs": [
    {
     "name": "stdin",
     "output_type": "stream",
     "text": [
      " 2023\n"
     ]
    },
    {
     "name": "stdout",
     "output_type": "stream",
     "text": [
      "<class 'int'>\n"
     ]
    }
   ],
   "source": [
    "# 변수를 이용한 입력\n",
    "a = int(input())\n",
    "print(type(a))"
   ]
  },
  {
   "cell_type": "code",
   "execution_count": 10,
   "id": "77a5897e-8440-49ea-a6fd-bef280c17d2e",
   "metadata": {},
   "outputs": [
    {
     "name": "stdin",
     "output_type": "stream",
     "text": [
      "아이디 :  evans\n",
      "비밀번호 :  1234\n"
     ]
    },
    {
     "name": "stdout",
     "output_type": "stream",
     "text": [
      "아이디는 : evans\n",
      "비밀번호는 : 1234\n"
     ]
    }
   ],
   "source": [
    "id = input('아이디 : ')\n",
    "password = input('비밀번호 : ')\n",
    "print('아이디는 : '+ id )\n",
    "print('비밀번호는 : '+ password)"
   ]
  },
  {
   "cell_type": "markdown",
   "id": "3f3a2e28-eaf5-483e-98c0-2672ffdb169a",
   "metadata": {},
   "source": [
    "출력\n",
    "```\n",
    "--- 성일 웹사이트 회원가입 ---\n",
    "아이디 : \n",
    "000님웹사이트 가입을 환영합니다.!!!\n",
    "```"
   ]
  },
  {
   "cell_type": "code",
   "execution_count": 12,
   "id": "94d4d8de-cf02-49c8-bb9d-f76e75e78b59",
   "metadata": {},
   "outputs": [
    {
     "name": "stdout",
     "output_type": "stream",
     "text": [
      "--- 성일 웹사이트 회원가입 ---\n"
     ]
    },
    {
     "name": "stdin",
     "output_type": "stream",
     "text": [
      "아이디 :  evans\n"
     ]
    },
    {
     "name": "stdout",
     "output_type": "stream",
     "text": [
      "evans 성일 웹사이트 회원가입을 환영합니다.!!!\n"
     ]
    }
   ],
   "source": [
    "print('--- 성일 웹사이트 회원가입 ---')\n",
    "id = input('아이디 : ')\n",
    "print(id +' 성일 웹사이트 회원가입을 환영합니다.!!!')"
   ]
  },
  {
   "cell_type": "markdown",
   "id": "9d5cb1a4-dfac-499a-b330-6992c54bcd4d",
   "metadata": {},
   "source": [
    "# 1. 변수\n",
    "\n",
    "\n",
    "> 변수이름 = 저장할 데이터\n",
    "\n",
    "\n",
    "<img src = 'https://github.com/teacher-jiejie/allinone_AI/blob/images/%E1%84%87%E1%85%A7%E1%86%AB%E1%84%89%E1%85%AE%E1%84%8B%E1%85%B5%E1%84%86%E1%85%B5%E1%84%8C%E1%85%B5.png?raw=true' width =500>\n",
    "\n"
   ]
  },
  {
   "cell_type": "code",
   "execution_count": 14,
   "id": "e4813f0b-11bf-4272-912e-59ceda59dcc3",
   "metadata": {},
   "outputs": [
    {
     "name": "stdout",
     "output_type": "stream",
     "text": [
      "안녕 하세요\n",
      "안녕하세요\n"
     ]
    }
   ],
   "source": [
    "# 변수를 이용한 출력\n",
    "a = '안녕'\n",
    "b = '하세요'\n",
    "print(a,b)\n",
    "print(a+b)"
   ]
  },
  {
   "cell_type": "code",
   "execution_count": 15,
   "id": "dc6eebe1-aff6-43c3-bc6f-9696169d23c6",
   "metadata": {},
   "outputs": [
    {
     "name": "stdout",
     "output_type": "stream",
     "text": [
      "고등학생\n"
     ]
    }
   ],
   "source": [
    "c = '학생'\n",
    "d = '고등'\n",
    "e = '대'\n",
    "print(d+c)"
   ]
  },
  {
   "cell_type": "markdown",
   "id": "c811539c-4cba-4d5c-8b63-f17fd12041e6",
   "metadata": {},
   "source": [
    "### 변수를 활용하여 연산하기 \n",
    "1) 과일 가격 계산하기"
   ]
  },
  {
   "cell_type": "code",
   "execution_count": 16,
   "id": "ecc6a182-05b2-455e-8ce4-830fb0018e6c",
   "metadata": {},
   "outputs": [],
   "source": [
    "apple = 1200\n",
    "banana = 800\n",
    "kiwi = 1700\n",
    "\n",
    "# 사과3개 바나나1개 키위2개 구매한 가격은 ?"
   ]
  },
  {
   "cell_type": "code",
   "execution_count": 17,
   "id": "4cf346fc-044d-48c4-b3ca-191cbaacf035",
   "metadata": {},
   "outputs": [
    {
     "name": "stdout",
     "output_type": "stream",
     "text": [
      "7800\n"
     ]
    }
   ],
   "source": [
    "price = apple*3 + banana*1 + kiwi*2\n",
    "print(price)"
   ]
  },
  {
   "cell_type": "markdown",
   "id": "e0cd88ed-6e70-4cd7-93a0-7bf8152f946e",
   "metadata": {},
   "source": [
    "vip는 20% 할인된다. 동일한 물건을 구매했을 때 vip가 내는 가격을 새로운 변수에 저장하여 출력하기"
   ]
  },
  {
   "cell_type": "code",
   "execution_count": 19,
   "id": "c9ec9988-7066-4b77-9255-a6edde3dedc3",
   "metadata": {},
   "outputs": [
    {
     "name": "stdout",
     "output_type": "stream",
     "text": [
      "vip가 되시면 7800 원을 6240.0 원에 구매 가능합니다.!!!! \n"
     ]
    }
   ],
   "source": [
    "vip_price = price * 0.8\n",
    "print('vip가 되시면',price,'원을', vip_price,'원에 구매 가능합니다.!!!! ')"
   ]
  },
  {
   "cell_type": "markdown",
   "id": "197ae4bb-52cb-4a72-9f8a-a6e72f6df225",
   "metadata": {},
   "source": [
    "2) 1년마다 키가 10cm씩 자라는 농구선수가 있다.\n",
    "\n",
    " -   2017년 - 175.5cm\n",
    " -   2018년 - 185.5cm\n",
    " -   2019년 - 195.5cm\n",
    " -   2020년 - 205.5cm\n",
    "\n",
    "년도별 농구선수의 키를 출력해보자"
   ]
  },
  {
   "cell_type": "code",
   "execution_count": null,
   "id": "85c7cde1-4a75-4abc-bfc0-0df76ef2dcb2",
   "metadata": {},
   "outputs": [],
   "source": []
  }
 ],
 "metadata": {
  "kernelspec": {
   "display_name": "Python 3 (ipykernel)",
   "language": "python",
   "name": "python3"
  },
  "language_info": {
   "codemirror_mode": {
    "name": "ipython",
    "version": 3
   },
   "file_extension": ".py",
   "mimetype": "text/x-python",
   "name": "python",
   "nbconvert_exporter": "python",
   "pygments_lexer": "ipython3",
   "version": "3.9.7"
  }
 },
 "nbformat": 4,
 "nbformat_minor": 5
}
