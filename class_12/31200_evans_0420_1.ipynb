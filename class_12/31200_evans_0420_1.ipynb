{
 "cells": [
  {
   "cell_type": "markdown",
   "id": "c493d685-a740-40aa-bf44-d8c65d3cbcc1",
   "metadata": {},
   "source": [
    "31200_evans_0420_1"
   ]
  },
  {
   "cell_type": "markdown",
   "id": "e2241c64-7cd8-4607-b459-e9260c53fa8c",
   "metadata": {},
   "source": [
    "#### 결과처리\n",
    "> 지각 : 장성윤,<br>\n",
    "  질병지각 : 김유하,진휘성,이승민<br>\n",
    "  자격증 : 송인형,손영호, 박병민\n"
   ]
  },
  {
   "cell_type": "code",
   "execution_count": 2,
   "id": "c63168bb-4adf-4668-8539-9e2021699f7a",
   "metadata": {},
   "outputs": [
    {
     "name": "stdout",
     "output_type": "stream",
     "text": [
      "1부터 n까지 정수의 합을 구합니다.\n"
     ]
    },
    {
     "name": "stdin",
     "output_type": "stream",
     "text": [
      "n값을 입력하세요.  5\n"
     ]
    },
    {
     "name": "stdout",
     "output_type": "stream",
     "text": [
      "1부터 5까지 정수의 합은 15입니다.\n"
     ]
    }
   ],
   "source": [
    "#문제1 1부터 n까지 정수의 합을 구해 봅시다. for문\n",
    "\n",
    "print('1부터 n까지 정수의 합을 구합니다.')\n",
    "\n",
    "n = int(input('n값을 입력하세요. '))\n",
    "sum = 0 # 누적값을 저장할 변수 지정, 초기화\n",
    "\n",
    "for i in range(1, n+1):\n",
    "    sum += i # sum = sum + i\n",
    "    \n",
    "print(f'1부터 {n}까지 정수의 합은 {sum}입니다.')"
   ]
  },
  {
   "cell_type": "code",
   "execution_count": 3,
   "id": "c707a6f5-1b61-4138-b68a-f54940959b43",
   "metadata": {},
   "outputs": [
    {
     "name": "stdout",
     "output_type": "stream",
     "text": [
      "1부터 n까지 정수의 합을 구합니다.\n"
     ]
    },
    {
     "name": "stdin",
     "output_type": "stream",
     "text": [
      "n값을 입력하세요.  5\n"
     ]
    },
    {
     "name": "stdout",
     "output_type": "stream",
     "text": [
      "1부터 5까지 정수의 합은 15입니다.\n"
     ]
    }
   ],
   "source": [
    "#문제1 1부터 n까지 정수의 합을 구해 봅시다. while문\n",
    "\n",
    "print('1부터 n까지 정수의 합을 구합니다.')\n",
    "n = int(input('n값을 입력하세요. '))\n",
    "\n",
    "sum = 0 # 누적값을 저장할 변수 지정, 초기화\n",
    "i = 1\n",
    "\n",
    "while i <= n : #i가 n보다 작거나 같은 동안 반복\n",
    "    sum += i # sum은 증가하는 i값 만큼 누적\n",
    "    i += 1 # i가 증가 1만큼\n",
    "\n",
    "    \n",
    "print(f'1부터 {n}까지 정수의 합은 {sum}입니다.')"
   ]
  },
  {
   "cell_type": "code",
   "execution_count": 8,
   "id": "77eb8b90-4269-485c-8f72-2d86b66d3bfe",
   "metadata": {},
   "outputs": [
    {
     "name": "stdout",
     "output_type": "stream",
     "text": [
      "a부터 b까지 정수의 합을 구합니다.\n"
     ]
    },
    {
     "name": "stdin",
     "output_type": "stream",
     "text": [
      "a값을 입력하세요. 3\n",
      "b값을 입력하세요. 7\n"
     ]
    },
    {
     "name": "stdout",
     "output_type": "stream",
     "text": [
      "3 + 4 + 5 + 6 + 7 = 25\n"
     ]
    }
   ],
   "source": [
    "#문제 2 a부터 b까지 정수의 합을 구해 봅시다. for\n",
    "# b값이 크게 들어오면 a,b값을 바꿔줘야 합니다.\n",
    "# a,b = b,a\n",
    "\n",
    "print('a부터 b까지 정수의 합을 구합니다.')\n",
    "#입력부분\n",
    "a = int(input('a값을 입력하세요.'))\n",
    "b = int(input('b값을 입력하세요.'))\n",
    "\n",
    "# a값 b값을 비교\n",
    "if a > b:\n",
    "    a,b = b,a\n",
    "\n",
    "sum = 0\n",
    "for i in range(a, b+1):\n",
    "    if i < b :\n",
    "        print(f'{i} + ', end='')\n",
    "    else :\n",
    "        print(f'{i} = ', end='') \n",
    "    sum += i\n",
    "    \n",
    "print(sum)"
   ]
  },
  {
   "cell_type": "code",
   "execution_count": null,
   "id": "2013c0e0-1766-413a-99b7-3d26b194ac6f",
   "metadata": {},
   "outputs": [],
   "source": []
  }
 ],
 "metadata": {
  "kernelspec": {
   "display_name": "Python 3 (ipykernel)",
   "language": "python",
   "name": "python3"
  },
  "language_info": {
   "codemirror_mode": {
    "name": "ipython",
    "version": 3
   },
   "file_extension": ".py",
   "mimetype": "text/x-python",
   "name": "python",
   "nbconvert_exporter": "python",
   "pygments_lexer": "ipython3",
   "version": "3.9.7"
  }
 },
 "nbformat": 4,
 "nbformat_minor": 5
}
