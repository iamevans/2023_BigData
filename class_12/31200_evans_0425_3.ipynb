{
 "cells": [
  {
   "cell_type": "markdown",
   "id": "7ff707a9-8291-438e-9c84-c788e9e1d917",
   "metadata": {},
   "source": [
    "31200_evans_0425_3"
   ]
  },
  {
   "cell_type": "code",
   "execution_count": 2,
   "id": "b9df2234-f59f-46ed-b720-14c07aea7344",
   "metadata": {},
   "outputs": [
    {
     "name": "stdout",
     "output_type": "stream",
     "text": [
      "+와 -를 번갈아 출력합니다.\n"
     ]
    },
    {
     "name": "stdin",
     "output_type": "stream",
     "text": [
      "몇 개를 출력할까요? :  15\n"
     ]
    },
    {
     "name": "stdout",
     "output_type": "stream",
     "text": [
      "+-+-+-+-+-+-+-+\n"
     ]
    }
   ],
   "source": [
    "# 문제1\n",
    "# 조건1 특정문자를 줄바꿈 없이 연속으로 출력하는 프로그램\n",
    "# 출력형식 +-+-+-+-+-+-\n",
    "\n",
    "# +와 -를 번갈아 출력하기\n",
    "print('+와 -를 번갈아 출력합니다.')\n",
    "n = int(input('몇 개를 출력할까요? : '))\n",
    "\n",
    "for i in range(n):\n",
    "    if i % 2 : # 홀수 -출력\n",
    "        print('-',end='')\n",
    "    else:\n",
    "        print('+',end='') # 짝수인 경수 +출력\n",
    "        \n",
    "print()"
   ]
  },
  {
   "cell_type": "code",
   "execution_count": 5,
   "id": "568a1966-7887-4092-b494-948f9ac52913",
   "metadata": {},
   "outputs": [
    {
     "name": "stdout",
     "output_type": "stream",
     "text": [
      "+와 -를 번갈아 출력합니다.\n"
     ]
    },
    {
     "name": "stdin",
     "output_type": "stream",
     "text": [
      "몇 개를 출력할까요? :  15\n"
     ]
    },
    {
     "name": "stdout",
     "output_type": "stream",
     "text": [
      "★♥★♥★♥★♥★♥★♥★♥★"
     ]
    }
   ],
   "source": [
    "# +와 -를 번갈아 출력하기\n",
    "print('+와 -를 번갈아 출력합니다.')\n",
    "n = int(input('몇 개를 출력할까요? : '))\n",
    "\n",
    "for _ in range(n // 2) :\n",
    "    print('★♥',end='') # +-를  n//2만큼 출력\n",
    "\n",
    "if n % 2 :\n",
    "    print('★', end='') # n이 홀수일때만 +를 더 출력\n",
    "\n"
   ]
  },
  {
   "cell_type": "code",
   "execution_count": 7,
   "id": "7cb3345e-73f6-45a5-b2b9-239607cf68c2",
   "metadata": {},
   "outputs": [
    {
     "name": "stdout",
     "output_type": "stream",
     "text": [
      "♥를 출력합니다.\n"
     ]
    },
    {
     "name": "stdin",
     "output_type": "stream",
     "text": [
      "몇 개를 출력할까요? :  22\n",
      "몇 개마다 줄바꿈할까요? :  5\n"
     ]
    },
    {
     "name": "stdout",
     "output_type": "stream",
     "text": [
      "♥♥♥♥♥\n",
      "♥♥♥♥♥\n",
      "♥♥♥♥♥\n",
      "♥♥♥♥♥\n",
      "♥♥\n"
     ]
    }
   ],
   "source": [
    "# 문제2\n",
    "# 조건1 ♥를 n개 출력, \n",
    "# 조건2     w개 만큼 줄바꿈\n",
    "\n",
    "print('♥를 출력합니다.')\n",
    "n = int(input('몇 개를 출력할까요? : '))\n",
    "w = int(input('몇 개마다 줄바꿈할까요? : '))\n",
    "\n",
    "for i in range(n):\n",
    "    print('♥',end='')\n",
    "    if i % w == w - 1 : # 줄바꿈 개수 판단\n",
    "        print() # 줄바꿈\n",
    "if n % w :\n",
    "    print() # 전체줄바꿈"
   ]
  },
  {
   "cell_type": "code",
   "execution_count": null,
   "id": "ab40ac4d-b947-4094-bb28-bd9938e2aa1c",
   "metadata": {},
   "outputs": [],
   "source": []
  }
 ],
 "metadata": {
  "kernelspec": {
   "display_name": "Python 3 (ipykernel)",
   "language": "python",
   "name": "python3"
  },
  "language_info": {
   "codemirror_mode": {
    "name": "ipython",
    "version": 3
   },
   "file_extension": ".py",
   "mimetype": "text/x-python",
   "name": "python",
   "nbconvert_exporter": "python",
   "pygments_lexer": "ipython3",
   "version": "3.9.7"
  }
 },
 "nbformat": 4,
 "nbformat_minor": 5
}
