{
 "cells": [
  {
   "cell_type": "markdown",
   "id": "ce406668-9c67-4416-aa6d-f95e264517be",
   "metadata": {},
   "source": [
    "31200_evans_0502_3"
   ]
  },
  {
   "cell_type": "markdown",
   "id": "ef77be93-2d6e-48c5-a9f0-b97782808407",
   "metadata": {},
   "source": [
    "# 4. 딕셔너리와 제어구조\n",
    "\n",
    "```\n",
    "# 다섯 명의 중간고사 점수를 저장한 딕셔너리\n",
    "midterm = {'도윤': 43, '하윤': 82, '시우': 76, '지유': 61, '주원': 94}\n",
    "```"
   ]
  },
  {
   "cell_type": "code",
   "execution_count": 2,
   "id": "d48933bf-01ef-4588-8a02-7e4f72aa43b9",
   "metadata": {},
   "outputs": [],
   "source": [
    "midterm = {'도윤': 43, '하윤': 82, '시우': 76, '지유': 61, '주원': 94}"
   ]
  },
  {
   "cell_type": "code",
   "execution_count": 4,
   "id": "7a0b7752-93e5-4ec4-8177-9e3aaa576ca1",
   "metadata": {},
   "outputs": [
    {
     "name": "stdin",
     "output_type": "stream",
     "text": [
      "어떤 학생의 점수가 궁금한가요?  도운\n"
     ]
    },
    {
     "name": "stdout",
     "output_type": "stream",
     "text": [
      "해당 학생이 없습니다.\n"
     ]
    }
   ],
   "source": [
    "# 학생 이름을 입력받나, 딕셔너리에 학생 이름이 있으면 점수를 출력\n",
    "# 없다면 '해당 학생이 없습니다.' 출력하기 \n",
    "\n",
    "s = input('어떤 학생의 점수가 궁금한가요? ')\n",
    "\n",
    "if s in midterm.keys() :\n",
    "    print(f'{midterm[s]}점입니다.')\n",
    "else :\n",
    "    print(f'해당 학생이 없습니다.')"
   ]
  },
  {
   "cell_type": "code",
   "execution_count": 5,
   "id": "a37f63b3-63c2-4e36-a276-50697817b739",
   "metadata": {},
   "outputs": [
    {
     "name": "stdout",
     "output_type": "stream",
     "text": [
      "도윤\n",
      "하윤\n",
      "시우\n",
      "지유\n",
      "주원\n"
     ]
    }
   ],
   "source": [
    "# 딕셔너리에 저장된 모든 학생의 이름 출력하기\n",
    "\n",
    "for i in midterm.keys() :\n",
    "    print(f'{i}')"
   ]
  },
  {
   "cell_type": "code",
   "execution_count": 7,
   "id": "c9bd2bd1-1533-4aad-b5f8-ed29a79a0369",
   "metadata": {},
   "outputs": [
    {
     "name": "stdout",
     "output_type": "stream",
     "text": [
      "43\n",
      "82\n",
      "76\n",
      "61\n",
      "94\n"
     ]
    }
   ],
   "source": [
    "for i in midterm.values() :\n",
    "    print(f'{i}')"
   ]
  },
  {
   "cell_type": "code",
   "execution_count": 8,
   "id": "215e45e3-78ed-4c5d-b033-bfdd05b8cc92",
   "metadata": {},
   "outputs": [
    {
     "name": "stdout",
     "output_type": "stream",
     "text": [
      "('도윤', 43)\n",
      "('하윤', 82)\n",
      "('시우', 76)\n",
      "('지유', 61)\n",
      "('주원', 94)\n"
     ]
    }
   ],
   "source": [
    "# 딕셔너리에 저장된 모든 학생과 점수를 같이 출력하기\n",
    "\n",
    "for i in midterm.items() :\n",
    "    print(f'{i}')"
   ]
  },
  {
   "cell_type": "code",
   "execution_count": 10,
   "id": "35c66bb0-d67b-411b-a33c-ee77abdbb8fb",
   "metadata": {},
   "outputs": [
    {
     "name": "stdout",
     "output_type": "stream",
     "text": [
      "도윤의 점수는 43입니다.\n",
      "하윤의 점수는 82입니다.\n",
      "시우의 점수는 76입니다.\n",
      "지유의 점수는 61입니다.\n",
      "주원의 점수는 94입니다.\n"
     ]
    }
   ],
   "source": [
    "# 도윤의 점수는 43점입니다.\n",
    "\n",
    "for i,j in midterm.items() :\n",
    "    print(f'{i}의 점수는 {j}입니다.')"
   ]
  },
  {
   "cell_type": "markdown",
   "id": "ad77e37a-1fd8-4676-ad31-3db1c4adefdd",
   "metadata": {},
   "source": [
    "## 딕셔너리명 = {키1:값1, 키2:값2,...,}\n",
    "* 중괄호 안에 키:값의 쌍으로 된 항목을 콤마(,)로 구분하여 적어준다.\n",
    "\n",
    "\n",
    "|메뉴|가격|\n",
    "|----|----|\n",
    "|김밥|2000|\n",
    "|떡볶이|2500|\n",
    "|어묵|2000|\n",
    "|튀김|3000|"
   ]
  },
  {
   "cell_type": "code",
   "execution_count": 11,
   "id": "ada1f4a3-1658-48c3-8b6a-ed205be12176",
   "metadata": {},
   "outputs": [
    {
     "data": {
      "text/plain": [
       "{'김밥': 2000, '떡볶이': 2500, '어묵': 2000, '튀김': 3000}"
      ]
     },
     "execution_count": 11,
     "metadata": {},
     "output_type": "execute_result"
    }
   ],
   "source": [
    "menu = {'김밥':2000, '떡볶이':2500, '어묵':2000, '튀김':3000}\n",
    "menu"
   ]
  },
  {
   "cell_type": "markdown",
   "id": "8ca548c4-0ab9-4a62-bfcc-af0c5017e5a8",
   "metadata": {},
   "source": [
    "## dict로 딕셔너리 만들기\n",
    "* 딕셔너리명 = dict(키1=값1, 키2=값2,...,)\n",
    "* 키에 따옴표('')를 쓰지 않는다는 점에 주의한다.\n",
    "* 키에 따옴표('')를 쓰지 않아도 딕셔너리가 생성되면서 자동으로 문자열형으로 지정된다."
   ]
  },
  {
   "cell_type": "code",
   "execution_count": 12,
   "id": "196a855d-bb27-4bdf-826b-34f6af0b1847",
   "metadata": {},
   "outputs": [
    {
     "data": {
      "text/plain": [
       "{'김밥': 2000, '떡볶이': 2500, '어묵': 2000, '튀김': 3000}"
      ]
     },
     "execution_count": 12,
     "metadata": {},
     "output_type": "execute_result"
    }
   ],
   "source": [
    "menu1 = dict(김밥=2000, 떡볶이=2500, 어묵=2000, 튀김=3000)\n",
    "menu1"
   ]
  },
  {
   "cell_type": "markdown",
   "id": "17900228-0d86-4887-b248-284f9ad0d780",
   "metadata": {},
   "source": [
    "## 딕셔너리 리스트를 이용한 선언\n",
    "* 딕셔너리명 = dict(zip(key리스트, value리스트))\n"
   ]
  },
  {
   "cell_type": "code",
   "execution_count": 13,
   "id": "982b7ea0-e95f-4cd0-981b-4ac546e05842",
   "metadata": {},
   "outputs": [
    {
     "data": {
      "text/plain": [
       "{'김밥': 2000, '떡볶이': 2500, '어묵': 2000, '튀김': 3000}"
      ]
     },
     "execution_count": 13,
     "metadata": {},
     "output_type": "execute_result"
    }
   ],
   "source": [
    "key_list = ['김밥','떡볶이','어묵','튀김']\n",
    "value_list = [2000,2500,2000,3000]\n",
    "\n",
    "menu3 = dict(zip(key_list, value_list))\n",
    "menu3"
   ]
  },
  {
   "cell_type": "markdown",
   "id": "0bf5e069-e81b-4f5c-b73d-59854888468a",
   "metadata": {},
   "source": [
    "* 딕셔너리명 = dict([(키1,값1),(키1,값2),...,])"
   ]
  },
  {
   "cell_type": "code",
   "execution_count": 14,
   "id": "c98584d7-f0fe-42f9-aafb-0020edb8205d",
   "metadata": {},
   "outputs": [
    {
     "data": {
      "text/plain": [
       "{'김밥': 2000, '떡볶이': 2500, '어묵': 2000, '튀김': 3000}"
      ]
     },
     "execution_count": 14,
     "metadata": {},
     "output_type": "execute_result"
    }
   ],
   "source": [
    "menu4 = dict({'김밥':2000, '떡볶이':2500, '어묵':2000, '튀김':3000})\n",
    "menu4"
   ]
  },
  {
   "cell_type": "markdown",
   "id": "7689ba3e-de64-4cea-80df-5bdce93be970",
   "metadata": {},
   "source": [
    "## 딕셔너리에 사용할 수 있는 자료형\n",
    "* 딕셔너리의 value에는 모든 자료형을 혼합하여 사용할 수 있다.\n",
    "\n"
   ]
  },
  {
   "cell_type": "code",
   "execution_count": 17,
   "id": "d8b87d1d-bb21-4f90-a527-cf0c7506d54d",
   "metadata": {},
   "outputs": [
    {
     "data": {
      "text/plain": [
       "{'name': 'james', '나이': 25, '키': 175.5, '시력': (1.0, 1.0), '취미': ['운동', '독서']}"
      ]
     },
     "execution_count": 17,
     "metadata": {},
     "output_type": "execute_result"
    }
   ],
   "source": [
    "person = {'name':'james', \n",
    "          '나이':25,\n",
    "          '키':175.5,\n",
    "          '시력':(1.0,1.0),\n",
    "          '취미':['운동','독서']}\n",
    "person"
   ]
  },
  {
   "cell_type": "code",
   "execution_count": 18,
   "id": "21dcb395-b3bf-4ebb-ae9f-a5cd92d64d92",
   "metadata": {},
   "outputs": [
    {
     "data": {
      "text/plain": [
       "25"
      ]
     },
     "execution_count": 18,
     "metadata": {},
     "output_type": "execute_result"
    }
   ],
   "source": [
    "person['나이']"
   ]
  },
  {
   "cell_type": "code",
   "execution_count": 19,
   "id": "21a12bd8-c9b8-419f-93b8-6887c0afcc44",
   "metadata": {},
   "outputs": [
    {
     "data": {
      "text/plain": [
       "175.5"
      ]
     },
     "execution_count": 19,
     "metadata": {},
     "output_type": "execute_result"
    }
   ],
   "source": [
    "person['키']"
   ]
  },
  {
   "cell_type": "code",
   "execution_count": 20,
   "id": "cbd06e59-1f1c-422d-b7d6-444feebc6188",
   "metadata": {},
   "outputs": [
    {
     "ename": "KeyError",
     "evalue": "'몸무게'",
     "output_type": "error",
     "traceback": [
      "\u001b[1;31m---------------------------------------------------------------------------\u001b[0m",
      "\u001b[1;31mKeyError\u001b[0m                                  Traceback (most recent call last)",
      "Input \u001b[1;32mIn [20]\u001b[0m, in \u001b[0;36m<cell line: 1>\u001b[1;34m()\u001b[0m\n\u001b[1;32m----> 1\u001b[0m \u001b[43mperson\u001b[49m\u001b[43m[\u001b[49m\u001b[38;5;124;43m'\u001b[39;49m\u001b[38;5;124;43m몸무게\u001b[39;49m\u001b[38;5;124;43m'\u001b[39;49m\u001b[43m]\u001b[49m\n",
      "\u001b[1;31mKeyError\u001b[0m: '몸무게'"
     ]
    }
   ],
   "source": [
    "person['몸무게']"
   ]
  },
  {
   "cell_type": "code",
   "execution_count": 22,
   "id": "d2822154-3ce5-438b-a19e-a3473cd2db6f",
   "metadata": {},
   "outputs": [
    {
     "name": "stdout",
     "output_type": "stream",
     "text": [
      "존재하지 않음\n"
     ]
    }
   ],
   "source": [
    "if '몸무게' in person :\n",
    "    print(f'{person[\"몸무게\"]}')\n",
    "else :\n",
    "    print(f'존재하지 않음')"
   ]
  },
  {
   "cell_type": "markdown",
   "id": "94871abb-4731-4f38-910b-f63a8ea317bc",
   "metadata": {},
   "source": [
    "## 딕셔너리명.get(key, msg)\n",
    "* 존재하지 않는 key로 추출 시도해도 오류가 발생하지 않는다.\n",
    "* 존재하지 않는 key로 추출 시도할 경우 출력할 메시지를 설정할 수 있다."
   ]
  },
  {
   "cell_type": "code",
   "execution_count": 23,
   "id": "06d62b67-e7ce-4b2a-9b76-e7e92e9c2e1a",
   "metadata": {},
   "outputs": [
    {
     "data": {
      "text/plain": [
       "25"
      ]
     },
     "execution_count": 23,
     "metadata": {},
     "output_type": "execute_result"
    }
   ],
   "source": [
    "person.get('나이')"
   ]
  },
  {
   "cell_type": "code",
   "execution_count": 26,
   "id": "ca9cd61b-9176-48bd-911c-bf7b302df6d5",
   "metadata": {},
   "outputs": [
    {
     "data": {
      "text/plain": [
       "'존재하지 않음'"
      ]
     },
     "execution_count": 26,
     "metadata": {},
     "output_type": "execute_result"
    }
   ],
   "source": [
    "person.get('몸무게','존재하지 않음')"
   ]
  },
  {
   "cell_type": "code",
   "execution_count": null,
   "id": "1fc2e5b0-7bfb-49f7-a5f1-59e667f6c1f3",
   "metadata": {},
   "outputs": [],
   "source": []
  }
 ],
 "metadata": {
  "kernelspec": {
   "display_name": "Python 3 (ipykernel)",
   "language": "python",
   "name": "python3"
  },
  "language_info": {
   "codemirror_mode": {
    "name": "ipython",
    "version": 3
   },
   "file_extension": ".py",
   "mimetype": "text/x-python",
   "name": "python",
   "nbconvert_exporter": "python",
   "pygments_lexer": "ipython3",
   "version": "3.9.7"
  }
 },
 "nbformat": 4,
 "nbformat_minor": 5
}
