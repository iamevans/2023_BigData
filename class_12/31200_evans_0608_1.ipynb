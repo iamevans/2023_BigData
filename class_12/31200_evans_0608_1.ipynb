{
 "cells": [
  {
   "cell_type": "markdown",
   "id": "b3f534f5-71e4-4a73-909f-4d30ffd4ce33",
   "metadata": {},
   "source": [
    "31200_evans_0608_1"
   ]
  },
  {
   "cell_type": "markdown",
   "id": "33133969-7270-403d-bf45-8a62d67f44bf",
   "metadata": {},
   "source": [
    "## 수행평가 예상문제\n",
    "\n",
    "> 문제3 <br>\n",
    "가게부 만들기 프로그램<br>\n",
    "[조건]<br>\n",
    "1월부터 6월까지 수입을 입력<br>\n",
    "상반기 월별 수입 총액<br>\n",
    "상반기 월별 수입 평균"
   ]
  },
  {
   "cell_type": "code",
   "execution_count": 6,
   "id": "8884d048-425a-4a9d-afef-f481e1f47f02",
   "metadata": {},
   "outputs": [
    {
     "name": "stdout",
     "output_type": "stream",
     "text": [
      "문제3 상반기 가게부 만들기 프로그램\n",
      "월 별로 수입액을 입력시켜 주세요!\n",
      "1월의 수입액을 입력시켜 주세요!!\n"
     ]
    },
    {
     "name": "stdin",
     "output_type": "stream",
     "text": [
      " 20\n"
     ]
    },
    {
     "name": "stdout",
     "output_type": "stream",
     "text": [
      "2월의 수입액을 입력시켜 주세요!!\n"
     ]
    },
    {
     "name": "stdin",
     "output_type": "stream",
     "text": [
      " 21\n"
     ]
    },
    {
     "name": "stdout",
     "output_type": "stream",
     "text": [
      "3월의 수입액을 입력시켜 주세요!!\n"
     ]
    },
    {
     "name": "stdin",
     "output_type": "stream",
     "text": [
      " 22\n"
     ]
    },
    {
     "name": "stdout",
     "output_type": "stream",
     "text": [
      "4월의 수입액을 입력시켜 주세요!!\n"
     ]
    },
    {
     "name": "stdin",
     "output_type": "stream",
     "text": [
      " 23\n"
     ]
    },
    {
     "name": "stdout",
     "output_type": "stream",
     "text": [
      "5월의 수입액을 입력시켜 주세요!!\n"
     ]
    },
    {
     "name": "stdin",
     "output_type": "stream",
     "text": [
      " 25\n"
     ]
    },
    {
     "name": "stdout",
     "output_type": "stream",
     "text": [
      "6월의 수입액을 입력시켜 주세요!!\n"
     ]
    },
    {
     "name": "stdin",
     "output_type": "stream",
     "text": [
      " 26\n"
     ]
    },
    {
     "name": "stdout",
     "output_type": "stream",
     "text": [
      "상반기 월별 수입액 입니다.\n",
      "월별 입력 수입액 : [20, 21, 22, 23, 25, 26]\n",
      "상반기 월 수입액의 총수입 : 137만원 입니다.\n",
      "상반기 월 수입액의 평균 : 22.833333333333332만원 입니다.\n"
     ]
    }
   ],
   "source": [
    "print('문제3 상반기 가게부 만들기 프로그램')\n",
    "\n",
    "#빈 리스트 만들기\n",
    "money = []\n",
    "\n",
    "print('월 별로 수입액을 입력시켜 주세요!')\n",
    "# 월 별 수입 입력\n",
    "for j in range(0,6):\n",
    "    print(f'{j+1}월의 수입액을 입력시켜 주세요!!')\n",
    "    #입력받기 -> 빈리스트에 추가 append\n",
    "    money.append(int(input('')))\n",
    "    \n",
    "#누적 변수\n",
    "sum = 0\n",
    "#증가 변수\n",
    "i = 0\n",
    "\n",
    "print('상반기 월별 수입액 입니다.')\n",
    "#수입총합, 평균 구하기\n",
    "while i<6:\n",
    "    #누적 합계\n",
    "    sum = sum + money[i]\n",
    "    i += 1\n",
    "\n",
    "#전체 평균\n",
    "avg = sum / 6\n",
    "print(f'월별 입력 수입액 : {money}')\n",
    "print(f'상반기 월 수입액의 총수입 : {sum}만원 입니다.')\n",
    "print(f'상반기 월 수입액의 평균 : {avg}만원 입니다.')\n",
    "    \n"
   ]
  },
  {
   "cell_type": "markdown",
   "id": "3c1aff06-ae54-426a-8750-e7beda258ca1",
   "metadata": {},
   "source": [
    "## 수행평가 예상문제\n",
    "\n",
    "> 문제4 <br>\n",
    "조건에 만족하는 학생 번호와 점수를 출력하는 프로그램<br>\n",
    "[조건]<br>\n",
    "점수 : 랜덤으로 만든다 25명, 리스트<br>\n",
    "70점이 넘는 학생의 번호와 점수 출력한다.<br>"
   ]
  },
  {
   "cell_type": "code",
   "execution_count": 12,
   "id": "dcee8331-8983-4b43-8c87-5b29af9d66c7",
   "metadata": {},
   "outputs": [
    {
     "name": "stdout",
     "output_type": "stream",
     "text": [
      "학생의 점수 리스트 : [32, 29, 70, 51, 35, 67, 99, 9, 80, 4, 43, 60, 34, 9, 27, 13, 16, 39, 27, 44, 66, 29, 75, 42, 34]\n",
      "▶ 점수리스트에서 70점 이상인 학생의 번호와 점수를 출력\n",
      "3번 , 점수 : 70\n",
      "7번 , 점수 : 99\n",
      "9번 , 점수 : 80\n",
      "23번 , 점수 : 75\n"
     ]
    }
   ],
   "source": [
    "#랜덤 random \n",
    "import random\n",
    "\n",
    "# 빈 리스트 score\n",
    "score = []\n",
    "\n",
    "#랜덤 점수를 만들어서 빈리스트 추가 append\n",
    "for i in range(0,25) :\n",
    "    score.append(random.randint(0,100))\n",
    "print(f'학생의 점수 리스트 : {score}')\n",
    "print('▶ 점수리스트에서 70점 이상인 학생의 번호와 점수를 출력')\n",
    "\n",
    "# 만약 70점이 넘는 학생의 번호와 점수 출력\n",
    "for s in score :\n",
    "    if s >= 70 :\n",
    "        print(f'{score.index(s)+1}번 , 점수 : {s}')"
   ]
  },
  {
   "cell_type": "code",
   "execution_count": null,
   "id": "500233d1-cf35-44dd-92db-f3210d617724",
   "metadata": {},
   "outputs": [],
   "source": []
  }
 ],
 "metadata": {
  "kernelspec": {
   "display_name": "Python 3 (ipykernel)",
   "language": "python",
   "name": "python3"
  },
  "language_info": {
   "codemirror_mode": {
    "name": "ipython",
    "version": 3
   },
   "file_extension": ".py",
   "mimetype": "text/x-python",
   "name": "python",
   "nbconvert_exporter": "python",
   "pygments_lexer": "ipython3",
   "version": "3.9.7"
  }
 },
 "nbformat": 4,
 "nbformat_minor": 5
}
