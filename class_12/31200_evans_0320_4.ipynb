{
 "cells": [
  {
   "cell_type": "markdown",
   "id": "3942638b-1d3e-4564-8b5b-9ef6dc8570af",
   "metadata": {},
   "source": [
    "31200_evans_0320_4"
   ]
  },
  {
   "cell_type": "markdown",
   "id": "15377ba0-cffb-4822-b9f5-7b98958ead31",
   "metadata": {},
   "source": [
    "#  1. 조건문 if\n",
    "\n",
    "**조건문 : 조건을 충족할 때에만 선택적으로 실행되는 명령어 = 분기문** \n",
    "</br>\n",
    "**=선택구조**\n",
    "</br>\n",
    "\n",
    "\n",
    "```\n",
    "조건 A를 충족할 때에만\n",
    "B해라\n",
    "\n",
    "ex. 성인일 때에만 주류를 판매해라 \n",
    "```\n",
    "\n",
    "<img src = 'https://github.com/teacher-jiejie/allinone_AI/blob/images/71_if.png?raw=true' width=500>"
   ]
  },
  {
   "cell_type": "code",
   "execution_count": 1,
   "id": "20d2210f-8d70-4916-8786-5d93655ed1d7",
   "metadata": {},
   "outputs": [
    {
     "name": "stdout",
     "output_type": "stream",
     "text": [
      "당신은 술을 구매 할 수 없습니다.!! 꺼저\n"
     ]
    }
   ],
   "source": [
    "# 만약 미성년자라면 술을 구매 할 수 없다\n",
    "# 미성년자 어떻게 알 수 있을까?\n",
    "age = 19\n",
    "if age < 20 :\n",
    "    #조건에 만족하면 아래 명령을 수행\n",
    "    print('당신은 술을 구매 할 수 없습니다.!! 꺼저')"
   ]
  },
  {
   "cell_type": "code",
   "execution_count": 4,
   "id": "5bee0170-ecbf-4091-ba6a-7116abfe094e",
   "metadata": {},
   "outputs": [
    {
     "name": "stdin",
     "output_type": "stream",
     "text": [
      "당신의 나이는 :  19\n"
     ]
    },
    {
     "name": "stdout",
     "output_type": "stream",
     "text": [
      "당신은 술을 구매 할 수 없습니다.!! 꺼저\n"
     ]
    }
   ],
   "source": [
    "age = int(input('당신의 나이는 : '))\n",
    "if age < 20 :\n",
    "    #조건에 만족하면 아래 명령을 수행\n",
    "    print('당신은 술을 구매 할 수 없습니다.!! 꺼저')"
   ]
  },
  {
   "cell_type": "markdown",
   "id": "bb6c8e32-3604-4920-bb0e-a9e66aaa1c4a",
   "metadata": {},
   "source": [
    "#### 문제1\n",
    "```\n",
    "물건 금액을 입력받고 \n",
    "물건이 오만원 미만일 경우 배송비 2500원을 더해서 \n",
    "결제금액을 안내하시오. \n",
    "가격 : price\n",
    "```"
   ]
  },
  {
   "cell_type": "code",
   "execution_count": 8,
   "id": "2badf89b-0890-47ff-a4a0-8e7ffc06c224",
   "metadata": {},
   "outputs": [
    {
     "name": "stdin",
     "output_type": "stream",
     "text": [
      "물건 가격 입력 :  50001\n"
     ]
    },
    {
     "name": "stdout",
     "output_type": "stream",
     "text": [
      "총 결제금액은 :  50001\n"
     ]
    }
   ],
   "source": [
    "price = int(input('물건 가격 입력 : '))\n",
    "\n",
    "if price < 50000 :\n",
    "    #price = price + 2500\n",
    "    price += 2500\n",
    "print('총 결제금액은 : ',price)"
   ]
  },
  {
   "cell_type": "markdown",
   "id": "7099890d-24a9-4477-a4da-2b37d2a61bbb",
   "metadata": {},
   "source": [
    "# 2. 조건을 만드는 비교연산자\n",
    "\n",
    "a와 b가 같다면\n",
    "> if a == b :      \n",
    "\n",
    "</br>\n",
    "\n",
    "a와 b가 같지 않다면\n",
    "\n",
    "> if a != b :   \n",
    "\n",
    "</br>\n",
    "</br>\n",
    "\n",
    "a가 b보다 크다면\n",
    "> if a > b :     \n",
    "\n",
    "a가 b보다 크거나 같다면 \n",
    "> if a >= b :      \n",
    "\n",
    "a가 b보다 작다면\n",
    "> if a < b :        \n",
    "\n",
    "a가 b보다 작거나 같다면\n",
    "> if a <= b :    "
   ]
  },
  {
   "cell_type": "markdown",
   "id": "7c69d7cf-5fd9-4fe0-9e81-e7b6d14196e3",
   "metadata": {},
   "source": [
    "### 문제2\n",
    "```\n",
    "출석 혹은 결석 둘 중 하나를 입력받고, \n",
    "출석을 입력받았을 경우 \n",
    "O를 출력하기\n",
    "변수 : check\n",
    "```"
   ]
  },
  {
   "cell_type": "code",
   "execution_count": 9,
   "id": "972d75eb-9f22-4234-886d-333d783306f3",
   "metadata": {},
   "outputs": [
    {
     "name": "stdin",
     "output_type": "stream",
     "text": [
      "출석 혹은 결석 입력 :  출석\n"
     ]
    },
    {
     "name": "stdout",
     "output_type": "stream",
     "text": [
      "0\n"
     ]
    }
   ],
   "source": [
    "check = input('출석 혹은 결석 입력 : ')\n",
    "if check == '출석' :\n",
    "    print('0')"
   ]
  },
  {
   "cell_type": "code",
   "execution_count": null,
   "id": "b7cfbb06-657a-4367-bacb-8daea400e46f",
   "metadata": {},
   "outputs": [],
   "source": []
  }
 ],
 "metadata": {
  "kernelspec": {
   "display_name": "Python 3 (ipykernel)",
   "language": "python",
   "name": "python3"
  },
  "language_info": {
   "codemirror_mode": {
    "name": "ipython",
    "version": 3
   },
   "file_extension": ".py",
   "mimetype": "text/x-python",
   "name": "python",
   "nbconvert_exporter": "python",
   "pygments_lexer": "ipython3",
   "version": "3.9.7"
  }
 },
 "nbformat": 4,
 "nbformat_minor": 5
}
