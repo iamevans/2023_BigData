{
 "cells": [
  {
   "cell_type": "markdown",
   "id": "feaebe97-f079-413f-962d-02ca1c95d7b1",
   "metadata": {},
   "source": [
    "31200_evans_0328_34"
   ]
  },
  {
   "cell_type": "markdown",
   "id": "b9d11bbe-9ea1-4d59-a939-c1f867bd50f3",
   "metadata": {},
   "source": [
    "구구단 외울 단을 입력받아, 해당 숫자의 구구단을 외워봅시다.<br/>\n",
    "ex. 5를 입력받으면 5단 외우기"
   ]
  },
  {
   "cell_type": "code",
   "execution_count": 2,
   "id": "c2465cb6-0819-4cb7-bf2f-49909149facd",
   "metadata": {},
   "outputs": [
    {
     "name": "stdin",
     "output_type": "stream",
     "text": [
      "몇 단을 외워볼까요?  19\n"
     ]
    },
    {
     "name": "stdout",
     "output_type": "stream",
     "text": [
      "19 x 1 = 19\n",
      "19 x 2 = 38\n",
      "19 x 3 = 57\n",
      "19 x 4 = 76\n",
      "19 x 5 = 95\n",
      "19 x 6 = 114\n",
      "19 x 7 = 133\n",
      "19 x 8 = 152\n",
      "19 x 9 = 171\n"
     ]
    }
   ],
   "source": [
    "a = int(input('몇 단을 외워볼까요? '))\n",
    "\n",
    "for i in range(1,10) :\n",
    "    print(a,'x', i, '=', a*i)"
   ]
  },
  {
   "cell_type": "code",
   "execution_count": 8,
   "id": "f21334ae-1931-49aa-a533-1c60487bce3d",
   "metadata": {},
   "outputs": [
    {
     "name": "stdout",
     "output_type": "stream",
     "text": [
      "사과\n",
      "귤\n",
      "수박\n"
     ]
    }
   ],
   "source": [
    "# for문의 실행결과를 예측하라.\n",
    "과일 = ['사과', '귤','수박']\n",
    "#print(과일[0])\n",
    "#print(과일[1])\n",
    "#print(과일[2])\n",
    "for i in 과일:\n",
    "    print(i)"
   ]
  },
  {
   "cell_type": "markdown",
   "id": "e2d4dee2-1043-45f5-a04c-3a05fffd93ff",
   "metadata": {},
   "source": [
    "```\n",
    "변수 = \"A\"\n",
    "print(변수)\n",
    "변수 = \"B\"\n",
    "print(변수)\n",
    "변수 = \"C\"\n",
    "print(변수)\n",
    "```"
   ]
  },
  {
   "cell_type": "code",
   "execution_count": 9,
   "id": "6e6d985f-16d7-47a8-92fb-00e01316fa82",
   "metadata": {},
   "outputs": [
    {
     "name": "stdout",
     "output_type": "stream",
     "text": [
      "A\n",
      "B\n",
      "C\n"
     ]
    }
   ],
   "source": [
    "for i in ['A', 'B','C'] :\n",
    "    print(i)"
   ]
  },
  {
   "cell_type": "markdown",
   "id": "45e41404-c056-432e-94d6-749d7f1bec4e",
   "metadata": {},
   "source": [
    "```\n",
    "우선, for문을 사용하지 않고 모든 값에 10을 더하는 코드를 작성해 봅시다.\n",
    "\n",
    "변수 = 100\n",
    "print(변수 + 10)\n",
    "변수 = 200\n",
    "print(변수 + 10)\n",
    "변수 = 300\n",
    "print(변수 + 10)\n",
    "```\n",
    "for문을 사용하여 변경해 보자\n"
   ]
  },
  {
   "cell_type": "code",
   "execution_count": 10,
   "id": "c9a2199a-42f7-4c07-9007-b056db31c088",
   "metadata": {},
   "outputs": [
    {
     "name": "stdout",
     "output_type": "stream",
     "text": [
      "110\n",
      "210\n",
      "310\n"
     ]
    }
   ],
   "source": [
    "data = [100,200,300]\n",
    "for i in data :\n",
    "    print(i + 10)"
   ]
  },
  {
   "cell_type": "markdown",
   "id": "35a2ef94-9733-47c4-95e1-af4042f7224d",
   "metadata": {},
   "source": [
    "### 문제\n",
    "```\n",
    "오늘의 메뉴: 김밥\n",
    "오늘의 메뉴: 라면\n",
    "오늘의 메뉴: 튀김\n",
    "```"
   ]
  },
  {
   "cell_type": "code",
   "execution_count": 14,
   "id": "62138aa8-5a41-4b37-9b9f-cf177c12eecf",
   "metadata": {},
   "outputs": [
    {
     "name": "stdout",
     "output_type": "stream",
     "text": [
      "오늘의 메뉴: 김밥\n",
      "오늘의 메뉴: 라면\n",
      "오늘의 메뉴: 튀김\n"
     ]
    }
   ],
   "source": [
    "menu = ['김밥','라면','튀김']\n",
    "for i in menu :\n",
    "    print('오늘의 메뉴: '+i)"
   ]
  },
  {
   "cell_type": "markdown",
   "id": "7508b962-3f10-4fbf-8a6e-5e2a2c0116e1",
   "metadata": {},
   "source": [
    "#### 5. 랜덤 구구단 게임 작성하기\n",
    "\n",
    "랜덤으로 곱셈문제를 내고, 답을 맞추는 게임"
   ]
  },
  {
   "cell_type": "code",
   "execution_count": 20,
   "id": "d1b18dc9-33f5-4258-add8-11597546e7a2",
   "metadata": {},
   "outputs": [
    {
     "data": {
      "text/plain": [
       "0.09575826606367821"
      ]
     },
     "execution_count": 20,
     "metadata": {},
     "output_type": "execute_result"
    }
   ],
   "source": [
    "#라이브러리 가져오는 명령어 import\n",
    "import random\n",
    "\n",
    "random.random()"
   ]
  },
  {
   "cell_type": "code",
   "execution_count": 21,
   "id": "6e4ed6fa-428a-4078-a7be-c45bc5cea1f1",
   "metadata": {},
   "outputs": [
    {
     "name": "stdout",
     "output_type": "stream",
     "text": [
      "Help on built-in function random:\n",
      "\n",
      "random() method of random.Random instance\n",
      "    random() -> x in the interval [0, 1).\n",
      "\n"
     ]
    }
   ],
   "source": [
    "help(random.random)"
   ]
  },
  {
   "cell_type": "code",
   "execution_count": 29,
   "id": "5d50913d-b160-401e-abbe-65727522a102",
   "metadata": {},
   "outputs": [
    {
     "data": {
      "text/plain": [
       "8"
      ]
     },
     "execution_count": 29,
     "metadata": {},
     "output_type": "execute_result"
    }
   ],
   "source": [
    "# 1 ~ 10 까지 숫자 랜덤하게 출력\n",
    "random.randint(1,10)"
   ]
  },
  {
   "cell_type": "code",
   "execution_count": 30,
   "id": "c2327f74-6562-4a97-a81c-4854c9725cc2",
   "metadata": {},
   "outputs": [
    {
     "name": "stdout",
     "output_type": "stream",
     "text": [
      "Help on method randint in module random:\n",
      "\n",
      "randint(a, b) method of random.Random instance\n",
      "    Return random integer in range [a, b], including both end points.\n",
      "\n"
     ]
    }
   ],
   "source": [
    "help(random.randint)"
   ]
  },
  {
   "cell_type": "markdown",
   "id": "7658f7c4-8bff-4d20-b177-1003607763d2",
   "metadata": {},
   "source": [
    "구구단 게임 형식 \n",
    "\n",
    "```\n",
    "구구단을 외자! 구구단을 외자! \n",
    "7 x 9 ? 63\n",
    "3 x 7 ? 21\n",
    "....\n",
    "```"
   ]
  },
  {
   "cell_type": "code",
   "execution_count": 34,
   "id": "43ba342c-f0ba-4333-9636-de79a53ceecb",
   "metadata": {},
   "outputs": [
    {
     "name": "stdout",
     "output_type": "stream",
     "text": [
      "8 x 5 =\n",
      "4 x 8 =\n",
      "6 x 7 =\n",
      "4 x 1 =\n",
      "4 x 7 =\n"
     ]
    }
   ],
   "source": [
    "import random\n",
    "\n",
    "for i in range(5) :\n",
    "    num1 = random.randint(2,9)\n",
    "    num2 = random.randint(1,9)\n",
    "    print(num1,'x',num2,'=')\n",
    "    "
   ]
  },
  {
   "cell_type": "code",
   "execution_count": 35,
   "id": "d095a0e2-794b-4ff4-9c9b-72d8eb612a01",
   "metadata": {},
   "outputs": [
    {
     "name": "stdin",
     "output_type": "stream",
     "text": [
      "9 x 3 =  27\n",
      "8 x 4 =  32\n",
      "8 x 3 =  34\n",
      "9 x 6 =  54\n",
      "4 x 1 =  4\n"
     ]
    }
   ],
   "source": [
    "#입력칸을 만들어 주자\n",
    "import random\n",
    "\n",
    "for i in range(5) :\n",
    "    num1 = random.randint(2,9)\n",
    "    num2 = random.randint(1,9)\n",
    "    question = str(num1) + ' x ' + str(num2) + ' = '\n",
    "    input(question)"
   ]
  },
  {
   "cell_type": "markdown",
   "id": "b8e43bf2-265c-4b5a-9fcf-5e91584e3786",
   "metadata": {},
   "source": [
    "#### 6. 반복문 안의 조건문\n",
    "랜덤 구구단 게임에서 입력된 답이 틀렸을 때, '땡! 정답은 00입니다' 출력하기"
   ]
  },
  {
   "cell_type": "code",
   "execution_count": 36,
   "id": "d64714b7-bcf3-4c92-88fd-9055c8871b9e",
   "metadata": {},
   "outputs": [
    {
     "name": "stdin",
     "output_type": "stream",
     "text": [
      "5 x 7 =  36\n"
     ]
    },
    {
     "name": "stdout",
     "output_type": "stream",
     "text": [
      "땡!!! 정답은 35\n"
     ]
    },
    {
     "name": "stdin",
     "output_type": "stream",
     "text": [
      "6 x 5 =  30\n",
      "9 x 5 =  44\n"
     ]
    },
    {
     "name": "stdout",
     "output_type": "stream",
     "text": [
      "땡!!! 정답은 45\n"
     ]
    },
    {
     "name": "stdin",
     "output_type": "stream",
     "text": [
      "7 x 1 =  5\n"
     ]
    },
    {
     "name": "stdout",
     "output_type": "stream",
     "text": [
      "땡!!! 정답은 7\n"
     ]
    },
    {
     "name": "stdin",
     "output_type": "stream",
     "text": [
      "5 x 5 =  24\n"
     ]
    },
    {
     "name": "stdout",
     "output_type": "stream",
     "text": [
      "땡!!! 정답은 25\n"
     ]
    }
   ],
   "source": [
    "import random\n",
    "\n",
    "for i in range(5) :\n",
    "    num1 = random.randint(2,9)\n",
    "    num2 = random.randint(1,9)\n",
    "    question = str(num1) + ' x ' + str(num2) + ' = '\n",
    "    # 입력된 답을 변수에 숫자로 저장\n",
    "    answer = int(input(question))\n",
    "    \n",
    "    if answer != num1*num2 :\n",
    "        print('땡!!! 정답은', num1*num2)\n",
    "    \n",
    "    "
   ]
  },
  {
   "cell_type": "markdown",
   "id": "0303a675-609f-4257-b940-e6ad36c8bfd6",
   "metadata": {},
   "source": [
    "1부터 30까지 숫자의 홀수 짝수 판별하기"
   ]
  },
  {
   "cell_type": "code",
   "execution_count": 37,
   "id": "954ada1d-8c54-4b31-a91d-2204dbdd1fd7",
   "metadata": {},
   "outputs": [
    {
     "name": "stdout",
     "output_type": "stream",
     "text": [
      "1 홀수\n",
      "2 짝수\n",
      "3 홀수\n",
      "4 짝수\n",
      "5 홀수\n",
      "6 짝수\n",
      "7 홀수\n",
      "8 짝수\n",
      "9 홀수\n",
      "10 짝수\n",
      "11 홀수\n",
      "12 짝수\n",
      "13 홀수\n",
      "14 짝수\n",
      "15 홀수\n",
      "16 짝수\n",
      "17 홀수\n",
      "18 짝수\n",
      "19 홀수\n",
      "20 짝수\n",
      "21 홀수\n",
      "22 짝수\n",
      "23 홀수\n",
      "24 짝수\n",
      "25 홀수\n",
      "26 짝수\n",
      "27 홀수\n",
      "28 짝수\n",
      "29 홀수\n",
      "30 짝수\n"
     ]
    }
   ],
   "source": [
    "for i in range(1,31) :\n",
    "    if i % 2 == 1:\n",
    "        print(i, '홀수')\n",
    "    else :\n",
    "        print(i, '짝수')"
   ]
  },
  {
   "cell_type": "code",
   "execution_count": null,
   "id": "aa465a3e-dc6b-4c70-a39e-62f5f51b9ebd",
   "metadata": {},
   "outputs": [],
   "source": []
  }
 ],
 "metadata": {
  "kernelspec": {
   "display_name": "Python 3 (ipykernel)",
   "language": "python",
   "name": "python3"
  },
  "language_info": {
   "codemirror_mode": {
    "name": "ipython",
    "version": 3
   },
   "file_extension": ".py",
   "mimetype": "text/x-python",
   "name": "python",
   "nbconvert_exporter": "python",
   "pygments_lexer": "ipython3",
   "version": "3.9.7"
  }
 },
 "nbformat": 4,
 "nbformat_minor": 5
}
