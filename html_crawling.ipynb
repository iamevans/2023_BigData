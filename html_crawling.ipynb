{
 "cells": [
  {
   "cell_type": "code",
   "execution_count": 7,
   "id": "e445877e-f6ed-414a-ba2c-5a4eeb9005b6",
   "metadata": {},
   "outputs": [],
   "source": [
    "import requests\n",
    "from bs4 import BeautifulSoup\n",
    "\n",
    "url = 'https://wikibook.co.kr/list/'\n",
    "\n",
    "response = requests.get(url)\n",
    "soup = BeautifulSoup(response.text, 'html.parser')\n",
    "\n",
    "books = soup.find_all('li', {'class': 'book-item'})\n",
    "\n",
    "for book in books:\n",
    "    main_title = book.find('strong', {'class': 'main-title'}).text.strip()\n",
    "    sub_title = book.find('span', {'class': 'sub-title'}).text.strip()\n",
    "    author = book.find('span', {'class': 'author'}).text.strip()\n",
    "    translator = book.find('span', {'class': 'translator'}).text.strip()\n",
    "\n",
    "    print(f\"Main Title: {main_title}\")\n",
    "    print(f\"Sub Title: {sub_title}\")\n",
    "    print(f\"Author: {author}\")\n",
    "    print(f\"Translator: {translator}\")\n",
    "    print('----------------------------------')\n"
   ]
  },
  {
   "cell_type": "code",
   "execution_count": 9,
   "id": "acb2c16d-b807-4fec-a50f-60c454826b40",
   "metadata": {},
   "outputs": [
    {
     "name": "stdout",
     "output_type": "stream",
     "text": [
      "Requirement already satisfied: beautifulsoup4 in c:\\python310\\lib\\site-packages (4.12.0)\n",
      "Requirement already satisfied: soupsieve>1.2 in c:\\python310\\lib\\site-packages (from beautifulsoup4) (2.4)\n"
     ]
    }
   ],
   "source": [
    "!pip install beautifulsoup4"
   ]
  },
  {
   "cell_type": "code",
   "execution_count": 10,
   "id": "3c3a962a-baf1-4e4a-bd99-fffc82bc6b00",
   "metadata": {},
   "outputs": [
    {
     "name": "stdout",
     "output_type": "stream",
     "text": [
      "Requirement already satisfied: requests in c:\\python310\\lib\\site-packages (2.24.0)\n",
      "Requirement already satisfied: idna<3,>=2.5 in c:\\python310\\lib\\site-packages (from requests) (2.10)\n",
      "Requirement already satisfied: chardet<4,>=3.0.2 in c:\\python310\\lib\\site-packages (from requests) (3.0.4)\n",
      "Requirement already satisfied: certifi>=2017.4.17 in c:\\python310\\lib\\site-packages (from requests) (2022.9.24)\n",
      "Requirement already satisfied: urllib3!=1.25.0,!=1.25.1,<1.26,>=1.21.1 in c:\\python310\\lib\\site-packages (from requests) (1.25.11)\n"
     ]
    }
   ],
   "source": [
    "!pip install requests"
   ]
  },
  {
   "cell_type": "code",
   "execution_count": 13,
   "id": "726e4a84-693f-4358-8e67-db8779c9df3e",
   "metadata": {},
   "outputs": [],
   "source": [
    "import requests\n",
    "from bs4 import BeautifulSoup\n",
    "import csv\n",
    "\n",
    "url = 'https://wikibook.co.kr/list/'\n",
    "\n",
    "response = requests.get(url)\n",
    "soup = BeautifulSoup(html.content, 'html.parser')\n",
    "\n",
    "books = soup.find_all('li', {'class': 'book-item'})\n",
    "\n",
    "with open('book_info.csv', mode='w', newline='', encoding='utf-8-sig') as file:\n",
    "    writer = csv.writer(file)\n",
    "    writer.writerow(['Main Title', 'Sub Title', 'Author', 'Translator'])\n",
    "\n",
    "    for book in books:\n",
    "        main_title = book.find('strong', {'class': 'main-title'}).text.strip()\n",
    "        sub_title = book.find('span', {'class': 'sub-title'}).text.strip()\n",
    "        author = book.find('span', {'class': 'author'}).text.strip()\n",
    "        translator = book.find('span', {'class': 'translator'}).text.strip()\n",
    "\n",
    "        writer.writerow([main_title, sub_title, author, translator])\n"
   ]
  },
  {
   "cell_type": "code",
   "execution_count": null,
   "id": "dc30e03f-ed59-444d-acda-56bce0be294b",
   "metadata": {},
   "outputs": [],
   "source": [
    "from bs4 import BeautifulSoup\n",
    "import requests\n",
    "\n",
    "# 홈페이지 주소 가져오기\n",
    "url = 'https://wikibook.co.kr/list/'\n",
    "\n",
    "html = requests.get(url)\n",
    "bs_html = BeautifulSoup(html.content, \"html.parser\")\n",
    "\n",
    "print(bs_html) # 웹 페이지 출력"
   ]
  },
  {
   "cell_type": "code",
   "execution_count": 14,
   "id": "f0d291df-b812-4e8a-93d6-32e9fafd6886",
   "metadata": {},
   "outputs": [],
   "source": [
    "from bs4 import BeautifulSoup\n",
    "import requests\n",
    "\n",
    "# 홈페이지 주소 가져오기\n",
    "url = 'https://wikibook.co.kr/list/'\n",
    "\n",
    "html = requests.get(url)\n",
    "bs_html = BeautifulSoup(html.content, \"html.parser\")\n",
    "\n",
    "# 모든 책 목록 가져오기\n",
    "book_list = bs_html.find_all('li', class_='book-item')\n",
    "\n",
    "# 책 목록에서 각 책의 메인 타이틀 가져오기\n",
    "for book in book_list:\n",
    "    main_title = book.find('strong', class_='main-title').text.strip()\n",
    "    print(main_title)\n"
   ]
  },
  {
   "cell_type": "code",
   "execution_count": 15,
   "id": "b2d59158-8a24-4bc5-b6c9-e31a9885fffc",
   "metadata": {},
   "outputs": [
    {
     "name": "stdout",
     "output_type": "stream",
     "text": [
      "2.28.1\n",
      "4.11.1\n"
     ]
    }
   ],
   "source": [
    "import requests\n",
    "import bs4\n",
    "\n",
    "print(requests.__version__)\n",
    "print(bs4.__version__)"
   ]
  },
  {
   "cell_type": "code",
   "execution_count": 18,
   "id": "fc5bf479-bc29-497f-9897-48c62a8c04da",
   "metadata": {},
   "outputs": [],
   "source": [
    "#print(html.content)\n",
    "\n",
    "for book in book_list:\n",
    "    main_title = book.find('strong', class_='main-title')\n",
    "    if main_title is not None:\n",
    "        main_title_text = main_title.text.strip()\n",
    "        print(main_title_text)\n",
    "    else:\n",
    "        print('Main title not found')\n"
   ]
  },
  {
   "cell_type": "code",
   "execution_count": null,
   "id": "d0d1366c-c6b9-4cbd-8c35-e05b57c9e59a",
   "metadata": {},
   "outputs": [],
   "source": []
  }
 ],
 "metadata": {
  "kernelspec": {
   "display_name": "Python 3 (ipykernel)",
   "language": "python",
   "name": "python3"
  },
  "language_info": {
   "codemirror_mode": {
    "name": "ipython",
    "version": 3
   },
   "file_extension": ".py",
   "mimetype": "text/x-python",
   "name": "python",
   "nbconvert_exporter": "python",
   "pygments_lexer": "ipython3",
   "version": "3.9.7"
  }
 },
 "nbformat": 4,
 "nbformat_minor": 5
}
