{
 "cells": [
  {
   "cell_type": "markdown",
   "id": "520de28b-29d9-4110-b51d-2d30cf635d14",
   "metadata": {},
   "source": [
    "31200_evans_0801_34"
   ]
  },
  {
   "cell_type": "code",
   "execution_count": 1,
   "id": "80d2e688-9e99-4e46-a68b-ede3d3f2ff42",
   "metadata": {},
   "outputs": [
    {
     "data": {
      "text/plain": [
       "['밀수', '엘리멘탈', '미션임파서블']"
      ]
     },
     "execution_count": 1,
     "metadata": {},
     "output_type": "execute_result"
    }
   ],
   "source": [
    "#영화순위 1~3위까지 리스트 넣고 리스트를 출력\n",
    "\n",
    "movie_rank = [\"밀수\",\"엘리멘탈\",\"미션임파서블\"]\n",
    "movie_rank"
   ]
  },
  {
   "cell_type": "code",
   "execution_count": 2,
   "id": "5acbc1f0-4494-433c-a45c-e7a96e0e4c16",
   "metadata": {},
   "outputs": [
    {
     "data": {
      "text/plain": [
       "['밀수', '엘리멘탈', '미션임파서블', '명탐정코난']"
      ]
     },
     "execution_count": 2,
     "metadata": {},
     "output_type": "execute_result"
    }
   ],
   "source": [
    "#영화순위 명탐정코난을 리스트 추가해 봅시다.\n",
    "\n",
    "movie_rank.append(\"명탐정코난\")\n",
    "movie_rank"
   ]
  },
  {
   "cell_type": "code",
   "execution_count": 3,
   "id": "4b27cf97-715a-4f9c-9742-8e4b3b930b6c",
   "metadata": {},
   "outputs": [
    {
     "data": {
      "text/plain": [
       "['밀수', '슈퍼맨', '엘리멘탈', '미션임파서블', '명탐정코난']"
      ]
     },
     "execution_count": 3,
     "metadata": {},
     "output_type": "execute_result"
    }
   ],
   "source": [
    "#리스트 특정 위치에 넣는 명령어는 insort(index, 원소)\n",
    "#슈퍼맨을 밀수뒤에 넣어 봅시다.\n",
    "\n",
    "movie_rank.insert(1,\"슈퍼맨\")\n",
    "movie_rank\n"
   ]
  },
  {
   "cell_type": "code",
   "execution_count": 4,
   "id": "cdf7b8f1-daeb-48fd-843c-259733f7748a",
   "metadata": {},
   "outputs": [
    {
     "data": {
      "text/plain": [
       "['밀수', '엘리멘탈', '미션임파서블', '명탐정코난']"
      ]
     },
     "execution_count": 4,
     "metadata": {},
     "output_type": "execute_result"
    }
   ],
   "source": [
    "#슈퍼맨을 리스트에서 삭제 del\n",
    "#사용법 del movie_rank[1]\n",
    "del movie_rank[1]\n",
    "movie_rank"
   ]
  },
  {
   "cell_type": "code",
   "execution_count": null,
   "id": "84302c54-933e-4f3c-9aed-723e37e64e67",
   "metadata": {},
   "outputs": [],
   "source": [
    "#명탐정코난을 삭제해 봅시다.\n"
   ]
  }
 ],
 "metadata": {
  "kernelspec": {
   "display_name": "Python 3 (ipykernel)",
   "language": "python",
   "name": "python3"
  },
  "language_info": {
   "codemirror_mode": {
    "name": "ipython",
    "version": 3
   },
   "file_extension": ".py",
   "mimetype": "text/x-python",
   "name": "python",
   "nbconvert_exporter": "python",
   "pygments_lexer": "ipython3",
   "version": "3.9.7"
  }
 },
 "nbformat": 4,
 "nbformat_minor": 5
}
