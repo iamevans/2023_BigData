{
 "cells": [
  {
   "cell_type": "markdown",
   "id": "ce3e7cef-dbb2-453e-8593-1541d2338363",
   "metadata": {},
   "source": [
    "31200_evans_0807_4"
   ]
  },
  {
   "cell_type": "markdown",
   "id": "c8257747-84af-438d-9a4b-f3af896dc983",
   "metadata": {},
   "source": [
    "점수 구간에 해당하는 학점이 아래와 같이 정의되어 있다. 사용자로부터 score를 입력받아 학점을 출력하라.\n",
    "```\n",
    "점수 \t학점\n",
    "81~100 \tA\n",
    "61~80 \tB\n",
    "41~60 \tC\n",
    "21~40 \tD\n",
    "0~20 \tE\n",
    "```"
   ]
  },
  {
   "cell_type": "code",
   "execution_count": 4,
   "id": "5471e904-336d-47e4-940e-0c22a5b05d04",
   "metadata": {},
   "outputs": [
    {
     "name": "stdin",
     "output_type": "stream",
     "text": [
      "score :  85\n"
     ]
    },
    {
     "name": "stdout",
     "output_type": "stream",
     "text": [
      "Grade is A\n"
     ]
    }
   ],
   "source": [
    "# input, if ~ elif ~ else\n",
    "\n",
    "score = int(input(\"score : \"))\n",
    "\n",
    "if 81 <= score <=100:\n",
    "    print(\"Grade is A\")\n",
    "elif 61 <= score <=80:\n",
    "    print(\"Grade is B\")\n",
    "elif 41 <= score <=60:\n",
    "    print(\"Grade is C\")\n",
    "elif 21 <= score <=40:\n",
    "    print(\"Grade is D\")\n",
    "else:\n",
    "    print(\"Grade is E\")"
   ]
  },
  {
   "cell_type": "code",
   "execution_count": 6,
   "id": "a79866b1-0ff1-45aa-8cb6-b004a39a2474",
   "metadata": {},
   "outputs": [
    {
     "name": "stdin",
     "output_type": "stream",
     "text": [
      "score :  52\n"
     ]
    },
    {
     "name": "stdout",
     "output_type": "stream",
     "text": [
      "Grade is C\n"
     ]
    }
   ],
   "source": [
    "score = int(input(\"score : \"))\n",
    "\n",
    "if score >=81:\n",
    "    print(\"Grade is A\")\n",
    "elif score >=61:\n",
    "    print(\"Grade is B\")\n",
    "elif score >=41:\n",
    "    print(\"Grade is C\")\n",
    "elif score >=21:\n",
    "    print(\"Grade is D\")\n",
    "else:\n",
    "    print(\"Grade is E\")"
   ]
  },
  {
   "cell_type": "markdown",
   "id": "c177cb37-23fb-485b-b357-a03989cfbbbb",
   "metadata": {},
   "source": [
    "```\n",
    "주민등록번호의 뒷 자리 7자리 중 두번째와 세번째는 지역코드를 의미한다. 주민 등록 번호를 입력 받은 후 출생지가 서울인지 아닌지 판단하는 코드를 작성하라\n",
    "지역코드 \t출생지\n",
    "00 ~ 08 \t서울\n",
    "09 ~ 12 \t부산\n",
    "```"
   ]
  },
  {
   "cell_type": "code",
   "execution_count": 8,
   "id": "94f38e69-800c-4aca-b4da-e61116b089ac",
   "metadata": {},
   "outputs": [
    {
     "name": "stdin",
     "output_type": "stream",
     "text": [
      "주민등록번호 :  001111-3081111\n"
     ]
    },
    {
     "name": "stdout",
     "output_type": "stream",
     "text": [
      "출생지가 서울입니다.\n"
     ]
    }
   ],
   "source": [
    "주민번호 = input(\"주민등록번호 : \")\n",
    "뒷자리 = 주민번호.split(\"-\")[1]\n",
    "\n",
    "if 0 <= int(뒷자리[1:3]) <=8 :\n",
    "    print(\"출생지가 서울입니다.\")\n",
    "else :\n",
    "    print(\"출생지가 서울이 아닙니다.\")"
   ]
  },
  {
   "cell_type": "code",
   "execution_count": null,
   "id": "335ba77f-45c6-4535-8a25-12bbd9fbe63a",
   "metadata": {},
   "outputs": [],
   "source": []
  }
 ],
 "metadata": {
  "kernelspec": {
   "display_name": "Python 3 (ipykernel)",
   "language": "python",
   "name": "python3"
  },
  "language_info": {
   "codemirror_mode": {
    "name": "ipython",
    "version": 3
   },
   "file_extension": ".py",
   "mimetype": "text/x-python",
   "name": "python",
   "nbconvert_exporter": "python",
   "pygments_lexer": "ipython3",
   "version": "3.9.7"
  }
 },
 "nbformat": 4,
 "nbformat_minor": 5
}
