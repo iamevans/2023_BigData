{
 "cells": [
  {
   "cell_type": "markdown",
   "id": "a4da420b-4eb7-4166-bc84-786a2a3bc086",
   "metadata": {},
   "source": [
    "31000_evans_0807_1"
   ]
  },
  {
   "cell_type": "code",
   "execution_count": 2,
   "id": "31973de3-b187-4d7d-b9ad-0f695d17d026",
   "metadata": {},
   "outputs": [
    {
     "name": "stdout",
     "output_type": "stream",
     "text": [
      "[5, 4, 3, 2, 1]\n"
     ]
    }
   ],
   "source": [
    "#슬라이싱을 사용해서 리스트의 숫자를 역 방향으로 출력하라.\n",
    "#역 방향은 -기호를 이용한다.\n",
    "nums = [1, 2, 3, 4, 5]\n",
    "\n",
    "print(nums[::-1])"
   ]
  },
  {
   "cell_type": "code",
   "execution_count": 3,
   "id": "535dc1cf-2b00-497a-bfe8-cc72eaf4b72d",
   "metadata": {},
   "outputs": [
    {
     "name": "stdout",
     "output_type": "stream",
     "text": [
      "['삼성전자', 'LG전자', '네이버', '카카오']\n"
     ]
    }
   ],
   "source": [
    "#회사 이름이 슬래시 ('/')로 구분되어 하나의 문자열로 저장되어 있다. \n",
    "\n",
    "com = \"삼성전자/LG전자/네이버/카카오\"\n",
    "\n",
    "#interest이름의 리스트로 분리 저장해 봅시다.\n",
    "interest = com.split(\"/\")\n",
    "print(interest)"
   ]
  },
  {
   "cell_type": "code",
   "execution_count": 9,
   "id": "bac5c398-2add-4db5-9b3f-d750e0ba5a75",
   "metadata": {},
   "outputs": [
    {
     "name": "stdout",
     "output_type": "stream",
     "text": [
      "[10, 9, 5, 4, 3, 2, 1]\n"
     ]
    }
   ],
   "source": [
    "#리스트에 있는 값을 오름차순으로 정렬하세요. \n",
    "#sort(reverse=False) 올림차순 작->큰\n",
    "#sort(reverse=True) 내림차순 큰->작\n",
    "data = [2, 4, 3, 1, 5, 10, 9]\n",
    "\n",
    "data.sort(reverse=True)\n",
    "print(data)"
   ]
  },
  {
   "cell_type": "code",
   "execution_count": 11,
   "id": "904f5b1c-7f10-46f6-9665-7ee8f141ddf7",
   "metadata": {},
   "outputs": [
    {
     "name": "stdout",
     "output_type": "stream",
     "text": [
      "[10, 9, 5, 4, 3, 2, 1]\n"
     ]
    }
   ],
   "source": [
    "data = [2, 4, 3, 1, 5, 10, 9]\n",
    "data.sort(reverse=True)\n",
    "print(data)"
   ]
  },
  {
   "cell_type": "code",
   "execution_count": 12,
   "id": "82d5ed8b-5378-4678-8b1f-8bb31274721f",
   "metadata": {},
   "outputs": [
    {
     "name": "stdout",
     "output_type": "stream",
     "text": [
      "사과\n",
      "귤\n",
      "수박\n"
     ]
    }
   ],
   "source": [
    "# for문이용, 순서대로 출력\n",
    "\n",
    "과일 = [\"사과\", \"귤\", \"수박\"]\n",
    "\n",
    "for i in 과일 :\n",
    "    print(i)"
   ]
  },
  {
   "cell_type": "code",
   "execution_count": 13,
   "id": "1a517142-b9f4-40d7-a6a5-7da9a108d14d",
   "metadata": {},
   "outputs": [
    {
     "name": "stdout",
     "output_type": "stream",
     "text": [
      "#####\n",
      "#####\n",
      "#####\n"
     ]
    }
   ],
   "source": [
    "과일 = [\"사과\", \"귤\", \"수박\"]\n",
    "for 변수 in 과일:\n",
    "  print(\"#####\")"
   ]
  },
  {
   "cell_type": "code",
   "execution_count": null,
   "id": "66dec39f-8413-49b9-9dcc-43a95d0f44e1",
   "metadata": {},
   "outputs": [],
   "source": []
  }
 ],
 "metadata": {
  "kernelspec": {
   "display_name": "Python 3 (ipykernel)",
   "language": "python",
   "name": "python3"
  },
  "language_info": {
   "codemirror_mode": {
    "name": "ipython",
    "version": 3
   },
   "file_extension": ".py",
   "mimetype": "text/x-python",
   "name": "python",
   "nbconvert_exporter": "python",
   "pygments_lexer": "ipython3",
   "version": "3.9.7"
  }
 },
 "nbformat": 4,
 "nbformat_minor": 5
}
