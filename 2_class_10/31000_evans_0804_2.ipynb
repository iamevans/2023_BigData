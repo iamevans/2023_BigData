{
 "cells": [
  {
   "cell_type": "markdown",
   "id": "1a4f02dc-5aad-4cb4-bdad-313b26fd9d92",
   "metadata": {},
   "source": [
    "31000_evans_0804_2"
   ]
  },
  {
   "cell_type": "code",
   "execution_count": 2,
   "id": "67762bb7-0e5b-4863-9321-208d456ec624",
   "metadata": {},
   "outputs": [
    {
     "data": {
      "text/plain": [
       "['C', 'C++', 'JAVA', 'Python', 'Go', 'C#']"
      ]
     },
     "execution_count": 2,
     "metadata": {},
     "output_type": "execute_result"
    }
   ],
   "source": [
    "#lang1과 lang2 리스트가 있을 때 lang1과 lang2의 원소를 모두 갖고 있는 langs 리스트를 만들어라.\n",
    "\n",
    "lang1 = [\"C\", \"C++\", \"JAVA\"]\n",
    "lang2 = [\"Python\", \"Go\", \"C#\"]\n",
    "\n",
    "langs = lang1 + lang2\n",
    "\n",
    "langs"
   ]
  },
  {
   "cell_type": "code",
   "execution_count": 8,
   "id": "a0ac5a72-7b5b-4bc2-91ac-b3d77d58e745",
   "metadata": {},
   "outputs": [
    {
     "name": "stdout",
     "output_type": "stream",
     "text": [
      "max :  7\n",
      "min :  1\n",
      "sum :  28\n",
      "len :  7\n",
      "average :  4.0\n"
     ]
    }
   ],
   "source": [
    "#다음 리스트에서 최댓값과 최솟값을 출력하라. (힌트: min(), max() 함수 사용)\n",
    "\n",
    "nums = [1, 2, 3, 4, 5, 6, 7]\n",
    "\n",
    "print(\"max : \", max(nums))\n",
    "print(\"min : \", min(nums))\n",
    "\n",
    "# 합계 출력 sum1\n",
    "print(\"sum : \", sum(nums))\n",
    "\n",
    "# 갯수를 출력해 봅시다. len\n",
    "print(\"len : \", len(nums))\n",
    "\n",
    "# 평균 sum / len\n",
    "print(\"average : \", sum(nums)/len(nums))"
   ]
  },
  {
   "cell_type": "code",
   "execution_count": 9,
   "id": "fb3d0323-b478-4235-9ba6-6fce0fa19d4e",
   "metadata": {},
   "outputs": [
    {
     "name": "stdout",
     "output_type": "stream",
     "text": [
      "[100, 130, 140, 150, 160, 170]\n"
     ]
    }
   ],
   "source": [
    "#price 변수에는 날짜와 종가 정보가 저장돼 있다. \n",
    "#날짜 정보를 제외하고 가격 정보만을 출력하라. (힌트 : 슬라이싱)\n",
    "\n",
    "price = ['20180728', 100, 130, 140, 150, 160, 170]\n",
    "\n",
    "print(price[1:])"
   ]
  },
  {
   "cell_type": "code",
   "execution_count": 14,
   "id": "8a654366-4721-43e6-85df-3b93236267e8",
   "metadata": {},
   "outputs": [
    {
     "name": "stdout",
     "output_type": "stream",
     "text": [
      "홀수만 출력 [1, 3, 5, 7, 9]\n",
      "짝수만 출력 [2, 4, 6, 8, 10]\n"
     ]
    }
   ],
   "source": [
    "#슬라이싱을 사용해서 홀수만 출력하라.\n",
    "nums = [1, 2, 3, 4, 5, 6, 7, 8, 9, 10]\n",
    "\n",
    "#홀수만 출력\n",
    "print(\"홀수만 출력\",nums[::2])\n",
    "\n",
    "#짝수만 출력\n",
    "print(\"짝수만 출력\",nums[1::2])"
   ]
  },
  {
   "cell_type": "code",
   "execution_count": null,
   "id": "6c0f29b6-a255-4dfd-b92d-670dbc420fce",
   "metadata": {},
   "outputs": [],
   "source": []
  }
 ],
 "metadata": {
  "kernelspec": {
   "display_name": "Python 3 (ipykernel)",
   "language": "python",
   "name": "python3"
  },
  "language_info": {
   "codemirror_mode": {
    "name": "ipython",
    "version": 3
   },
   "file_extension": ".py",
   "mimetype": "text/x-python",
   "name": "python",
   "nbconvert_exporter": "python",
   "pygments_lexer": "ipython3",
   "version": "3.9.7"
  }
 },
 "nbformat": 4,
 "nbformat_minor": 5
}
