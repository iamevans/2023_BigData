{
 "cells": [
  {
   "cell_type": "markdown",
   "id": "882029dc-d5d7-45c8-9b78-765d88c5828f",
   "metadata": {},
   "source": [
    "31000_evans_0802_1"
   ]
  },
  {
   "cell_type": "code",
   "execution_count": 2,
   "id": "66db3e87-6682-41b3-a72b-a7c8fc776eb2",
   "metadata": {},
   "outputs": [
    {
     "data": {
      "text/plain": [
       "['밀수', '엘리멘탈', '미션 임파서블', '명탐정코난', '바비']"
      ]
     },
     "execution_count": 2,
     "metadata": {},
     "output_type": "execute_result"
    }
   ],
   "source": [
    "#naver.com 영화순위검색 top5가져옵니다.\n",
    "#순위 밀수 엘리멘탈 임션 임파서블 명탐정코난 바비\n",
    "#리스트 변수이름 movie_rank\n",
    "\n",
    "movie_rank = [\"밀수\",\"엘리멘탈\",\"미션 임파서블\",\"명탐정코난\",\"바비\"]\n",
    "movie_rank"
   ]
  },
  {
   "cell_type": "code",
   "execution_count": 3,
   "id": "f0e1c0c7-e856-4d34-8b76-1eed7fd1bdbe",
   "metadata": {},
   "outputs": [
    {
     "data": {
      "text/plain": [
       "['밀수', '엘리멘탈', '미션 임파서블', '명탐정코난', '바비', '인시 디어스']"
      ]
     },
     "execution_count": 3,
     "metadata": {},
     "output_type": "execute_result"
    }
   ],
   "source": [
    "#영화 인시 디어스 추가\n",
    "#append를 이용하여 추가해 봅시다, 가장 마지막에 추가\n",
    "\n",
    "movie_rank.append(\"인시 디어스\")\n",
    "movie_rank"
   ]
  },
  {
   "cell_type": "code",
   "execution_count": 4,
   "id": "e95cf1f4-d070-41af-88e2-e04cedea972b",
   "metadata": {},
   "outputs": [
    {
     "data": {
      "text/plain": [
       "['밀수', '스파이더맨', '엘리멘탈', '미션 임파서블', '명탐정코난', '바비', '인시 디어스']"
      ]
     },
     "execution_count": 4,
     "metadata": {},
     "output_type": "execute_result"
    }
   ],
   "source": [
    "#인덱스번호 1번에 스파이더맨을 추가해 봅니다.\n",
    "#insert(index, 원소)\n",
    "\n",
    "movie_rank.insert(1, \"스파이더맨\")\n",
    "movie_rank"
   ]
  },
  {
   "cell_type": "code",
   "execution_count": 6,
   "id": "3cc04ac3-d401-480a-8b02-8ae123b80902",
   "metadata": {},
   "outputs": [
    {
     "data": {
      "text/plain": [
       "['밀수', '미션 임파서블', '명탐정코난', '바비', '인시 디어스']"
      ]
     },
     "execution_count": 6,
     "metadata": {},
     "output_type": "execute_result"
    }
   ],
   "source": [
    "#스파이더맨을 삭제를 해 봅니다.\n",
    "#삭제 명령어 del index\n",
    "del movie_rank[1]\n",
    "movie_rank"
   ]
  },
  {
   "cell_type": "code",
   "execution_count": null,
   "id": "5c8eb818-265d-4251-ab86-b1dd43f6f8dc",
   "metadata": {},
   "outputs": [],
   "source": []
  }
 ],
 "metadata": {
  "kernelspec": {
   "display_name": "Python 3 (ipykernel)",
   "language": "python",
   "name": "python3"
  },
  "language_info": {
   "codemirror_mode": {
    "name": "ipython",
    "version": 3
   },
   "file_extension": ".py",
   "mimetype": "text/x-python",
   "name": "python",
   "nbconvert_exporter": "python",
   "pygments_lexer": "ipython3",
   "version": "3.9.7"
  }
 },
 "nbformat": 4,
 "nbformat_minor": 5
}
